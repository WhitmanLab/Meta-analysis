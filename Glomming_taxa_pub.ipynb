{
 "cells": [
  {
   "cell_type": "code",
   "execution_count": 1,
   "metadata": {
    "collapsed": true
   },
   "outputs": [
    {
     "name": "stderr",
     "output_type": "stream",
     "text": [
      "Updating HTML index of packages in '.Library'\n",
      "Making 'packages.html' ... done\n",
      "Skipping install of 'IRkernel' from a github remote, the SHA1 (e1396db8) has not changed since last install.\n",
      "  Use `force = TRUE` to force installation\n",
      "Updating HTML index of packages in '.Library'\n",
      "Making 'packages.html' ... done\n"
     ]
    }
   ],
   "source": [
    "install.packages('devtools')\n",
    "devtools::install_github('IRkernel/IRkernel')\n",
    "IRkernel::installspec()\n",
    "install.packages('plotly')"
   ]
  },
  {
   "cell_type": "code",
   "execution_count": 1,
   "metadata": {
    "collapsed": true
   },
   "outputs": [
    {
     "name": "stderr",
     "output_type": "stream",
     "text": [
      "\n",
      "Attaching package: ‘plyr’\n",
      "\n",
      "The following objects are masked from ‘package:reshape’:\n",
      "\n",
      "    rename, round_any\n",
      "\n",
      "\n",
      "Attaching package: ‘dplyr’\n",
      "\n",
      "The following objects are masked from ‘package:plyr’:\n",
      "\n",
      "    arrange, count, desc, failwith, id, mutate, rename, summarise,\n",
      "    summarize\n",
      "\n",
      "The following object is masked from ‘package:reshape’:\n",
      "\n",
      "    rename\n",
      "\n",
      "The following objects are masked from ‘package:stats’:\n",
      "\n",
      "    filter, lag\n",
      "\n",
      "The following objects are masked from ‘package:base’:\n",
      "\n",
      "    intersect, setdiff, setequal, union\n",
      "\n",
      "\n",
      "Attaching package: ‘plotly’\n",
      "\n",
      "The following objects are masked from ‘package:plyr’:\n",
      "\n",
      "    arrange, mutate, rename, summarise\n",
      "\n",
      "The following object is masked from ‘package:ggplot2’:\n",
      "\n",
      "    last_plot\n",
      "\n",
      "The following object is masked from ‘package:reshape’:\n",
      "\n",
      "    rename\n",
      "\n",
      "The following object is masked from ‘package:stats’:\n",
      "\n",
      "    filter\n",
      "\n",
      "The following object is masked from ‘package:graphics’:\n",
      "\n",
      "    layout\n",
      "\n",
      "Loading required package: permute\n",
      "Loading required package: lattice\n",
      "This is vegan 2.4-4\n"
     ]
    }
   ],
   "source": [
    "# Loading R packages\n",
    "library(reshape)\n",
    "library(ggplot2)\n",
    "library(phyloseq)\n",
    "library(plyr)\n",
    "library(dplyr)\n",
    "library(plotly)\n",
    "library(wesanderson)\n",
    "library(vegan)"
   ]
  },
  {
   "cell_type": "code",
   "execution_count": 2,
   "metadata": {},
   "outputs": [],
   "source": [
    "# Open phyloseq objects\n",
    "\n",
    "ps.whitman = readRDS(file = \"whitman.ps\")\n",
    "ps.wu = readRDS(file = \"wu.ps\")\n",
    "ps.imparato = readRDS(file = \"imparato.ps\")\n",
    "ps.yao = readRDS(file = \"yao.ps\")\n",
    "ps.song = readRDS(file = \"song.ps\")\n",
    "ps.dai2016 = readRDS(file = \"dai2016.ps\")\n",
    "ps.dai2017 = readRDS(file = \"dai2017.ps\")\n",
    "ps.nielsen2014 = readRDS(file = \"ps.nielsen2014\")\n",
    "ps.ye = readRDS(file = \"ps.ye\")"
   ]
  },
  {
   "cell_type": "markdown",
   "metadata": {},
   "source": [
    "## Glom each phyloseq object at the genus, family, and order levels and remove ambiguous rows (taxonomy data consisting of names such as \"uncultured\", \"ambiguous\", \"unidentified\", \"unknown\", etc.) "
   ]
  },
  {
   "cell_type": "markdown",
   "metadata": {},
   "source": [
    "### Whitman\n"
   ]
  },
  {
   "cell_type": "code",
   "execution_count": 10,
   "metadata": {},
   "outputs": [],
   "source": [
    "ps.whitman = readRDS(file = \"whitman.ps\")"
   ]
  },
  {
   "cell_type": "code",
   "execution_count": 11,
   "metadata": {},
   "outputs": [],
   "source": [
    "Whit_glom_genus = tax_glom(ps.whitman, \"Genus\")\n",
    "Whit_glom_family = tax_glom(ps.whitman, \"Family\")\n",
    "Whit_glom_order = tax_glom(ps.whitman, \"Order\")"
   ]
  },
  {
   "cell_type": "code",
   "execution_count": 12,
   "metadata": {
    "collapsed": true
   },
   "outputs": [
    {
     "data": {
      "text/html": [
       "<ol class=list-inline>\n",
       "\t<li>8628</li>\n",
       "\t<li>7</li>\n",
       "</ol>\n"
      ],
      "text/latex": [
       "\\begin{enumerate*}\n",
       "\\item 8628\n",
       "\\item 7\n",
       "\\end{enumerate*}\n"
      ],
      "text/markdown": [
       "1. 8628\n",
       "2. 7\n",
       "\n",
       "\n"
      ],
      "text/plain": [
       "[1] 8628    7"
      ]
     },
     "metadata": {},
     "output_type": "display_data"
    },
    {
     "data": {
      "text/html": [
       "<ol class=list-inline>\n",
       "\t<li>707</li>\n",
       "\t<li>7</li>\n",
       "</ol>\n"
      ],
      "text/latex": [
       "\\begin{enumerate*}\n",
       "\\item 707\n",
       "\\item 7\n",
       "\\end{enumerate*}\n"
      ],
      "text/markdown": [
       "1. 707\n",
       "2. 7\n",
       "\n",
       "\n"
      ],
      "text/plain": [
       "[1] 707   7"
      ]
     },
     "metadata": {},
     "output_type": "display_data"
    },
    {
     "data": {
      "text/html": [
       "<ol class=list-inline>\n",
       "\t<li>409</li>\n",
       "\t<li>7</li>\n",
       "</ol>\n"
      ],
      "text/latex": [
       "\\begin{enumerate*}\n",
       "\\item 409\n",
       "\\item 7\n",
       "\\end{enumerate*}\n"
      ],
      "text/markdown": [
       "1. 409\n",
       "2. 7\n",
       "\n",
       "\n"
      ],
      "text/plain": [
       "[1] 409   7"
      ]
     },
     "metadata": {},
     "output_type": "display_data"
    },
    {
     "data": {
      "text/html": [
       "<ol class=list-inline>\n",
       "\t<li>248</li>\n",
       "\t<li>7</li>\n",
       "</ol>\n"
      ],
      "text/latex": [
       "\\begin{enumerate*}\n",
       "\\item 248\n",
       "\\item 7\n",
       "\\end{enumerate*}\n"
      ],
      "text/markdown": [
       "1. 248\n",
       "2. 7\n",
       "\n",
       "\n"
      ],
      "text/plain": [
       "[1] 248   7"
      ]
     },
     "metadata": {},
     "output_type": "display_data"
    }
   ],
   "source": [
    "dim(tax_table(ps.whitman))\n",
    "dim(tax_table(Whit_glom_genus))\n",
    "dim(tax_table(Whit_glom_family))\n",
    "dim(tax_table(Whit_glom_order))"
   ]
  },
  {
   "cell_type": "code",
   "execution_count": 13,
   "metadata": {
    "collapsed": true
   },
   "outputs": [
    {
     "data": {
      "text/html": [
       "350"
      ],
      "text/latex": [
       "350"
      ],
      "text/markdown": [
       "350"
      ],
      "text/plain": [
       "[1] 350"
      ]
     },
     "metadata": {},
     "output_type": "display_data"
    },
    {
     "data": {
      "text/plain": [
       "phyloseq-class experiment-level object\n",
       "otu_table()   OTU Table:         [ 357 taxa and 119 samples ]\n",
       "sample_data() Sample Data:       [ 119 samples by 33 sample variables ]\n",
       "tax_table()   Taxonomy Table:    [ 357 taxa by 7 taxonomic ranks ]"
      ]
     },
     "metadata": {},
     "output_type": "display_data"
    },
    {
     "data": {
      "text/html": [
       "357"
      ],
      "text/latex": [
       "357"
      ],
      "text/markdown": [
       "357"
      ],
      "text/plain": [
       "[1] 357"
      ]
     },
     "metadata": {},
     "output_type": "display_data"
    }
   ],
   "source": [
    "names = data.frame(tax_table(Whit_glom_genus))\n",
    "unwanted.rows = grep(\"uncultured*\",names$Genus)\n",
    "unwanted.rows = c(unwanted.rows,grep(\"metagenome*\",names$Genus))\n",
    "unwanted.rows = c(unwanted.rows,grep(\"Ambiguous_taxa*\",names$Genus))\n",
    "length(unwanted.rows)\n",
    "wanted.rows = !(rep(1:dim(names)[1]) %in% unwanted.rows)\n",
    "whit_pruned.genus = prune_taxa(taxa_names(Whit_glom_genus)[wanted.rows = !(rep(1:dim(names)[1]) %in% unwanted.rows)], Whit_glom_genus) \n",
    "whit_pruned.genus\n",
    "length(unique(data.frame(tax_table(whit_pruned.genus))$Genus))\n",
    "\n"
   ]
  },
  {
   "cell_type": "code",
   "execution_count": 14,
   "metadata": {
    "collapsed": true
   },
   "outputs": [
    {
     "data": {
      "text/html": [
       "187"
      ],
      "text/latex": [
       "187"
      ],
      "text/markdown": [
       "187"
      ],
      "text/plain": [
       "[1] 187"
      ]
     },
     "metadata": {},
     "output_type": "display_data"
    },
    {
     "data": {
      "text/plain": [
       "phyloseq-class experiment-level object\n",
       "otu_table()   OTU Table:         [ 222 taxa and 119 samples ]\n",
       "sample_data() Sample Data:       [ 119 samples by 33 sample variables ]\n",
       "tax_table()   Taxonomy Table:    [ 222 taxa by 7 taxonomic ranks ]"
      ]
     },
     "metadata": {},
     "output_type": "display_data"
    },
    {
     "data": {
      "text/html": [
       "222"
      ],
      "text/latex": [
       "222"
      ],
      "text/markdown": [
       "222"
      ],
      "text/plain": [
       "[1] 222"
      ]
     },
     "metadata": {},
     "output_type": "display_data"
    }
   ],
   "source": [
    "names = data.frame(tax_table(Whit_glom_family))\n",
    "unwanted.rows = grep(\"uncultured*\",names$Family)\n",
    "unwanted.rows = c(unwanted.rows,grep(\"metagenome*\",names$Family))\n",
    "unwanted.rows = c(unwanted.rows,grep(\"Ambiguous_taxa*\",names$Family))\n",
    "unwanted.rows = c(unwanted.rows,grep(\"Unknown Family*\",names$Family))\n",
    "length(unwanted.rows)\n",
    "wanted.rows = !(rep(1:dim(names)[1]) %in% unwanted.rows)\n",
    "whit_pruned.fam = prune_taxa(taxa_names(Whit_glom_family)[wanted.rows = !(rep(1:dim(names)[1]) %in% unwanted.rows)], Whit_glom_family) \n",
    "whit_pruned.fam\n",
    "length(unique(data.frame(tax_table(whit_pruned.fam))$Family))"
   ]
  },
  {
   "cell_type": "code",
   "execution_count": 15,
   "metadata": {
    "collapsed": true
   },
   "outputs": [
    {
     "data": {
      "text/html": [
       "95"
      ],
      "text/latex": [
       "95"
      ],
      "text/markdown": [
       "95"
      ],
      "text/plain": [
       "[1] 95"
      ]
     },
     "metadata": {},
     "output_type": "display_data"
    },
    {
     "data": {
      "text/plain": [
       "phyloseq-class experiment-level object\n",
       "otu_table()   OTU Table:         [ 153 taxa and 119 samples ]\n",
       "sample_data() Sample Data:       [ 119 samples by 33 sample variables ]\n",
       "tax_table()   Taxonomy Table:    [ 153 taxa by 7 taxonomic ranks ]"
      ]
     },
     "metadata": {},
     "output_type": "display_data"
    },
    {
     "data": {
      "text/html": [
       "153"
      ],
      "text/latex": [
       "153"
      ],
      "text/markdown": [
       "153"
      ],
      "text/plain": [
       "[1] 153"
      ]
     },
     "metadata": {},
     "output_type": "display_data"
    }
   ],
   "source": [
    "names = data.frame(tax_table(Whit_glom_order))\n",
    "unwanted.rows = grep(\"uncultured*\",names$Order)\n",
    "unwanted.rows = c(unwanted.rows,grep(\"metagenome*\",names$Order))\n",
    "unwanted.rows = c(unwanted.rows,grep(\"Ambiguous_taxa*\",names$Order))\n",
    "unwanted.rows = c(unwanted.rows,grep(\"Unknown Order*\",names$Order))\n",
    "length(unwanted.rows)\n",
    "wanted.rows = !(rep(1:dim(names)[1]) %in% unwanted.rows)\n",
    "whit_pruned.ord = prune_taxa(taxa_names(Whit_glom_order)[wanted.rows = !(rep(1:dim(names)[1]) %in% unwanted.rows)], Whit_glom_order) \n",
    "whit_pruned.ord\n",
    "length(unique(data.frame(tax_table(whit_pruned.ord))$Order))"
   ]
  },
  {
   "cell_type": "code",
   "execution_count": 16,
   "metadata": {
    "collapsed": true
   },
   "outputs": [
    {
     "data": {
      "text/html": [
       "<table>\n",
       "<thead><tr><th></th><th scope=col>sample_sums.ps.whitman.</th><th scope=col>sample_sums.Whit_glom_genus.</th><th scope=col>sample_sums.Whit_glom_family.</th><th scope=col>sample_sums.Whit_glom_order.</th><th scope=col>sample_sums.whit_pruned.genus.</th><th scope=col>sample_sums.whit_pruned.fam.</th><th scope=col>sample_sums.whit_pruned.ord.</th></tr></thead>\n",
       "<tbody>\n",
       "\t<tr><th scope=row>S001</th><td>28924</td><td>21802</td><td>25637</td><td>25932</td><td>13955</td><td>21146</td><td>24496</td></tr>\n",
       "\t<tr><th scope=row>S002</th><td>16900</td><td>12103</td><td>14890</td><td>15204</td><td> 8259</td><td>12333</td><td>14627</td></tr>\n",
       "\t<tr><th scope=row>S003</th><td>11546</td><td> 8442</td><td>10297</td><td>10546</td><td> 5514</td><td> 8442</td><td>10175</td></tr>\n",
       "\t<tr><th scope=row>S004</th><td>12423</td><td> 9048</td><td>11076</td><td>11327</td><td> 6160</td><td> 9181</td><td>10934</td></tr>\n",
       "\t<tr><th scope=row>S006</th><td>11472</td><td> 8838</td><td>10608</td><td>10814</td><td> 6232</td><td> 9030</td><td>10633</td></tr>\n",
       "\t<tr><th scope=row>S007</th><td>12937</td><td> 9564</td><td>11660</td><td>11947</td><td> 6526</td><td> 9677</td><td>11521</td></tr>\n",
       "\t<tr><th scope=row>S008</th><td>15964</td><td>11486</td><td>13937</td><td>14249</td><td> 7256</td><td>11075</td><td>13612</td></tr>\n",
       "\t<tr><th scope=row>S009</th><td>32752</td><td>24246</td><td>28335</td><td>28902</td><td>14448</td><td>22359</td><td>26763</td></tr>\n",
       "\t<tr><th scope=row>S011</th><td>14014</td><td>10001</td><td>12417</td><td>12574</td><td> 6298</td><td> 9828</td><td>12206</td></tr>\n",
       "\t<tr><th scope=row>S012</th><td> 9912</td><td> 7138</td><td> 8686</td><td> 8812</td><td> 4621</td><td> 6948</td><td> 8483</td></tr>\n",
       "\t<tr><th scope=row>S013</th><td> 8414</td><td> 6208</td><td> 7402</td><td> 7481</td><td> 3949</td><td> 5736</td><td> 7165</td></tr>\n",
       "\t<tr><th scope=row>S014</th><td> 8222</td><td> 6031</td><td> 7212</td><td> 7381</td><td> 4008</td><td> 5744</td><td> 7040</td></tr>\n",
       "\t<tr><th scope=row>S016</th><td> 8470</td><td> 6226</td><td> 7642</td><td> 7745</td><td> 4373</td><td> 6605</td><td> 7652</td></tr>\n",
       "\t<tr><th scope=row>S017</th><td> 7248</td><td> 5264</td><td> 6242</td><td> 6390</td><td> 3009</td><td> 4760</td><td> 5850</td></tr>\n",
       "\t<tr><th scope=row>S018</th><td> 7796</td><td> 5923</td><td> 7166</td><td> 7323</td><td> 4095</td><td> 6116</td><td> 7104</td></tr>\n",
       "\t<tr><th scope=row>S019</th><td>27461</td><td>19869</td><td>24681</td><td>25308</td><td>12950</td><td>19311</td><td>24259</td></tr>\n",
       "\t<tr><th scope=row>S021</th><td> 6859</td><td> 4877</td><td> 5791</td><td> 5815</td><td> 3139</td><td> 4761</td><td> 5596</td></tr>\n",
       "\t<tr><th scope=row>S022</th><td>12056</td><td> 9149</td><td>10833</td><td>10996</td><td> 5744</td><td> 8713</td><td>10220</td></tr>\n",
       "\t<tr><th scope=row>S023</th><td>10488</td><td> 8190</td><td> 9494</td><td> 9625</td><td> 4803</td><td> 7345</td><td> 8842</td></tr>\n",
       "\t<tr><th scope=row>S024</th><td>14863</td><td>11226</td><td>13415</td><td>13543</td><td> 7497</td><td>11444</td><td>13015</td></tr>\n",
       "\t<tr><th scope=row>S026</th><td>15564</td><td>11973</td><td>13944</td><td>14283</td><td> 7726</td><td>11682</td><td>13614</td></tr>\n",
       "\t<tr><th scope=row>S027</th><td> 7111</td><td> 5124</td><td> 6229</td><td> 6323</td><td> 3492</td><td> 5148</td><td> 6108</td></tr>\n",
       "\t<tr><th scope=row>S028</th><td>11862</td><td> 8680</td><td>10607</td><td>10858</td><td> 5424</td><td> 7934</td><td>10166</td></tr>\n",
       "\t<tr><th scope=row>S029</th><td> 6173</td><td> 4548</td><td> 5371</td><td> 5386</td><td> 2925</td><td> 4344</td><td> 4973</td></tr>\n",
       "\t<tr><th scope=row>S031</th><td>14756</td><td> 8853</td><td>12429</td><td>12754</td><td> 5795</td><td> 8309</td><td>12058</td></tr>\n",
       "\t<tr><th scope=row>S032</th><td>23501</td><td>17319</td><td>21174</td><td>21692</td><td>11615</td><td>17404</td><td>20919</td></tr>\n",
       "\t<tr><th scope=row>S033</th><td>11353</td><td> 8274</td><td> 9962</td><td>10075</td><td> 5360</td><td> 8068</td><td> 9701</td></tr>\n",
       "\t<tr><th scope=row>S034</th><td>11837</td><td> 8825</td><td>10697</td><td>10911</td><td> 5845</td><td> 8459</td><td>10507</td></tr>\n",
       "\t<tr><th scope=row>S036</th><td>11458</td><td> 8455</td><td>10149</td><td>10322</td><td> 5780</td><td> 8407</td><td> 9918</td></tr>\n",
       "\t<tr><th scope=row>S037</th><td> 8058</td><td> 5739</td><td> 7045</td><td> 7227</td><td> 3909</td><td> 5894</td><td> 6938</td></tr>\n",
       "\t<tr><th scope=row>⋮</th><td>⋮</td><td>⋮</td><td>⋮</td><td>⋮</td><td>⋮</td><td>⋮</td><td>⋮</td></tr>\n",
       "\t<tr><th scope=row>S213</th><td>24627</td><td>17887</td><td>21599</td><td>22638</td><td>11892</td><td>17264</td><td>21718</td></tr>\n",
       "\t<tr><th scope=row>S214</th><td>31710</td><td>23279</td><td>28565</td><td>29419</td><td>15616</td><td>23181</td><td>28195</td></tr>\n",
       "\t<tr><th scope=row>S216</th><td>17285</td><td>12750</td><td>15187</td><td>15581</td><td> 9101</td><td>12982</td><td>14984</td></tr>\n",
       "\t<tr><th scope=row>S217</th><td>18401</td><td>13475</td><td>16352</td><td>16624</td><td> 9076</td><td>13409</td><td>15887</td></tr>\n",
       "\t<tr><th scope=row>S218</th><td>28092</td><td>20764</td><td>24764</td><td>25600</td><td>13705</td><td>19885</td><td>24379</td></tr>\n",
       "\t<tr><th scope=row>S219</th><td>33356</td><td>25171</td><td>30936</td><td>31856</td><td>18426</td><td>26878</td><td>31267</td></tr>\n",
       "\t<tr><th scope=row>S221</th><td>34593</td><td>25619</td><td>29992</td><td>31191</td><td>16752</td><td>24940</td><td>29798</td></tr>\n",
       "\t<tr><th scope=row>S222</th><td>23218</td><td>16593</td><td>20441</td><td>20872</td><td>11548</td><td>17394</td><td>20168</td></tr>\n",
       "\t<tr><th scope=row>S223</th><td>29400</td><td>22137</td><td>26170</td><td>27055</td><td>14858</td><td>21845</td><td>25917</td></tr>\n",
       "\t<tr><th scope=row>S224</th><td>26222</td><td>19832</td><td>23721</td><td>24230</td><td>13823</td><td>20546</td><td>23379</td></tr>\n",
       "\t<tr><th scope=row>S226</th><td>73280</td><td>55049</td><td>64311</td><td>66884</td><td>34352</td><td>52769</td><td>63818</td></tr>\n",
       "\t<tr><th scope=row>S227</th><td>24429</td><td>18305</td><td>21938</td><td>22373</td><td>12551</td><td>18692</td><td>21713</td></tr>\n",
       "\t<tr><th scope=row>S228</th><td>45004</td><td>33590</td><td>40794</td><td>42228</td><td>22379</td><td>33263</td><td>40735</td></tr>\n",
       "\t<tr><th scope=row>S229</th><td>25349</td><td>18713</td><td>22055</td><td>22551</td><td>12423</td><td>18954</td><td>21405</td></tr>\n",
       "\t<tr><th scope=row>S231</th><td>15916</td><td>11350</td><td>13932</td><td>14468</td><td> 7398</td><td>10921</td><td>13841</td></tr>\n",
       "\t<tr><th scope=row>S232</th><td>17479</td><td>12830</td><td>15759</td><td>16153</td><td> 9747</td><td>13701</td><td>15841</td></tr>\n",
       "\t<tr><th scope=row>S233</th><td>10776</td><td> 7649</td><td> 9306</td><td> 9754</td><td> 5360</td><td> 7774</td><td> 9578</td></tr>\n",
       "\t<tr><th scope=row>S234</th><td>19937</td><td>14066</td><td>17764</td><td>18294</td><td> 9795</td><td>14789</td><td>17804</td></tr>\n",
       "\t<tr><th scope=row>S236</th><td>22781</td><td>16542</td><td>19788</td><td>20758</td><td>11609</td><td>16062</td><td>19983</td></tr>\n",
       "\t<tr><th scope=row>S237</th><td>17464</td><td>13049</td><td>15751</td><td>16379</td><td> 9081</td><td>13368</td><td>16089</td></tr>\n",
       "\t<tr><th scope=row>S238</th><td>30152</td><td>22855</td><td>27171</td><td>28072</td><td>16154</td><td>22691</td><td>27264</td></tr>\n",
       "\t<tr><th scope=row>S239</th><td> 7190</td><td> 5443</td><td> 6599</td><td> 6728</td><td> 4326</td><td> 5943</td><td> 6668</td></tr>\n",
       "\t<tr><th scope=row>S241</th><td>12205</td><td> 9683</td><td>11332</td><td>11387</td><td> 7595</td><td>10344</td><td>11194</td></tr>\n",
       "\t<tr><th scope=row>S242</th><td> 2783</td><td> 2114</td><td> 2674</td><td> 2674</td><td> 1884</td><td> 2341</td><td> 2653</td></tr>\n",
       "\t<tr><th scope=row>S243</th><td> 8642</td><td> 6736</td><td> 8159</td><td> 8215</td><td> 5485</td><td> 7425</td><td> 8144</td></tr>\n",
       "\t<tr><th scope=row>S244</th><td>10103</td><td> 8134</td><td> 9616</td><td> 9759</td><td> 6854</td><td> 8564</td><td> 9534</td></tr>\n",
       "\t<tr><th scope=row>S245</th><td> 6863</td><td> 5470</td><td> 6414</td><td> 6446</td><td> 4115</td><td> 5803</td><td> 6330</td></tr>\n",
       "\t<tr><th scope=row>S246</th><td>10573</td><td> 8413</td><td> 9840</td><td> 9881</td><td> 6566</td><td> 9109</td><td> 9726</td></tr>\n",
       "\t<tr><th scope=row>S247</th><td>12298</td><td> 9478</td><td>11390</td><td>11506</td><td> 7252</td><td>10149</td><td>11328</td></tr>\n",
       "\t<tr><th scope=row>S248</th><td>14180</td><td>11693</td><td>13417</td><td>13542</td><td> 9128</td><td>12262</td><td>13373</td></tr>\n",
       "</tbody>\n",
       "</table>\n"
      ],
      "text/latex": [
       "\\begin{tabular}{r|lllllll}\n",
       "  & sample\\_sums.ps.whitman. & sample\\_sums.Whit\\_glom\\_genus. & sample\\_sums.Whit\\_glom\\_family. & sample\\_sums.Whit\\_glom\\_order. & sample\\_sums.whit\\_pruned.genus. & sample\\_sums.whit\\_pruned.fam. & sample\\_sums.whit\\_pruned.ord.\\\\\n",
       "\\hline\n",
       "\tS001 & 28924 & 21802 & 25637 & 25932 & 13955 & 21146 & 24496\\\\\n",
       "\tS002 & 16900 & 12103 & 14890 & 15204 &  8259 & 12333 & 14627\\\\\n",
       "\tS003 & 11546 &  8442 & 10297 & 10546 &  5514 &  8442 & 10175\\\\\n",
       "\tS004 & 12423 &  9048 & 11076 & 11327 &  6160 &  9181 & 10934\\\\\n",
       "\tS006 & 11472 &  8838 & 10608 & 10814 &  6232 &  9030 & 10633\\\\\n",
       "\tS007 & 12937 &  9564 & 11660 & 11947 &  6526 &  9677 & 11521\\\\\n",
       "\tS008 & 15964 & 11486 & 13937 & 14249 &  7256 & 11075 & 13612\\\\\n",
       "\tS009 & 32752 & 24246 & 28335 & 28902 & 14448 & 22359 & 26763\\\\\n",
       "\tS011 & 14014 & 10001 & 12417 & 12574 &  6298 &  9828 & 12206\\\\\n",
       "\tS012 &  9912 &  7138 &  8686 &  8812 &  4621 &  6948 &  8483\\\\\n",
       "\tS013 &  8414 &  6208 &  7402 &  7481 &  3949 &  5736 &  7165\\\\\n",
       "\tS014 &  8222 &  6031 &  7212 &  7381 &  4008 &  5744 &  7040\\\\\n",
       "\tS016 &  8470 &  6226 &  7642 &  7745 &  4373 &  6605 &  7652\\\\\n",
       "\tS017 &  7248 &  5264 &  6242 &  6390 &  3009 &  4760 &  5850\\\\\n",
       "\tS018 &  7796 &  5923 &  7166 &  7323 &  4095 &  6116 &  7104\\\\\n",
       "\tS019 & 27461 & 19869 & 24681 & 25308 & 12950 & 19311 & 24259\\\\\n",
       "\tS021 &  6859 &  4877 &  5791 &  5815 &  3139 &  4761 &  5596\\\\\n",
       "\tS022 & 12056 &  9149 & 10833 & 10996 &  5744 &  8713 & 10220\\\\\n",
       "\tS023 & 10488 &  8190 &  9494 &  9625 &  4803 &  7345 &  8842\\\\\n",
       "\tS024 & 14863 & 11226 & 13415 & 13543 &  7497 & 11444 & 13015\\\\\n",
       "\tS026 & 15564 & 11973 & 13944 & 14283 &  7726 & 11682 & 13614\\\\\n",
       "\tS027 &  7111 &  5124 &  6229 &  6323 &  3492 &  5148 &  6108\\\\\n",
       "\tS028 & 11862 &  8680 & 10607 & 10858 &  5424 &  7934 & 10166\\\\\n",
       "\tS029 &  6173 &  4548 &  5371 &  5386 &  2925 &  4344 &  4973\\\\\n",
       "\tS031 & 14756 &  8853 & 12429 & 12754 &  5795 &  8309 & 12058\\\\\n",
       "\tS032 & 23501 & 17319 & 21174 & 21692 & 11615 & 17404 & 20919\\\\\n",
       "\tS033 & 11353 &  8274 &  9962 & 10075 &  5360 &  8068 &  9701\\\\\n",
       "\tS034 & 11837 &  8825 & 10697 & 10911 &  5845 &  8459 & 10507\\\\\n",
       "\tS036 & 11458 &  8455 & 10149 & 10322 &  5780 &  8407 &  9918\\\\\n",
       "\tS037 &  8058 &  5739 &  7045 &  7227 &  3909 &  5894 &  6938\\\\\n",
       "\t⋮ & ⋮ & ⋮ & ⋮ & ⋮ & ⋮ & ⋮ & ⋮\\\\\n",
       "\tS213 & 24627 & 17887 & 21599 & 22638 & 11892 & 17264 & 21718\\\\\n",
       "\tS214 & 31710 & 23279 & 28565 & 29419 & 15616 & 23181 & 28195\\\\\n",
       "\tS216 & 17285 & 12750 & 15187 & 15581 &  9101 & 12982 & 14984\\\\\n",
       "\tS217 & 18401 & 13475 & 16352 & 16624 &  9076 & 13409 & 15887\\\\\n",
       "\tS218 & 28092 & 20764 & 24764 & 25600 & 13705 & 19885 & 24379\\\\\n",
       "\tS219 & 33356 & 25171 & 30936 & 31856 & 18426 & 26878 & 31267\\\\\n",
       "\tS221 & 34593 & 25619 & 29992 & 31191 & 16752 & 24940 & 29798\\\\\n",
       "\tS222 & 23218 & 16593 & 20441 & 20872 & 11548 & 17394 & 20168\\\\\n",
       "\tS223 & 29400 & 22137 & 26170 & 27055 & 14858 & 21845 & 25917\\\\\n",
       "\tS224 & 26222 & 19832 & 23721 & 24230 & 13823 & 20546 & 23379\\\\\n",
       "\tS226 & 73280 & 55049 & 64311 & 66884 & 34352 & 52769 & 63818\\\\\n",
       "\tS227 & 24429 & 18305 & 21938 & 22373 & 12551 & 18692 & 21713\\\\\n",
       "\tS228 & 45004 & 33590 & 40794 & 42228 & 22379 & 33263 & 40735\\\\\n",
       "\tS229 & 25349 & 18713 & 22055 & 22551 & 12423 & 18954 & 21405\\\\\n",
       "\tS231 & 15916 & 11350 & 13932 & 14468 &  7398 & 10921 & 13841\\\\\n",
       "\tS232 & 17479 & 12830 & 15759 & 16153 &  9747 & 13701 & 15841\\\\\n",
       "\tS233 & 10776 &  7649 &  9306 &  9754 &  5360 &  7774 &  9578\\\\\n",
       "\tS234 & 19937 & 14066 & 17764 & 18294 &  9795 & 14789 & 17804\\\\\n",
       "\tS236 & 22781 & 16542 & 19788 & 20758 & 11609 & 16062 & 19983\\\\\n",
       "\tS237 & 17464 & 13049 & 15751 & 16379 &  9081 & 13368 & 16089\\\\\n",
       "\tS238 & 30152 & 22855 & 27171 & 28072 & 16154 & 22691 & 27264\\\\\n",
       "\tS239 &  7190 &  5443 &  6599 &  6728 &  4326 &  5943 &  6668\\\\\n",
       "\tS241 & 12205 &  9683 & 11332 & 11387 &  7595 & 10344 & 11194\\\\\n",
       "\tS242 &  2783 &  2114 &  2674 &  2674 &  1884 &  2341 &  2653\\\\\n",
       "\tS243 &  8642 &  6736 &  8159 &  8215 &  5485 &  7425 &  8144\\\\\n",
       "\tS244 & 10103 &  8134 &  9616 &  9759 &  6854 &  8564 &  9534\\\\\n",
       "\tS245 &  6863 &  5470 &  6414 &  6446 &  4115 &  5803 &  6330\\\\\n",
       "\tS246 & 10573 &  8413 &  9840 &  9881 &  6566 &  9109 &  9726\\\\\n",
       "\tS247 & 12298 &  9478 & 11390 & 11506 &  7252 & 10149 & 11328\\\\\n",
       "\tS248 & 14180 & 11693 & 13417 & 13542 &  9128 & 12262 & 13373\\\\\n",
       "\\end{tabular}\n"
      ],
      "text/markdown": [
       "\n",
       "| <!--/--> | sample_sums.ps.whitman. | sample_sums.Whit_glom_genus. | sample_sums.Whit_glom_family. | sample_sums.Whit_glom_order. | sample_sums.whit_pruned.genus. | sample_sums.whit_pruned.fam. | sample_sums.whit_pruned.ord. | \n",
       "|---|---|---|---|---|---|---|---|---|---|---|---|---|---|---|---|---|---|---|---|---|---|---|---|---|---|---|---|---|---|---|---|---|---|---|---|---|---|---|---|---|---|---|---|---|---|---|---|---|---|---|---|---|---|---|---|---|---|---|---|---|\n",
       "| S001 | 28924 | 21802 | 25637 | 25932 | 13955 | 21146 | 24496 | \n",
       "| S002 | 16900 | 12103 | 14890 | 15204 |  8259 | 12333 | 14627 | \n",
       "| S003 | 11546 |  8442 | 10297 | 10546 |  5514 |  8442 | 10175 | \n",
       "| S004 | 12423 |  9048 | 11076 | 11327 |  6160 |  9181 | 10934 | \n",
       "| S006 | 11472 |  8838 | 10608 | 10814 |  6232 |  9030 | 10633 | \n",
       "| S007 | 12937 |  9564 | 11660 | 11947 |  6526 |  9677 | 11521 | \n",
       "| S008 | 15964 | 11486 | 13937 | 14249 |  7256 | 11075 | 13612 | \n",
       "| S009 | 32752 | 24246 | 28335 | 28902 | 14448 | 22359 | 26763 | \n",
       "| S011 | 14014 | 10001 | 12417 | 12574 |  6298 |  9828 | 12206 | \n",
       "| S012 |  9912 |  7138 |  8686 |  8812 |  4621 |  6948 |  8483 | \n",
       "| S013 |  8414 |  6208 |  7402 |  7481 |  3949 |  5736 |  7165 | \n",
       "| S014 |  8222 |  6031 |  7212 |  7381 |  4008 |  5744 |  7040 | \n",
       "| S016 |  8470 |  6226 |  7642 |  7745 |  4373 |  6605 |  7652 | \n",
       "| S017 |  7248 |  5264 |  6242 |  6390 |  3009 |  4760 |  5850 | \n",
       "| S018 |  7796 |  5923 |  7166 |  7323 |  4095 |  6116 |  7104 | \n",
       "| S019 | 27461 | 19869 | 24681 | 25308 | 12950 | 19311 | 24259 | \n",
       "| S021 |  6859 |  4877 |  5791 |  5815 |  3139 |  4761 |  5596 | \n",
       "| S022 | 12056 |  9149 | 10833 | 10996 |  5744 |  8713 | 10220 | \n",
       "| S023 | 10488 |  8190 |  9494 |  9625 |  4803 |  7345 |  8842 | \n",
       "| S024 | 14863 | 11226 | 13415 | 13543 |  7497 | 11444 | 13015 | \n",
       "| S026 | 15564 | 11973 | 13944 | 14283 |  7726 | 11682 | 13614 | \n",
       "| S027 |  7111 |  5124 |  6229 |  6323 |  3492 |  5148 |  6108 | \n",
       "| S028 | 11862 |  8680 | 10607 | 10858 |  5424 |  7934 | 10166 | \n",
       "| S029 |  6173 |  4548 |  5371 |  5386 |  2925 |  4344 |  4973 | \n",
       "| S031 | 14756 |  8853 | 12429 | 12754 |  5795 |  8309 | 12058 | \n",
       "| S032 | 23501 | 17319 | 21174 | 21692 | 11615 | 17404 | 20919 | \n",
       "| S033 | 11353 |  8274 |  9962 | 10075 |  5360 |  8068 |  9701 | \n",
       "| S034 | 11837 |  8825 | 10697 | 10911 |  5845 |  8459 | 10507 | \n",
       "| S036 | 11458 |  8455 | 10149 | 10322 |  5780 |  8407 |  9918 | \n",
       "| S037 |  8058 |  5739 |  7045 |  7227 |  3909 |  5894 |  6938 | \n",
       "| ⋮ | ⋮ | ⋮ | ⋮ | ⋮ | ⋮ | ⋮ | ⋮ | \n",
       "| S213 | 24627 | 17887 | 21599 | 22638 | 11892 | 17264 | 21718 | \n",
       "| S214 | 31710 | 23279 | 28565 | 29419 | 15616 | 23181 | 28195 | \n",
       "| S216 | 17285 | 12750 | 15187 | 15581 |  9101 | 12982 | 14984 | \n",
       "| S217 | 18401 | 13475 | 16352 | 16624 |  9076 | 13409 | 15887 | \n",
       "| S218 | 28092 | 20764 | 24764 | 25600 | 13705 | 19885 | 24379 | \n",
       "| S219 | 33356 | 25171 | 30936 | 31856 | 18426 | 26878 | 31267 | \n",
       "| S221 | 34593 | 25619 | 29992 | 31191 | 16752 | 24940 | 29798 | \n",
       "| S222 | 23218 | 16593 | 20441 | 20872 | 11548 | 17394 | 20168 | \n",
       "| S223 | 29400 | 22137 | 26170 | 27055 | 14858 | 21845 | 25917 | \n",
       "| S224 | 26222 | 19832 | 23721 | 24230 | 13823 | 20546 | 23379 | \n",
       "| S226 | 73280 | 55049 | 64311 | 66884 | 34352 | 52769 | 63818 | \n",
       "| S227 | 24429 | 18305 | 21938 | 22373 | 12551 | 18692 | 21713 | \n",
       "| S228 | 45004 | 33590 | 40794 | 42228 | 22379 | 33263 | 40735 | \n",
       "| S229 | 25349 | 18713 | 22055 | 22551 | 12423 | 18954 | 21405 | \n",
       "| S231 | 15916 | 11350 | 13932 | 14468 |  7398 | 10921 | 13841 | \n",
       "| S232 | 17479 | 12830 | 15759 | 16153 |  9747 | 13701 | 15841 | \n",
       "| S233 | 10776 |  7649 |  9306 |  9754 |  5360 |  7774 |  9578 | \n",
       "| S234 | 19937 | 14066 | 17764 | 18294 |  9795 | 14789 | 17804 | \n",
       "| S236 | 22781 | 16542 | 19788 | 20758 | 11609 | 16062 | 19983 | \n",
       "| S237 | 17464 | 13049 | 15751 | 16379 |  9081 | 13368 | 16089 | \n",
       "| S238 | 30152 | 22855 | 27171 | 28072 | 16154 | 22691 | 27264 | \n",
       "| S239 |  7190 |  5443 |  6599 |  6728 |  4326 |  5943 |  6668 | \n",
       "| S241 | 12205 |  9683 | 11332 | 11387 |  7595 | 10344 | 11194 | \n",
       "| S242 |  2783 |  2114 |  2674 |  2674 |  1884 |  2341 |  2653 | \n",
       "| S243 |  8642 |  6736 |  8159 |  8215 |  5485 |  7425 |  8144 | \n",
       "| S244 | 10103 |  8134 |  9616 |  9759 |  6854 |  8564 |  9534 | \n",
       "| S245 |  6863 |  5470 |  6414 |  6446 |  4115 |  5803 |  6330 | \n",
       "| S246 | 10573 |  8413 |  9840 |  9881 |  6566 |  9109 |  9726 | \n",
       "| S247 | 12298 |  9478 | 11390 | 11506 |  7252 | 10149 | 11328 | \n",
       "| S248 | 14180 | 11693 | 13417 | 13542 |  9128 | 12262 | 13373 | \n",
       "\n",
       "\n"
      ],
      "text/plain": [
       "     sample_sums.ps.whitman. sample_sums.Whit_glom_genus.\n",
       "S001 28924                   21802                       \n",
       "S002 16900                   12103                       \n",
       "S003 11546                    8442                       \n",
       "S004 12423                    9048                       \n",
       "S006 11472                    8838                       \n",
       "S007 12937                    9564                       \n",
       "S008 15964                   11486                       \n",
       "S009 32752                   24246                       \n",
       "S011 14014                   10001                       \n",
       "S012  9912                    7138                       \n",
       "S013  8414                    6208                       \n",
       "S014  8222                    6031                       \n",
       "S016  8470                    6226                       \n",
       "S017  7248                    5264                       \n",
       "S018  7796                    5923                       \n",
       "S019 27461                   19869                       \n",
       "S021  6859                    4877                       \n",
       "S022 12056                    9149                       \n",
       "S023 10488                    8190                       \n",
       "S024 14863                   11226                       \n",
       "S026 15564                   11973                       \n",
       "S027  7111                    5124                       \n",
       "S028 11862                    8680                       \n",
       "S029  6173                    4548                       \n",
       "S031 14756                    8853                       \n",
       "S032 23501                   17319                       \n",
       "S033 11353                    8274                       \n",
       "S034 11837                    8825                       \n",
       "S036 11458                    8455                       \n",
       "S037  8058                    5739                       \n",
       "⋮    ⋮                       ⋮                           \n",
       "S213 24627                   17887                       \n",
       "S214 31710                   23279                       \n",
       "S216 17285                   12750                       \n",
       "S217 18401                   13475                       \n",
       "S218 28092                   20764                       \n",
       "S219 33356                   25171                       \n",
       "S221 34593                   25619                       \n",
       "S222 23218                   16593                       \n",
       "S223 29400                   22137                       \n",
       "S224 26222                   19832                       \n",
       "S226 73280                   55049                       \n",
       "S227 24429                   18305                       \n",
       "S228 45004                   33590                       \n",
       "S229 25349                   18713                       \n",
       "S231 15916                   11350                       \n",
       "S232 17479                   12830                       \n",
       "S233 10776                    7649                       \n",
       "S234 19937                   14066                       \n",
       "S236 22781                   16542                       \n",
       "S237 17464                   13049                       \n",
       "S238 30152                   22855                       \n",
       "S239  7190                    5443                       \n",
       "S241 12205                    9683                       \n",
       "S242  2783                    2114                       \n",
       "S243  8642                    6736                       \n",
       "S244 10103                    8134                       \n",
       "S245  6863                    5470                       \n",
       "S246 10573                    8413                       \n",
       "S247 12298                    9478                       \n",
       "S248 14180                   11693                       \n",
       "     sample_sums.Whit_glom_family. sample_sums.Whit_glom_order.\n",
       "S001 25637                         25932                       \n",
       "S002 14890                         15204                       \n",
       "S003 10297                         10546                       \n",
       "S004 11076                         11327                       \n",
       "S006 10608                         10814                       \n",
       "S007 11660                         11947                       \n",
       "S008 13937                         14249                       \n",
       "S009 28335                         28902                       \n",
       "S011 12417                         12574                       \n",
       "S012  8686                          8812                       \n",
       "S013  7402                          7481                       \n",
       "S014  7212                          7381                       \n",
       "S016  7642                          7745                       \n",
       "S017  6242                          6390                       \n",
       "S018  7166                          7323                       \n",
       "S019 24681                         25308                       \n",
       "S021  5791                          5815                       \n",
       "S022 10833                         10996                       \n",
       "S023  9494                          9625                       \n",
       "S024 13415                         13543                       \n",
       "S026 13944                         14283                       \n",
       "S027  6229                          6323                       \n",
       "S028 10607                         10858                       \n",
       "S029  5371                          5386                       \n",
       "S031 12429                         12754                       \n",
       "S032 21174                         21692                       \n",
       "S033  9962                         10075                       \n",
       "S034 10697                         10911                       \n",
       "S036 10149                         10322                       \n",
       "S037  7045                          7227                       \n",
       "⋮    ⋮                             ⋮                           \n",
       "S213 21599                         22638                       \n",
       "S214 28565                         29419                       \n",
       "S216 15187                         15581                       \n",
       "S217 16352                         16624                       \n",
       "S218 24764                         25600                       \n",
       "S219 30936                         31856                       \n",
       "S221 29992                         31191                       \n",
       "S222 20441                         20872                       \n",
       "S223 26170                         27055                       \n",
       "S224 23721                         24230                       \n",
       "S226 64311                         66884                       \n",
       "S227 21938                         22373                       \n",
       "S228 40794                         42228                       \n",
       "S229 22055                         22551                       \n",
       "S231 13932                         14468                       \n",
       "S232 15759                         16153                       \n",
       "S233  9306                          9754                       \n",
       "S234 17764                         18294                       \n",
       "S236 19788                         20758                       \n",
       "S237 15751                         16379                       \n",
       "S238 27171                         28072                       \n",
       "S239  6599                          6728                       \n",
       "S241 11332                         11387                       \n",
       "S242  2674                          2674                       \n",
       "S243  8159                          8215                       \n",
       "S244  9616                          9759                       \n",
       "S245  6414                          6446                       \n",
       "S246  9840                          9881                       \n",
       "S247 11390                         11506                       \n",
       "S248 13417                         13542                       \n",
       "     sample_sums.whit_pruned.genus. sample_sums.whit_pruned.fam.\n",
       "S001 13955                          21146                       \n",
       "S002  8259                          12333                       \n",
       "S003  5514                           8442                       \n",
       "S004  6160                           9181                       \n",
       "S006  6232                           9030                       \n",
       "S007  6526                           9677                       \n",
       "S008  7256                          11075                       \n",
       "S009 14448                          22359                       \n",
       "S011  6298                           9828                       \n",
       "S012  4621                           6948                       \n",
       "S013  3949                           5736                       \n",
       "S014  4008                           5744                       \n",
       "S016  4373                           6605                       \n",
       "S017  3009                           4760                       \n",
       "S018  4095                           6116                       \n",
       "S019 12950                          19311                       \n",
       "S021  3139                           4761                       \n",
       "S022  5744                           8713                       \n",
       "S023  4803                           7345                       \n",
       "S024  7497                          11444                       \n",
       "S026  7726                          11682                       \n",
       "S027  3492                           5148                       \n",
       "S028  5424                           7934                       \n",
       "S029  2925                           4344                       \n",
       "S031  5795                           8309                       \n",
       "S032 11615                          17404                       \n",
       "S033  5360                           8068                       \n",
       "S034  5845                           8459                       \n",
       "S036  5780                           8407                       \n",
       "S037  3909                           5894                       \n",
       "⋮    ⋮                              ⋮                           \n",
       "S213 11892                          17264                       \n",
       "S214 15616                          23181                       \n",
       "S216  9101                          12982                       \n",
       "S217  9076                          13409                       \n",
       "S218 13705                          19885                       \n",
       "S219 18426                          26878                       \n",
       "S221 16752                          24940                       \n",
       "S222 11548                          17394                       \n",
       "S223 14858                          21845                       \n",
       "S224 13823                          20546                       \n",
       "S226 34352                          52769                       \n",
       "S227 12551                          18692                       \n",
       "S228 22379                          33263                       \n",
       "S229 12423                          18954                       \n",
       "S231  7398                          10921                       \n",
       "S232  9747                          13701                       \n",
       "S233  5360                           7774                       \n",
       "S234  9795                          14789                       \n",
       "S236 11609                          16062                       \n",
       "S237  9081                          13368                       \n",
       "S238 16154                          22691                       \n",
       "S239  4326                           5943                       \n",
       "S241  7595                          10344                       \n",
       "S242  1884                           2341                       \n",
       "S243  5485                           7425                       \n",
       "S244  6854                           8564                       \n",
       "S245  4115                           5803                       \n",
       "S246  6566                           9109                       \n",
       "S247  7252                          10149                       \n",
       "S248  9128                          12262                       \n",
       "     sample_sums.whit_pruned.ord.\n",
       "S001 24496                       \n",
       "S002 14627                       \n",
       "S003 10175                       \n",
       "S004 10934                       \n",
       "S006 10633                       \n",
       "S007 11521                       \n",
       "S008 13612                       \n",
       "S009 26763                       \n",
       "S011 12206                       \n",
       "S012  8483                       \n",
       "S013  7165                       \n",
       "S014  7040                       \n",
       "S016  7652                       \n",
       "S017  5850                       \n",
       "S018  7104                       \n",
       "S019 24259                       \n",
       "S021  5596                       \n",
       "S022 10220                       \n",
       "S023  8842                       \n",
       "S024 13015                       \n",
       "S026 13614                       \n",
       "S027  6108                       \n",
       "S028 10166                       \n",
       "S029  4973                       \n",
       "S031 12058                       \n",
       "S032 20919                       \n",
       "S033  9701                       \n",
       "S034 10507                       \n",
       "S036  9918                       \n",
       "S037  6938                       \n",
       "⋮    ⋮                           \n",
       "S213 21718                       \n",
       "S214 28195                       \n",
       "S216 14984                       \n",
       "S217 15887                       \n",
       "S218 24379                       \n",
       "S219 31267                       \n",
       "S221 29798                       \n",
       "S222 20168                       \n",
       "S223 25917                       \n",
       "S224 23379                       \n",
       "S226 63818                       \n",
       "S227 21713                       \n",
       "S228 40735                       \n",
       "S229 21405                       \n",
       "S231 13841                       \n",
       "S232 15841                       \n",
       "S233  9578                       \n",
       "S234 17804                       \n",
       "S236 19983                       \n",
       "S237 16089                       \n",
       "S238 27264                       \n",
       "S239  6668                       \n",
       "S241 11194                       \n",
       "S242  2653                       \n",
       "S243  8144                       \n",
       "S244  9534                       \n",
       "S245  6330                       \n",
       "S246  9726                       \n",
       "S247 11328                       \n",
       "S248 13373                       "
      ]
     },
     "metadata": {},
     "output_type": "display_data"
    }
   ],
   "source": [
    "data.frame(sample_sums(ps.whitman),sample_sums(Whit_glom_genus),sample_sums(Whit_glom_family), sample_sums(Whit_glom_order), sample_sums(whit_pruned.genus),sample_sums(whit_pruned.fam), sample_sums(whit_pruned.ord))"
   ]
  },
  {
   "cell_type": "markdown",
   "metadata": {},
   "source": [
    "### Wu"
   ]
  },
  {
   "cell_type": "code",
   "execution_count": 17,
   "metadata": {},
   "outputs": [],
   "source": [
    "wu_glom_genus = tax_glom(ps.wu, \"Genus\")\n",
    "wu_glom_family = tax_glom(ps.wu, \"Family\")\n",
    "wu_glom_order = tax_glom(ps.wu, \"Order\")"
   ]
  },
  {
   "cell_type": "code",
   "execution_count": 18,
   "metadata": {
    "collapsed": true
   },
   "outputs": [
    {
     "data": {
      "text/html": [
       "<ol class=list-inline>\n",
       "\t<li>480</li>\n",
       "\t<li>7</li>\n",
       "</ol>\n"
      ],
      "text/latex": [
       "\\begin{enumerate*}\n",
       "\\item 480\n",
       "\\item 7\n",
       "\\end{enumerate*}\n"
      ],
      "text/markdown": [
       "1. 480\n",
       "2. 7\n",
       "\n",
       "\n"
      ],
      "text/plain": [
       "[1] 480   7"
      ]
     },
     "metadata": {},
     "output_type": "display_data"
    },
    {
     "data": {
      "text/html": [
       "<ol class=list-inline>\n",
       "\t<li>174</li>\n",
       "\t<li>7</li>\n",
       "</ol>\n"
      ],
      "text/latex": [
       "\\begin{enumerate*}\n",
       "\\item 174\n",
       "\\item 7\n",
       "\\end{enumerate*}\n"
      ],
      "text/markdown": [
       "1. 174\n",
       "2. 7\n",
       "\n",
       "\n"
      ],
      "text/plain": [
       "[1] 174   7"
      ]
     },
     "metadata": {},
     "output_type": "display_data"
    },
    {
     "data": {
      "text/html": [
       "<ol class=list-inline>\n",
       "\t<li>122</li>\n",
       "\t<li>7</li>\n",
       "</ol>\n"
      ],
      "text/latex": [
       "\\begin{enumerate*}\n",
       "\\item 122\n",
       "\\item 7\n",
       "\\end{enumerate*}\n"
      ],
      "text/markdown": [
       "1. 122\n",
       "2. 7\n",
       "\n",
       "\n"
      ],
      "text/plain": [
       "[1] 122   7"
      ]
     },
     "metadata": {},
     "output_type": "display_data"
    }
   ],
   "source": [
    "dim(tax_table(ps.wu))\n",
    "dim(tax_table(wu_glom_genus))\n",
    "dim(tax_table(wu_glom_family))"
   ]
  },
  {
   "cell_type": "code",
   "execution_count": 19,
   "metadata": {
    "collapsed": true
   },
   "outputs": [
    {
     "data": {
      "text/html": [
       "72"
      ],
      "text/latex": [
       "72"
      ],
      "text/markdown": [
       "72"
      ],
      "text/plain": [
       "[1] 72"
      ]
     },
     "metadata": {},
     "output_type": "display_data"
    },
    {
     "data": {
      "text/plain": [
       "phyloseq-class experiment-level object\n",
       "otu_table()   OTU Table:         [ 102 taxa and 6 samples ]\n",
       "sample_data() Sample Data:       [ 6 samples by 34 sample variables ]\n",
       "tax_table()   Taxonomy Table:    [ 102 taxa by 7 taxonomic ranks ]"
      ]
     },
     "metadata": {},
     "output_type": "display_data"
    },
    {
     "data": {
      "text/html": [
       "102"
      ],
      "text/latex": [
       "102"
      ],
      "text/markdown": [
       "102"
      ],
      "text/plain": [
       "[1] 102"
      ]
     },
     "metadata": {},
     "output_type": "display_data"
    }
   ],
   "source": [
    "names = data.frame(tax_table(wu_glom_genus))\n",
    "unwanted.rows = grep(\"uncultured*\",names$Genus)\n",
    "unwanted.rows = c(unwanted.rows,grep(\"metagenome*\",names$Genus))\n",
    "unwanted.rows = c(unwanted.rows,grep(\"Ambiguous_taxa*\",names$Genus))\n",
    "unwanted.rows = c(unwanted.rows,grep(\"Triticum*\",names$Genus))\n",
    "length(unwanted.rows)\n",
    "wanted.rows = !(rep(1:dim(names)[1]) %in% unwanted.rows)\n",
    "wu_pruned.genus = prune_taxa(taxa_names(wu_glom_genus)[wanted.rows = !(rep(1:dim(names)[1]) %in% unwanted.rows)], wu_glom_genus) \n",
    "wu_pruned.genus\n",
    "length(unique(data.frame(tax_table(wu_pruned.genus))$Genus))"
   ]
  },
  {
   "cell_type": "code",
   "execution_count": 20,
   "metadata": {
    "collapsed": true
   },
   "outputs": [
    {
     "data": {
      "text/html": [
       "46"
      ],
      "text/latex": [
       "46"
      ],
      "text/markdown": [
       "46"
      ],
      "text/plain": [
       "[1] 46"
      ]
     },
     "metadata": {},
     "output_type": "display_data"
    },
    {
     "data": {
      "text/plain": [
       "phyloseq-class experiment-level object\n",
       "otu_table()   OTU Table:         [ 76 taxa and 6 samples ]\n",
       "sample_data() Sample Data:       [ 6 samples by 34 sample variables ]\n",
       "tax_table()   Taxonomy Table:    [ 76 taxa by 7 taxonomic ranks ]"
      ]
     },
     "metadata": {},
     "output_type": "display_data"
    },
    {
     "data": {
      "text/html": [
       "76"
      ],
      "text/latex": [
       "76"
      ],
      "text/markdown": [
       "76"
      ],
      "text/plain": [
       "[1] 76"
      ]
     },
     "metadata": {},
     "output_type": "display_data"
    }
   ],
   "source": [
    "names = data.frame(tax_table(wu_glom_family))\n",
    "unwanted.rows = grep(\"uncultured*\",names$Family)\n",
    "unwanted.rows = c(unwanted.rows,grep(\"metagenome*\",names$Family))\n",
    "unwanted.rows = c(unwanted.rows,grep(\"Ambiguous_taxa*\",names$Family))\n",
    "unwanted.rows = c(unwanted.rows,grep(\"Unknown Family*\",names$Family))\n",
    "length(unwanted.rows)\n",
    "wanted.rows = !(rep(1:dim(names)[1]) %in% unwanted.rows)\n",
    "wu_pruned.fam = prune_taxa(taxa_names(wu_glom_family)[wanted.rows = !(rep(1:dim(names)[1]) %in% unwanted.rows)], wu_glom_family) \n",
    "wu_pruned.fam\n",
    "length(unique(data.frame(tax_table(wu_pruned.fam))$Family))"
   ]
  },
  {
   "cell_type": "code",
   "execution_count": 21,
   "metadata": {
    "collapsed": true
   },
   "outputs": [
    {
     "data": {
      "text/html": [
       "18"
      ],
      "text/latex": [
       "18"
      ],
      "text/markdown": [
       "18"
      ],
      "text/plain": [
       "[1] 18"
      ]
     },
     "metadata": {},
     "output_type": "display_data"
    },
    {
     "data": {
      "text/plain": [
       "phyloseq-class experiment-level object\n",
       "otu_table()   OTU Table:         [ 62 taxa and 6 samples ]\n",
       "sample_data() Sample Data:       [ 6 samples by 34 sample variables ]\n",
       "tax_table()   Taxonomy Table:    [ 62 taxa by 7 taxonomic ranks ]"
      ]
     },
     "metadata": {},
     "output_type": "display_data"
    },
    {
     "data": {
      "text/html": [
       "62"
      ],
      "text/latex": [
       "62"
      ],
      "text/markdown": [
       "62"
      ],
      "text/plain": [
       "[1] 62"
      ]
     },
     "metadata": {},
     "output_type": "display_data"
    }
   ],
   "source": [
    "names = data.frame(tax_table(wu_glom_order))\n",
    "unwanted.rows = grep(\"uncultured*\",names$Order)\n",
    "unwanted.rows = c(unwanted.rows,grep(\"metagenome*\",names$Order))\n",
    "unwanted.rows = c(unwanted.rows,grep(\"Ambiguous_taxa*\",names$Order))\n",
    "unwanted.rows = c(unwanted.rows,grep(\"Unknown Family*\",names$Order))\n",
    "length(unwanted.rows)\n",
    "wanted.rows = !(rep(1:dim(names)[1]) %in% unwanted.rows)\n",
    "wu_pruned.ord = prune_taxa(taxa_names(wu_glom_order)[wanted.rows = !(rep(1:dim(names)[1]) %in% unwanted.rows)], wu_glom_order) \n",
    "wu_pruned.ord\n",
    "length(unique(data.frame(tax_table(wu_pruned.ord))$Order))"
   ]
  },
  {
   "cell_type": "code",
   "execution_count": 22,
   "metadata": {
    "collapsed": true
   },
   "outputs": [
    {
     "data": {
      "text/html": [
       "<table>\n",
       "<thead><tr><th></th><th scope=col>sample_sums.ps.wu.</th><th scope=col>sample_sums.wu_glom_genus.</th><th scope=col>sample_sums.wu_glom_family.</th><th scope=col>sample_sums.wu_glom_order.</th><th scope=col>sample_sums.wu_pruned.genus.</th><th scope=col>sample_sums.wu_pruned.fam.</th><th scope=col>sample_sums.wu_pruned.ord.</th></tr></thead>\n",
       "<tbody>\n",
       "\t<tr><th scope=row>SRR2919159-X</th><td>3151</td><td>2838</td><td>3013</td><td>3135</td><td>2145</td><td>2725</td><td>2886</td></tr>\n",
       "\t<tr><th scope=row>SRR2919160-X</th><td>3368</td><td>3014</td><td>3264</td><td>3349</td><td>2282</td><td>3002</td><td>3202</td></tr>\n",
       "\t<tr><th scope=row>SRR2919161-X</th><td>3145</td><td>2484</td><td>2999</td><td>3110</td><td>1818</td><td>2658</td><td>2797</td></tr>\n",
       "\t<tr><th scope=row>SRR2919162-X</th><td>6803</td><td>6237</td><td>6579</td><td>6763</td><td>5170</td><td>6195</td><td>6473</td></tr>\n",
       "\t<tr><th scope=row>SRR2919163-X</th><td>3410</td><td>3131</td><td>3300</td><td>3407</td><td>2108</td><td>2842</td><td>3072</td></tr>\n",
       "\t<tr><th scope=row>SRR2919164-X</th><td>5052</td><td>4440</td><td>4887</td><td>4990</td><td>3736</td><td>4651</td><td>4834</td></tr>\n",
       "</tbody>\n",
       "</table>\n"
      ],
      "text/latex": [
       "\\begin{tabular}{r|lllllll}\n",
       "  & sample\\_sums.ps.wu. & sample\\_sums.wu\\_glom\\_genus. & sample\\_sums.wu\\_glom\\_family. & sample\\_sums.wu\\_glom\\_order. & sample\\_sums.wu\\_pruned.genus. & sample\\_sums.wu\\_pruned.fam. & sample\\_sums.wu\\_pruned.ord.\\\\\n",
       "\\hline\n",
       "\tSRR2919159-X & 3151 & 2838 & 3013 & 3135 & 2145 & 2725 & 2886\\\\\n",
       "\tSRR2919160-X & 3368 & 3014 & 3264 & 3349 & 2282 & 3002 & 3202\\\\\n",
       "\tSRR2919161-X & 3145 & 2484 & 2999 & 3110 & 1818 & 2658 & 2797\\\\\n",
       "\tSRR2919162-X & 6803 & 6237 & 6579 & 6763 & 5170 & 6195 & 6473\\\\\n",
       "\tSRR2919163-X & 3410 & 3131 & 3300 & 3407 & 2108 & 2842 & 3072\\\\\n",
       "\tSRR2919164-X & 5052 & 4440 & 4887 & 4990 & 3736 & 4651 & 4834\\\\\n",
       "\\end{tabular}\n"
      ],
      "text/markdown": [
       "\n",
       "| <!--/--> | sample_sums.ps.wu. | sample_sums.wu_glom_genus. | sample_sums.wu_glom_family. | sample_sums.wu_glom_order. | sample_sums.wu_pruned.genus. | sample_sums.wu_pruned.fam. | sample_sums.wu_pruned.ord. | \n",
       "|---|---|---|---|---|---|\n",
       "| SRR2919159-X | 3151 | 2838 | 3013 | 3135 | 2145 | 2725 | 2886 | \n",
       "| SRR2919160-X | 3368 | 3014 | 3264 | 3349 | 2282 | 3002 | 3202 | \n",
       "| SRR2919161-X | 3145 | 2484 | 2999 | 3110 | 1818 | 2658 | 2797 | \n",
       "| SRR2919162-X | 6803 | 6237 | 6579 | 6763 | 5170 | 6195 | 6473 | \n",
       "| SRR2919163-X | 3410 | 3131 | 3300 | 3407 | 2108 | 2842 | 3072 | \n",
       "| SRR2919164-X | 5052 | 4440 | 4887 | 4990 | 3736 | 4651 | 4834 | \n",
       "\n",
       "\n"
      ],
      "text/plain": [
       "             sample_sums.ps.wu. sample_sums.wu_glom_genus.\n",
       "SRR2919159-X 3151               2838                      \n",
       "SRR2919160-X 3368               3014                      \n",
       "SRR2919161-X 3145               2484                      \n",
       "SRR2919162-X 6803               6237                      \n",
       "SRR2919163-X 3410               3131                      \n",
       "SRR2919164-X 5052               4440                      \n",
       "             sample_sums.wu_glom_family. sample_sums.wu_glom_order.\n",
       "SRR2919159-X 3013                        3135                      \n",
       "SRR2919160-X 3264                        3349                      \n",
       "SRR2919161-X 2999                        3110                      \n",
       "SRR2919162-X 6579                        6763                      \n",
       "SRR2919163-X 3300                        3407                      \n",
       "SRR2919164-X 4887                        4990                      \n",
       "             sample_sums.wu_pruned.genus. sample_sums.wu_pruned.fam.\n",
       "SRR2919159-X 2145                         2725                      \n",
       "SRR2919160-X 2282                         3002                      \n",
       "SRR2919161-X 1818                         2658                      \n",
       "SRR2919162-X 5170                         6195                      \n",
       "SRR2919163-X 2108                         2842                      \n",
       "SRR2919164-X 3736                         4651                      \n",
       "             sample_sums.wu_pruned.ord.\n",
       "SRR2919159-X 2886                      \n",
       "SRR2919160-X 3202                      \n",
       "SRR2919161-X 2797                      \n",
       "SRR2919162-X 6473                      \n",
       "SRR2919163-X 3072                      \n",
       "SRR2919164-X 4834                      "
      ]
     },
     "metadata": {},
     "output_type": "display_data"
    }
   ],
   "source": [
    "data.frame(sample_sums(ps.wu),sample_sums(wu_glom_genus),sample_sums(wu_glom_family), sample_sums(wu_glom_order), sample_sums(wu_pruned.genus),sample_sums(wu_pruned.fam), sample_sums(wu_pruned.ord))"
   ]
  },
  {
   "cell_type": "markdown",
   "metadata": {},
   "source": [
    "### Imparato"
   ]
  },
  {
   "cell_type": "code",
   "execution_count": 23,
   "metadata": {},
   "outputs": [],
   "source": [
    "imparato_glom_genus = tax_glom(ps.imparato, \"Genus\")\n",
    "imparato_glom_family = tax_glom(ps.imparato, \"Family\")\n",
    "imparato_glom_order = tax_glom(ps.imparato, \"Order\")"
   ]
  },
  {
   "cell_type": "code",
   "execution_count": 24,
   "metadata": {
    "collapsed": true
   },
   "outputs": [
    {
     "data": {
      "text/html": [
       "<ol class=list-inline>\n",
       "\t<li>21702</li>\n",
       "\t<li>7</li>\n",
       "</ol>\n"
      ],
      "text/latex": [
       "\\begin{enumerate*}\n",
       "\\item 21702\n",
       "\\item 7\n",
       "\\end{enumerate*}\n"
      ],
      "text/markdown": [
       "1. 21702\n",
       "2. 7\n",
       "\n",
       "\n"
      ],
      "text/plain": [
       "[1] 21702     7"
      ]
     },
     "metadata": {},
     "output_type": "display_data"
    },
    {
     "data": {
      "text/html": [
       "<ol class=list-inline>\n",
       "\t<li>768</li>\n",
       "\t<li>7</li>\n",
       "</ol>\n"
      ],
      "text/latex": [
       "\\begin{enumerate*}\n",
       "\\item 768\n",
       "\\item 7\n",
       "\\end{enumerate*}\n"
      ],
      "text/markdown": [
       "1. 768\n",
       "2. 7\n",
       "\n",
       "\n"
      ],
      "text/plain": [
       "[1] 768   7"
      ]
     },
     "metadata": {},
     "output_type": "display_data"
    },
    {
     "data": {
      "text/html": [
       "<ol class=list-inline>\n",
       "\t<li>453</li>\n",
       "\t<li>7</li>\n",
       "</ol>\n"
      ],
      "text/latex": [
       "\\begin{enumerate*}\n",
       "\\item 453\n",
       "\\item 7\n",
       "\\end{enumerate*}\n"
      ],
      "text/markdown": [
       "1. 453\n",
       "2. 7\n",
       "\n",
       "\n"
      ],
      "text/plain": [
       "[1] 453   7"
      ]
     },
     "metadata": {},
     "output_type": "display_data"
    },
    {
     "data": {
      "text/html": [
       "<ol class=list-inline>\n",
       "\t<li>267</li>\n",
       "\t<li>7</li>\n",
       "</ol>\n"
      ],
      "text/latex": [
       "\\begin{enumerate*}\n",
       "\\item 267\n",
       "\\item 7\n",
       "\\end{enumerate*}\n"
      ],
      "text/markdown": [
       "1. 267\n",
       "2. 7\n",
       "\n",
       "\n"
      ],
      "text/plain": [
       "[1] 267   7"
      ]
     },
     "metadata": {},
     "output_type": "display_data"
    }
   ],
   "source": [
    "dim(tax_table(ps.imparato))\n",
    "dim(tax_table(imparato_glom_genus))\n",
    "dim(tax_table(imparato_glom_family))\n",
    "dim(tax_table(imparato_glom_order))"
   ]
  },
  {
   "cell_type": "code",
   "execution_count": 25,
   "metadata": {
    "collapsed": true
   },
   "outputs": [
    {
     "data": {
      "text/html": [
       "387"
      ],
      "text/latex": [
       "387"
      ],
      "text/markdown": [
       "387"
      ],
      "text/plain": [
       "[1] 387"
      ]
     },
     "metadata": {},
     "output_type": "display_data"
    },
    {
     "data": {
      "text/plain": [
       "phyloseq-class experiment-level object\n",
       "otu_table()   OTU Table:         [ 381 taxa and 36 samples ]\n",
       "sample_data() Sample Data:       [ 36 samples by 35 sample variables ]\n",
       "tax_table()   Taxonomy Table:    [ 381 taxa by 7 taxonomic ranks ]"
      ]
     },
     "metadata": {},
     "output_type": "display_data"
    },
    {
     "data": {
      "text/html": [
       "381"
      ],
      "text/latex": [
       "381"
      ],
      "text/markdown": [
       "381"
      ],
      "text/plain": [
       "[1] 381"
      ]
     },
     "metadata": {},
     "output_type": "display_data"
    }
   ],
   "source": [
    "names = data.frame(tax_table(imparato_glom_genus))\n",
    "unwanted.rows = grep(\"uncultured*\",names$Genus)\n",
    "unwanted.rows = c(unwanted.rows,grep(\"metagenome*\",names$Genus))\n",
    "unwanted.rows = c(unwanted.rows,grep(\"Ambiguous_taxa*\",names$Genus))\n",
    "unwanted.rows = c(unwanted.rows,grep(\"Triticum*\",names$Genus))\n",
    "length(unwanted.rows)\n",
    "wanted.rows = !(rep(1:dim(names)[1]) %in% unwanted.rows)\n",
    "imparato_pruned.genus = prune_taxa(taxa_names(imparato_glom_genus)[wanted.rows = !(rep(1:dim(names)[1]) %in% unwanted.rows)], imparato_glom_genus) \n",
    "imparato_pruned.genus\n",
    "length(unique(data.frame(tax_table(imparato_pruned.genus))$Genus))"
   ]
  },
  {
   "cell_type": "code",
   "execution_count": 26,
   "metadata": {
    "collapsed": true
   },
   "outputs": [
    {
     "data": {
      "text/html": [
       "218"
      ],
      "text/latex": [
       "218"
      ],
      "text/markdown": [
       "218"
      ],
      "text/plain": [
       "[1] 218"
      ]
     },
     "metadata": {},
     "output_type": "display_data"
    },
    {
     "data": {
      "text/plain": [
       "phyloseq-class experiment-level object\n",
       "otu_table()   OTU Table:         [ 235 taxa and 36 samples ]\n",
       "sample_data() Sample Data:       [ 36 samples by 35 sample variables ]\n",
       "tax_table()   Taxonomy Table:    [ 235 taxa by 7 taxonomic ranks ]"
      ]
     },
     "metadata": {},
     "output_type": "display_data"
    },
    {
     "data": {
      "text/html": [
       "235"
      ],
      "text/latex": [
       "235"
      ],
      "text/markdown": [
       "235"
      ],
      "text/plain": [
       "[1] 235"
      ]
     },
     "metadata": {},
     "output_type": "display_data"
    }
   ],
   "source": [
    "names = data.frame(tax_table(imparato_glom_family))\n",
    "unwanted.rows = grep(\"uncultured*\",names$Family)\n",
    "unwanted.rows = c(unwanted.rows,grep(\"metagenome*\",names$Family))\n",
    "unwanted.rows = c(unwanted.rows,grep(\"Ambiguous_taxa*\",names$Family))\n",
    "unwanted.rows = c(unwanted.rows,grep(\"Unknown Family*\",names$Family))\n",
    "length(unwanted.rows)\n",
    "wanted.rows = !(rep(1:dim(names)[1]) %in% unwanted.rows)\n",
    "imparato_pruned.fam = prune_taxa(taxa_names(imparato_glom_family)[wanted.rows = !(rep(1:dim(names)[1]) %in% unwanted.rows)], imparato_glom_family) \n",
    "imparato_pruned.fam\n",
    "length(unique(data.frame(tax_table(imparato_pruned.fam))$Family))"
   ]
  },
  {
   "cell_type": "code",
   "execution_count": 27,
   "metadata": {
    "collapsed": true
   },
   "outputs": [
    {
     "data": {
      "text/html": [
       "95"
      ],
      "text/latex": [
       "95"
      ],
      "text/markdown": [
       "95"
      ],
      "text/plain": [
       "[1] 95"
      ]
     },
     "metadata": {},
     "output_type": "display_data"
    },
    {
     "data": {
      "text/plain": [
       "phyloseq-class experiment-level object\n",
       "otu_table()   OTU Table:         [ 172 taxa and 36 samples ]\n",
       "sample_data() Sample Data:       [ 36 samples by 35 sample variables ]\n",
       "tax_table()   Taxonomy Table:    [ 172 taxa by 7 taxonomic ranks ]"
      ]
     },
     "metadata": {},
     "output_type": "display_data"
    },
    {
     "data": {
      "text/html": [
       "172"
      ],
      "text/latex": [
       "172"
      ],
      "text/markdown": [
       "172"
      ],
      "text/plain": [
       "[1] 172"
      ]
     },
     "metadata": {},
     "output_type": "display_data"
    }
   ],
   "source": [
    "names = data.frame(tax_table(imparato_glom_order))\n",
    "unwanted.rows = grep(\"uncultured*\",names$Order)\n",
    "unwanted.rows = c(unwanted.rows,grep(\"metagenome*\",names$Order))\n",
    "unwanted.rows = c(unwanted.rows,grep(\"Ambiguous_taxa*\",names$Order))\n",
    "unwanted.rows = c(unwanted.rows,grep(\"Unknown Family*\",names$Order))\n",
    "length(unwanted.rows)\n",
    "wanted.rows = !(rep(1:dim(names)[1]) %in% unwanted.rows)\n",
    "imparato_pruned.ord = prune_taxa(taxa_names(imparato_glom_order)[wanted.rows = !(rep(1:dim(names)[1]) %in% unwanted.rows)], imparato_glom_order) \n",
    "imparato_pruned.ord\n",
    "length(unique(data.frame(tax_table(imparato_pruned.ord))$Order))"
   ]
  },
  {
   "cell_type": "code",
   "execution_count": 28,
   "metadata": {
    "collapsed": true
   },
   "outputs": [
    {
     "data": {
      "text/html": [
       "<table>\n",
       "<thead><tr><th></th><th scope=col>sample_sums.ps.imparato.</th><th scope=col>sample_sums.imparato_glom_genus.</th><th scope=col>sample_sums.imparato_glom_family.</th><th scope=col>sample_sums.imparato_glom_genus..1</th><th scope=col>sample_sums.imparato_glom_order.</th><th scope=col>sample_sums.imparato_pruned.genus.</th><th scope=col>sample_sums.imparato_pruned.fam.</th><th scope=col>sample_sums.imparato_pruned.ord.</th></tr></thead>\n",
       "<tbody>\n",
       "\t<tr><th scope=row>SRR3586000-X</th><td>11969</td><td> 7542</td><td>10915</td><td> 7542</td><td>11255</td><td> 4040</td><td> 9674</td><td>10595</td></tr>\n",
       "\t<tr><th scope=row>SRR3586001-X</th><td>14583</td><td> 9737</td><td>13510</td><td> 9737</td><td>13747</td><td> 5616</td><td>11976</td><td>12917</td></tr>\n",
       "\t<tr><th scope=row>SRR3586002-X</th><td>26908</td><td>18798</td><td>24899</td><td>18798</td><td>25421</td><td>10500</td><td>21411</td><td>23517</td></tr>\n",
       "\t<tr><th scope=row>SRR3586003-X</th><td>14627</td><td> 9779</td><td>13315</td><td> 9779</td><td>13622</td><td> 5061</td><td>11531</td><td>12674</td></tr>\n",
       "\t<tr><th scope=row>SRR3586004-X</th><td>32112</td><td>22266</td><td>29820</td><td>22266</td><td>30481</td><td>12350</td><td>25728</td><td>28372</td></tr>\n",
       "\t<tr><th scope=row>SRR3586005-X</th><td>34159</td><td>23245</td><td>31839</td><td>23245</td><td>32465</td><td>12624</td><td>27171</td><td>30118</td></tr>\n",
       "\t<tr><th scope=row>SRR3586006-X</th><td>20258</td><td>12846</td><td>18806</td><td>12846</td><td>19252</td><td> 7529</td><td>16614</td><td>18092</td></tr>\n",
       "\t<tr><th scope=row>SRR3586007-X</th><td>40798</td><td>28999</td><td>38582</td><td>28999</td><td>39329</td><td>16427</td><td>33053</td><td>36521</td></tr>\n",
       "\t<tr><th scope=row>SRR3586008-X</th><td>17944</td><td>12036</td><td>16503</td><td>12036</td><td>16863</td><td> 7012</td><td>14503</td><td>15845</td></tr>\n",
       "\t<tr><th scope=row>SRR3586009-X</th><td>44376</td><td>31044</td><td>40217</td><td>31044</td><td>41231</td><td>17581</td><td>34037</td><td>38085</td></tr>\n",
       "\t<tr><th scope=row>SRR3586010-X</th><td>31988</td><td>22033</td><td>28668</td><td>22033</td><td>29401</td><td>12674</td><td>24526</td><td>27189</td></tr>\n",
       "\t<tr><th scope=row>SRR3586011-X</th><td>37958</td><td>26402</td><td>34958</td><td>26402</td><td>35796</td><td>15422</td><td>30136</td><td>33185</td></tr>\n",
       "\t<tr><th scope=row>SRR3586012-X</th><td>32829</td><td>21138</td><td>29822</td><td>21138</td><td>30782</td><td>10990</td><td>25462</td><td>28450</td></tr>\n",
       "\t<tr><th scope=row>SRR3586013-X</th><td>34561</td><td>22645</td><td>32177</td><td>22645</td><td>32951</td><td>12923</td><td>27987</td><td>31001</td></tr>\n",
       "\t<tr><th scope=row>SRR3586014-X</th><td>43255</td><td>29762</td><td>40730</td><td>29762</td><td>41629</td><td>17438</td><td>35675</td><td>39287</td></tr>\n",
       "\t<tr><th scope=row>SRR3586015-X</th><td>23088</td><td>15233</td><td>21038</td><td>15233</td><td>21642</td><td> 8262</td><td>17669</td><td>19966</td></tr>\n",
       "\t<tr><th scope=row>SRR3586016-X</th><td>16427</td><td>11420</td><td>15390</td><td>11420</td><td>15769</td><td> 7451</td><td>14309</td><td>15298</td></tr>\n",
       "\t<tr><th scope=row>SRR3586017-X</th><td>10288</td><td> 7613</td><td> 9602</td><td> 7613</td><td> 9945</td><td> 4806</td><td> 8961</td><td> 9617</td></tr>\n",
       "\t<tr><th scope=row>SRR3586018-X</th><td>35236</td><td>22910</td><td>32414</td><td>22910</td><td>33357</td><td>13902</td><td>29080</td><td>31650</td></tr>\n",
       "\t<tr><th scope=row>SRR3586019-X</th><td>34851</td><td>23464</td><td>32459</td><td>23464</td><td>33098</td><td>14347</td><td>28925</td><td>31404</td></tr>\n",
       "\t<tr><th scope=row>SRR3586020-X</th><td>42855</td><td>28776</td><td>40004</td><td>28776</td><td>40822</td><td>17515</td><td>35759</td><td>38621</td></tr>\n",
       "\t<tr><th scope=row>SRR3586021-X</th><td>18975</td><td>13055</td><td>17788</td><td>13055</td><td>18126</td><td> 8195</td><td>15699</td><td>17174</td></tr>\n",
       "\t<tr><th scope=row>SRR3586022-X</th><td>34120</td><td>22665</td><td>32124</td><td>22665</td><td>32726</td><td>14047</td><td>28570</td><td>30941</td></tr>\n",
       "\t<tr><th scope=row>SRR3586023-X</th><td>30109</td><td>20599</td><td>28330</td><td>20599</td><td>28909</td><td>12857</td><td>25143</td><td>27276</td></tr>\n",
       "\t<tr><th scope=row>SRR3586024-X</th><td>20836</td><td>15052</td><td>19588</td><td>15052</td><td>20123</td><td> 9656</td><td>17735</td><td>19214</td></tr>\n",
       "\t<tr><th scope=row>SRR3586025-X</th><td>25746</td><td>18606</td><td>24453</td><td>18606</td><td>25051</td><td>12498</td><td>22970</td><td>24369</td></tr>\n",
       "\t<tr><th scope=row>SRR3586026-X</th><td>18380</td><td>12815</td><td>16967</td><td>12815</td><td>17580</td><td> 8497</td><td>15924</td><td>17122</td></tr>\n",
       "\t<tr><th scope=row>SRR3586027-X</th><td>18488</td><td>12517</td><td>16934</td><td>12517</td><td>17159</td><td> 6751</td><td>14702</td><td>15986</td></tr>\n",
       "\t<tr><th scope=row>SRR3586028-X</th><td>27189</td><td>18479</td><td>24828</td><td>18479</td><td>25387</td><td>10143</td><td>21374</td><td>23442</td></tr>\n",
       "\t<tr><th scope=row>SRR3586029-X</th><td>26161</td><td>17714</td><td>24107</td><td>17714</td><td>24579</td><td>10257</td><td>21116</td><td>23006</td></tr>\n",
       "\t<tr><th scope=row>SRR3586030-X</th><td>19916</td><td>13224</td><td>18422</td><td>13224</td><td>18818</td><td> 7159</td><td>16067</td><td>17536</td></tr>\n",
       "\t<tr><th scope=row>SRR3586031-X</th><td>24401</td><td>16058</td><td>22799</td><td>16058</td><td>23187</td><td> 8807</td><td>19563</td><td>21646</td></tr>\n",
       "\t<tr><th scope=row>SRR3586032-X</th><td>19228</td><td>12234</td><td>17853</td><td>12234</td><td>18297</td><td> 6511</td><td>15363</td><td>17110</td></tr>\n",
       "\t<tr><th scope=row>SRR3586033-X</th><td>21393</td><td>13946</td><td>20181</td><td>13946</td><td>20569</td><td> 8403</td><td>18076</td><td>19528</td></tr>\n",
       "\t<tr><th scope=row>SRR3586034-X</th><td>26811</td><td>17847</td><td>24678</td><td>17847</td><td>25429</td><td>10292</td><td>21425</td><td>23876</td></tr>\n",
       "\t<tr><th scope=row>SRR3586035-X</th><td>22252</td><td>14892</td><td>20857</td><td>14892</td><td>21210</td><td> 9002</td><td>18598</td><td>20113</td></tr>\n",
       "</tbody>\n",
       "</table>\n"
      ],
      "text/latex": [
       "\\begin{tabular}{r|llllllll}\n",
       "  & sample\\_sums.ps.imparato. & sample\\_sums.imparato\\_glom\\_genus. & sample\\_sums.imparato\\_glom\\_family. & sample\\_sums.imparato\\_glom\\_genus..1 & sample\\_sums.imparato\\_glom\\_order. & sample\\_sums.imparato\\_pruned.genus. & sample\\_sums.imparato\\_pruned.fam. & sample\\_sums.imparato\\_pruned.ord.\\\\\n",
       "\\hline\n",
       "\tSRR3586000-X & 11969 &  7542 & 10915 &  7542 & 11255 &  4040 &  9674 & 10595\\\\\n",
       "\tSRR3586001-X & 14583 &  9737 & 13510 &  9737 & 13747 &  5616 & 11976 & 12917\\\\\n",
       "\tSRR3586002-X & 26908 & 18798 & 24899 & 18798 & 25421 & 10500 & 21411 & 23517\\\\\n",
       "\tSRR3586003-X & 14627 &  9779 & 13315 &  9779 & 13622 &  5061 & 11531 & 12674\\\\\n",
       "\tSRR3586004-X & 32112 & 22266 & 29820 & 22266 & 30481 & 12350 & 25728 & 28372\\\\\n",
       "\tSRR3586005-X & 34159 & 23245 & 31839 & 23245 & 32465 & 12624 & 27171 & 30118\\\\\n",
       "\tSRR3586006-X & 20258 & 12846 & 18806 & 12846 & 19252 &  7529 & 16614 & 18092\\\\\n",
       "\tSRR3586007-X & 40798 & 28999 & 38582 & 28999 & 39329 & 16427 & 33053 & 36521\\\\\n",
       "\tSRR3586008-X & 17944 & 12036 & 16503 & 12036 & 16863 &  7012 & 14503 & 15845\\\\\n",
       "\tSRR3586009-X & 44376 & 31044 & 40217 & 31044 & 41231 & 17581 & 34037 & 38085\\\\\n",
       "\tSRR3586010-X & 31988 & 22033 & 28668 & 22033 & 29401 & 12674 & 24526 & 27189\\\\\n",
       "\tSRR3586011-X & 37958 & 26402 & 34958 & 26402 & 35796 & 15422 & 30136 & 33185\\\\\n",
       "\tSRR3586012-X & 32829 & 21138 & 29822 & 21138 & 30782 & 10990 & 25462 & 28450\\\\\n",
       "\tSRR3586013-X & 34561 & 22645 & 32177 & 22645 & 32951 & 12923 & 27987 & 31001\\\\\n",
       "\tSRR3586014-X & 43255 & 29762 & 40730 & 29762 & 41629 & 17438 & 35675 & 39287\\\\\n",
       "\tSRR3586015-X & 23088 & 15233 & 21038 & 15233 & 21642 &  8262 & 17669 & 19966\\\\\n",
       "\tSRR3586016-X & 16427 & 11420 & 15390 & 11420 & 15769 &  7451 & 14309 & 15298\\\\\n",
       "\tSRR3586017-X & 10288 &  7613 &  9602 &  7613 &  9945 &  4806 &  8961 &  9617\\\\\n",
       "\tSRR3586018-X & 35236 & 22910 & 32414 & 22910 & 33357 & 13902 & 29080 & 31650\\\\\n",
       "\tSRR3586019-X & 34851 & 23464 & 32459 & 23464 & 33098 & 14347 & 28925 & 31404\\\\\n",
       "\tSRR3586020-X & 42855 & 28776 & 40004 & 28776 & 40822 & 17515 & 35759 & 38621\\\\\n",
       "\tSRR3586021-X & 18975 & 13055 & 17788 & 13055 & 18126 &  8195 & 15699 & 17174\\\\\n",
       "\tSRR3586022-X & 34120 & 22665 & 32124 & 22665 & 32726 & 14047 & 28570 & 30941\\\\\n",
       "\tSRR3586023-X & 30109 & 20599 & 28330 & 20599 & 28909 & 12857 & 25143 & 27276\\\\\n",
       "\tSRR3586024-X & 20836 & 15052 & 19588 & 15052 & 20123 &  9656 & 17735 & 19214\\\\\n",
       "\tSRR3586025-X & 25746 & 18606 & 24453 & 18606 & 25051 & 12498 & 22970 & 24369\\\\\n",
       "\tSRR3586026-X & 18380 & 12815 & 16967 & 12815 & 17580 &  8497 & 15924 & 17122\\\\\n",
       "\tSRR3586027-X & 18488 & 12517 & 16934 & 12517 & 17159 &  6751 & 14702 & 15986\\\\\n",
       "\tSRR3586028-X & 27189 & 18479 & 24828 & 18479 & 25387 & 10143 & 21374 & 23442\\\\\n",
       "\tSRR3586029-X & 26161 & 17714 & 24107 & 17714 & 24579 & 10257 & 21116 & 23006\\\\\n",
       "\tSRR3586030-X & 19916 & 13224 & 18422 & 13224 & 18818 &  7159 & 16067 & 17536\\\\\n",
       "\tSRR3586031-X & 24401 & 16058 & 22799 & 16058 & 23187 &  8807 & 19563 & 21646\\\\\n",
       "\tSRR3586032-X & 19228 & 12234 & 17853 & 12234 & 18297 &  6511 & 15363 & 17110\\\\\n",
       "\tSRR3586033-X & 21393 & 13946 & 20181 & 13946 & 20569 &  8403 & 18076 & 19528\\\\\n",
       "\tSRR3586034-X & 26811 & 17847 & 24678 & 17847 & 25429 & 10292 & 21425 & 23876\\\\\n",
       "\tSRR3586035-X & 22252 & 14892 & 20857 & 14892 & 21210 &  9002 & 18598 & 20113\\\\\n",
       "\\end{tabular}\n"
      ],
      "text/markdown": [
       "\n",
       "| <!--/--> | sample_sums.ps.imparato. | sample_sums.imparato_glom_genus. | sample_sums.imparato_glom_family. | sample_sums.imparato_glom_genus..1 | sample_sums.imparato_glom_order. | sample_sums.imparato_pruned.genus. | sample_sums.imparato_pruned.fam. | sample_sums.imparato_pruned.ord. | \n",
       "|---|---|---|---|---|---|---|---|---|---|---|---|---|---|---|---|---|---|---|---|---|---|---|---|---|---|---|---|---|---|---|---|---|---|---|---|\n",
       "| SRR3586000-X | 11969 |  7542 | 10915 |  7542 | 11255 |  4040 |  9674 | 10595 | \n",
       "| SRR3586001-X | 14583 |  9737 | 13510 |  9737 | 13747 |  5616 | 11976 | 12917 | \n",
       "| SRR3586002-X | 26908 | 18798 | 24899 | 18798 | 25421 | 10500 | 21411 | 23517 | \n",
       "| SRR3586003-X | 14627 |  9779 | 13315 |  9779 | 13622 |  5061 | 11531 | 12674 | \n",
       "| SRR3586004-X | 32112 | 22266 | 29820 | 22266 | 30481 | 12350 | 25728 | 28372 | \n",
       "| SRR3586005-X | 34159 | 23245 | 31839 | 23245 | 32465 | 12624 | 27171 | 30118 | \n",
       "| SRR3586006-X | 20258 | 12846 | 18806 | 12846 | 19252 |  7529 | 16614 | 18092 | \n",
       "| SRR3586007-X | 40798 | 28999 | 38582 | 28999 | 39329 | 16427 | 33053 | 36521 | \n",
       "| SRR3586008-X | 17944 | 12036 | 16503 | 12036 | 16863 |  7012 | 14503 | 15845 | \n",
       "| SRR3586009-X | 44376 | 31044 | 40217 | 31044 | 41231 | 17581 | 34037 | 38085 | \n",
       "| SRR3586010-X | 31988 | 22033 | 28668 | 22033 | 29401 | 12674 | 24526 | 27189 | \n",
       "| SRR3586011-X | 37958 | 26402 | 34958 | 26402 | 35796 | 15422 | 30136 | 33185 | \n",
       "| SRR3586012-X | 32829 | 21138 | 29822 | 21138 | 30782 | 10990 | 25462 | 28450 | \n",
       "| SRR3586013-X | 34561 | 22645 | 32177 | 22645 | 32951 | 12923 | 27987 | 31001 | \n",
       "| SRR3586014-X | 43255 | 29762 | 40730 | 29762 | 41629 | 17438 | 35675 | 39287 | \n",
       "| SRR3586015-X | 23088 | 15233 | 21038 | 15233 | 21642 |  8262 | 17669 | 19966 | \n",
       "| SRR3586016-X | 16427 | 11420 | 15390 | 11420 | 15769 |  7451 | 14309 | 15298 | \n",
       "| SRR3586017-X | 10288 |  7613 |  9602 |  7613 |  9945 |  4806 |  8961 |  9617 | \n",
       "| SRR3586018-X | 35236 | 22910 | 32414 | 22910 | 33357 | 13902 | 29080 | 31650 | \n",
       "| SRR3586019-X | 34851 | 23464 | 32459 | 23464 | 33098 | 14347 | 28925 | 31404 | \n",
       "| SRR3586020-X | 42855 | 28776 | 40004 | 28776 | 40822 | 17515 | 35759 | 38621 | \n",
       "| SRR3586021-X | 18975 | 13055 | 17788 | 13055 | 18126 |  8195 | 15699 | 17174 | \n",
       "| SRR3586022-X | 34120 | 22665 | 32124 | 22665 | 32726 | 14047 | 28570 | 30941 | \n",
       "| SRR3586023-X | 30109 | 20599 | 28330 | 20599 | 28909 | 12857 | 25143 | 27276 | \n",
       "| SRR3586024-X | 20836 | 15052 | 19588 | 15052 | 20123 |  9656 | 17735 | 19214 | \n",
       "| SRR3586025-X | 25746 | 18606 | 24453 | 18606 | 25051 | 12498 | 22970 | 24369 | \n",
       "| SRR3586026-X | 18380 | 12815 | 16967 | 12815 | 17580 |  8497 | 15924 | 17122 | \n",
       "| SRR3586027-X | 18488 | 12517 | 16934 | 12517 | 17159 |  6751 | 14702 | 15986 | \n",
       "| SRR3586028-X | 27189 | 18479 | 24828 | 18479 | 25387 | 10143 | 21374 | 23442 | \n",
       "| SRR3586029-X | 26161 | 17714 | 24107 | 17714 | 24579 | 10257 | 21116 | 23006 | \n",
       "| SRR3586030-X | 19916 | 13224 | 18422 | 13224 | 18818 |  7159 | 16067 | 17536 | \n",
       "| SRR3586031-X | 24401 | 16058 | 22799 | 16058 | 23187 |  8807 | 19563 | 21646 | \n",
       "| SRR3586032-X | 19228 | 12234 | 17853 | 12234 | 18297 |  6511 | 15363 | 17110 | \n",
       "| SRR3586033-X | 21393 | 13946 | 20181 | 13946 | 20569 |  8403 | 18076 | 19528 | \n",
       "| SRR3586034-X | 26811 | 17847 | 24678 | 17847 | 25429 | 10292 | 21425 | 23876 | \n",
       "| SRR3586035-X | 22252 | 14892 | 20857 | 14892 | 21210 |  9002 | 18598 | 20113 | \n",
       "\n",
       "\n"
      ],
      "text/plain": [
       "             sample_sums.ps.imparato. sample_sums.imparato_glom_genus.\n",
       "SRR3586000-X 11969                     7542                           \n",
       "SRR3586001-X 14583                     9737                           \n",
       "SRR3586002-X 26908                    18798                           \n",
       "SRR3586003-X 14627                     9779                           \n",
       "SRR3586004-X 32112                    22266                           \n",
       "SRR3586005-X 34159                    23245                           \n",
       "SRR3586006-X 20258                    12846                           \n",
       "SRR3586007-X 40798                    28999                           \n",
       "SRR3586008-X 17944                    12036                           \n",
       "SRR3586009-X 44376                    31044                           \n",
       "SRR3586010-X 31988                    22033                           \n",
       "SRR3586011-X 37958                    26402                           \n",
       "SRR3586012-X 32829                    21138                           \n",
       "SRR3586013-X 34561                    22645                           \n",
       "SRR3586014-X 43255                    29762                           \n",
       "SRR3586015-X 23088                    15233                           \n",
       "SRR3586016-X 16427                    11420                           \n",
       "SRR3586017-X 10288                     7613                           \n",
       "SRR3586018-X 35236                    22910                           \n",
       "SRR3586019-X 34851                    23464                           \n",
       "SRR3586020-X 42855                    28776                           \n",
       "SRR3586021-X 18975                    13055                           \n",
       "SRR3586022-X 34120                    22665                           \n",
       "SRR3586023-X 30109                    20599                           \n",
       "SRR3586024-X 20836                    15052                           \n",
       "SRR3586025-X 25746                    18606                           \n",
       "SRR3586026-X 18380                    12815                           \n",
       "SRR3586027-X 18488                    12517                           \n",
       "SRR3586028-X 27189                    18479                           \n",
       "SRR3586029-X 26161                    17714                           \n",
       "SRR3586030-X 19916                    13224                           \n",
       "SRR3586031-X 24401                    16058                           \n",
       "SRR3586032-X 19228                    12234                           \n",
       "SRR3586033-X 21393                    13946                           \n",
       "SRR3586034-X 26811                    17847                           \n",
       "SRR3586035-X 22252                    14892                           \n",
       "             sample_sums.imparato_glom_family.\n",
       "SRR3586000-X 10915                            \n",
       "SRR3586001-X 13510                            \n",
       "SRR3586002-X 24899                            \n",
       "SRR3586003-X 13315                            \n",
       "SRR3586004-X 29820                            \n",
       "SRR3586005-X 31839                            \n",
       "SRR3586006-X 18806                            \n",
       "SRR3586007-X 38582                            \n",
       "SRR3586008-X 16503                            \n",
       "SRR3586009-X 40217                            \n",
       "SRR3586010-X 28668                            \n",
       "SRR3586011-X 34958                            \n",
       "SRR3586012-X 29822                            \n",
       "SRR3586013-X 32177                            \n",
       "SRR3586014-X 40730                            \n",
       "SRR3586015-X 21038                            \n",
       "SRR3586016-X 15390                            \n",
       "SRR3586017-X  9602                            \n",
       "SRR3586018-X 32414                            \n",
       "SRR3586019-X 32459                            \n",
       "SRR3586020-X 40004                            \n",
       "SRR3586021-X 17788                            \n",
       "SRR3586022-X 32124                            \n",
       "SRR3586023-X 28330                            \n",
       "SRR3586024-X 19588                            \n",
       "SRR3586025-X 24453                            \n",
       "SRR3586026-X 16967                            \n",
       "SRR3586027-X 16934                            \n",
       "SRR3586028-X 24828                            \n",
       "SRR3586029-X 24107                            \n",
       "SRR3586030-X 18422                            \n",
       "SRR3586031-X 22799                            \n",
       "SRR3586032-X 17853                            \n",
       "SRR3586033-X 20181                            \n",
       "SRR3586034-X 24678                            \n",
       "SRR3586035-X 20857                            \n",
       "             sample_sums.imparato_glom_genus..1\n",
       "SRR3586000-X  7542                             \n",
       "SRR3586001-X  9737                             \n",
       "SRR3586002-X 18798                             \n",
       "SRR3586003-X  9779                             \n",
       "SRR3586004-X 22266                             \n",
       "SRR3586005-X 23245                             \n",
       "SRR3586006-X 12846                             \n",
       "SRR3586007-X 28999                             \n",
       "SRR3586008-X 12036                             \n",
       "SRR3586009-X 31044                             \n",
       "SRR3586010-X 22033                             \n",
       "SRR3586011-X 26402                             \n",
       "SRR3586012-X 21138                             \n",
       "SRR3586013-X 22645                             \n",
       "SRR3586014-X 29762                             \n",
       "SRR3586015-X 15233                             \n",
       "SRR3586016-X 11420                             \n",
       "SRR3586017-X  7613                             \n",
       "SRR3586018-X 22910                             \n",
       "SRR3586019-X 23464                             \n",
       "SRR3586020-X 28776                             \n",
       "SRR3586021-X 13055                             \n",
       "SRR3586022-X 22665                             \n",
       "SRR3586023-X 20599                             \n",
       "SRR3586024-X 15052                             \n",
       "SRR3586025-X 18606                             \n",
       "SRR3586026-X 12815                             \n",
       "SRR3586027-X 12517                             \n",
       "SRR3586028-X 18479                             \n",
       "SRR3586029-X 17714                             \n",
       "SRR3586030-X 13224                             \n",
       "SRR3586031-X 16058                             \n",
       "SRR3586032-X 12234                             \n",
       "SRR3586033-X 13946                             \n",
       "SRR3586034-X 17847                             \n",
       "SRR3586035-X 14892                             \n",
       "             sample_sums.imparato_glom_order.\n",
       "SRR3586000-X 11255                           \n",
       "SRR3586001-X 13747                           \n",
       "SRR3586002-X 25421                           \n",
       "SRR3586003-X 13622                           \n",
       "SRR3586004-X 30481                           \n",
       "SRR3586005-X 32465                           \n",
       "SRR3586006-X 19252                           \n",
       "SRR3586007-X 39329                           \n",
       "SRR3586008-X 16863                           \n",
       "SRR3586009-X 41231                           \n",
       "SRR3586010-X 29401                           \n",
       "SRR3586011-X 35796                           \n",
       "SRR3586012-X 30782                           \n",
       "SRR3586013-X 32951                           \n",
       "SRR3586014-X 41629                           \n",
       "SRR3586015-X 21642                           \n",
       "SRR3586016-X 15769                           \n",
       "SRR3586017-X  9945                           \n",
       "SRR3586018-X 33357                           \n",
       "SRR3586019-X 33098                           \n",
       "SRR3586020-X 40822                           \n",
       "SRR3586021-X 18126                           \n",
       "SRR3586022-X 32726                           \n",
       "SRR3586023-X 28909                           \n",
       "SRR3586024-X 20123                           \n",
       "SRR3586025-X 25051                           \n",
       "SRR3586026-X 17580                           \n",
       "SRR3586027-X 17159                           \n",
       "SRR3586028-X 25387                           \n",
       "SRR3586029-X 24579                           \n",
       "SRR3586030-X 18818                           \n",
       "SRR3586031-X 23187                           \n",
       "SRR3586032-X 18297                           \n",
       "SRR3586033-X 20569                           \n",
       "SRR3586034-X 25429                           \n",
       "SRR3586035-X 21210                           \n",
       "             sample_sums.imparato_pruned.genus.\n",
       "SRR3586000-X  4040                             \n",
       "SRR3586001-X  5616                             \n",
       "SRR3586002-X 10500                             \n",
       "SRR3586003-X  5061                             \n",
       "SRR3586004-X 12350                             \n",
       "SRR3586005-X 12624                             \n",
       "SRR3586006-X  7529                             \n",
       "SRR3586007-X 16427                             \n",
       "SRR3586008-X  7012                             \n",
       "SRR3586009-X 17581                             \n",
       "SRR3586010-X 12674                             \n",
       "SRR3586011-X 15422                             \n",
       "SRR3586012-X 10990                             \n",
       "SRR3586013-X 12923                             \n",
       "SRR3586014-X 17438                             \n",
       "SRR3586015-X  8262                             \n",
       "SRR3586016-X  7451                             \n",
       "SRR3586017-X  4806                             \n",
       "SRR3586018-X 13902                             \n",
       "SRR3586019-X 14347                             \n",
       "SRR3586020-X 17515                             \n",
       "SRR3586021-X  8195                             \n",
       "SRR3586022-X 14047                             \n",
       "SRR3586023-X 12857                             \n",
       "SRR3586024-X  9656                             \n",
       "SRR3586025-X 12498                             \n",
       "SRR3586026-X  8497                             \n",
       "SRR3586027-X  6751                             \n",
       "SRR3586028-X 10143                             \n",
       "SRR3586029-X 10257                             \n",
       "SRR3586030-X  7159                             \n",
       "SRR3586031-X  8807                             \n",
       "SRR3586032-X  6511                             \n",
       "SRR3586033-X  8403                             \n",
       "SRR3586034-X 10292                             \n",
       "SRR3586035-X  9002                             \n",
       "             sample_sums.imparato_pruned.fam. sample_sums.imparato_pruned.ord.\n",
       "SRR3586000-X  9674                            10595                           \n",
       "SRR3586001-X 11976                            12917                           \n",
       "SRR3586002-X 21411                            23517                           \n",
       "SRR3586003-X 11531                            12674                           \n",
       "SRR3586004-X 25728                            28372                           \n",
       "SRR3586005-X 27171                            30118                           \n",
       "SRR3586006-X 16614                            18092                           \n",
       "SRR3586007-X 33053                            36521                           \n",
       "SRR3586008-X 14503                            15845                           \n",
       "SRR3586009-X 34037                            38085                           \n",
       "SRR3586010-X 24526                            27189                           \n",
       "SRR3586011-X 30136                            33185                           \n",
       "SRR3586012-X 25462                            28450                           \n",
       "SRR3586013-X 27987                            31001                           \n",
       "SRR3586014-X 35675                            39287                           \n",
       "SRR3586015-X 17669                            19966                           \n",
       "SRR3586016-X 14309                            15298                           \n",
       "SRR3586017-X  8961                             9617                           \n",
       "SRR3586018-X 29080                            31650                           \n",
       "SRR3586019-X 28925                            31404                           \n",
       "SRR3586020-X 35759                            38621                           \n",
       "SRR3586021-X 15699                            17174                           \n",
       "SRR3586022-X 28570                            30941                           \n",
       "SRR3586023-X 25143                            27276                           \n",
       "SRR3586024-X 17735                            19214                           \n",
       "SRR3586025-X 22970                            24369                           \n",
       "SRR3586026-X 15924                            17122                           \n",
       "SRR3586027-X 14702                            15986                           \n",
       "SRR3586028-X 21374                            23442                           \n",
       "SRR3586029-X 21116                            23006                           \n",
       "SRR3586030-X 16067                            17536                           \n",
       "SRR3586031-X 19563                            21646                           \n",
       "SRR3586032-X 15363                            17110                           \n",
       "SRR3586033-X 18076                            19528                           \n",
       "SRR3586034-X 21425                            23876                           \n",
       "SRR3586035-X 18598                            20113                           "
      ]
     },
     "metadata": {},
     "output_type": "display_data"
    }
   ],
   "source": [
    "data.frame(sample_sums(ps.imparato),sample_sums(imparato_glom_genus),sample_sums(imparato_glom_family),sample_sums(imparato_glom_genus),sample_sums(imparato_glom_order),sample_sums(imparato_pruned.genus),sample_sums(imparato_pruned.fam), sample_sums(imparato_pruned.ord))"
   ]
  },
  {
   "cell_type": "markdown",
   "metadata": {},
   "source": [
    "### Dai 2016"
   ]
  },
  {
   "cell_type": "code",
   "execution_count": 29,
   "metadata": {},
   "outputs": [],
   "source": [
    "dai2016_glom_genus = tax_glom(ps.dai2016, \"Genus\")\n",
    "dai2016_glom_family = tax_glom(ps.dai2016, \"Family\")\n",
    "dai2016_glom_order = tax_glom(ps.dai2016, \"Order\")"
   ]
  },
  {
   "cell_type": "code",
   "execution_count": 30,
   "metadata": {
    "collapsed": true
   },
   "outputs": [
    {
     "data": {
      "text/html": [
       "<ol class=list-inline>\n",
       "\t<li>3699</li>\n",
       "\t<li>7</li>\n",
       "</ol>\n"
      ],
      "text/latex": [
       "\\begin{enumerate*}\n",
       "\\item 3699\n",
       "\\item 7\n",
       "\\end{enumerate*}\n"
      ],
      "text/markdown": [
       "1. 3699\n",
       "2. 7\n",
       "\n",
       "\n"
      ],
      "text/plain": [
       "[1] 3699    7"
      ]
     },
     "metadata": {},
     "output_type": "display_data"
    },
    {
     "data": {
      "text/html": [
       "<ol class=list-inline>\n",
       "\t<li>590</li>\n",
       "\t<li>7</li>\n",
       "</ol>\n"
      ],
      "text/latex": [
       "\\begin{enumerate*}\n",
       "\\item 590\n",
       "\\item 7\n",
       "\\end{enumerate*}\n"
      ],
      "text/markdown": [
       "1. 590\n",
       "2. 7\n",
       "\n",
       "\n"
      ],
      "text/plain": [
       "[1] 590   7"
      ]
     },
     "metadata": {},
     "output_type": "display_data"
    },
    {
     "data": {
      "text/html": [
       "<ol class=list-inline>\n",
       "\t<li>378</li>\n",
       "\t<li>7</li>\n",
       "</ol>\n"
      ],
      "text/latex": [
       "\\begin{enumerate*}\n",
       "\\item 378\n",
       "\\item 7\n",
       "\\end{enumerate*}\n"
      ],
      "text/markdown": [
       "1. 378\n",
       "2. 7\n",
       "\n",
       "\n"
      ],
      "text/plain": [
       "[1] 378   7"
      ]
     },
     "metadata": {},
     "output_type": "display_data"
    },
    {
     "data": {
      "text/html": [
       "<ol class=list-inline>\n",
       "\t<li>238</li>\n",
       "\t<li>7</li>\n",
       "</ol>\n"
      ],
      "text/latex": [
       "\\begin{enumerate*}\n",
       "\\item 238\n",
       "\\item 7\n",
       "\\end{enumerate*}\n"
      ],
      "text/markdown": [
       "1. 238\n",
       "2. 7\n",
       "\n",
       "\n"
      ],
      "text/plain": [
       "[1] 238   7"
      ]
     },
     "metadata": {},
     "output_type": "display_data"
    }
   ],
   "source": [
    "dim(tax_table(ps.dai2016))\n",
    "dim(tax_table(dai2016_glom_genus))\n",
    "dim(tax_table(dai2016_glom_family))\n",
    "dim(tax_table(dai2016_glom_order))"
   ]
  },
  {
   "cell_type": "code",
   "execution_count": 31,
   "metadata": {
    "collapsed": true
   },
   "outputs": [
    {
     "data": {
      "text/html": [
       "278"
      ],
      "text/latex": [
       "278"
      ],
      "text/markdown": [
       "278"
      ],
      "text/plain": [
       "[1] 278"
      ]
     },
     "metadata": {},
     "output_type": "display_data"
    },
    {
     "data": {
      "text/plain": [
       "phyloseq-class experiment-level object\n",
       "otu_table()   OTU Table:         [ 312 taxa and 18 samples ]\n",
       "sample_data() Sample Data:       [ 18 samples by 33 sample variables ]\n",
       "tax_table()   Taxonomy Table:    [ 312 taxa by 7 taxonomic ranks ]"
      ]
     },
     "metadata": {},
     "output_type": "display_data"
    },
    {
     "data": {
      "text/html": [
       "312"
      ],
      "text/latex": [
       "312"
      ],
      "text/markdown": [
       "312"
      ],
      "text/plain": [
       "[1] 312"
      ]
     },
     "metadata": {},
     "output_type": "display_data"
    }
   ],
   "source": [
    "names = data.frame(tax_table(dai2016_glom_genus))\n",
    "unwanted.rows = grep(\"uncultured*\",names$Genus)\n",
    "unwanted.rows = c(unwanted.rows,grep(\"metagenome*\",names$Genus))\n",
    "unwanted.rows = c(unwanted.rows,grep(\"Ambiguous_taxa*\",names$Genus))\n",
    "unwanted.rows = c(unwanted.rows,grep(\"Triticum*\",names$Genus))\n",
    "length(unwanted.rows)\n",
    "wanted.rows = !(rep(1:dim(names)[1]) %in% unwanted.rows)\n",
    "dai2016_pruned.genus = prune_taxa(taxa_names(dai2016_glom_genus)[wanted.rows = !(rep(1:dim(names)[1]) %in% unwanted.rows)], dai2016_glom_genus) \n",
    "dai2016_pruned.genus\n",
    "length(unique(data.frame(tax_table(dai2016_pruned.genus))$Genus))"
   ]
  },
  {
   "cell_type": "code",
   "execution_count": 32,
   "metadata": {
    "collapsed": true
   },
   "outputs": [
    {
     "data": {
      "text/html": [
       "156"
      ],
      "text/latex": [
       "156"
      ],
      "text/markdown": [
       "156"
      ],
      "text/plain": [
       "[1] 156"
      ]
     },
     "metadata": {},
     "output_type": "display_data"
    },
    {
     "data": {
      "text/plain": [
       "phyloseq-class experiment-level object\n",
       "otu_table()   OTU Table:         [ 222 taxa and 18 samples ]\n",
       "sample_data() Sample Data:       [ 18 samples by 33 sample variables ]\n",
       "tax_table()   Taxonomy Table:    [ 222 taxa by 7 taxonomic ranks ]"
      ]
     },
     "metadata": {},
     "output_type": "display_data"
    },
    {
     "data": {
      "text/html": [
       "222"
      ],
      "text/latex": [
       "222"
      ],
      "text/markdown": [
       "222"
      ],
      "text/plain": [
       "[1] 222"
      ]
     },
     "metadata": {},
     "output_type": "display_data"
    }
   ],
   "source": [
    "names = data.frame(tax_table(dai2016_glom_family))\n",
    "unwanted.rows = grep(\"uncultured*\",names$Family)\n",
    "unwanted.rows = c(unwanted.rows,grep(\"metagenome*\",names$Family))\n",
    "unwanted.rows = c(unwanted.rows,grep(\"Ambiguous_taxa*\",names$Family))\n",
    "unwanted.rows = c(unwanted.rows,grep(\"Unknown Family*\",names$Family))\n",
    "length(unwanted.rows)\n",
    "wanted.rows = !(rep(1:dim(names)[1]) %in% unwanted.rows)\n",
    "dai2016_pruned.fam = prune_taxa(taxa_names(dai2016_glom_family)[wanted.rows = !(rep(1:dim(names)[1]) %in% unwanted.rows)], dai2016_glom_family) \n",
    "dai2016_pruned.fam\n",
    "length(unique(data.frame(tax_table(dai2016_pruned.fam))$Family))"
   ]
  },
  {
   "cell_type": "code",
   "execution_count": 33,
   "metadata": {
    "collapsed": true
   },
   "outputs": [
    {
     "data": {
      "text/html": [
       "70"
      ],
      "text/latex": [
       "70"
      ],
      "text/markdown": [
       "70"
      ],
      "text/plain": [
       "[1] 70"
      ]
     },
     "metadata": {},
     "output_type": "display_data"
    },
    {
     "data": {
      "text/plain": [
       "phyloseq-class experiment-level object\n",
       "otu_table()   OTU Table:         [ 168 taxa and 18 samples ]\n",
       "sample_data() Sample Data:       [ 18 samples by 33 sample variables ]\n",
       "tax_table()   Taxonomy Table:    [ 168 taxa by 7 taxonomic ranks ]"
      ]
     },
     "metadata": {},
     "output_type": "display_data"
    },
    {
     "data": {
      "text/html": [
       "168"
      ],
      "text/latex": [
       "168"
      ],
      "text/markdown": [
       "168"
      ],
      "text/plain": [
       "[1] 168"
      ]
     },
     "metadata": {},
     "output_type": "display_data"
    }
   ],
   "source": [
    "names = data.frame(tax_table(dai2016_glom_order))\n",
    "unwanted.rows = grep(\"uncultured*\",names$Order)\n",
    "unwanted.rows = c(unwanted.rows,grep(\"metagenome*\",names$Order))\n",
    "unwanted.rows = c(unwanted.rows,grep(\"Ambiguous_taxa*\",names$Order))\n",
    "unwanted.rows = c(unwanted.rows,grep(\"Unknown Order*\",names$Order))\n",
    "length(unwanted.rows)\n",
    "wanted.rows = !(rep(1:dim(names)[1]) %in% unwanted.rows)\n",
    "dai2016_pruned.ord = prune_taxa(taxa_names(dai2016_glom_order)[wanted.rows = !(rep(1:dim(names)[1]) %in% unwanted.rows)], dai2016_glom_order) \n",
    "dai2016_pruned.ord\n",
    "length(unique(data.frame(tax_table(dai2016_pruned.ord))$Order))"
   ]
  },
  {
   "cell_type": "code",
   "execution_count": 34,
   "metadata": {
    "collapsed": true
   },
   "outputs": [
    {
     "data": {
      "text/html": [
       "<table>\n",
       "<thead><tr><th></th><th scope=col>sample_sums.ps.dai2016.</th><th scope=col>sample_sums.dai2016_glom_genus.</th><th scope=col>sample_sums.dai2016_glom_family.</th><th scope=col>sample_sums.dai2016_glom_genus..1</th><th scope=col>sample_sums.dai2016_glom_order.</th><th scope=col>sample_sums.dai2016_pruned.genus.</th><th scope=col>sample_sums.dai2016_pruned.fam.</th><th scope=col>sample_sums.dai2016_pruned.ord.</th></tr></thead>\n",
       "<tbody>\n",
       "\t<tr><th scope=row>SRR3466117-X</th><td>1922</td><td> 903</td><td>1737</td><td> 903</td><td>1841</td><td> 664</td><td>1614</td><td>1784</td></tr>\n",
       "\t<tr><th scope=row>SRR3466120-X</th><td>1751</td><td>1065</td><td>1578</td><td>1065</td><td>1662</td><td> 785</td><td>1375</td><td>1605</td></tr>\n",
       "\t<tr><th scope=row>SRR3466121-X</th><td>1881</td><td>1232</td><td>1711</td><td>1232</td><td>1814</td><td> 880</td><td>1479</td><td>1744</td></tr>\n",
       "\t<tr><th scope=row>SRR3466122-X</th><td>1609</td><td>1170</td><td>1381</td><td>1170</td><td>1552</td><td> 841</td><td>1233</td><td>1494</td></tr>\n",
       "\t<tr><th scope=row>SRR3466123-X</th><td>2048</td><td>1440</td><td>1706</td><td>1440</td><td>1978</td><td>1080</td><td>1526</td><td>1914</td></tr>\n",
       "\t<tr><th scope=row>SRR3466124-X</th><td>1465</td><td> 999</td><td>1225</td><td> 999</td><td>1412</td><td> 776</td><td>1148</td><td>1386</td></tr>\n",
       "\t<tr><th scope=row>SRR3466125-X</th><td>2680</td><td>1966</td><td>2424</td><td>1966</td><td>2594</td><td>1465</td><td>2148</td><td>2482</td></tr>\n",
       "\t<tr><th scope=row>SRR3466126-X</th><td>1721</td><td>1239</td><td>1561</td><td>1239</td><td>1674</td><td> 951</td><td>1402</td><td>1621</td></tr>\n",
       "\t<tr><th scope=row>SRR3466127-X</th><td>1553</td><td>1164</td><td>1408</td><td>1164</td><td>1503</td><td> 829</td><td>1253</td><td>1437</td></tr>\n",
       "\t<tr><th scope=row>SRR3466128-X</th><td>1594</td><td>1069</td><td>1394</td><td>1069</td><td>1516</td><td> 764</td><td>1224</td><td>1445</td></tr>\n",
       "\t<tr><th scope=row>SRR3466129-X</th><td>1828</td><td>1191</td><td>1560</td><td>1191</td><td>1732</td><td> 856</td><td>1364</td><td>1660</td></tr>\n",
       "\t<tr><th scope=row>SRR3466130-X</th><td>1658</td><td>1071</td><td>1443</td><td>1071</td><td>1575</td><td> 772</td><td>1274</td><td>1520</td></tr>\n",
       "\t<tr><th scope=row>SRR3466131-X</th><td>2144</td><td>1379</td><td>1631</td><td>1379</td><td>2076</td><td>1073</td><td>1467</td><td>2011</td></tr>\n",
       "\t<tr><th scope=row>SRR3466134-X</th><td>1650</td><td>1250</td><td>1465</td><td>1250</td><td>1596</td><td> 981</td><td>1324</td><td>1547</td></tr>\n",
       "\t<tr><th scope=row>SRR3466136-X</th><td>1767</td><td>1193</td><td>1403</td><td>1193</td><td>1704</td><td> 905</td><td>1221</td><td>1638</td></tr>\n",
       "\t<tr><th scope=row>SRR3466137-X</th><td>1918</td><td>1371</td><td>1644</td><td>1371</td><td>1851</td><td>1063</td><td>1483</td><td>1785</td></tr>\n",
       "\t<tr><th scope=row>SRR3466138-X</th><td>1791</td><td>1307</td><td>1536</td><td>1307</td><td>1741</td><td>1036</td><td>1366</td><td>1679</td></tr>\n",
       "\t<tr><th scope=row>SRR3466140-X</th><td>2242</td><td>1652</td><td>1974</td><td>1652</td><td>2169</td><td>1306</td><td>1787</td><td>2105</td></tr>\n",
       "</tbody>\n",
       "</table>\n"
      ],
      "text/latex": [
       "\\begin{tabular}{r|llllllll}\n",
       "  & sample\\_sums.ps.dai2016. & sample\\_sums.dai2016\\_glom\\_genus. & sample\\_sums.dai2016\\_glom\\_family. & sample\\_sums.dai2016\\_glom\\_genus..1 & sample\\_sums.dai2016\\_glom\\_order. & sample\\_sums.dai2016\\_pruned.genus. & sample\\_sums.dai2016\\_pruned.fam. & sample\\_sums.dai2016\\_pruned.ord.\\\\\n",
       "\\hline\n",
       "\tSRR3466117-X & 1922 &  903 & 1737 &  903 & 1841 &  664 & 1614 & 1784\\\\\n",
       "\tSRR3466120-X & 1751 & 1065 & 1578 & 1065 & 1662 &  785 & 1375 & 1605\\\\\n",
       "\tSRR3466121-X & 1881 & 1232 & 1711 & 1232 & 1814 &  880 & 1479 & 1744\\\\\n",
       "\tSRR3466122-X & 1609 & 1170 & 1381 & 1170 & 1552 &  841 & 1233 & 1494\\\\\n",
       "\tSRR3466123-X & 2048 & 1440 & 1706 & 1440 & 1978 & 1080 & 1526 & 1914\\\\\n",
       "\tSRR3466124-X & 1465 &  999 & 1225 &  999 & 1412 &  776 & 1148 & 1386\\\\\n",
       "\tSRR3466125-X & 2680 & 1966 & 2424 & 1966 & 2594 & 1465 & 2148 & 2482\\\\\n",
       "\tSRR3466126-X & 1721 & 1239 & 1561 & 1239 & 1674 &  951 & 1402 & 1621\\\\\n",
       "\tSRR3466127-X & 1553 & 1164 & 1408 & 1164 & 1503 &  829 & 1253 & 1437\\\\\n",
       "\tSRR3466128-X & 1594 & 1069 & 1394 & 1069 & 1516 &  764 & 1224 & 1445\\\\\n",
       "\tSRR3466129-X & 1828 & 1191 & 1560 & 1191 & 1732 &  856 & 1364 & 1660\\\\\n",
       "\tSRR3466130-X & 1658 & 1071 & 1443 & 1071 & 1575 &  772 & 1274 & 1520\\\\\n",
       "\tSRR3466131-X & 2144 & 1379 & 1631 & 1379 & 2076 & 1073 & 1467 & 2011\\\\\n",
       "\tSRR3466134-X & 1650 & 1250 & 1465 & 1250 & 1596 &  981 & 1324 & 1547\\\\\n",
       "\tSRR3466136-X & 1767 & 1193 & 1403 & 1193 & 1704 &  905 & 1221 & 1638\\\\\n",
       "\tSRR3466137-X & 1918 & 1371 & 1644 & 1371 & 1851 & 1063 & 1483 & 1785\\\\\n",
       "\tSRR3466138-X & 1791 & 1307 & 1536 & 1307 & 1741 & 1036 & 1366 & 1679\\\\\n",
       "\tSRR3466140-X & 2242 & 1652 & 1974 & 1652 & 2169 & 1306 & 1787 & 2105\\\\\n",
       "\\end{tabular}\n"
      ],
      "text/markdown": [
       "\n",
       "| <!--/--> | sample_sums.ps.dai2016. | sample_sums.dai2016_glom_genus. | sample_sums.dai2016_glom_family. | sample_sums.dai2016_glom_genus..1 | sample_sums.dai2016_glom_order. | sample_sums.dai2016_pruned.genus. | sample_sums.dai2016_pruned.fam. | sample_sums.dai2016_pruned.ord. | \n",
       "|---|---|---|---|---|---|---|---|---|---|---|---|---|---|---|---|---|---|\n",
       "| SRR3466117-X | 1922 |  903 | 1737 |  903 | 1841 |  664 | 1614 | 1784 | \n",
       "| SRR3466120-X | 1751 | 1065 | 1578 | 1065 | 1662 |  785 | 1375 | 1605 | \n",
       "| SRR3466121-X | 1881 | 1232 | 1711 | 1232 | 1814 |  880 | 1479 | 1744 | \n",
       "| SRR3466122-X | 1609 | 1170 | 1381 | 1170 | 1552 |  841 | 1233 | 1494 | \n",
       "| SRR3466123-X | 2048 | 1440 | 1706 | 1440 | 1978 | 1080 | 1526 | 1914 | \n",
       "| SRR3466124-X | 1465 |  999 | 1225 |  999 | 1412 |  776 | 1148 | 1386 | \n",
       "| SRR3466125-X | 2680 | 1966 | 2424 | 1966 | 2594 | 1465 | 2148 | 2482 | \n",
       "| SRR3466126-X | 1721 | 1239 | 1561 | 1239 | 1674 |  951 | 1402 | 1621 | \n",
       "| SRR3466127-X | 1553 | 1164 | 1408 | 1164 | 1503 |  829 | 1253 | 1437 | \n",
       "| SRR3466128-X | 1594 | 1069 | 1394 | 1069 | 1516 |  764 | 1224 | 1445 | \n",
       "| SRR3466129-X | 1828 | 1191 | 1560 | 1191 | 1732 |  856 | 1364 | 1660 | \n",
       "| SRR3466130-X | 1658 | 1071 | 1443 | 1071 | 1575 |  772 | 1274 | 1520 | \n",
       "| SRR3466131-X | 2144 | 1379 | 1631 | 1379 | 2076 | 1073 | 1467 | 2011 | \n",
       "| SRR3466134-X | 1650 | 1250 | 1465 | 1250 | 1596 |  981 | 1324 | 1547 | \n",
       "| SRR3466136-X | 1767 | 1193 | 1403 | 1193 | 1704 |  905 | 1221 | 1638 | \n",
       "| SRR3466137-X | 1918 | 1371 | 1644 | 1371 | 1851 | 1063 | 1483 | 1785 | \n",
       "| SRR3466138-X | 1791 | 1307 | 1536 | 1307 | 1741 | 1036 | 1366 | 1679 | \n",
       "| SRR3466140-X | 2242 | 1652 | 1974 | 1652 | 2169 | 1306 | 1787 | 2105 | \n",
       "\n",
       "\n"
      ],
      "text/plain": [
       "             sample_sums.ps.dai2016. sample_sums.dai2016_glom_genus.\n",
       "SRR3466117-X 1922                     903                           \n",
       "SRR3466120-X 1751                    1065                           \n",
       "SRR3466121-X 1881                    1232                           \n",
       "SRR3466122-X 1609                    1170                           \n",
       "SRR3466123-X 2048                    1440                           \n",
       "SRR3466124-X 1465                     999                           \n",
       "SRR3466125-X 2680                    1966                           \n",
       "SRR3466126-X 1721                    1239                           \n",
       "SRR3466127-X 1553                    1164                           \n",
       "SRR3466128-X 1594                    1069                           \n",
       "SRR3466129-X 1828                    1191                           \n",
       "SRR3466130-X 1658                    1071                           \n",
       "SRR3466131-X 2144                    1379                           \n",
       "SRR3466134-X 1650                    1250                           \n",
       "SRR3466136-X 1767                    1193                           \n",
       "SRR3466137-X 1918                    1371                           \n",
       "SRR3466138-X 1791                    1307                           \n",
       "SRR3466140-X 2242                    1652                           \n",
       "             sample_sums.dai2016_glom_family. sample_sums.dai2016_glom_genus..1\n",
       "SRR3466117-X 1737                              903                             \n",
       "SRR3466120-X 1578                             1065                             \n",
       "SRR3466121-X 1711                             1232                             \n",
       "SRR3466122-X 1381                             1170                             \n",
       "SRR3466123-X 1706                             1440                             \n",
       "SRR3466124-X 1225                              999                             \n",
       "SRR3466125-X 2424                             1966                             \n",
       "SRR3466126-X 1561                             1239                             \n",
       "SRR3466127-X 1408                             1164                             \n",
       "SRR3466128-X 1394                             1069                             \n",
       "SRR3466129-X 1560                             1191                             \n",
       "SRR3466130-X 1443                             1071                             \n",
       "SRR3466131-X 1631                             1379                             \n",
       "SRR3466134-X 1465                             1250                             \n",
       "SRR3466136-X 1403                             1193                             \n",
       "SRR3466137-X 1644                             1371                             \n",
       "SRR3466138-X 1536                             1307                             \n",
       "SRR3466140-X 1974                             1652                             \n",
       "             sample_sums.dai2016_glom_order. sample_sums.dai2016_pruned.genus.\n",
       "SRR3466117-X 1841                             664                             \n",
       "SRR3466120-X 1662                             785                             \n",
       "SRR3466121-X 1814                             880                             \n",
       "SRR3466122-X 1552                             841                             \n",
       "SRR3466123-X 1978                            1080                             \n",
       "SRR3466124-X 1412                             776                             \n",
       "SRR3466125-X 2594                            1465                             \n",
       "SRR3466126-X 1674                             951                             \n",
       "SRR3466127-X 1503                             829                             \n",
       "SRR3466128-X 1516                             764                             \n",
       "SRR3466129-X 1732                             856                             \n",
       "SRR3466130-X 1575                             772                             \n",
       "SRR3466131-X 2076                            1073                             \n",
       "SRR3466134-X 1596                             981                             \n",
       "SRR3466136-X 1704                             905                             \n",
       "SRR3466137-X 1851                            1063                             \n",
       "SRR3466138-X 1741                            1036                             \n",
       "SRR3466140-X 2169                            1306                             \n",
       "             sample_sums.dai2016_pruned.fam. sample_sums.dai2016_pruned.ord.\n",
       "SRR3466117-X 1614                            1784                           \n",
       "SRR3466120-X 1375                            1605                           \n",
       "SRR3466121-X 1479                            1744                           \n",
       "SRR3466122-X 1233                            1494                           \n",
       "SRR3466123-X 1526                            1914                           \n",
       "SRR3466124-X 1148                            1386                           \n",
       "SRR3466125-X 2148                            2482                           \n",
       "SRR3466126-X 1402                            1621                           \n",
       "SRR3466127-X 1253                            1437                           \n",
       "SRR3466128-X 1224                            1445                           \n",
       "SRR3466129-X 1364                            1660                           \n",
       "SRR3466130-X 1274                            1520                           \n",
       "SRR3466131-X 1467                            2011                           \n",
       "SRR3466134-X 1324                            1547                           \n",
       "SRR3466136-X 1221                            1638                           \n",
       "SRR3466137-X 1483                            1785                           \n",
       "SRR3466138-X 1366                            1679                           \n",
       "SRR3466140-X 1787                            2105                           "
      ]
     },
     "metadata": {},
     "output_type": "display_data"
    }
   ],
   "source": [
    "data.frame(sample_sums(ps.dai2016),sample_sums(dai2016_glom_genus),sample_sums(dai2016_glom_family),sample_sums(dai2016_glom_genus),sample_sums(dai2016_glom_order),sample_sums(dai2016_pruned.genus),sample_sums(dai2016_pruned.fam), sample_sums(dai2016_pruned.ord))"
   ]
  },
  {
   "cell_type": "markdown",
   "metadata": {},
   "source": [
    "### Dai2017"
   ]
  },
  {
   "cell_type": "code",
   "execution_count": 35,
   "metadata": {},
   "outputs": [],
   "source": [
    "dai2017_glom_genus = tax_glom(ps.dai2017, \"Genus\")\n",
    "dai2017_glom_family = tax_glom(ps.dai2017, \"Family\")\n",
    "dai2017_glom_order = tax_glom(ps.dai2017, \"Order\")"
   ]
  },
  {
   "cell_type": "code",
   "execution_count": 36,
   "metadata": {
    "collapsed": true
   },
   "outputs": [
    {
     "data": {
      "text/html": [
       "<ol class=list-inline>\n",
       "\t<li>2748</li>\n",
       "\t<li>7</li>\n",
       "</ol>\n"
      ],
      "text/latex": [
       "\\begin{enumerate*}\n",
       "\\item 2748\n",
       "\\item 7\n",
       "\\end{enumerate*}\n"
      ],
      "text/markdown": [
       "1. 2748\n",
       "2. 7\n",
       "\n",
       "\n"
      ],
      "text/plain": [
       "[1] 2748    7"
      ]
     },
     "metadata": {},
     "output_type": "display_data"
    },
    {
     "data": {
      "text/html": [
       "<ol class=list-inline>\n",
       "\t<li>387</li>\n",
       "\t<li>7</li>\n",
       "</ol>\n"
      ],
      "text/latex": [
       "\\begin{enumerate*}\n",
       "\\item 387\n",
       "\\item 7\n",
       "\\end{enumerate*}\n"
      ],
      "text/markdown": [
       "1. 387\n",
       "2. 7\n",
       "\n",
       "\n"
      ],
      "text/plain": [
       "[1] 387   7"
      ]
     },
     "metadata": {},
     "output_type": "display_data"
    },
    {
     "data": {
      "text/html": [
       "<ol class=list-inline>\n",
       "\t<li>225</li>\n",
       "\t<li>7</li>\n",
       "</ol>\n"
      ],
      "text/latex": [
       "\\begin{enumerate*}\n",
       "\\item 225\n",
       "\\item 7\n",
       "\\end{enumerate*}\n"
      ],
      "text/markdown": [
       "1. 225\n",
       "2. 7\n",
       "\n",
       "\n"
      ],
      "text/plain": [
       "[1] 225   7"
      ]
     },
     "metadata": {},
     "output_type": "display_data"
    },
    {
     "data": {
      "text/html": [
       "<ol class=list-inline>\n",
       "\t<li>135</li>\n",
       "\t<li>7</li>\n",
       "</ol>\n"
      ],
      "text/latex": [
       "\\begin{enumerate*}\n",
       "\\item 135\n",
       "\\item 7\n",
       "\\end{enumerate*}\n"
      ],
      "text/markdown": [
       "1. 135\n",
       "2. 7\n",
       "\n",
       "\n"
      ],
      "text/plain": [
       "[1] 135   7"
      ]
     },
     "metadata": {},
     "output_type": "display_data"
    }
   ],
   "source": [
    "dim(tax_table(ps.dai2017))\n",
    "dim(tax_table(dai2017_glom_genus))\n",
    "dim(tax_table(dai2017_glom_family))\n",
    "dim(tax_table(dai2017_glom_order))"
   ]
  },
  {
   "cell_type": "code",
   "execution_count": 37,
   "metadata": {
    "collapsed": true
   },
   "outputs": [
    {
     "data": {
      "text/html": [
       "140"
      ],
      "text/latex": [
       "140"
      ],
      "text/markdown": [
       "140"
      ],
      "text/plain": [
       "[1] 140"
      ]
     },
     "metadata": {},
     "output_type": "display_data"
    },
    {
     "data": {
      "text/plain": [
       "phyloseq-class experiment-level object\n",
       "otu_table()   OTU Table:         [ 247 taxa and 30 samples ]\n",
       "sample_data() Sample Data:       [ 30 samples by 33 sample variables ]\n",
       "tax_table()   Taxonomy Table:    [ 247 taxa by 7 taxonomic ranks ]"
      ]
     },
     "metadata": {},
     "output_type": "display_data"
    },
    {
     "data": {
      "text/html": [
       "247"
      ],
      "text/latex": [
       "247"
      ],
      "text/markdown": [
       "247"
      ],
      "text/plain": [
       "[1] 247"
      ]
     },
     "metadata": {},
     "output_type": "display_data"
    }
   ],
   "source": [
    "names = data.frame(tax_table(dai2017_glom_genus))\n",
    "unwanted.rows = grep(\"uncultured*\",names$Genus)\n",
    "unwanted.rows = c(unwanted.rows,grep(\"metagenome*\",names$Genus))\n",
    "unwanted.rows = c(unwanted.rows,grep(\"Ambiguous_taxa*\",names$Genus))\n",
    "unwanted.rows = c(unwanted.rows,grep(\"Triticum*\",names$Genus))\n",
    "length(unwanted.rows)\n",
    "wanted.rows = !(rep(1:dim(names)[1]) %in% unwanted.rows)\n",
    "dai2017_pruned.genus = prune_taxa(taxa_names(dai2017_glom_genus)[wanted.rows = !(rep(1:dim(names)[1]) %in% unwanted.rows)], dai2017_glom_genus) \n",
    "dai2017_pruned.genus\n",
    "length(unique(data.frame(tax_table(dai2017_pruned.genus))$Genus))"
   ]
  },
  {
   "cell_type": "code",
   "execution_count": 38,
   "metadata": {
    "collapsed": true
   },
   "outputs": [
    {
     "data": {
      "text/html": [
       "77"
      ],
      "text/latex": [
       "77"
      ],
      "text/markdown": [
       "77"
      ],
      "text/plain": [
       "[1] 77"
      ]
     },
     "metadata": {},
     "output_type": "display_data"
    },
    {
     "data": {
      "text/plain": [
       "phyloseq-class experiment-level object\n",
       "otu_table()   OTU Table:         [ 148 taxa and 30 samples ]\n",
       "sample_data() Sample Data:       [ 30 samples by 33 sample variables ]\n",
       "tax_table()   Taxonomy Table:    [ 148 taxa by 7 taxonomic ranks ]"
      ]
     },
     "metadata": {},
     "output_type": "display_data"
    },
    {
     "data": {
      "text/html": [
       "148"
      ],
      "text/latex": [
       "148"
      ],
      "text/markdown": [
       "148"
      ],
      "text/plain": [
       "[1] 148"
      ]
     },
     "metadata": {},
     "output_type": "display_data"
    }
   ],
   "source": [
    "names = data.frame(tax_table(dai2017_glom_family))\n",
    "unwanted.rows = grep(\"uncultured*\",names$Family)\n",
    "unwanted.rows = c(unwanted.rows,grep(\"metagenome*\",names$Family))\n",
    "unwanted.rows = c(unwanted.rows,grep(\"Ambiguous_taxa*\",names$Family))\n",
    "unwanted.rows = c(unwanted.rows,grep(\"Unknown Family*\",names$Family))\n",
    "length(unwanted.rows)\n",
    "wanted.rows = !(rep(1:dim(names)[1]) %in% unwanted.rows)\n",
    "dai2017_pruned.fam = prune_taxa(taxa_names(dai2017_glom_family)[wanted.rows = !(rep(1:dim(names)[1]) %in% unwanted.rows)], dai2017_glom_family) \n",
    "dai2017_pruned.fam\n",
    "length(unique(data.frame(tax_table(dai2017_pruned.fam))$Family))"
   ]
  },
  {
   "cell_type": "code",
   "execution_count": 39,
   "metadata": {
    "collapsed": true
   },
   "outputs": [
    {
     "data": {
      "text/html": [
       "31"
      ],
      "text/latex": [
       "31"
      ],
      "text/markdown": [
       "31"
      ],
      "text/plain": [
       "[1] 31"
      ]
     },
     "metadata": {},
     "output_type": "display_data"
    },
    {
     "data": {
      "text/plain": [
       "phyloseq-class experiment-level object\n",
       "otu_table()   OTU Table:         [ 104 taxa and 30 samples ]\n",
       "sample_data() Sample Data:       [ 30 samples by 33 sample variables ]\n",
       "tax_table()   Taxonomy Table:    [ 104 taxa by 7 taxonomic ranks ]"
      ]
     },
     "metadata": {},
     "output_type": "display_data"
    },
    {
     "data": {
      "text/html": [
       "104"
      ],
      "text/latex": [
       "104"
      ],
      "text/markdown": [
       "104"
      ],
      "text/plain": [
       "[1] 104"
      ]
     },
     "metadata": {},
     "output_type": "display_data"
    }
   ],
   "source": [
    "names = data.frame(tax_table(dai2017_glom_order))\n",
    "unwanted.rows = grep(\"uncultured*\",names$Order)\n",
    "unwanted.rows = c(unwanted.rows,grep(\"metagenome*\",names$Order))\n",
    "unwanted.rows = c(unwanted.rows,grep(\"Ambiguous_taxa*\",names$Order))\n",
    "unwanted.rows = c(unwanted.rows,grep(\"Unknown Order*\",names$Order))\n",
    "length(unwanted.rows)\n",
    "wanted.rows = !(rep(1:dim(names)[1]) %in% unwanted.rows)\n",
    "dai2017_pruned.ord = prune_taxa(taxa_names(dai2017_glom_order)[wanted.rows = !(rep(1:dim(names)[1]) %in% unwanted.rows)], dai2017_glom_order) \n",
    "dai2017_pruned.ord\n",
    "length(unique(data.frame(tax_table(dai2017_pruned.ord))$Order))"
   ]
  },
  {
   "cell_type": "code",
   "execution_count": 40,
   "metadata": {
    "collapsed": true
   },
   "outputs": [
    {
     "data": {
      "text/html": [
       "<table>\n",
       "<thead><tr><th></th><th scope=col>sample_sums.ps.dai2017.</th><th scope=col>sample_sums.dai2017_glom_genus.</th><th scope=col>sample_sums.dai2017_glom_family.</th><th scope=col>sample_sums.dai2017_glom_order.</th><th scope=col>sample_sums.dai2017_pruned.genus.</th><th scope=col>sample_sums.dai2017_pruned.fam.</th><th scope=col>sample_sums.dai2017_pruned.ord.</th></tr></thead>\n",
       "<tbody>\n",
       "\t<tr><th scope=row>SRR3681435-X</th><td> 41835</td><td> 38250</td><td> 41295</td><td> 41428</td><td> 32354</td><td> 38625</td><td> 40234</td></tr>\n",
       "\t<tr><th scope=row>SRR3681436-X</th><td> 40613</td><td> 37197</td><td> 40093</td><td> 40262</td><td> 30949</td><td> 37238</td><td> 38956</td></tr>\n",
       "\t<tr><th scope=row>SRR3681437-X</th><td> 35810</td><td> 32725</td><td> 35294</td><td> 35444</td><td> 26518</td><td> 32269</td><td> 33975</td></tr>\n",
       "\t<tr><th scope=row>SRR3681438-X</th><td> 58120</td><td> 53407</td><td> 57344</td><td> 57657</td><td> 45841</td><td> 52772</td><td> 55785</td></tr>\n",
       "\t<tr><th scope=row>SRR3681439-X</th><td> 27095</td><td> 24434</td><td> 26665</td><td> 26820</td><td> 20263</td><td> 24043</td><td> 25681</td></tr>\n",
       "\t<tr><th scope=row>SRR3681440-X</th><td> 41233</td><td> 37425</td><td> 40604</td><td> 40889</td><td> 31283</td><td> 36928</td><td> 39299</td></tr>\n",
       "\t<tr><th scope=row>SRR3681441-X</th><td> 35903</td><td> 33253</td><td> 35213</td><td> 35647</td><td> 25602</td><td> 31630</td><td> 34303</td></tr>\n",
       "\t<tr><th scope=row>SRR3681442-X</th><td> 35234</td><td> 32398</td><td> 34557</td><td> 34954</td><td> 24517</td><td> 30938</td><td> 33490</td></tr>\n",
       "\t<tr><th scope=row>SRR3681471-X</th><td> 30359</td><td> 28648</td><td> 29934</td><td> 30233</td><td> 24142</td><td> 28015</td><td> 29547</td></tr>\n",
       "\t<tr><th scope=row>SRR3681472-X</th><td> 37648</td><td> 36006</td><td> 36681</td><td> 37524</td><td> 33231</td><td> 36357</td><td> 37375</td></tr>\n",
       "\t<tr><th scope=row>SRR3681473-X</th><td> 31583</td><td> 30324</td><td> 30767</td><td> 31501</td><td> 28381</td><td> 30614</td><td> 31406</td></tr>\n",
       "\t<tr><th scope=row>SRR3681474-X</th><td> 46267</td><td> 44168</td><td> 45102</td><td> 46139</td><td> 40655</td><td> 44634</td><td> 45938</td></tr>\n",
       "\t<tr><th scope=row>SRR3681475-X</th><td> 58210</td><td> 53395</td><td> 57562</td><td> 57784</td><td> 44597</td><td> 53646</td><td> 55670</td></tr>\n",
       "\t<tr><th scope=row>SRR3681476-X</th><td> 52507</td><td> 48849</td><td> 52046</td><td> 52172</td><td> 42812</td><td> 49741</td><td> 51109</td></tr>\n",
       "\t<tr><th scope=row>SRR3681477-X</th><td> 33679</td><td> 30869</td><td> 33278</td><td> 33415</td><td> 26847</td><td> 31530</td><td> 32387</td></tr>\n",
       "\t<tr><th scope=row>SRR3681478-X</th><td> 63371</td><td> 58868</td><td> 62946</td><td> 63102</td><td> 48899</td><td> 61637</td><td> 62661</td></tr>\n",
       "\t<tr><th scope=row>SRR3681479-X</th><td> 64558</td><td> 59611</td><td> 63919</td><td> 64149</td><td> 48988</td><td> 62405</td><td> 63610</td></tr>\n",
       "\t<tr><th scope=row>SRR3681480-X</th><td> 58316</td><td> 53480</td><td> 57803</td><td> 57970</td><td> 43595</td><td> 56405</td><td> 57453</td></tr>\n",
       "\t<tr><th scope=row>SRR3681481-X</th><td> 55202</td><td> 52254</td><td> 54561</td><td> 54979</td><td> 33686</td><td> 46639</td><td> 50132</td></tr>\n",
       "\t<tr><th scope=row>SRR3681482-X</th><td> 57782</td><td> 54969</td><td> 57220</td><td> 57553</td><td> 41105</td><td> 51879</td><td> 54919</td></tr>\n",
       "\t<tr><th scope=row>SRR3681483-X</th><td> 44297</td><td> 41912</td><td> 43870</td><td> 44129</td><td> 28870</td><td> 39290</td><td> 41772</td></tr>\n",
       "\t<tr><th scope=row>SRR3681484-X</th><td> 30465</td><td> 28661</td><td> 29774</td><td> 30292</td><td> 11491</td><td> 24532</td><td> 28718</td></tr>\n",
       "\t<tr><th scope=row>SRR3681485-X</th><td> 40893</td><td> 38253</td><td> 39872</td><td> 40694</td><td> 13941</td><td> 32132</td><td> 38265</td></tr>\n",
       "\t<tr><th scope=row>SRR3681486-X</th><td> 27400</td><td> 25369</td><td> 26582</td><td> 27201</td><td> 10288</td><td> 20922</td><td> 25341</td></tr>\n",
       "\t<tr><th scope=row>SRR3681488-X</th><td>191926</td><td>181219</td><td>191092</td><td>191829</td><td>165637</td><td>190073</td><td>191356</td></tr>\n",
       "\t<tr><th scope=row>SRR3681490-X</th><td> 45978</td><td> 43622</td><td> 45773</td><td> 45953</td><td> 40053</td><td> 45530</td><td> 45817</td></tr>\n",
       "\t<tr><th scope=row>SRR3681491-X</th><td> 75203</td><td> 71230</td><td> 74762</td><td> 75172</td><td> 65577</td><td> 74364</td><td> 74985</td></tr>\n",
       "\t<tr><th scope=row>SRR3681492-X</th><td> 76459</td><td> 71178</td><td> 75988</td><td> 76222</td><td> 34803</td><td> 72212</td><td> 75087</td></tr>\n",
       "\t<tr><th scope=row>SRR3681494-X</th><td> 52334</td><td> 48682</td><td> 51980</td><td> 52149</td><td> 26230</td><td> 49271</td><td> 51295</td></tr>\n",
       "\t<tr><th scope=row>SRR3681496-X</th><td> 30527</td><td> 28649</td><td> 30323</td><td> 30413</td><td> 18894</td><td> 29331</td><td> 30102</td></tr>\n",
       "</tbody>\n",
       "</table>\n"
      ],
      "text/latex": [
       "\\begin{tabular}{r|lllllll}\n",
       "  & sample\\_sums.ps.dai2017. & sample\\_sums.dai2017\\_glom\\_genus. & sample\\_sums.dai2017\\_glom\\_family. & sample\\_sums.dai2017\\_glom\\_order. & sample\\_sums.dai2017\\_pruned.genus. & sample\\_sums.dai2017\\_pruned.fam. & sample\\_sums.dai2017\\_pruned.ord.\\\\\n",
       "\\hline\n",
       "\tSRR3681435-X &  41835 &  38250 &  41295 &  41428 &  32354 &  38625 &  40234\\\\\n",
       "\tSRR3681436-X &  40613 &  37197 &  40093 &  40262 &  30949 &  37238 &  38956\\\\\n",
       "\tSRR3681437-X &  35810 &  32725 &  35294 &  35444 &  26518 &  32269 &  33975\\\\\n",
       "\tSRR3681438-X &  58120 &  53407 &  57344 &  57657 &  45841 &  52772 &  55785\\\\\n",
       "\tSRR3681439-X &  27095 &  24434 &  26665 &  26820 &  20263 &  24043 &  25681\\\\\n",
       "\tSRR3681440-X &  41233 &  37425 &  40604 &  40889 &  31283 &  36928 &  39299\\\\\n",
       "\tSRR3681441-X &  35903 &  33253 &  35213 &  35647 &  25602 &  31630 &  34303\\\\\n",
       "\tSRR3681442-X &  35234 &  32398 &  34557 &  34954 &  24517 &  30938 &  33490\\\\\n",
       "\tSRR3681471-X &  30359 &  28648 &  29934 &  30233 &  24142 &  28015 &  29547\\\\\n",
       "\tSRR3681472-X &  37648 &  36006 &  36681 &  37524 &  33231 &  36357 &  37375\\\\\n",
       "\tSRR3681473-X &  31583 &  30324 &  30767 &  31501 &  28381 &  30614 &  31406\\\\\n",
       "\tSRR3681474-X &  46267 &  44168 &  45102 &  46139 &  40655 &  44634 &  45938\\\\\n",
       "\tSRR3681475-X &  58210 &  53395 &  57562 &  57784 &  44597 &  53646 &  55670\\\\\n",
       "\tSRR3681476-X &  52507 &  48849 &  52046 &  52172 &  42812 &  49741 &  51109\\\\\n",
       "\tSRR3681477-X &  33679 &  30869 &  33278 &  33415 &  26847 &  31530 &  32387\\\\\n",
       "\tSRR3681478-X &  63371 &  58868 &  62946 &  63102 &  48899 &  61637 &  62661\\\\\n",
       "\tSRR3681479-X &  64558 &  59611 &  63919 &  64149 &  48988 &  62405 &  63610\\\\\n",
       "\tSRR3681480-X &  58316 &  53480 &  57803 &  57970 &  43595 &  56405 &  57453\\\\\n",
       "\tSRR3681481-X &  55202 &  52254 &  54561 &  54979 &  33686 &  46639 &  50132\\\\\n",
       "\tSRR3681482-X &  57782 &  54969 &  57220 &  57553 &  41105 &  51879 &  54919\\\\\n",
       "\tSRR3681483-X &  44297 &  41912 &  43870 &  44129 &  28870 &  39290 &  41772\\\\\n",
       "\tSRR3681484-X &  30465 &  28661 &  29774 &  30292 &  11491 &  24532 &  28718\\\\\n",
       "\tSRR3681485-X &  40893 &  38253 &  39872 &  40694 &  13941 &  32132 &  38265\\\\\n",
       "\tSRR3681486-X &  27400 &  25369 &  26582 &  27201 &  10288 &  20922 &  25341\\\\\n",
       "\tSRR3681488-X & 191926 & 181219 & 191092 & 191829 & 165637 & 190073 & 191356\\\\\n",
       "\tSRR3681490-X &  45978 &  43622 &  45773 &  45953 &  40053 &  45530 &  45817\\\\\n",
       "\tSRR3681491-X &  75203 &  71230 &  74762 &  75172 &  65577 &  74364 &  74985\\\\\n",
       "\tSRR3681492-X &  76459 &  71178 &  75988 &  76222 &  34803 &  72212 &  75087\\\\\n",
       "\tSRR3681494-X &  52334 &  48682 &  51980 &  52149 &  26230 &  49271 &  51295\\\\\n",
       "\tSRR3681496-X &  30527 &  28649 &  30323 &  30413 &  18894 &  29331 &  30102\\\\\n",
       "\\end{tabular}\n"
      ],
      "text/markdown": [
       "\n",
       "| <!--/--> | sample_sums.ps.dai2017. | sample_sums.dai2017_glom_genus. | sample_sums.dai2017_glom_family. | sample_sums.dai2017_glom_order. | sample_sums.dai2017_pruned.genus. | sample_sums.dai2017_pruned.fam. | sample_sums.dai2017_pruned.ord. | \n",
       "|---|---|---|---|---|---|---|---|---|---|---|---|---|---|---|---|---|---|---|---|---|---|---|---|---|---|---|---|---|---|\n",
       "| SRR3681435-X |  41835 |  38250 |  41295 |  41428 |  32354 |  38625 |  40234 | \n",
       "| SRR3681436-X |  40613 |  37197 |  40093 |  40262 |  30949 |  37238 |  38956 | \n",
       "| SRR3681437-X |  35810 |  32725 |  35294 |  35444 |  26518 |  32269 |  33975 | \n",
       "| SRR3681438-X |  58120 |  53407 |  57344 |  57657 |  45841 |  52772 |  55785 | \n",
       "| SRR3681439-X |  27095 |  24434 |  26665 |  26820 |  20263 |  24043 |  25681 | \n",
       "| SRR3681440-X |  41233 |  37425 |  40604 |  40889 |  31283 |  36928 |  39299 | \n",
       "| SRR3681441-X |  35903 |  33253 |  35213 |  35647 |  25602 |  31630 |  34303 | \n",
       "| SRR3681442-X |  35234 |  32398 |  34557 |  34954 |  24517 |  30938 |  33490 | \n",
       "| SRR3681471-X |  30359 |  28648 |  29934 |  30233 |  24142 |  28015 |  29547 | \n",
       "| SRR3681472-X |  37648 |  36006 |  36681 |  37524 |  33231 |  36357 |  37375 | \n",
       "| SRR3681473-X |  31583 |  30324 |  30767 |  31501 |  28381 |  30614 |  31406 | \n",
       "| SRR3681474-X |  46267 |  44168 |  45102 |  46139 |  40655 |  44634 |  45938 | \n",
       "| SRR3681475-X |  58210 |  53395 |  57562 |  57784 |  44597 |  53646 |  55670 | \n",
       "| SRR3681476-X |  52507 |  48849 |  52046 |  52172 |  42812 |  49741 |  51109 | \n",
       "| SRR3681477-X |  33679 |  30869 |  33278 |  33415 |  26847 |  31530 |  32387 | \n",
       "| SRR3681478-X |  63371 |  58868 |  62946 |  63102 |  48899 |  61637 |  62661 | \n",
       "| SRR3681479-X |  64558 |  59611 |  63919 |  64149 |  48988 |  62405 |  63610 | \n",
       "| SRR3681480-X |  58316 |  53480 |  57803 |  57970 |  43595 |  56405 |  57453 | \n",
       "| SRR3681481-X |  55202 |  52254 |  54561 |  54979 |  33686 |  46639 |  50132 | \n",
       "| SRR3681482-X |  57782 |  54969 |  57220 |  57553 |  41105 |  51879 |  54919 | \n",
       "| SRR3681483-X |  44297 |  41912 |  43870 |  44129 |  28870 |  39290 |  41772 | \n",
       "| SRR3681484-X |  30465 |  28661 |  29774 |  30292 |  11491 |  24532 |  28718 | \n",
       "| SRR3681485-X |  40893 |  38253 |  39872 |  40694 |  13941 |  32132 |  38265 | \n",
       "| SRR3681486-X |  27400 |  25369 |  26582 |  27201 |  10288 |  20922 |  25341 | \n",
       "| SRR3681488-X | 191926 | 181219 | 191092 | 191829 | 165637 | 190073 | 191356 | \n",
       "| SRR3681490-X |  45978 |  43622 |  45773 |  45953 |  40053 |  45530 |  45817 | \n",
       "| SRR3681491-X |  75203 |  71230 |  74762 |  75172 |  65577 |  74364 |  74985 | \n",
       "| SRR3681492-X |  76459 |  71178 |  75988 |  76222 |  34803 |  72212 |  75087 | \n",
       "| SRR3681494-X |  52334 |  48682 |  51980 |  52149 |  26230 |  49271 |  51295 | \n",
       "| SRR3681496-X |  30527 |  28649 |  30323 |  30413 |  18894 |  29331 |  30102 | \n",
       "\n",
       "\n"
      ],
      "text/plain": [
       "             sample_sums.ps.dai2017. sample_sums.dai2017_glom_genus.\n",
       "SRR3681435-X  41835                   38250                         \n",
       "SRR3681436-X  40613                   37197                         \n",
       "SRR3681437-X  35810                   32725                         \n",
       "SRR3681438-X  58120                   53407                         \n",
       "SRR3681439-X  27095                   24434                         \n",
       "SRR3681440-X  41233                   37425                         \n",
       "SRR3681441-X  35903                   33253                         \n",
       "SRR3681442-X  35234                   32398                         \n",
       "SRR3681471-X  30359                   28648                         \n",
       "SRR3681472-X  37648                   36006                         \n",
       "SRR3681473-X  31583                   30324                         \n",
       "SRR3681474-X  46267                   44168                         \n",
       "SRR3681475-X  58210                   53395                         \n",
       "SRR3681476-X  52507                   48849                         \n",
       "SRR3681477-X  33679                   30869                         \n",
       "SRR3681478-X  63371                   58868                         \n",
       "SRR3681479-X  64558                   59611                         \n",
       "SRR3681480-X  58316                   53480                         \n",
       "SRR3681481-X  55202                   52254                         \n",
       "SRR3681482-X  57782                   54969                         \n",
       "SRR3681483-X  44297                   41912                         \n",
       "SRR3681484-X  30465                   28661                         \n",
       "SRR3681485-X  40893                   38253                         \n",
       "SRR3681486-X  27400                   25369                         \n",
       "SRR3681488-X 191926                  181219                         \n",
       "SRR3681490-X  45978                   43622                         \n",
       "SRR3681491-X  75203                   71230                         \n",
       "SRR3681492-X  76459                   71178                         \n",
       "SRR3681494-X  52334                   48682                         \n",
       "SRR3681496-X  30527                   28649                         \n",
       "             sample_sums.dai2017_glom_family. sample_sums.dai2017_glom_order.\n",
       "SRR3681435-X  41295                            41428                         \n",
       "SRR3681436-X  40093                            40262                         \n",
       "SRR3681437-X  35294                            35444                         \n",
       "SRR3681438-X  57344                            57657                         \n",
       "SRR3681439-X  26665                            26820                         \n",
       "SRR3681440-X  40604                            40889                         \n",
       "SRR3681441-X  35213                            35647                         \n",
       "SRR3681442-X  34557                            34954                         \n",
       "SRR3681471-X  29934                            30233                         \n",
       "SRR3681472-X  36681                            37524                         \n",
       "SRR3681473-X  30767                            31501                         \n",
       "SRR3681474-X  45102                            46139                         \n",
       "SRR3681475-X  57562                            57784                         \n",
       "SRR3681476-X  52046                            52172                         \n",
       "SRR3681477-X  33278                            33415                         \n",
       "SRR3681478-X  62946                            63102                         \n",
       "SRR3681479-X  63919                            64149                         \n",
       "SRR3681480-X  57803                            57970                         \n",
       "SRR3681481-X  54561                            54979                         \n",
       "SRR3681482-X  57220                            57553                         \n",
       "SRR3681483-X  43870                            44129                         \n",
       "SRR3681484-X  29774                            30292                         \n",
       "SRR3681485-X  39872                            40694                         \n",
       "SRR3681486-X  26582                            27201                         \n",
       "SRR3681488-X 191092                           191829                         \n",
       "SRR3681490-X  45773                            45953                         \n",
       "SRR3681491-X  74762                            75172                         \n",
       "SRR3681492-X  75988                            76222                         \n",
       "SRR3681494-X  51980                            52149                         \n",
       "SRR3681496-X  30323                            30413                         \n",
       "             sample_sums.dai2017_pruned.genus. sample_sums.dai2017_pruned.fam.\n",
       "SRR3681435-X  32354                             38625                         \n",
       "SRR3681436-X  30949                             37238                         \n",
       "SRR3681437-X  26518                             32269                         \n",
       "SRR3681438-X  45841                             52772                         \n",
       "SRR3681439-X  20263                             24043                         \n",
       "SRR3681440-X  31283                             36928                         \n",
       "SRR3681441-X  25602                             31630                         \n",
       "SRR3681442-X  24517                             30938                         \n",
       "SRR3681471-X  24142                             28015                         \n",
       "SRR3681472-X  33231                             36357                         \n",
       "SRR3681473-X  28381                             30614                         \n",
       "SRR3681474-X  40655                             44634                         \n",
       "SRR3681475-X  44597                             53646                         \n",
       "SRR3681476-X  42812                             49741                         \n",
       "SRR3681477-X  26847                             31530                         \n",
       "SRR3681478-X  48899                             61637                         \n",
       "SRR3681479-X  48988                             62405                         \n",
       "SRR3681480-X  43595                             56405                         \n",
       "SRR3681481-X  33686                             46639                         \n",
       "SRR3681482-X  41105                             51879                         \n",
       "SRR3681483-X  28870                             39290                         \n",
       "SRR3681484-X  11491                             24532                         \n",
       "SRR3681485-X  13941                             32132                         \n",
       "SRR3681486-X  10288                             20922                         \n",
       "SRR3681488-X 165637                            190073                         \n",
       "SRR3681490-X  40053                             45530                         \n",
       "SRR3681491-X  65577                             74364                         \n",
       "SRR3681492-X  34803                             72212                         \n",
       "SRR3681494-X  26230                             49271                         \n",
       "SRR3681496-X  18894                             29331                         \n",
       "             sample_sums.dai2017_pruned.ord.\n",
       "SRR3681435-X  40234                         \n",
       "SRR3681436-X  38956                         \n",
       "SRR3681437-X  33975                         \n",
       "SRR3681438-X  55785                         \n",
       "SRR3681439-X  25681                         \n",
       "SRR3681440-X  39299                         \n",
       "SRR3681441-X  34303                         \n",
       "SRR3681442-X  33490                         \n",
       "SRR3681471-X  29547                         \n",
       "SRR3681472-X  37375                         \n",
       "SRR3681473-X  31406                         \n",
       "SRR3681474-X  45938                         \n",
       "SRR3681475-X  55670                         \n",
       "SRR3681476-X  51109                         \n",
       "SRR3681477-X  32387                         \n",
       "SRR3681478-X  62661                         \n",
       "SRR3681479-X  63610                         \n",
       "SRR3681480-X  57453                         \n",
       "SRR3681481-X  50132                         \n",
       "SRR3681482-X  54919                         \n",
       "SRR3681483-X  41772                         \n",
       "SRR3681484-X  28718                         \n",
       "SRR3681485-X  38265                         \n",
       "SRR3681486-X  25341                         \n",
       "SRR3681488-X 191356                         \n",
       "SRR3681490-X  45817                         \n",
       "SRR3681491-X  74985                         \n",
       "SRR3681492-X  75087                         \n",
       "SRR3681494-X  51295                         \n",
       "SRR3681496-X  30102                         "
      ]
     },
     "metadata": {},
     "output_type": "display_data"
    }
   ],
   "source": [
    "data.frame(sample_sums(ps.dai2017),sample_sums(dai2017_glom_genus),sample_sums(dai2017_glom_family),sample_sums(dai2017_glom_order),sample_sums(dai2017_pruned.genus),sample_sums(dai2017_pruned.fam), sample_sums(dai2017_pruned.ord))"
   ]
  },
  {
   "cell_type": "markdown",
   "metadata": {},
   "source": [
    "### Song"
   ]
  },
  {
   "cell_type": "code",
   "execution_count": 41,
   "metadata": {},
   "outputs": [],
   "source": [
    "song_glom_genus = tax_glom(ps.song, \"Genus\")\n",
    "song_glom_family = tax_glom(ps.song, \"Family\")\n",
    "song_glom_order = tax_glom(ps.song, \"Order\")"
   ]
  },
  {
   "cell_type": "code",
   "execution_count": 42,
   "metadata": {
    "collapsed": true
   },
   "outputs": [
    {
     "data": {
      "text/html": [
       "<ol class=list-inline>\n",
       "\t<li>7228</li>\n",
       "\t<li>7</li>\n",
       "</ol>\n"
      ],
      "text/latex": [
       "\\begin{enumerate*}\n",
       "\\item 7228\n",
       "\\item 7\n",
       "\\end{enumerate*}\n"
      ],
      "text/markdown": [
       "1. 7228\n",
       "2. 7\n",
       "\n",
       "\n"
      ],
      "text/plain": [
       "[1] 7228    7"
      ]
     },
     "metadata": {},
     "output_type": "display_data"
    },
    {
     "data": {
      "text/html": [
       "<ol class=list-inline>\n",
       "\t<li>702</li>\n",
       "\t<li>7</li>\n",
       "</ol>\n"
      ],
      "text/latex": [
       "\\begin{enumerate*}\n",
       "\\item 702\n",
       "\\item 7\n",
       "\\end{enumerate*}\n"
      ],
      "text/markdown": [
       "1. 702\n",
       "2. 7\n",
       "\n",
       "\n"
      ],
      "text/plain": [
       "[1] 702   7"
      ]
     },
     "metadata": {},
     "output_type": "display_data"
    },
    {
     "data": {
      "text/html": [
       "<ol class=list-inline>\n",
       "\t<li>482</li>\n",
       "\t<li>7</li>\n",
       "</ol>\n"
      ],
      "text/latex": [
       "\\begin{enumerate*}\n",
       "\\item 482\n",
       "\\item 7\n",
       "\\end{enumerate*}\n"
      ],
      "text/markdown": [
       "1. 482\n",
       "2. 7\n",
       "\n",
       "\n"
      ],
      "text/plain": [
       "[1] 482   7"
      ]
     },
     "metadata": {},
     "output_type": "display_data"
    },
    {
     "data": {
      "text/html": [
       "<ol class=list-inline>\n",
       "\t<li>305</li>\n",
       "\t<li>7</li>\n",
       "</ol>\n"
      ],
      "text/latex": [
       "\\begin{enumerate*}\n",
       "\\item 305\n",
       "\\item 7\n",
       "\\end{enumerate*}\n"
      ],
      "text/markdown": [
       "1. 305\n",
       "2. 7\n",
       "\n",
       "\n"
      ],
      "text/plain": [
       "[1] 305   7"
      ]
     },
     "metadata": {},
     "output_type": "display_data"
    }
   ],
   "source": [
    "dim(tax_table(ps.song))\n",
    "dim(tax_table(song_glom_genus))\n",
    "dim(tax_table(song_glom_family))\n",
    "dim(tax_table(song_glom_order))"
   ]
  },
  {
   "cell_type": "code",
   "execution_count": 43,
   "metadata": {
    "collapsed": true
   },
   "outputs": [
    {
     "data": {
      "text/html": [
       "415"
      ],
      "text/latex": [
       "415"
      ],
      "text/markdown": [
       "415"
      ],
      "text/plain": [
       "[1] 415"
      ]
     },
     "metadata": {},
     "output_type": "display_data"
    },
    {
     "data": {
      "text/plain": [
       "phyloseq-class experiment-level object\n",
       "otu_table()   OTU Table:         [ 287 taxa and 35 samples ]\n",
       "sample_data() Sample Data:       [ 35 samples by 36 sample variables ]\n",
       "tax_table()   Taxonomy Table:    [ 287 taxa by 7 taxonomic ranks ]"
      ]
     },
     "metadata": {},
     "output_type": "display_data"
    },
    {
     "data": {
      "text/html": [
       "287"
      ],
      "text/latex": [
       "287"
      ],
      "text/markdown": [
       "287"
      ],
      "text/plain": [
       "[1] 287"
      ]
     },
     "metadata": {},
     "output_type": "display_data"
    }
   ],
   "source": [
    "names = data.frame(tax_table(song_glom_genus))\n",
    "unwanted.rows = grep(\"uncultured*\",names$Genus)\n",
    "unwanted.rows = c(unwanted.rows,grep(\"metagenome*\",names$Genus))\n",
    "unwanted.rows = c(unwanted.rows,grep(\"Ambiguous_taxa*\",names$Genus))\n",
    "unwanted.rows = c(unwanted.rows,grep(\"Triticum*\",names$Genus))\n",
    "length(unwanted.rows)\n",
    "wanted.rows = !(rep(1:dim(names)[1]) %in% unwanted.rows)\n",
    "song_pruned.genus = prune_taxa(taxa_names(song_glom_genus)[wanted.rows = !(rep(1:dim(names)[1]) %in% unwanted.rows)], song_glom_genus) \n",
    "song_pruned.genus\n",
    "length(unique(data.frame(tax_table(song_pruned.genus))$Genus))"
   ]
  },
  {
   "cell_type": "code",
   "execution_count": 44,
   "metadata": {
    "collapsed": true
   },
   "outputs": [
    {
     "data": {
      "text/html": [
       "251"
      ],
      "text/latex": [
       "251"
      ],
      "text/markdown": [
       "251"
      ],
      "text/plain": [
       "[1] 251"
      ]
     },
     "metadata": {},
     "output_type": "display_data"
    },
    {
     "data": {
      "text/plain": [
       "phyloseq-class experiment-level object\n",
       "otu_table()   OTU Table:         [ 231 taxa and 35 samples ]\n",
       "sample_data() Sample Data:       [ 35 samples by 36 sample variables ]\n",
       "tax_table()   Taxonomy Table:    [ 231 taxa by 7 taxonomic ranks ]"
      ]
     },
     "metadata": {},
     "output_type": "display_data"
    },
    {
     "data": {
      "text/html": [
       "231"
      ],
      "text/latex": [
       "231"
      ],
      "text/markdown": [
       "231"
      ],
      "text/plain": [
       "[1] 231"
      ]
     },
     "metadata": {},
     "output_type": "display_data"
    }
   ],
   "source": [
    "names = data.frame(tax_table(song_glom_family))\n",
    "unwanted.rows = grep(\"uncultured*\",names$Family)\n",
    "unwanted.rows = c(unwanted.rows,grep(\"metagenome*\",names$Family))\n",
    "unwanted.rows = c(unwanted.rows,grep(\"Ambiguous_taxa*\",names$Family))\n",
    "unwanted.rows = c(unwanted.rows,grep(\"Unknown Family*\",names$Family))\n",
    "length(unwanted.rows)\n",
    "wanted.rows = !(rep(1:dim(names)[1]) %in% unwanted.rows)\n",
    "song_pruned.fam = prune_taxa(taxa_names(song_glom_family)[wanted.rows = !(rep(1:dim(names)[1]) %in% unwanted.rows)], song_glom_family) \n",
    "song_pruned.fam\n",
    "length(unique(data.frame(tax_table(song_pruned.fam))$Family))"
   ]
  },
  {
   "cell_type": "code",
   "execution_count": 45,
   "metadata": {
    "collapsed": true
   },
   "outputs": [
    {
     "data": {
      "text/html": [
       "114"
      ],
      "text/latex": [
       "114"
      ],
      "text/markdown": [
       "114"
      ],
      "text/plain": [
       "[1] 114"
      ]
     },
     "metadata": {},
     "output_type": "display_data"
    },
    {
     "data": {
      "text/plain": [
       "phyloseq-class experiment-level object\n",
       "otu_table()   OTU Table:         [ 191 taxa and 35 samples ]\n",
       "sample_data() Sample Data:       [ 35 samples by 36 sample variables ]\n",
       "tax_table()   Taxonomy Table:    [ 191 taxa by 7 taxonomic ranks ]"
      ]
     },
     "metadata": {},
     "output_type": "display_data"
    },
    {
     "data": {
      "text/html": [
       "191"
      ],
      "text/latex": [
       "191"
      ],
      "text/markdown": [
       "191"
      ],
      "text/plain": [
       "[1] 191"
      ]
     },
     "metadata": {},
     "output_type": "display_data"
    }
   ],
   "source": [
    "names = data.frame(tax_table(song_glom_order))\n",
    "unwanted.rows = grep(\"uncultured*\",names$Order)\n",
    "unwanted.rows = c(unwanted.rows,grep(\"metagenome*\",names$Order))\n",
    "unwanted.rows = c(unwanted.rows,grep(\"Ambiguous_taxa*\",names$Order))\n",
    "unwanted.rows = c(unwanted.rows,grep(\"Unknown Order*\",names$Order))\n",
    "length(unwanted.rows)\n",
    "wanted.rows = !(rep(1:dim(names)[1]) %in% unwanted.rows)\n",
    "song_pruned.ord = prune_taxa(taxa_names(song_glom_order)[wanted.rows = !(rep(1:dim(names)[1]) %in% unwanted.rows)], song_glom_order) \n",
    "song_pruned.ord\n",
    "length(unique(data.frame(tax_table(song_pruned.ord))$Order))"
   ]
  },
  {
   "cell_type": "code",
   "execution_count": 46,
   "metadata": {
    "collapsed": true
   },
   "outputs": [
    {
     "data": {
      "text/html": [
       "<table>\n",
       "<thead><tr><th></th><th scope=col>sample_sums.ps.song.</th><th scope=col>sample_sums.song_glom_genus.</th><th scope=col>sample_sums.song_glom_family.</th><th scope=col>sample_sums.song_glom_order.</th><th scope=col>sample_sums.song_pruned.genus.</th><th scope=col>sample_sums.song_pruned.fam.</th><th scope=col>sample_sums.song_pruned.ord.</th></tr></thead>\n",
       "<tbody>\n",
       "\t<tr><th scope=row>SRR3984709-X</th><td>24439</td><td>21644</td><td>23260</td><td>23762</td><td>16744</td><td>21161</td><td>23162</td></tr>\n",
       "\t<tr><th scope=row>SRR3984710-X</th><td>24839</td><td>21214</td><td>23004</td><td>23585</td><td>15761</td><td>20159</td><td>22469</td></tr>\n",
       "\t<tr><th scope=row>SRR3984711-X</th><td>27955</td><td>22945</td><td>24841</td><td>25318</td><td>13820</td><td>19232</td><td>23178</td></tr>\n",
       "\t<tr><th scope=row>SRR3984712-X</th><td>28644</td><td>23665</td><td>25775</td><td>26360</td><td>14509</td><td>20446</td><td>24376</td></tr>\n",
       "\t<tr><th scope=row>SRR3984713-X</th><td>20794</td><td>16969</td><td>18358</td><td>18909</td><td> 8884</td><td>12609</td><td>16828</td></tr>\n",
       "\t<tr><th scope=row>SRR3984714-X</th><td>29374</td><td>24987</td><td>26976</td><td>27830</td><td>14663</td><td>19899</td><td>25782</td></tr>\n",
       "\t<tr><th scope=row>SRR3984715-X</th><td>25784</td><td>21545</td><td>23148</td><td>23732</td><td>13918</td><td>18006</td><td>21710</td></tr>\n",
       "\t<tr><th scope=row>SRR3984716-X</th><td>21201</td><td>17338</td><td>18771</td><td>19230</td><td> 9728</td><td>13367</td><td>17380</td></tr>\n",
       "\t<tr><th scope=row>SRR3984717-X</th><td>26261</td><td>22640</td><td>24219</td><td>24681</td><td>16731</td><td>21193</td><td>23427</td></tr>\n",
       "\t<tr><th scope=row>SRR3984719-X</th><td>26111</td><td>22777</td><td>24579</td><td>25089</td><td>15857</td><td>20894</td><td>23600</td></tr>\n",
       "\t<tr><th scope=row>SRR3984720-X</th><td>29114</td><td>24093</td><td>26052</td><td>26662</td><td>15050</td><td>20486</td><td>24423</td></tr>\n",
       "\t<tr><th scope=row>SRR3984721-X</th><td>24229</td><td>20004</td><td>21785</td><td>22403</td><td>12179</td><td>17059</td><td>20401</td></tr>\n",
       "\t<tr><th scope=row>SRR3984722-X</th><td>23586</td><td>21214</td><td>22195</td><td>22623</td><td>14761</td><td>17936</td><td>20797</td></tr>\n",
       "\t<tr><th scope=row>SRR3984723-X</th><td>30936</td><td>26720</td><td>28197</td><td>28908</td><td>17862</td><td>22278</td><td>26672</td></tr>\n",
       "\t<tr><th scope=row>SRR3984725-X</th><td>30179</td><td>25325</td><td>26860</td><td>27526</td><td>16899</td><td>21017</td><td>25185</td></tr>\n",
       "\t<tr><th scope=row>SRR3984726-X</th><td>25292</td><td>22445</td><td>23999</td><td>24362</td><td>18029</td><td>21841</td><td>23569</td></tr>\n",
       "\t<tr><th scope=row>SRR3984727-X</th><td>24534</td><td>21466</td><td>22891</td><td>23307</td><td>16889</td><td>20583</td><td>22322</td></tr>\n",
       "\t<tr><th scope=row>SRR3984728-X</th><td>30380</td><td>25396</td><td>27603</td><td>28216</td><td>16005</td><td>22150</td><td>26088</td></tr>\n",
       "\t<tr><th scope=row>SRR3984730-X</th><td>27202</td><td>22907</td><td>24392</td><td>24945</td><td>13828</td><td>17931</td><td>22750</td></tr>\n",
       "\t<tr><th scope=row>SRR3984731-X</th><td>21290</td><td>18166</td><td>19243</td><td>19647</td><td>11386</td><td>14338</td><td>18182</td></tr>\n",
       "\t<tr><th scope=row>SRR3984733-X</th><td>24808</td><td>21008</td><td>22388</td><td>23003</td><td>13488</td><td>17258</td><td>21289</td></tr>\n",
       "\t<tr><th scope=row>SRR3984734-X</th><td>25432</td><td>22104</td><td>23462</td><td>24226</td><td>14945</td><td>18683</td><td>22770</td></tr>\n",
       "\t<tr><th scope=row>SRR3984735-X</th><td>25856</td><td>22033</td><td>23599</td><td>24029</td><td>15793</td><td>20405</td><td>22570</td></tr>\n",
       "\t<tr><th scope=row>SRR3984736-X</th><td>25612</td><td>22189</td><td>23970</td><td>24331</td><td>16368</td><td>21030</td><td>23126</td></tr>\n",
       "\t<tr><th scope=row>SRR3984737-X</th><td>22871</td><td>19980</td><td>21635</td><td>22164</td><td>13571</td><td>17937</td><td>20861</td></tr>\n",
       "\t<tr><th scope=row>SRR3984738-X</th><td>18929</td><td>16262</td><td>17477</td><td>17821</td><td>10499</td><td>14066</td><td>16509</td></tr>\n",
       "\t<tr><th scope=row>SRR3984740-X</th><td>28488</td><td>24848</td><td>26438</td><td>27076</td><td>17450</td><td>21283</td><td>25239</td></tr>\n",
       "\t<tr><th scope=row>SRR3984741-X</th><td>24189</td><td>20291</td><td>21761</td><td>22375</td><td>12900</td><td>16608</td><td>20534</td></tr>\n",
       "\t<tr><th scope=row>SRR3984742-X</th><td>27392</td><td>23272</td><td>24745</td><td>25436</td><td>15200</td><td>19255</td><td>22848</td></tr>\n",
       "\t<tr><th scope=row>SRR3984743-X</th><td>27362</td><td>22104</td><td>24329</td><td>25158</td><td>13049</td><td>17771</td><td>22701</td></tr>\n",
       "\t<tr><th scope=row>SRR3984755-X</th><td>29994</td><td>24853</td><td>26763</td><td>27526</td><td>12924</td><td>18559</td><td>24354</td></tr>\n",
       "\t<tr><th scope=row>SRR3984767-X</th><td>31834</td><td>27082</td><td>28627</td><td>29336</td><td>18698</td><td>22478</td><td>26984</td></tr>\n",
       "\t<tr><th scope=row>SRR3984779-X</th><td>24406</td><td>21024</td><td>22195</td><td>22620</td><td>15430</td><td>18159</td><td>21090</td></tr>\n",
       "\t<tr><th scope=row>SRR3984792-X</th><td>28174</td><td>24138</td><td>25905</td><td>26399</td><td>17892</td><td>22656</td><td>25087</td></tr>\n",
       "\t<tr><th scope=row>SRR3984793-X</th><td>20341</td><td>17127</td><td>18500</td><td>18903</td><td>12753</td><td>16188</td><td>17911</td></tr>\n",
       "</tbody>\n",
       "</table>\n"
      ],
      "text/latex": [
       "\\begin{tabular}{r|lllllll}\n",
       "  & sample\\_sums.ps.song. & sample\\_sums.song\\_glom\\_genus. & sample\\_sums.song\\_glom\\_family. & sample\\_sums.song\\_glom\\_order. & sample\\_sums.song\\_pruned.genus. & sample\\_sums.song\\_pruned.fam. & sample\\_sums.song\\_pruned.ord.\\\\\n",
       "\\hline\n",
       "\tSRR3984709-X & 24439 & 21644 & 23260 & 23762 & 16744 & 21161 & 23162\\\\\n",
       "\tSRR3984710-X & 24839 & 21214 & 23004 & 23585 & 15761 & 20159 & 22469\\\\\n",
       "\tSRR3984711-X & 27955 & 22945 & 24841 & 25318 & 13820 & 19232 & 23178\\\\\n",
       "\tSRR3984712-X & 28644 & 23665 & 25775 & 26360 & 14509 & 20446 & 24376\\\\\n",
       "\tSRR3984713-X & 20794 & 16969 & 18358 & 18909 &  8884 & 12609 & 16828\\\\\n",
       "\tSRR3984714-X & 29374 & 24987 & 26976 & 27830 & 14663 & 19899 & 25782\\\\\n",
       "\tSRR3984715-X & 25784 & 21545 & 23148 & 23732 & 13918 & 18006 & 21710\\\\\n",
       "\tSRR3984716-X & 21201 & 17338 & 18771 & 19230 &  9728 & 13367 & 17380\\\\\n",
       "\tSRR3984717-X & 26261 & 22640 & 24219 & 24681 & 16731 & 21193 & 23427\\\\\n",
       "\tSRR3984719-X & 26111 & 22777 & 24579 & 25089 & 15857 & 20894 & 23600\\\\\n",
       "\tSRR3984720-X & 29114 & 24093 & 26052 & 26662 & 15050 & 20486 & 24423\\\\\n",
       "\tSRR3984721-X & 24229 & 20004 & 21785 & 22403 & 12179 & 17059 & 20401\\\\\n",
       "\tSRR3984722-X & 23586 & 21214 & 22195 & 22623 & 14761 & 17936 & 20797\\\\\n",
       "\tSRR3984723-X & 30936 & 26720 & 28197 & 28908 & 17862 & 22278 & 26672\\\\\n",
       "\tSRR3984725-X & 30179 & 25325 & 26860 & 27526 & 16899 & 21017 & 25185\\\\\n",
       "\tSRR3984726-X & 25292 & 22445 & 23999 & 24362 & 18029 & 21841 & 23569\\\\\n",
       "\tSRR3984727-X & 24534 & 21466 & 22891 & 23307 & 16889 & 20583 & 22322\\\\\n",
       "\tSRR3984728-X & 30380 & 25396 & 27603 & 28216 & 16005 & 22150 & 26088\\\\\n",
       "\tSRR3984730-X & 27202 & 22907 & 24392 & 24945 & 13828 & 17931 & 22750\\\\\n",
       "\tSRR3984731-X & 21290 & 18166 & 19243 & 19647 & 11386 & 14338 & 18182\\\\\n",
       "\tSRR3984733-X & 24808 & 21008 & 22388 & 23003 & 13488 & 17258 & 21289\\\\\n",
       "\tSRR3984734-X & 25432 & 22104 & 23462 & 24226 & 14945 & 18683 & 22770\\\\\n",
       "\tSRR3984735-X & 25856 & 22033 & 23599 & 24029 & 15793 & 20405 & 22570\\\\\n",
       "\tSRR3984736-X & 25612 & 22189 & 23970 & 24331 & 16368 & 21030 & 23126\\\\\n",
       "\tSRR3984737-X & 22871 & 19980 & 21635 & 22164 & 13571 & 17937 & 20861\\\\\n",
       "\tSRR3984738-X & 18929 & 16262 & 17477 & 17821 & 10499 & 14066 & 16509\\\\\n",
       "\tSRR3984740-X & 28488 & 24848 & 26438 & 27076 & 17450 & 21283 & 25239\\\\\n",
       "\tSRR3984741-X & 24189 & 20291 & 21761 & 22375 & 12900 & 16608 & 20534\\\\\n",
       "\tSRR3984742-X & 27392 & 23272 & 24745 & 25436 & 15200 & 19255 & 22848\\\\\n",
       "\tSRR3984743-X & 27362 & 22104 & 24329 & 25158 & 13049 & 17771 & 22701\\\\\n",
       "\tSRR3984755-X & 29994 & 24853 & 26763 & 27526 & 12924 & 18559 & 24354\\\\\n",
       "\tSRR3984767-X & 31834 & 27082 & 28627 & 29336 & 18698 & 22478 & 26984\\\\\n",
       "\tSRR3984779-X & 24406 & 21024 & 22195 & 22620 & 15430 & 18159 & 21090\\\\\n",
       "\tSRR3984792-X & 28174 & 24138 & 25905 & 26399 & 17892 & 22656 & 25087\\\\\n",
       "\tSRR3984793-X & 20341 & 17127 & 18500 & 18903 & 12753 & 16188 & 17911\\\\\n",
       "\\end{tabular}\n"
      ],
      "text/markdown": [
       "\n",
       "| <!--/--> | sample_sums.ps.song. | sample_sums.song_glom_genus. | sample_sums.song_glom_family. | sample_sums.song_glom_order. | sample_sums.song_pruned.genus. | sample_sums.song_pruned.fam. | sample_sums.song_pruned.ord. | \n",
       "|---|---|---|---|---|---|---|---|---|---|---|---|---|---|---|---|---|---|---|---|---|---|---|---|---|---|---|---|---|---|---|---|---|---|---|\n",
       "| SRR3984709-X | 24439 | 21644 | 23260 | 23762 | 16744 | 21161 | 23162 | \n",
       "| SRR3984710-X | 24839 | 21214 | 23004 | 23585 | 15761 | 20159 | 22469 | \n",
       "| SRR3984711-X | 27955 | 22945 | 24841 | 25318 | 13820 | 19232 | 23178 | \n",
       "| SRR3984712-X | 28644 | 23665 | 25775 | 26360 | 14509 | 20446 | 24376 | \n",
       "| SRR3984713-X | 20794 | 16969 | 18358 | 18909 |  8884 | 12609 | 16828 | \n",
       "| SRR3984714-X | 29374 | 24987 | 26976 | 27830 | 14663 | 19899 | 25782 | \n",
       "| SRR3984715-X | 25784 | 21545 | 23148 | 23732 | 13918 | 18006 | 21710 | \n",
       "| SRR3984716-X | 21201 | 17338 | 18771 | 19230 |  9728 | 13367 | 17380 | \n",
       "| SRR3984717-X | 26261 | 22640 | 24219 | 24681 | 16731 | 21193 | 23427 | \n",
       "| SRR3984719-X | 26111 | 22777 | 24579 | 25089 | 15857 | 20894 | 23600 | \n",
       "| SRR3984720-X | 29114 | 24093 | 26052 | 26662 | 15050 | 20486 | 24423 | \n",
       "| SRR3984721-X | 24229 | 20004 | 21785 | 22403 | 12179 | 17059 | 20401 | \n",
       "| SRR3984722-X | 23586 | 21214 | 22195 | 22623 | 14761 | 17936 | 20797 | \n",
       "| SRR3984723-X | 30936 | 26720 | 28197 | 28908 | 17862 | 22278 | 26672 | \n",
       "| SRR3984725-X | 30179 | 25325 | 26860 | 27526 | 16899 | 21017 | 25185 | \n",
       "| SRR3984726-X | 25292 | 22445 | 23999 | 24362 | 18029 | 21841 | 23569 | \n",
       "| SRR3984727-X | 24534 | 21466 | 22891 | 23307 | 16889 | 20583 | 22322 | \n",
       "| SRR3984728-X | 30380 | 25396 | 27603 | 28216 | 16005 | 22150 | 26088 | \n",
       "| SRR3984730-X | 27202 | 22907 | 24392 | 24945 | 13828 | 17931 | 22750 | \n",
       "| SRR3984731-X | 21290 | 18166 | 19243 | 19647 | 11386 | 14338 | 18182 | \n",
       "| SRR3984733-X | 24808 | 21008 | 22388 | 23003 | 13488 | 17258 | 21289 | \n",
       "| SRR3984734-X | 25432 | 22104 | 23462 | 24226 | 14945 | 18683 | 22770 | \n",
       "| SRR3984735-X | 25856 | 22033 | 23599 | 24029 | 15793 | 20405 | 22570 | \n",
       "| SRR3984736-X | 25612 | 22189 | 23970 | 24331 | 16368 | 21030 | 23126 | \n",
       "| SRR3984737-X | 22871 | 19980 | 21635 | 22164 | 13571 | 17937 | 20861 | \n",
       "| SRR3984738-X | 18929 | 16262 | 17477 | 17821 | 10499 | 14066 | 16509 | \n",
       "| SRR3984740-X | 28488 | 24848 | 26438 | 27076 | 17450 | 21283 | 25239 | \n",
       "| SRR3984741-X | 24189 | 20291 | 21761 | 22375 | 12900 | 16608 | 20534 | \n",
       "| SRR3984742-X | 27392 | 23272 | 24745 | 25436 | 15200 | 19255 | 22848 | \n",
       "| SRR3984743-X | 27362 | 22104 | 24329 | 25158 | 13049 | 17771 | 22701 | \n",
       "| SRR3984755-X | 29994 | 24853 | 26763 | 27526 | 12924 | 18559 | 24354 | \n",
       "| SRR3984767-X | 31834 | 27082 | 28627 | 29336 | 18698 | 22478 | 26984 | \n",
       "| SRR3984779-X | 24406 | 21024 | 22195 | 22620 | 15430 | 18159 | 21090 | \n",
       "| SRR3984792-X | 28174 | 24138 | 25905 | 26399 | 17892 | 22656 | 25087 | \n",
       "| SRR3984793-X | 20341 | 17127 | 18500 | 18903 | 12753 | 16188 | 17911 | \n",
       "\n",
       "\n"
      ],
      "text/plain": [
       "             sample_sums.ps.song. sample_sums.song_glom_genus.\n",
       "SRR3984709-X 24439                21644                       \n",
       "SRR3984710-X 24839                21214                       \n",
       "SRR3984711-X 27955                22945                       \n",
       "SRR3984712-X 28644                23665                       \n",
       "SRR3984713-X 20794                16969                       \n",
       "SRR3984714-X 29374                24987                       \n",
       "SRR3984715-X 25784                21545                       \n",
       "SRR3984716-X 21201                17338                       \n",
       "SRR3984717-X 26261                22640                       \n",
       "SRR3984719-X 26111                22777                       \n",
       "SRR3984720-X 29114                24093                       \n",
       "SRR3984721-X 24229                20004                       \n",
       "SRR3984722-X 23586                21214                       \n",
       "SRR3984723-X 30936                26720                       \n",
       "SRR3984725-X 30179                25325                       \n",
       "SRR3984726-X 25292                22445                       \n",
       "SRR3984727-X 24534                21466                       \n",
       "SRR3984728-X 30380                25396                       \n",
       "SRR3984730-X 27202                22907                       \n",
       "SRR3984731-X 21290                18166                       \n",
       "SRR3984733-X 24808                21008                       \n",
       "SRR3984734-X 25432                22104                       \n",
       "SRR3984735-X 25856                22033                       \n",
       "SRR3984736-X 25612                22189                       \n",
       "SRR3984737-X 22871                19980                       \n",
       "SRR3984738-X 18929                16262                       \n",
       "SRR3984740-X 28488                24848                       \n",
       "SRR3984741-X 24189                20291                       \n",
       "SRR3984742-X 27392                23272                       \n",
       "SRR3984743-X 27362                22104                       \n",
       "SRR3984755-X 29994                24853                       \n",
       "SRR3984767-X 31834                27082                       \n",
       "SRR3984779-X 24406                21024                       \n",
       "SRR3984792-X 28174                24138                       \n",
       "SRR3984793-X 20341                17127                       \n",
       "             sample_sums.song_glom_family. sample_sums.song_glom_order.\n",
       "SRR3984709-X 23260                         23762                       \n",
       "SRR3984710-X 23004                         23585                       \n",
       "SRR3984711-X 24841                         25318                       \n",
       "SRR3984712-X 25775                         26360                       \n",
       "SRR3984713-X 18358                         18909                       \n",
       "SRR3984714-X 26976                         27830                       \n",
       "SRR3984715-X 23148                         23732                       \n",
       "SRR3984716-X 18771                         19230                       \n",
       "SRR3984717-X 24219                         24681                       \n",
       "SRR3984719-X 24579                         25089                       \n",
       "SRR3984720-X 26052                         26662                       \n",
       "SRR3984721-X 21785                         22403                       \n",
       "SRR3984722-X 22195                         22623                       \n",
       "SRR3984723-X 28197                         28908                       \n",
       "SRR3984725-X 26860                         27526                       \n",
       "SRR3984726-X 23999                         24362                       \n",
       "SRR3984727-X 22891                         23307                       \n",
       "SRR3984728-X 27603                         28216                       \n",
       "SRR3984730-X 24392                         24945                       \n",
       "SRR3984731-X 19243                         19647                       \n",
       "SRR3984733-X 22388                         23003                       \n",
       "SRR3984734-X 23462                         24226                       \n",
       "SRR3984735-X 23599                         24029                       \n",
       "SRR3984736-X 23970                         24331                       \n",
       "SRR3984737-X 21635                         22164                       \n",
       "SRR3984738-X 17477                         17821                       \n",
       "SRR3984740-X 26438                         27076                       \n",
       "SRR3984741-X 21761                         22375                       \n",
       "SRR3984742-X 24745                         25436                       \n",
       "SRR3984743-X 24329                         25158                       \n",
       "SRR3984755-X 26763                         27526                       \n",
       "SRR3984767-X 28627                         29336                       \n",
       "SRR3984779-X 22195                         22620                       \n",
       "SRR3984792-X 25905                         26399                       \n",
       "SRR3984793-X 18500                         18903                       \n",
       "             sample_sums.song_pruned.genus. sample_sums.song_pruned.fam.\n",
       "SRR3984709-X 16744                          21161                       \n",
       "SRR3984710-X 15761                          20159                       \n",
       "SRR3984711-X 13820                          19232                       \n",
       "SRR3984712-X 14509                          20446                       \n",
       "SRR3984713-X  8884                          12609                       \n",
       "SRR3984714-X 14663                          19899                       \n",
       "SRR3984715-X 13918                          18006                       \n",
       "SRR3984716-X  9728                          13367                       \n",
       "SRR3984717-X 16731                          21193                       \n",
       "SRR3984719-X 15857                          20894                       \n",
       "SRR3984720-X 15050                          20486                       \n",
       "SRR3984721-X 12179                          17059                       \n",
       "SRR3984722-X 14761                          17936                       \n",
       "SRR3984723-X 17862                          22278                       \n",
       "SRR3984725-X 16899                          21017                       \n",
       "SRR3984726-X 18029                          21841                       \n",
       "SRR3984727-X 16889                          20583                       \n",
       "SRR3984728-X 16005                          22150                       \n",
       "SRR3984730-X 13828                          17931                       \n",
       "SRR3984731-X 11386                          14338                       \n",
       "SRR3984733-X 13488                          17258                       \n",
       "SRR3984734-X 14945                          18683                       \n",
       "SRR3984735-X 15793                          20405                       \n",
       "SRR3984736-X 16368                          21030                       \n",
       "SRR3984737-X 13571                          17937                       \n",
       "SRR3984738-X 10499                          14066                       \n",
       "SRR3984740-X 17450                          21283                       \n",
       "SRR3984741-X 12900                          16608                       \n",
       "SRR3984742-X 15200                          19255                       \n",
       "SRR3984743-X 13049                          17771                       \n",
       "SRR3984755-X 12924                          18559                       \n",
       "SRR3984767-X 18698                          22478                       \n",
       "SRR3984779-X 15430                          18159                       \n",
       "SRR3984792-X 17892                          22656                       \n",
       "SRR3984793-X 12753                          16188                       \n",
       "             sample_sums.song_pruned.ord.\n",
       "SRR3984709-X 23162                       \n",
       "SRR3984710-X 22469                       \n",
       "SRR3984711-X 23178                       \n",
       "SRR3984712-X 24376                       \n",
       "SRR3984713-X 16828                       \n",
       "SRR3984714-X 25782                       \n",
       "SRR3984715-X 21710                       \n",
       "SRR3984716-X 17380                       \n",
       "SRR3984717-X 23427                       \n",
       "SRR3984719-X 23600                       \n",
       "SRR3984720-X 24423                       \n",
       "SRR3984721-X 20401                       \n",
       "SRR3984722-X 20797                       \n",
       "SRR3984723-X 26672                       \n",
       "SRR3984725-X 25185                       \n",
       "SRR3984726-X 23569                       \n",
       "SRR3984727-X 22322                       \n",
       "SRR3984728-X 26088                       \n",
       "SRR3984730-X 22750                       \n",
       "SRR3984731-X 18182                       \n",
       "SRR3984733-X 21289                       \n",
       "SRR3984734-X 22770                       \n",
       "SRR3984735-X 22570                       \n",
       "SRR3984736-X 23126                       \n",
       "SRR3984737-X 20861                       \n",
       "SRR3984738-X 16509                       \n",
       "SRR3984740-X 25239                       \n",
       "SRR3984741-X 20534                       \n",
       "SRR3984742-X 22848                       \n",
       "SRR3984743-X 22701                       \n",
       "SRR3984755-X 24354                       \n",
       "SRR3984767-X 26984                       \n",
       "SRR3984779-X 21090                       \n",
       "SRR3984792-X 25087                       \n",
       "SRR3984793-X 17911                       "
      ]
     },
     "metadata": {},
     "output_type": "display_data"
    }
   ],
   "source": [
    "data.frame(sample_sums(ps.song),sample_sums(song_glom_genus),sample_sums(song_glom_family),sample_sums(song_glom_order),sample_sums(song_pruned.genus),sample_sums(song_pruned.fam), sample_sums(song_pruned.ord))"
   ]
  },
  {
   "cell_type": "markdown",
   "metadata": {},
   "source": [
    "### Yao"
   ]
  },
  {
   "cell_type": "code",
   "execution_count": 47,
   "metadata": {},
   "outputs": [],
   "source": [
    "yao_glom_genus = tax_glom(ps.yao, \"Genus\")\n",
    "yao_glom_family = tax_glom(ps.yao, \"Family\")\n",
    "yao_glom_order = tax_glom(ps.yao, \"Order\")"
   ]
  },
  {
   "cell_type": "code",
   "execution_count": 48,
   "metadata": {
    "collapsed": true
   },
   "outputs": [
    {
     "data": {
      "text/html": [
       "<ol class=list-inline>\n",
       "\t<li>5086</li>\n",
       "\t<li>7</li>\n",
       "</ol>\n"
      ],
      "text/latex": [
       "\\begin{enumerate*}\n",
       "\\item 5086\n",
       "\\item 7\n",
       "\\end{enumerate*}\n"
      ],
      "text/markdown": [
       "1. 5086\n",
       "2. 7\n",
       "\n",
       "\n"
      ],
      "text/plain": [
       "[1] 5086    7"
      ]
     },
     "metadata": {},
     "output_type": "display_data"
    },
    {
     "data": {
      "text/html": [
       "<ol class=list-inline>\n",
       "\t<li>599</li>\n",
       "\t<li>7</li>\n",
       "</ol>\n"
      ],
      "text/latex": [
       "\\begin{enumerate*}\n",
       "\\item 599\n",
       "\\item 7\n",
       "\\end{enumerate*}\n"
      ],
      "text/markdown": [
       "1. 599\n",
       "2. 7\n",
       "\n",
       "\n"
      ],
      "text/plain": [
       "[1] 599   7"
      ]
     },
     "metadata": {},
     "output_type": "display_data"
    },
    {
     "data": {
      "text/html": [
       "<ol class=list-inline>\n",
       "\t<li>378</li>\n",
       "\t<li>7</li>\n",
       "</ol>\n"
      ],
      "text/latex": [
       "\\begin{enumerate*}\n",
       "\\item 378\n",
       "\\item 7\n",
       "\\end{enumerate*}\n"
      ],
      "text/markdown": [
       "1. 378\n",
       "2. 7\n",
       "\n",
       "\n"
      ],
      "text/plain": [
       "[1] 378   7"
      ]
     },
     "metadata": {},
     "output_type": "display_data"
    },
    {
     "data": {
      "text/html": [
       "<ol class=list-inline>\n",
       "\t<li>233</li>\n",
       "\t<li>7</li>\n",
       "</ol>\n"
      ],
      "text/latex": [
       "\\begin{enumerate*}\n",
       "\\item 233\n",
       "\\item 7\n",
       "\\end{enumerate*}\n"
      ],
      "text/markdown": [
       "1. 233\n",
       "2. 7\n",
       "\n",
       "\n"
      ],
      "text/plain": [
       "[1] 233   7"
      ]
     },
     "metadata": {},
     "output_type": "display_data"
    }
   ],
   "source": [
    "dim(tax_table(ps.yao))\n",
    "dim(tax_table(yao_glom_genus))\n",
    "dim(tax_table(yao_glom_family))\n",
    "dim(tax_table(yao_glom_order))"
   ]
  },
  {
   "cell_type": "code",
   "execution_count": 49,
   "metadata": {
    "collapsed": true
   },
   "outputs": [
    {
     "data": {
      "text/html": [
       "302"
      ],
      "text/latex": [
       "302"
      ],
      "text/markdown": [
       "302"
      ],
      "text/plain": [
       "[1] 302"
      ]
     },
     "metadata": {},
     "output_type": "display_data"
    },
    {
     "data": {
      "text/plain": [
       "phyloseq-class experiment-level object\n",
       "otu_table()   OTU Table:         [ 297 taxa and 48 samples ]\n",
       "sample_data() Sample Data:       [ 48 samples by 35 sample variables ]\n",
       "tax_table()   Taxonomy Table:    [ 297 taxa by 7 taxonomic ranks ]"
      ]
     },
     "metadata": {},
     "output_type": "display_data"
    },
    {
     "data": {
      "text/html": [
       "297"
      ],
      "text/latex": [
       "297"
      ],
      "text/markdown": [
       "297"
      ],
      "text/plain": [
       "[1] 297"
      ]
     },
     "metadata": {},
     "output_type": "display_data"
    }
   ],
   "source": [
    "names = data.frame(tax_table(yao_glom_genus))\n",
    "unwanted.rows = grep(\"uncultured*\",names$Genus)\n",
    "unwanted.rows = c(unwanted.rows,grep(\"metagenome*\",names$Genus))\n",
    "unwanted.rows = c(unwanted.rows,grep(\"Ambiguous_taxa*\",names$Genus))\n",
    "unwanted.rows = c(unwanted.rows,grep(\"Triticum*\",names$Genus))\n",
    "length(unwanted.rows)\n",
    "wanted.rows = !(rep(1:dim(names)[1]) %in% unwanted.rows)\n",
    "yao_pruned.genus = prune_taxa(taxa_names(yao_glom_genus)[wanted.rows = !(rep(1:dim(names)[1]) %in% unwanted.rows)], yao_glom_genus) \n",
    "yao_pruned.genus\n",
    "length(unique(data.frame(tax_table(yao_pruned.genus))$Genus))"
   ]
  },
  {
   "cell_type": "code",
   "execution_count": 50,
   "metadata": {
    "collapsed": true
   },
   "outputs": [
    {
     "data": {
      "text/html": [
       "166"
      ],
      "text/latex": [
       "166"
      ],
      "text/markdown": [
       "166"
      ],
      "text/plain": [
       "[1] 166"
      ]
     },
     "metadata": {},
     "output_type": "display_data"
    },
    {
     "data": {
      "text/plain": [
       "phyloseq-class experiment-level object\n",
       "otu_table()   OTU Table:         [ 212 taxa and 48 samples ]\n",
       "sample_data() Sample Data:       [ 48 samples by 35 sample variables ]\n",
       "tax_table()   Taxonomy Table:    [ 212 taxa by 7 taxonomic ranks ]"
      ]
     },
     "metadata": {},
     "output_type": "display_data"
    },
    {
     "data": {
      "text/html": [
       "212"
      ],
      "text/latex": [
       "212"
      ],
      "text/markdown": [
       "212"
      ],
      "text/plain": [
       "[1] 212"
      ]
     },
     "metadata": {},
     "output_type": "display_data"
    }
   ],
   "source": [
    "names = data.frame(tax_table(yao_glom_family))\n",
    "unwanted.rows = grep(\"uncultured*\",names$Family)\n",
    "unwanted.rows = c(unwanted.rows,grep(\"metagenome*\",names$Family))\n",
    "unwanted.rows = c(unwanted.rows,grep(\"Ambiguous_taxa*\",names$Family))\n",
    "unwanted.rows = c(unwanted.rows,grep(\"Unknown Family*\",names$Family))\n",
    "length(unwanted.rows)\n",
    "wanted.rows = !(rep(1:dim(names)[1]) %in% unwanted.rows)\n",
    "yao_pruned.fam = prune_taxa(taxa_names(yao_glom_family)[wanted.rows = !(rep(1:dim(names)[1]) %in% unwanted.rows)], yao_glom_family) \n",
    "yao_pruned.fam\n",
    "length(unique(data.frame(tax_table(yao_pruned.fam))$Family))"
   ]
  },
  {
   "cell_type": "code",
   "execution_count": 51,
   "metadata": {
    "collapsed": true
   },
   "outputs": [
    {
     "data": {
      "text/html": [
       "85"
      ],
      "text/latex": [
       "85"
      ],
      "text/markdown": [
       "85"
      ],
      "text/plain": [
       "[1] 85"
      ]
     },
     "metadata": {},
     "output_type": "display_data"
    },
    {
     "data": {
      "text/plain": [
       "phyloseq-class experiment-level object\n",
       "otu_table()   OTU Table:         [ 148 taxa and 48 samples ]\n",
       "sample_data() Sample Data:       [ 48 samples by 35 sample variables ]\n",
       "tax_table()   Taxonomy Table:    [ 148 taxa by 7 taxonomic ranks ]"
      ]
     },
     "metadata": {},
     "output_type": "display_data"
    },
    {
     "data": {
      "text/html": [
       "148"
      ],
      "text/latex": [
       "148"
      ],
      "text/markdown": [
       "148"
      ],
      "text/plain": [
       "[1] 148"
      ]
     },
     "metadata": {},
     "output_type": "display_data"
    }
   ],
   "source": [
    "names = data.frame(tax_table(yao_glom_order))\n",
    "unwanted.rows = grep(\"uncultured*\",names$Order)\n",
    "unwanted.rows = c(unwanted.rows,grep(\"metagenome*\",names$Order))\n",
    "unwanted.rows = c(unwanted.rows,grep(\"Ambiguous_taxa*\",names$Order))\n",
    "unwanted.rows = c(unwanted.rows,grep(\"Unknown Family*\",names$Order))\n",
    "length(unwanted.rows)\n",
    "wanted.rows = !(rep(1:dim(names)[1]) %in% unwanted.rows)\n",
    "yao_pruned.ord = prune_taxa(taxa_names(yao_glom_order)[wanted.rows = !(rep(1:dim(names)[1]) %in% unwanted.rows)], yao_glom_order) \n",
    "yao_pruned.ord\n",
    "length(unique(data.frame(tax_table(yao_pruned.ord))$Order))"
   ]
  },
  {
   "cell_type": "code",
   "execution_count": 52,
   "metadata": {
    "collapsed": true
   },
   "outputs": [
    {
     "data": {
      "text/html": [
       "<table>\n",
       "<thead><tr><th></th><th scope=col>sample_sums.ps.yao.</th><th scope=col>sample_sums.yao_glom_genus.</th><th scope=col>sample_sums.yao_glom_family.</th><th scope=col>sample_sums.yao_glom_order.</th><th scope=col>sample_sums.yao_pruned.genus.</th><th scope=col>sample_sums.yao_pruned.fam.</th><th scope=col>sample_sums.yao_pruned.ord.</th></tr></thead>\n",
       "<tbody>\n",
       "\t<tr><th scope=row>SRR4446119-X</th><td>19170</td><td>13525</td><td>15306</td><td>15771</td><td> 7359</td><td>11291</td><td>14041</td></tr>\n",
       "\t<tr><th scope=row>SRR4448895-X</th><td>20594</td><td>14490</td><td>16296</td><td>16817</td><td> 8367</td><td>12470</td><td>15050</td></tr>\n",
       "\t<tr><th scope=row>SRR4448898-X</th><td>19160</td><td>13233</td><td>15107</td><td>15653</td><td> 7703</td><td>11688</td><td>14229</td></tr>\n",
       "\t<tr><th scope=row>SRR4448930-X</th><td>12722</td><td> 8713</td><td>10185</td><td>10596</td><td> 5202</td><td> 7975</td><td> 9786</td></tr>\n",
       "\t<tr><th scope=row>SRR4448946-X</th><td>13940</td><td> 9621</td><td>11225</td><td>11522</td><td> 5637</td><td> 8939</td><td>10656</td></tr>\n",
       "\t<tr><th scope=row>SRR4448948-X</th><td>19934</td><td>13747</td><td>15919</td><td>16416</td><td> 7792</td><td>12613</td><td>15027</td></tr>\n",
       "\t<tr><th scope=row>SRR4448950-X</th><td>12364</td><td> 8371</td><td> 9663</td><td>10017</td><td> 4933</td><td> 7675</td><td> 9305</td></tr>\n",
       "\t<tr><th scope=row>SRR4448953-X</th><td>14666</td><td> 9960</td><td>11582</td><td>12073</td><td> 6163</td><td> 9532</td><td>11211</td></tr>\n",
       "\t<tr><th scope=row>SRR4448955-X</th><td>16753</td><td>11601</td><td>13649</td><td>13999</td><td> 7106</td><td>11154</td><td>13054</td></tr>\n",
       "\t<tr><th scope=row>SRR4448970-X</th><td>13992</td><td> 9978</td><td>11250</td><td>11628</td><td> 5988</td><td> 8995</td><td>10729</td></tr>\n",
       "\t<tr><th scope=row>SRR4449089-X</th><td>13783</td><td> 9995</td><td>11163</td><td>11487</td><td> 5743</td><td> 8930</td><td>10511</td></tr>\n",
       "\t<tr><th scope=row>SRR4449114-X</th><td>16995</td><td>12417</td><td>14004</td><td>14413</td><td> 7646</td><td>11455</td><td>13465</td></tr>\n",
       "\t<tr><th scope=row>SRR4449119-X</th><td>17093</td><td>11848</td><td>13504</td><td>13932</td><td> 6848</td><td>10361</td><td>12541</td></tr>\n",
       "\t<tr><th scope=row>SRR4449127-X</th><td>14749</td><td>10209</td><td>11702</td><td>12171</td><td> 6110</td><td> 9161</td><td>10981</td></tr>\n",
       "\t<tr><th scope=row>SRR4449142-X</th><td>17458</td><td>12264</td><td>13729</td><td>14276</td><td> 6897</td><td>10419</td><td>12770</td></tr>\n",
       "\t<tr><th scope=row>SRR4449146-X</th><td>20799</td><td>15055</td><td>17232</td><td>17832</td><td> 8934</td><td>13300</td><td>16204</td></tr>\n",
       "\t<tr><th scope=row>SRR4449150-X</th><td>15825</td><td>11185</td><td>12852</td><td>13273</td><td> 6379</td><td> 9922</td><td>12026</td></tr>\n",
       "\t<tr><th scope=row>SRR4449152-X</th><td> 8768</td><td>    0</td><td>    0</td><td>    0</td><td>    0</td><td>    0</td><td>    0</td></tr>\n",
       "\t<tr><th scope=row>SRR4449159-X</th><td>23449</td><td>16294</td><td>18741</td><td>19278</td><td> 8812</td><td>14409</td><td>17297</td></tr>\n",
       "\t<tr><th scope=row>SRR4449161-X</th><td>16071</td><td>11546</td><td>13094</td><td>13459</td><td> 6966</td><td>10497</td><td>12356</td></tr>\n",
       "\t<tr><th scope=row>SRR4450514-X</th><td>20445</td><td>14462</td><td>16558</td><td>17010</td><td> 8129</td><td>12961</td><td>15452</td></tr>\n",
       "\t<tr><th scope=row>SRR4450516-X</th><td>23358</td><td>16758</td><td>18709</td><td>19385</td><td> 9513</td><td>14468</td><td>17496</td></tr>\n",
       "\t<tr><th scope=row>SRR4450520-X</th><td>12425</td><td> 9111</td><td>10099</td><td>10377</td><td> 5096</td><td> 7628</td><td> 9260</td></tr>\n",
       "\t<tr><th scope=row>SRR4450522-X</th><td>23781</td><td>17076</td><td>19143</td><td>19701</td><td> 9042</td><td>14411</td><td>17533</td></tr>\n",
       "\t<tr><th scope=row>SRR4450524-X</th><td>17970</td><td>12516</td><td>14441</td><td>14827</td><td> 7658</td><td>11490</td><td>13640</td></tr>\n",
       "\t<tr><th scope=row>SRR4450526-X</th><td>22960</td><td>15945</td><td>17953</td><td>18517</td><td> 9551</td><td>14078</td><td>16848</td></tr>\n",
       "\t<tr><th scope=row>SRR4450528-X</th><td>22766</td><td>15877</td><td>18225</td><td>18735</td><td> 9489</td><td>14364</td><td>17271</td></tr>\n",
       "\t<tr><th scope=row>SRR4450530-X</th><td>20990</td><td>14434</td><td>16802</td><td>17332</td><td> 8731</td><td>13417</td><td>16036</td></tr>\n",
       "\t<tr><th scope=row>SRR4450533-X</th><td>20076</td><td>13822</td><td>15910</td><td>16454</td><td> 8056</td><td>12695</td><td>15188</td></tr>\n",
       "\t<tr><th scope=row>SRR4450535-X</th><td>21085</td><td>14701</td><td>16849</td><td>17388</td><td> 8607</td><td>13222</td><td>15966</td></tr>\n",
       "\t<tr><th scope=row>SRR4450538-X</th><td>24048</td><td>16836</td><td>18947</td><td>19502</td><td> 9977</td><td>14805</td><td>18042</td></tr>\n",
       "\t<tr><th scope=row>SRR4450556-X</th><td>22642</td><td>16296</td><td>18681</td><td>19160</td><td>10059</td><td>14973</td><td>17768</td></tr>\n",
       "\t<tr><th scope=row>SRR4450558-X</th><td>20092</td><td>14138</td><td>16360</td><td>16877</td><td> 8316</td><td>12847</td><td>15351</td></tr>\n",
       "\t<tr><th scope=row>SRR4450560-X</th><td>14967</td><td>10959</td><td>12337</td><td>12660</td><td> 6896</td><td> 9973</td><td>11809</td></tr>\n",
       "\t<tr><th scope=row>SRR4450589-X</th><td>17804</td><td>12618</td><td>14278</td><td>14677</td><td> 7587</td><td>11127</td><td>13332</td></tr>\n",
       "\t<tr><th scope=row>SRR4450591-X</th><td>20025</td><td>14832</td><td>16715</td><td>17147</td><td> 8881</td><td>13160</td><td>15531</td></tr>\n",
       "\t<tr><th scope=row>SRR4450596-X</th><td>20115</td><td>14362</td><td>16570</td><td>17071</td><td> 9361</td><td>13626</td><td>16014</td></tr>\n",
       "\t<tr><th scope=row>SRR4450598-X</th><td>20361</td><td>14295</td><td>16617</td><td>17095</td><td> 8886</td><td>13345</td><td>15860</td></tr>\n",
       "\t<tr><th scope=row>SRR4450600-X</th><td>21673</td><td>15231</td><td>17602</td><td>18064</td><td> 9268</td><td>13973</td><td>16375</td></tr>\n",
       "\t<tr><th scope=row>SRR4450602-X</th><td>16970</td><td>11689</td><td>13893</td><td>14355</td><td> 7234</td><td>11147</td><td>13397</td></tr>\n",
       "\t<tr><th scope=row>SRR4450604-X</th><td>17873</td><td>12548</td><td>14575</td><td>15040</td><td> 7777</td><td>11820</td><td>13946</td></tr>\n",
       "\t<tr><th scope=row>SRR4450606-X</th><td>18140</td><td>12639</td><td>14722</td><td>15140</td><td> 7637</td><td>11581</td><td>13881</td></tr>\n",
       "\t<tr><th scope=row>SRR4450608-X</th><td>16113</td><td>11149</td><td>12965</td><td>13344</td><td> 6482</td><td>10497</td><td>12286</td></tr>\n",
       "\t<tr><th scope=row>SRR4450610-X</th><td>17864</td><td>12564</td><td>14434</td><td>14863</td><td> 7747</td><td>11756</td><td>13732</td></tr>\n",
       "\t<tr><th scope=row>SRR4450612-X</th><td>13955</td><td> 9640</td><td>11306</td><td>11609</td><td> 5612</td><td> 8973</td><td>10624</td></tr>\n",
       "\t<tr><th scope=row>SRR4450614-X</th><td>17774</td><td>12720</td><td>14627</td><td>15041</td><td> 7999</td><td>12232</td><td>14158</td></tr>\n",
       "\t<tr><th scope=row>SRR4450616-X</th><td>19353</td><td>14112</td><td>16153</td><td>16584</td><td> 8580</td><td>12967</td><td>15228</td></tr>\n",
       "\t<tr><th scope=row>SRR4450619-X</th><td>17127</td><td>12231</td><td>14063</td><td>14506</td><td> 7272</td><td>11459</td><td>13393</td></tr>\n",
       "</tbody>\n",
       "</table>\n"
      ],
      "text/latex": [
       "\\begin{tabular}{r|lllllll}\n",
       "  & sample\\_sums.ps.yao. & sample\\_sums.yao\\_glom\\_genus. & sample\\_sums.yao\\_glom\\_family. & sample\\_sums.yao\\_glom\\_order. & sample\\_sums.yao\\_pruned.genus. & sample\\_sums.yao\\_pruned.fam. & sample\\_sums.yao\\_pruned.ord.\\\\\n",
       "\\hline\n",
       "\tSRR4446119-X & 19170 & 13525 & 15306 & 15771 &  7359 & 11291 & 14041\\\\\n",
       "\tSRR4448895-X & 20594 & 14490 & 16296 & 16817 &  8367 & 12470 & 15050\\\\\n",
       "\tSRR4448898-X & 19160 & 13233 & 15107 & 15653 &  7703 & 11688 & 14229\\\\\n",
       "\tSRR4448930-X & 12722 &  8713 & 10185 & 10596 &  5202 &  7975 &  9786\\\\\n",
       "\tSRR4448946-X & 13940 &  9621 & 11225 & 11522 &  5637 &  8939 & 10656\\\\\n",
       "\tSRR4448948-X & 19934 & 13747 & 15919 & 16416 &  7792 & 12613 & 15027\\\\\n",
       "\tSRR4448950-X & 12364 &  8371 &  9663 & 10017 &  4933 &  7675 &  9305\\\\\n",
       "\tSRR4448953-X & 14666 &  9960 & 11582 & 12073 &  6163 &  9532 & 11211\\\\\n",
       "\tSRR4448955-X & 16753 & 11601 & 13649 & 13999 &  7106 & 11154 & 13054\\\\\n",
       "\tSRR4448970-X & 13992 &  9978 & 11250 & 11628 &  5988 &  8995 & 10729\\\\\n",
       "\tSRR4449089-X & 13783 &  9995 & 11163 & 11487 &  5743 &  8930 & 10511\\\\\n",
       "\tSRR4449114-X & 16995 & 12417 & 14004 & 14413 &  7646 & 11455 & 13465\\\\\n",
       "\tSRR4449119-X & 17093 & 11848 & 13504 & 13932 &  6848 & 10361 & 12541\\\\\n",
       "\tSRR4449127-X & 14749 & 10209 & 11702 & 12171 &  6110 &  9161 & 10981\\\\\n",
       "\tSRR4449142-X & 17458 & 12264 & 13729 & 14276 &  6897 & 10419 & 12770\\\\\n",
       "\tSRR4449146-X & 20799 & 15055 & 17232 & 17832 &  8934 & 13300 & 16204\\\\\n",
       "\tSRR4449150-X & 15825 & 11185 & 12852 & 13273 &  6379 &  9922 & 12026\\\\\n",
       "\tSRR4449152-X &  8768 &     0 &     0 &     0 &     0 &     0 &     0\\\\\n",
       "\tSRR4449159-X & 23449 & 16294 & 18741 & 19278 &  8812 & 14409 & 17297\\\\\n",
       "\tSRR4449161-X & 16071 & 11546 & 13094 & 13459 &  6966 & 10497 & 12356\\\\\n",
       "\tSRR4450514-X & 20445 & 14462 & 16558 & 17010 &  8129 & 12961 & 15452\\\\\n",
       "\tSRR4450516-X & 23358 & 16758 & 18709 & 19385 &  9513 & 14468 & 17496\\\\\n",
       "\tSRR4450520-X & 12425 &  9111 & 10099 & 10377 &  5096 &  7628 &  9260\\\\\n",
       "\tSRR4450522-X & 23781 & 17076 & 19143 & 19701 &  9042 & 14411 & 17533\\\\\n",
       "\tSRR4450524-X & 17970 & 12516 & 14441 & 14827 &  7658 & 11490 & 13640\\\\\n",
       "\tSRR4450526-X & 22960 & 15945 & 17953 & 18517 &  9551 & 14078 & 16848\\\\\n",
       "\tSRR4450528-X & 22766 & 15877 & 18225 & 18735 &  9489 & 14364 & 17271\\\\\n",
       "\tSRR4450530-X & 20990 & 14434 & 16802 & 17332 &  8731 & 13417 & 16036\\\\\n",
       "\tSRR4450533-X & 20076 & 13822 & 15910 & 16454 &  8056 & 12695 & 15188\\\\\n",
       "\tSRR4450535-X & 21085 & 14701 & 16849 & 17388 &  8607 & 13222 & 15966\\\\\n",
       "\tSRR4450538-X & 24048 & 16836 & 18947 & 19502 &  9977 & 14805 & 18042\\\\\n",
       "\tSRR4450556-X & 22642 & 16296 & 18681 & 19160 & 10059 & 14973 & 17768\\\\\n",
       "\tSRR4450558-X & 20092 & 14138 & 16360 & 16877 &  8316 & 12847 & 15351\\\\\n",
       "\tSRR4450560-X & 14967 & 10959 & 12337 & 12660 &  6896 &  9973 & 11809\\\\\n",
       "\tSRR4450589-X & 17804 & 12618 & 14278 & 14677 &  7587 & 11127 & 13332\\\\\n",
       "\tSRR4450591-X & 20025 & 14832 & 16715 & 17147 &  8881 & 13160 & 15531\\\\\n",
       "\tSRR4450596-X & 20115 & 14362 & 16570 & 17071 &  9361 & 13626 & 16014\\\\\n",
       "\tSRR4450598-X & 20361 & 14295 & 16617 & 17095 &  8886 & 13345 & 15860\\\\\n",
       "\tSRR4450600-X & 21673 & 15231 & 17602 & 18064 &  9268 & 13973 & 16375\\\\\n",
       "\tSRR4450602-X & 16970 & 11689 & 13893 & 14355 &  7234 & 11147 & 13397\\\\\n",
       "\tSRR4450604-X & 17873 & 12548 & 14575 & 15040 &  7777 & 11820 & 13946\\\\\n",
       "\tSRR4450606-X & 18140 & 12639 & 14722 & 15140 &  7637 & 11581 & 13881\\\\\n",
       "\tSRR4450608-X & 16113 & 11149 & 12965 & 13344 &  6482 & 10497 & 12286\\\\\n",
       "\tSRR4450610-X & 17864 & 12564 & 14434 & 14863 &  7747 & 11756 & 13732\\\\\n",
       "\tSRR4450612-X & 13955 &  9640 & 11306 & 11609 &  5612 &  8973 & 10624\\\\\n",
       "\tSRR4450614-X & 17774 & 12720 & 14627 & 15041 &  7999 & 12232 & 14158\\\\\n",
       "\tSRR4450616-X & 19353 & 14112 & 16153 & 16584 &  8580 & 12967 & 15228\\\\\n",
       "\tSRR4450619-X & 17127 & 12231 & 14063 & 14506 &  7272 & 11459 & 13393\\\\\n",
       "\\end{tabular}\n"
      ],
      "text/markdown": [
       "\n",
       "| <!--/--> | sample_sums.ps.yao. | sample_sums.yao_glom_genus. | sample_sums.yao_glom_family. | sample_sums.yao_glom_order. | sample_sums.yao_pruned.genus. | sample_sums.yao_pruned.fam. | sample_sums.yao_pruned.ord. | \n",
       "|---|---|---|---|---|---|---|---|---|---|---|---|---|---|---|---|---|---|---|---|---|---|---|---|---|---|---|---|---|---|---|---|---|---|---|---|---|---|---|---|---|---|---|---|---|---|---|---|\n",
       "| SRR4446119-X | 19170 | 13525 | 15306 | 15771 |  7359 | 11291 | 14041 | \n",
       "| SRR4448895-X | 20594 | 14490 | 16296 | 16817 |  8367 | 12470 | 15050 | \n",
       "| SRR4448898-X | 19160 | 13233 | 15107 | 15653 |  7703 | 11688 | 14229 | \n",
       "| SRR4448930-X | 12722 |  8713 | 10185 | 10596 |  5202 |  7975 |  9786 | \n",
       "| SRR4448946-X | 13940 |  9621 | 11225 | 11522 |  5637 |  8939 | 10656 | \n",
       "| SRR4448948-X | 19934 | 13747 | 15919 | 16416 |  7792 | 12613 | 15027 | \n",
       "| SRR4448950-X | 12364 |  8371 |  9663 | 10017 |  4933 |  7675 |  9305 | \n",
       "| SRR4448953-X | 14666 |  9960 | 11582 | 12073 |  6163 |  9532 | 11211 | \n",
       "| SRR4448955-X | 16753 | 11601 | 13649 | 13999 |  7106 | 11154 | 13054 | \n",
       "| SRR4448970-X | 13992 |  9978 | 11250 | 11628 |  5988 |  8995 | 10729 | \n",
       "| SRR4449089-X | 13783 |  9995 | 11163 | 11487 |  5743 |  8930 | 10511 | \n",
       "| SRR4449114-X | 16995 | 12417 | 14004 | 14413 |  7646 | 11455 | 13465 | \n",
       "| SRR4449119-X | 17093 | 11848 | 13504 | 13932 |  6848 | 10361 | 12541 | \n",
       "| SRR4449127-X | 14749 | 10209 | 11702 | 12171 |  6110 |  9161 | 10981 | \n",
       "| SRR4449142-X | 17458 | 12264 | 13729 | 14276 |  6897 | 10419 | 12770 | \n",
       "| SRR4449146-X | 20799 | 15055 | 17232 | 17832 |  8934 | 13300 | 16204 | \n",
       "| SRR4449150-X | 15825 | 11185 | 12852 | 13273 |  6379 |  9922 | 12026 | \n",
       "| SRR4449152-X |  8768 |     0 |     0 |     0 |     0 |     0 |     0 | \n",
       "| SRR4449159-X | 23449 | 16294 | 18741 | 19278 |  8812 | 14409 | 17297 | \n",
       "| SRR4449161-X | 16071 | 11546 | 13094 | 13459 |  6966 | 10497 | 12356 | \n",
       "| SRR4450514-X | 20445 | 14462 | 16558 | 17010 |  8129 | 12961 | 15452 | \n",
       "| SRR4450516-X | 23358 | 16758 | 18709 | 19385 |  9513 | 14468 | 17496 | \n",
       "| SRR4450520-X | 12425 |  9111 | 10099 | 10377 |  5096 |  7628 |  9260 | \n",
       "| SRR4450522-X | 23781 | 17076 | 19143 | 19701 |  9042 | 14411 | 17533 | \n",
       "| SRR4450524-X | 17970 | 12516 | 14441 | 14827 |  7658 | 11490 | 13640 | \n",
       "| SRR4450526-X | 22960 | 15945 | 17953 | 18517 |  9551 | 14078 | 16848 | \n",
       "| SRR4450528-X | 22766 | 15877 | 18225 | 18735 |  9489 | 14364 | 17271 | \n",
       "| SRR4450530-X | 20990 | 14434 | 16802 | 17332 |  8731 | 13417 | 16036 | \n",
       "| SRR4450533-X | 20076 | 13822 | 15910 | 16454 |  8056 | 12695 | 15188 | \n",
       "| SRR4450535-X | 21085 | 14701 | 16849 | 17388 |  8607 | 13222 | 15966 | \n",
       "| SRR4450538-X | 24048 | 16836 | 18947 | 19502 |  9977 | 14805 | 18042 | \n",
       "| SRR4450556-X | 22642 | 16296 | 18681 | 19160 | 10059 | 14973 | 17768 | \n",
       "| SRR4450558-X | 20092 | 14138 | 16360 | 16877 |  8316 | 12847 | 15351 | \n",
       "| SRR4450560-X | 14967 | 10959 | 12337 | 12660 |  6896 |  9973 | 11809 | \n",
       "| SRR4450589-X | 17804 | 12618 | 14278 | 14677 |  7587 | 11127 | 13332 | \n",
       "| SRR4450591-X | 20025 | 14832 | 16715 | 17147 |  8881 | 13160 | 15531 | \n",
       "| SRR4450596-X | 20115 | 14362 | 16570 | 17071 |  9361 | 13626 | 16014 | \n",
       "| SRR4450598-X | 20361 | 14295 | 16617 | 17095 |  8886 | 13345 | 15860 | \n",
       "| SRR4450600-X | 21673 | 15231 | 17602 | 18064 |  9268 | 13973 | 16375 | \n",
       "| SRR4450602-X | 16970 | 11689 | 13893 | 14355 |  7234 | 11147 | 13397 | \n",
       "| SRR4450604-X | 17873 | 12548 | 14575 | 15040 |  7777 | 11820 | 13946 | \n",
       "| SRR4450606-X | 18140 | 12639 | 14722 | 15140 |  7637 | 11581 | 13881 | \n",
       "| SRR4450608-X | 16113 | 11149 | 12965 | 13344 |  6482 | 10497 | 12286 | \n",
       "| SRR4450610-X | 17864 | 12564 | 14434 | 14863 |  7747 | 11756 | 13732 | \n",
       "| SRR4450612-X | 13955 |  9640 | 11306 | 11609 |  5612 |  8973 | 10624 | \n",
       "| SRR4450614-X | 17774 | 12720 | 14627 | 15041 |  7999 | 12232 | 14158 | \n",
       "| SRR4450616-X | 19353 | 14112 | 16153 | 16584 |  8580 | 12967 | 15228 | \n",
       "| SRR4450619-X | 17127 | 12231 | 14063 | 14506 |  7272 | 11459 | 13393 | \n",
       "\n",
       "\n"
      ],
      "text/plain": [
       "             sample_sums.ps.yao. sample_sums.yao_glom_genus.\n",
       "SRR4446119-X 19170               13525                      \n",
       "SRR4448895-X 20594               14490                      \n",
       "SRR4448898-X 19160               13233                      \n",
       "SRR4448930-X 12722                8713                      \n",
       "SRR4448946-X 13940                9621                      \n",
       "SRR4448948-X 19934               13747                      \n",
       "SRR4448950-X 12364                8371                      \n",
       "SRR4448953-X 14666                9960                      \n",
       "SRR4448955-X 16753               11601                      \n",
       "SRR4448970-X 13992                9978                      \n",
       "SRR4449089-X 13783                9995                      \n",
       "SRR4449114-X 16995               12417                      \n",
       "SRR4449119-X 17093               11848                      \n",
       "SRR4449127-X 14749               10209                      \n",
       "SRR4449142-X 17458               12264                      \n",
       "SRR4449146-X 20799               15055                      \n",
       "SRR4449150-X 15825               11185                      \n",
       "SRR4449152-X  8768                   0                      \n",
       "SRR4449159-X 23449               16294                      \n",
       "SRR4449161-X 16071               11546                      \n",
       "SRR4450514-X 20445               14462                      \n",
       "SRR4450516-X 23358               16758                      \n",
       "SRR4450520-X 12425                9111                      \n",
       "SRR4450522-X 23781               17076                      \n",
       "SRR4450524-X 17970               12516                      \n",
       "SRR4450526-X 22960               15945                      \n",
       "SRR4450528-X 22766               15877                      \n",
       "SRR4450530-X 20990               14434                      \n",
       "SRR4450533-X 20076               13822                      \n",
       "SRR4450535-X 21085               14701                      \n",
       "SRR4450538-X 24048               16836                      \n",
       "SRR4450556-X 22642               16296                      \n",
       "SRR4450558-X 20092               14138                      \n",
       "SRR4450560-X 14967               10959                      \n",
       "SRR4450589-X 17804               12618                      \n",
       "SRR4450591-X 20025               14832                      \n",
       "SRR4450596-X 20115               14362                      \n",
       "SRR4450598-X 20361               14295                      \n",
       "SRR4450600-X 21673               15231                      \n",
       "SRR4450602-X 16970               11689                      \n",
       "SRR4450604-X 17873               12548                      \n",
       "SRR4450606-X 18140               12639                      \n",
       "SRR4450608-X 16113               11149                      \n",
       "SRR4450610-X 17864               12564                      \n",
       "SRR4450612-X 13955                9640                      \n",
       "SRR4450614-X 17774               12720                      \n",
       "SRR4450616-X 19353               14112                      \n",
       "SRR4450619-X 17127               12231                      \n",
       "             sample_sums.yao_glom_family. sample_sums.yao_glom_order.\n",
       "SRR4446119-X 15306                        15771                      \n",
       "SRR4448895-X 16296                        16817                      \n",
       "SRR4448898-X 15107                        15653                      \n",
       "SRR4448930-X 10185                        10596                      \n",
       "SRR4448946-X 11225                        11522                      \n",
       "SRR4448948-X 15919                        16416                      \n",
       "SRR4448950-X  9663                        10017                      \n",
       "SRR4448953-X 11582                        12073                      \n",
       "SRR4448955-X 13649                        13999                      \n",
       "SRR4448970-X 11250                        11628                      \n",
       "SRR4449089-X 11163                        11487                      \n",
       "SRR4449114-X 14004                        14413                      \n",
       "SRR4449119-X 13504                        13932                      \n",
       "SRR4449127-X 11702                        12171                      \n",
       "SRR4449142-X 13729                        14276                      \n",
       "SRR4449146-X 17232                        17832                      \n",
       "SRR4449150-X 12852                        13273                      \n",
       "SRR4449152-X     0                            0                      \n",
       "SRR4449159-X 18741                        19278                      \n",
       "SRR4449161-X 13094                        13459                      \n",
       "SRR4450514-X 16558                        17010                      \n",
       "SRR4450516-X 18709                        19385                      \n",
       "SRR4450520-X 10099                        10377                      \n",
       "SRR4450522-X 19143                        19701                      \n",
       "SRR4450524-X 14441                        14827                      \n",
       "SRR4450526-X 17953                        18517                      \n",
       "SRR4450528-X 18225                        18735                      \n",
       "SRR4450530-X 16802                        17332                      \n",
       "SRR4450533-X 15910                        16454                      \n",
       "SRR4450535-X 16849                        17388                      \n",
       "SRR4450538-X 18947                        19502                      \n",
       "SRR4450556-X 18681                        19160                      \n",
       "SRR4450558-X 16360                        16877                      \n",
       "SRR4450560-X 12337                        12660                      \n",
       "SRR4450589-X 14278                        14677                      \n",
       "SRR4450591-X 16715                        17147                      \n",
       "SRR4450596-X 16570                        17071                      \n",
       "SRR4450598-X 16617                        17095                      \n",
       "SRR4450600-X 17602                        18064                      \n",
       "SRR4450602-X 13893                        14355                      \n",
       "SRR4450604-X 14575                        15040                      \n",
       "SRR4450606-X 14722                        15140                      \n",
       "SRR4450608-X 12965                        13344                      \n",
       "SRR4450610-X 14434                        14863                      \n",
       "SRR4450612-X 11306                        11609                      \n",
       "SRR4450614-X 14627                        15041                      \n",
       "SRR4450616-X 16153                        16584                      \n",
       "SRR4450619-X 14063                        14506                      \n",
       "             sample_sums.yao_pruned.genus. sample_sums.yao_pruned.fam.\n",
       "SRR4446119-X  7359                         11291                      \n",
       "SRR4448895-X  8367                         12470                      \n",
       "SRR4448898-X  7703                         11688                      \n",
       "SRR4448930-X  5202                          7975                      \n",
       "SRR4448946-X  5637                          8939                      \n",
       "SRR4448948-X  7792                         12613                      \n",
       "SRR4448950-X  4933                          7675                      \n",
       "SRR4448953-X  6163                          9532                      \n",
       "SRR4448955-X  7106                         11154                      \n",
       "SRR4448970-X  5988                          8995                      \n",
       "SRR4449089-X  5743                          8930                      \n",
       "SRR4449114-X  7646                         11455                      \n",
       "SRR4449119-X  6848                         10361                      \n",
       "SRR4449127-X  6110                          9161                      \n",
       "SRR4449142-X  6897                         10419                      \n",
       "SRR4449146-X  8934                         13300                      \n",
       "SRR4449150-X  6379                          9922                      \n",
       "SRR4449152-X     0                             0                      \n",
       "SRR4449159-X  8812                         14409                      \n",
       "SRR4449161-X  6966                         10497                      \n",
       "SRR4450514-X  8129                         12961                      \n",
       "SRR4450516-X  9513                         14468                      \n",
       "SRR4450520-X  5096                          7628                      \n",
       "SRR4450522-X  9042                         14411                      \n",
       "SRR4450524-X  7658                         11490                      \n",
       "SRR4450526-X  9551                         14078                      \n",
       "SRR4450528-X  9489                         14364                      \n",
       "SRR4450530-X  8731                         13417                      \n",
       "SRR4450533-X  8056                         12695                      \n",
       "SRR4450535-X  8607                         13222                      \n",
       "SRR4450538-X  9977                         14805                      \n",
       "SRR4450556-X 10059                         14973                      \n",
       "SRR4450558-X  8316                         12847                      \n",
       "SRR4450560-X  6896                          9973                      \n",
       "SRR4450589-X  7587                         11127                      \n",
       "SRR4450591-X  8881                         13160                      \n",
       "SRR4450596-X  9361                         13626                      \n",
       "SRR4450598-X  8886                         13345                      \n",
       "SRR4450600-X  9268                         13973                      \n",
       "SRR4450602-X  7234                         11147                      \n",
       "SRR4450604-X  7777                         11820                      \n",
       "SRR4450606-X  7637                         11581                      \n",
       "SRR4450608-X  6482                         10497                      \n",
       "SRR4450610-X  7747                         11756                      \n",
       "SRR4450612-X  5612                          8973                      \n",
       "SRR4450614-X  7999                         12232                      \n",
       "SRR4450616-X  8580                         12967                      \n",
       "SRR4450619-X  7272                         11459                      \n",
       "             sample_sums.yao_pruned.ord.\n",
       "SRR4446119-X 14041                      \n",
       "SRR4448895-X 15050                      \n",
       "SRR4448898-X 14229                      \n",
       "SRR4448930-X  9786                      \n",
       "SRR4448946-X 10656                      \n",
       "SRR4448948-X 15027                      \n",
       "SRR4448950-X  9305                      \n",
       "SRR4448953-X 11211                      \n",
       "SRR4448955-X 13054                      \n",
       "SRR4448970-X 10729                      \n",
       "SRR4449089-X 10511                      \n",
       "SRR4449114-X 13465                      \n",
       "SRR4449119-X 12541                      \n",
       "SRR4449127-X 10981                      \n",
       "SRR4449142-X 12770                      \n",
       "SRR4449146-X 16204                      \n",
       "SRR4449150-X 12026                      \n",
       "SRR4449152-X     0                      \n",
       "SRR4449159-X 17297                      \n",
       "SRR4449161-X 12356                      \n",
       "SRR4450514-X 15452                      \n",
       "SRR4450516-X 17496                      \n",
       "SRR4450520-X  9260                      \n",
       "SRR4450522-X 17533                      \n",
       "SRR4450524-X 13640                      \n",
       "SRR4450526-X 16848                      \n",
       "SRR4450528-X 17271                      \n",
       "SRR4450530-X 16036                      \n",
       "SRR4450533-X 15188                      \n",
       "SRR4450535-X 15966                      \n",
       "SRR4450538-X 18042                      \n",
       "SRR4450556-X 17768                      \n",
       "SRR4450558-X 15351                      \n",
       "SRR4450560-X 11809                      \n",
       "SRR4450589-X 13332                      \n",
       "SRR4450591-X 15531                      \n",
       "SRR4450596-X 16014                      \n",
       "SRR4450598-X 15860                      \n",
       "SRR4450600-X 16375                      \n",
       "SRR4450602-X 13397                      \n",
       "SRR4450604-X 13946                      \n",
       "SRR4450606-X 13881                      \n",
       "SRR4450608-X 12286                      \n",
       "SRR4450610-X 13732                      \n",
       "SRR4450612-X 10624                      \n",
       "SRR4450614-X 14158                      \n",
       "SRR4450616-X 15228                      \n",
       "SRR4450619-X 13393                      "
      ]
     },
     "metadata": {},
     "output_type": "display_data"
    }
   ],
   "source": [
    "data.frame(sample_sums(ps.yao),sample_sums(yao_glom_genus),sample_sums(yao_glom_family),sample_sums(yao_glom_order),sample_sums(yao_pruned.genus),sample_sums(yao_pruned.fam), sample_sums(yao_pruned.ord))"
   ]
  },
  {
   "cell_type": "markdown",
   "metadata": {},
   "source": [
    "### Nielsen2014"
   ]
  },
  {
   "cell_type": "code",
   "execution_count": 53,
   "metadata": {},
   "outputs": [],
   "source": [
    "nielsen2014_glom_genus = tax_glom(ps.nielsen2014, \"Genus\")\n",
    "nielsen2014_glom_family = tax_glom(ps.nielsen2014, \"Family\")\n",
    "nielsen2014_glom_order = tax_glom(ps.nielsen2014, \"Order\")"
   ]
  },
  {
   "cell_type": "code",
   "execution_count": 54,
   "metadata": {
    "collapsed": true
   },
   "outputs": [
    {
     "data": {
      "text/html": [
       "<ol class=list-inline>\n",
       "\t<li>5059</li>\n",
       "\t<li>7</li>\n",
       "</ol>\n"
      ],
      "text/latex": [
       "\\begin{enumerate*}\n",
       "\\item 5059\n",
       "\\item 7\n",
       "\\end{enumerate*}\n"
      ],
      "text/markdown": [
       "1. 5059\n",
       "2. 7\n",
       "\n",
       "\n"
      ],
      "text/plain": [
       "[1] 5059    7"
      ]
     },
     "metadata": {},
     "output_type": "display_data"
    },
    {
     "data": {
      "text/html": [
       "<ol class=list-inline>\n",
       "\t<li>405</li>\n",
       "\t<li>7</li>\n",
       "</ol>\n"
      ],
      "text/latex": [
       "\\begin{enumerate*}\n",
       "\\item 405\n",
       "\\item 7\n",
       "\\end{enumerate*}\n"
      ],
      "text/markdown": [
       "1. 405\n",
       "2. 7\n",
       "\n",
       "\n"
      ],
      "text/plain": [
       "[1] 405   7"
      ]
     },
     "metadata": {},
     "output_type": "display_data"
    },
    {
     "data": {
      "text/html": [
       "<ol class=list-inline>\n",
       "\t<li>278</li>\n",
       "\t<li>7</li>\n",
       "</ol>\n"
      ],
      "text/latex": [
       "\\begin{enumerate*}\n",
       "\\item 278\n",
       "\\item 7\n",
       "\\end{enumerate*}\n"
      ],
      "text/markdown": [
       "1. 278\n",
       "2. 7\n",
       "\n",
       "\n"
      ],
      "text/plain": [
       "[1] 278   7"
      ]
     },
     "metadata": {},
     "output_type": "display_data"
    },
    {
     "data": {
      "text/html": [
       "<ol class=list-inline>\n",
       "\t<li>195</li>\n",
       "\t<li>7</li>\n",
       "</ol>\n"
      ],
      "text/latex": [
       "\\begin{enumerate*}\n",
       "\\item 195\n",
       "\\item 7\n",
       "\\end{enumerate*}\n"
      ],
      "text/markdown": [
       "1. 195\n",
       "2. 7\n",
       "\n",
       "\n"
      ],
      "text/plain": [
       "[1] 195   7"
      ]
     },
     "metadata": {},
     "output_type": "display_data"
    }
   ],
   "source": [
    "dim(tax_table(ps.nielsen2014))\n",
    "dim(tax_table(nielsen2014_glom_genus))\n",
    "dim(tax_table(nielsen2014_glom_family))\n",
    "dim(tax_table(nielsen2014_glom_order))"
   ]
  },
  {
   "cell_type": "code",
   "execution_count": 55,
   "metadata": {
    "collapsed": true
   },
   "outputs": [
    {
     "data": {
      "text/html": [
       "153"
      ],
      "text/latex": [
       "153"
      ],
      "text/markdown": [
       "153"
      ],
      "text/plain": [
       "[1] 153"
      ]
     },
     "metadata": {},
     "output_type": "display_data"
    },
    {
     "data": {
      "text/plain": [
       "phyloseq-class experiment-level object\n",
       "otu_table()   OTU Table:         [ 252 taxa and 42 samples ]\n",
       "sample_data() Sample Data:       [ 42 samples by 42 sample variables ]\n",
       "tax_table()   Taxonomy Table:    [ 252 taxa by 7 taxonomic ranks ]"
      ]
     },
     "metadata": {},
     "output_type": "display_data"
    },
    {
     "data": {
      "text/html": [
       "252"
      ],
      "text/latex": [
       "252"
      ],
      "text/markdown": [
       "252"
      ],
      "text/plain": [
       "[1] 252"
      ]
     },
     "metadata": {},
     "output_type": "display_data"
    }
   ],
   "source": [
    "names = data.frame(tax_table(nielsen2014_glom_genus))\n",
    "unwanted.rows = grep(\"uncultured*\",names$Genus)\n",
    "unwanted.rows = c(unwanted.rows,grep(\"metagenome*\",names$Genus))\n",
    "unwanted.rows = c(unwanted.rows,grep(\"Ambiguous_taxa*\",names$Genus))\n",
    "unwanted.rows = c(unwanted.rows,grep(\"Triticum*\",names$Genus))\n",
    "length(unwanted.rows)\n",
    "wanted.rows = !(rep(1:dim(names)[1]) %in% unwanted.rows)\n",
    "nielsen2014_pruned.genus = prune_taxa(taxa_names(nielsen2014_glom_genus)[wanted.rows = !(rep(1:dim(names)[1]) %in% unwanted.rows)], nielsen2014_glom_genus) \n",
    "nielsen2014_pruned.genus\n",
    "length(unique(data.frame(tax_table(nielsen2014_pruned.genus))$Genus))"
   ]
  },
  {
   "cell_type": "code",
   "execution_count": 56,
   "metadata": {
    "collapsed": true
   },
   "outputs": [
    {
     "data": {
      "text/html": [
       "86"
      ],
      "text/latex": [
       "86"
      ],
      "text/markdown": [
       "86"
      ],
      "text/plain": [
       "[1] 86"
      ]
     },
     "metadata": {},
     "output_type": "display_data"
    },
    {
     "data": {
      "text/plain": [
       "phyloseq-class experiment-level object\n",
       "otu_table()   OTU Table:         [ 192 taxa and 42 samples ]\n",
       "sample_data() Sample Data:       [ 42 samples by 42 sample variables ]\n",
       "tax_table()   Taxonomy Table:    [ 192 taxa by 7 taxonomic ranks ]"
      ]
     },
     "metadata": {},
     "output_type": "display_data"
    },
    {
     "data": {
      "text/html": [
       "192"
      ],
      "text/latex": [
       "192"
      ],
      "text/markdown": [
       "192"
      ],
      "text/plain": [
       "[1] 192"
      ]
     },
     "metadata": {},
     "output_type": "display_data"
    }
   ],
   "source": [
    "names = data.frame(tax_table(nielsen2014_glom_family))\n",
    "unwanted.rows = grep(\"uncultured*\",names$Family)\n",
    "unwanted.rows = c(unwanted.rows,grep(\"metagenome*\",names$Family))\n",
    "unwanted.rows = c(unwanted.rows,grep(\"Ambiguous_taxa*\",names$Family))\n",
    "unwanted.rows = c(unwanted.rows,grep(\"Unknown Family*\",names$Family))\n",
    "length(unwanted.rows)\n",
    "wanted.rows = !(rep(1:dim(names)[1]) %in% unwanted.rows)\n",
    "nielsen2014_pruned.fam = prune_taxa(taxa_names(nielsen2014_glom_family)[wanted.rows = !(rep(1:dim(names)[1]) %in% unwanted.rows)], nielsen2014_glom_family) \n",
    "nielsen2014_pruned.fam\n",
    "length(unique(data.frame(tax_table(nielsen2014_pruned.fam))$Family))"
   ]
  },
  {
   "cell_type": "code",
   "execution_count": 57,
   "metadata": {
    "collapsed": true
   },
   "outputs": [
    {
     "data": {
      "text/html": [
       "38"
      ],
      "text/latex": [
       "38"
      ],
      "text/markdown": [
       "38"
      ],
      "text/plain": [
       "[1] 38"
      ]
     },
     "metadata": {},
     "output_type": "display_data"
    },
    {
     "data": {
      "text/plain": [
       "phyloseq-class experiment-level object\n",
       "otu_table()   OTU Table:         [ 157 taxa and 42 samples ]\n",
       "sample_data() Sample Data:       [ 42 samples by 42 sample variables ]\n",
       "tax_table()   Taxonomy Table:    [ 157 taxa by 7 taxonomic ranks ]"
      ]
     },
     "metadata": {},
     "output_type": "display_data"
    },
    {
     "data": {
      "text/html": [
       "157"
      ],
      "text/latex": [
       "157"
      ],
      "text/markdown": [
       "157"
      ],
      "text/plain": [
       "[1] 157"
      ]
     },
     "metadata": {},
     "output_type": "display_data"
    }
   ],
   "source": [
    "names = data.frame(tax_table(nielsen2014_glom_order))\n",
    "unwanted.rows = grep(\"uncultured*\",names$Order)\n",
    "unwanted.rows = c(unwanted.rows,grep(\"metagenome*\",names$Order))\n",
    "unwanted.rows = c(unwanted.rows,grep(\"Ambiguous_taxa*\",names$Order))\n",
    "unwanted.rows = c(unwanted.rows,grep(\"Unknown Family*\",names$Order))\n",
    "length(unwanted.rows)\n",
    "wanted.rows = !(rep(1:dim(names)[1]) %in% unwanted.rows)\n",
    "nielsen2014_pruned.ord = prune_taxa(taxa_names(nielsen2014_glom_order)[wanted.rows = !(rep(1:dim(names)[1]) %in% unwanted.rows)], nielsen2014_glom_order) \n",
    "nielsen2014_pruned.ord\n",
    "length(unique(data.frame(tax_table(nielsen2014_pruned.ord))$Order))"
   ]
  },
  {
   "cell_type": "code",
   "execution_count": 58,
   "metadata": {
    "collapsed": true
   },
   "outputs": [
    {
     "data": {
      "text/html": [
       "<table>\n",
       "<thead><tr><th></th><th scope=col>sample_sums.ps.nielsen2014.</th><th scope=col>sample_sums.nielsen2014_glom_genus.</th><th scope=col>sample_sums.nielsen2014_glom_family.</th><th scope=col>sample_sums.nielsen2014_glom_order.</th><th scope=col>sample_sums.nielsen2014_pruned.genus.</th><th scope=col>sample_sums.nielsen2014_pruned.fam.</th><th scope=col>sample_sums.nielsen2014_pruned.ord.</th></tr></thead>\n",
       "<tbody>\n",
       "\t<tr><th scope=row>ERR1594095</th><td>205335</td><td> 71235</td><td>105845</td><td>133853</td><td>51134 </td><td> 89693</td><td>130864</td></tr>\n",
       "\t<tr><th scope=row>ERR1594096</th><td>171006</td><td> 43872</td><td> 70329</td><td>110155</td><td>30691 </td><td> 55597</td><td>106192</td></tr>\n",
       "\t<tr><th scope=row>ERR1594097</th><td>165623</td><td> 44944</td><td> 69870</td><td> 98160</td><td>28601 </td><td> 53994</td><td> 90931</td></tr>\n",
       "\t<tr><th scope=row>ERR1594098</th><td>184352</td><td> 68339</td><td> 99832</td><td>124247</td><td>50493 </td><td> 83525</td><td>121024</td></tr>\n",
       "\t<tr><th scope=row>ERR1594099</th><td>184682</td><td> 82232</td><td>121011</td><td>148258</td><td>62871 </td><td>105358</td><td>146230</td></tr>\n",
       "\t<tr><th scope=row>ERR1594100</th><td>192332</td><td> 74947</td><td>113159</td><td>140427</td><td>55818 </td><td> 99230</td><td>138464</td></tr>\n",
       "\t<tr><th scope=row>ERR1594101</th><td>220548</td><td> 88270</td><td>138251</td><td>168895</td><td>61706 </td><td>115742</td><td>164511</td></tr>\n",
       "\t<tr><th scope=row>ERR1594102</th><td>257052</td><td>109855</td><td>158017</td><td>190688</td><td>77667 </td><td>134740</td><td>185813</td></tr>\n",
       "\t<tr><th scope=row>ERR1594103</th><td>153076</td><td> 48980</td><td> 71689</td><td> 93949</td><td>32247 </td><td> 58979</td><td> 88233</td></tr>\n",
       "\t<tr><th scope=row>ERR1594104</th><td>163837</td><td> 50549</td><td> 80470</td><td>137265</td><td>38432 </td><td> 63500</td><td>135103</td></tr>\n",
       "\t<tr><th scope=row>ERR1594105</th><td>214436</td><td> 89691</td><td>130213</td><td>175956</td><td>63762 </td><td>110145</td><td>172661</td></tr>\n",
       "\t<tr><th scope=row>ERR1594106</th><td>175879</td><td> 53905</td><td> 86504</td><td>146531</td><td>38921 </td><td> 65633</td><td>143048</td></tr>\n",
       "\t<tr><th scope=row>ERR1594107</th><td>262080</td><td>122535</td><td>183993</td><td>221962</td><td>92246 </td><td>152990</td><td>217406</td></tr>\n",
       "\t<tr><th scope=row>ERR1594108</th><td>187646</td><td> 80642</td><td>114440</td><td>150188</td><td>57569 </td><td> 86801</td><td>140589</td></tr>\n",
       "\t<tr><th scope=row>ERR1594109</th><td>187143</td><td> 76741</td><td>107741</td><td>143052</td><td>47550 </td><td> 75155</td><td>127031</td></tr>\n",
       "\t<tr><th scope=row>ERR1594110</th><td>167611</td><td> 53073</td><td> 81558</td><td>125161</td><td>32215 </td><td> 62744</td><td>118885</td></tr>\n",
       "\t<tr><th scope=row>ERR1594111</th><td>205631</td><td> 61802</td><td> 93438</td><td>132244</td><td>39922 </td><td> 73124</td><td>126794</td></tr>\n",
       "\t<tr><th scope=row>ERR1594112</th><td>193833</td><td> 83900</td><td>118034</td><td>150524</td><td>58269 </td><td> 98712</td><td>143665</td></tr>\n",
       "\t<tr><th scope=row>ERR1594113</th><td>202758</td><td> 75373</td><td>115035</td><td>170071</td><td>55621 </td><td> 94446</td><td>166777</td></tr>\n",
       "\t<tr><th scope=row>ERR1594114</th><td>201946</td><td> 77768</td><td>124084</td><td>166825</td><td>56481 </td><td> 99759</td><td>163200</td></tr>\n",
       "\t<tr><th scope=row>ERR1594115</th><td>162112</td><td> 54058</td><td> 76719</td><td>122141</td><td>31979 </td><td> 57240</td><td>111494</td></tr>\n",
       "\t<tr><th scope=row>ERR1594116</th><td>176620</td><td> 68714</td><td>103957</td><td>145979</td><td>50852 </td><td> 89362</td><td>143764</td></tr>\n",
       "\t<tr><th scope=row>ERR1594117</th><td>155802</td><td> 58669</td><td> 90501</td><td>129338</td><td>44581 </td><td> 76120</td><td>127003</td></tr>\n",
       "\t<tr><th scope=row>ERR1594118</th><td>156117</td><td> 67239</td><td> 98595</td><td>123999</td><td>49647 </td><td> 84187</td><td>121873</td></tr>\n",
       "\t<tr><th scope=row>ERR1594119</th><td>219472</td><td>102324</td><td>147035</td><td>177862</td><td>76418 </td><td>126548</td><td>174291</td></tr>\n",
       "\t<tr><th scope=row>ERR1594120</th><td>196053</td><td> 77077</td><td>115081</td><td>160397</td><td>56935 </td><td> 96768</td><td>157560</td></tr>\n",
       "\t<tr><th scope=row>ERR1594121</th><td>210428</td><td> 93387</td><td>137928</td><td>175374</td><td>70923 </td><td>117180</td><td>172544</td></tr>\n",
       "\t<tr><th scope=row>ERR1594122</th><td>202090</td><td> 82004</td><td>119411</td><td>148023</td><td>61452 </td><td> 98601</td><td>143549</td></tr>\n",
       "\t<tr><th scope=row>ERR1594123</th><td>184912</td><td> 70692</td><td> 99602</td><td>131395</td><td>49217 </td><td> 78849</td><td>122610</td></tr>\n",
       "\t<tr><th scope=row>ERR1594124</th><td>158589</td><td> 55815</td><td> 85021</td><td>113564</td><td>40228 </td><td> 70524</td><td>110527</td></tr>\n",
       "\t<tr><th scope=row>ERR1594125</th><td>181193</td><td> 59101</td><td> 92659</td><td>153767</td><td>44692 </td><td> 74425</td><td>151229</td></tr>\n",
       "\t<tr><th scope=row>ERR1594126</th><td>221876</td><td> 94805</td><td>140308</td><td>182306</td><td>67986 </td><td>111844</td><td>174824</td></tr>\n",
       "\t<tr><th scope=row>ERR1594127</th><td>237558</td><td> 83806</td><td>129247</td><td>193814</td><td>61591 </td><td>103823</td><td>188637</td></tr>\n",
       "\t<tr><th scope=row>ERR1594309</th><td>198948</td><td> 61039</td><td> 82931</td><td>126996</td><td>33540 </td><td> 59501</td><td>114335</td></tr>\n",
       "\t<tr><th scope=row>ERR1594310</th><td>110197</td><td> 43188</td><td> 61345</td><td> 77053</td><td>30844 </td><td> 49314</td><td> 73784</td></tr>\n",
       "\t<tr><th scope=row>ERR1594311</th><td>164959</td><td> 49211</td><td> 73417</td><td> 96571</td><td>30910 </td><td> 57930</td><td> 90549</td></tr>\n",
       "\t<tr><th scope=row>ERR1594312</th><td>219991</td><td> 80103</td><td>120303</td><td>162069</td><td>59386 </td><td>102589</td><td>157860</td></tr>\n",
       "\t<tr><th scope=row>ERR1594313</th><td>197306</td><td> 52873</td><td> 78623</td><td>141728</td><td>39307 </td><td> 64827</td><td>139125</td></tr>\n",
       "\t<tr><th scope=row>ERR1594314</th><td>189678</td><td> 65965</td><td>108549</td><td>138590</td><td>53322 </td><td>100649</td><td>137832</td></tr>\n",
       "\t<tr><th scope=row>ERR1594315</th><td>176246</td><td> 49686</td><td> 85553</td><td>135106</td><td>38970 </td><td> 72331</td><td>133184</td></tr>\n",
       "\t<tr><th scope=row>ERR1594316</th><td>183181</td><td> 79479</td><td>112498</td><td>134838</td><td>53433 </td><td> 90504</td><td>125456</td></tr>\n",
       "\t<tr><th scope=row>ERR1594317</th><td>169385</td><td> 51098</td><td> 82684</td><td>125148</td><td>35216 </td><td> 66026</td><td>119241</td></tr>\n",
       "</tbody>\n",
       "</table>\n"
      ],
      "text/latex": [
       "\\begin{tabular}{r|lllllll}\n",
       "  & sample\\_sums.ps.nielsen2014. & sample\\_sums.nielsen2014\\_glom\\_genus. & sample\\_sums.nielsen2014\\_glom\\_family. & sample\\_sums.nielsen2014\\_glom\\_order. & sample\\_sums.nielsen2014\\_pruned.genus. & sample\\_sums.nielsen2014\\_pruned.fam. & sample\\_sums.nielsen2014\\_pruned.ord.\\\\\n",
       "\\hline\n",
       "\tERR1594095 & 205335 &  71235 & 105845 & 133853 & 51134  &  89693 & 130864\\\\\n",
       "\tERR1594096 & 171006 &  43872 &  70329 & 110155 & 30691  &  55597 & 106192\\\\\n",
       "\tERR1594097 & 165623 &  44944 &  69870 &  98160 & 28601  &  53994 &  90931\\\\\n",
       "\tERR1594098 & 184352 &  68339 &  99832 & 124247 & 50493  &  83525 & 121024\\\\\n",
       "\tERR1594099 & 184682 &  82232 & 121011 & 148258 & 62871  & 105358 & 146230\\\\\n",
       "\tERR1594100 & 192332 &  74947 & 113159 & 140427 & 55818  &  99230 & 138464\\\\\n",
       "\tERR1594101 & 220548 &  88270 & 138251 & 168895 & 61706  & 115742 & 164511\\\\\n",
       "\tERR1594102 & 257052 & 109855 & 158017 & 190688 & 77667  & 134740 & 185813\\\\\n",
       "\tERR1594103 & 153076 &  48980 &  71689 &  93949 & 32247  &  58979 &  88233\\\\\n",
       "\tERR1594104 & 163837 &  50549 &  80470 & 137265 & 38432  &  63500 & 135103\\\\\n",
       "\tERR1594105 & 214436 &  89691 & 130213 & 175956 & 63762  & 110145 & 172661\\\\\n",
       "\tERR1594106 & 175879 &  53905 &  86504 & 146531 & 38921  &  65633 & 143048\\\\\n",
       "\tERR1594107 & 262080 & 122535 & 183993 & 221962 & 92246  & 152990 & 217406\\\\\n",
       "\tERR1594108 & 187646 &  80642 & 114440 & 150188 & 57569  &  86801 & 140589\\\\\n",
       "\tERR1594109 & 187143 &  76741 & 107741 & 143052 & 47550  &  75155 & 127031\\\\\n",
       "\tERR1594110 & 167611 &  53073 &  81558 & 125161 & 32215  &  62744 & 118885\\\\\n",
       "\tERR1594111 & 205631 &  61802 &  93438 & 132244 & 39922  &  73124 & 126794\\\\\n",
       "\tERR1594112 & 193833 &  83900 & 118034 & 150524 & 58269  &  98712 & 143665\\\\\n",
       "\tERR1594113 & 202758 &  75373 & 115035 & 170071 & 55621  &  94446 & 166777\\\\\n",
       "\tERR1594114 & 201946 &  77768 & 124084 & 166825 & 56481  &  99759 & 163200\\\\\n",
       "\tERR1594115 & 162112 &  54058 &  76719 & 122141 & 31979  &  57240 & 111494\\\\\n",
       "\tERR1594116 & 176620 &  68714 & 103957 & 145979 & 50852  &  89362 & 143764\\\\\n",
       "\tERR1594117 & 155802 &  58669 &  90501 & 129338 & 44581  &  76120 & 127003\\\\\n",
       "\tERR1594118 & 156117 &  67239 &  98595 & 123999 & 49647  &  84187 & 121873\\\\\n",
       "\tERR1594119 & 219472 & 102324 & 147035 & 177862 & 76418  & 126548 & 174291\\\\\n",
       "\tERR1594120 & 196053 &  77077 & 115081 & 160397 & 56935  &  96768 & 157560\\\\\n",
       "\tERR1594121 & 210428 &  93387 & 137928 & 175374 & 70923  & 117180 & 172544\\\\\n",
       "\tERR1594122 & 202090 &  82004 & 119411 & 148023 & 61452  &  98601 & 143549\\\\\n",
       "\tERR1594123 & 184912 &  70692 &  99602 & 131395 & 49217  &  78849 & 122610\\\\\n",
       "\tERR1594124 & 158589 &  55815 &  85021 & 113564 & 40228  &  70524 & 110527\\\\\n",
       "\tERR1594125 & 181193 &  59101 &  92659 & 153767 & 44692  &  74425 & 151229\\\\\n",
       "\tERR1594126 & 221876 &  94805 & 140308 & 182306 & 67986  & 111844 & 174824\\\\\n",
       "\tERR1594127 & 237558 &  83806 & 129247 & 193814 & 61591  & 103823 & 188637\\\\\n",
       "\tERR1594309 & 198948 &  61039 &  82931 & 126996 & 33540  &  59501 & 114335\\\\\n",
       "\tERR1594310 & 110197 &  43188 &  61345 &  77053 & 30844  &  49314 &  73784\\\\\n",
       "\tERR1594311 & 164959 &  49211 &  73417 &  96571 & 30910  &  57930 &  90549\\\\\n",
       "\tERR1594312 & 219991 &  80103 & 120303 & 162069 & 59386  & 102589 & 157860\\\\\n",
       "\tERR1594313 & 197306 &  52873 &  78623 & 141728 & 39307  &  64827 & 139125\\\\\n",
       "\tERR1594314 & 189678 &  65965 & 108549 & 138590 & 53322  & 100649 & 137832\\\\\n",
       "\tERR1594315 & 176246 &  49686 &  85553 & 135106 & 38970  &  72331 & 133184\\\\\n",
       "\tERR1594316 & 183181 &  79479 & 112498 & 134838 & 53433  &  90504 & 125456\\\\\n",
       "\tERR1594317 & 169385 &  51098 &  82684 & 125148 & 35216  &  66026 & 119241\\\\\n",
       "\\end{tabular}\n"
      ],
      "text/markdown": [
       "\n",
       "| <!--/--> | sample_sums.ps.nielsen2014. | sample_sums.nielsen2014_glom_genus. | sample_sums.nielsen2014_glom_family. | sample_sums.nielsen2014_glom_order. | sample_sums.nielsen2014_pruned.genus. | sample_sums.nielsen2014_pruned.fam. | sample_sums.nielsen2014_pruned.ord. | \n",
       "|---|---|---|---|---|---|---|---|---|---|---|---|---|---|---|---|---|---|---|---|---|---|---|---|---|---|---|---|---|---|---|---|---|---|---|---|---|---|---|---|---|---|\n",
       "| ERR1594095 | 205335 |  71235 | 105845 | 133853 | 51134  |  89693 | 130864 | \n",
       "| ERR1594096 | 171006 |  43872 |  70329 | 110155 | 30691  |  55597 | 106192 | \n",
       "| ERR1594097 | 165623 |  44944 |  69870 |  98160 | 28601  |  53994 |  90931 | \n",
       "| ERR1594098 | 184352 |  68339 |  99832 | 124247 | 50493  |  83525 | 121024 | \n",
       "| ERR1594099 | 184682 |  82232 | 121011 | 148258 | 62871  | 105358 | 146230 | \n",
       "| ERR1594100 | 192332 |  74947 | 113159 | 140427 | 55818  |  99230 | 138464 | \n",
       "| ERR1594101 | 220548 |  88270 | 138251 | 168895 | 61706  | 115742 | 164511 | \n",
       "| ERR1594102 | 257052 | 109855 | 158017 | 190688 | 77667  | 134740 | 185813 | \n",
       "| ERR1594103 | 153076 |  48980 |  71689 |  93949 | 32247  |  58979 |  88233 | \n",
       "| ERR1594104 | 163837 |  50549 |  80470 | 137265 | 38432  |  63500 | 135103 | \n",
       "| ERR1594105 | 214436 |  89691 | 130213 | 175956 | 63762  | 110145 | 172661 | \n",
       "| ERR1594106 | 175879 |  53905 |  86504 | 146531 | 38921  |  65633 | 143048 | \n",
       "| ERR1594107 | 262080 | 122535 | 183993 | 221962 | 92246  | 152990 | 217406 | \n",
       "| ERR1594108 | 187646 |  80642 | 114440 | 150188 | 57569  |  86801 | 140589 | \n",
       "| ERR1594109 | 187143 |  76741 | 107741 | 143052 | 47550  |  75155 | 127031 | \n",
       "| ERR1594110 | 167611 |  53073 |  81558 | 125161 | 32215  |  62744 | 118885 | \n",
       "| ERR1594111 | 205631 |  61802 |  93438 | 132244 | 39922  |  73124 | 126794 | \n",
       "| ERR1594112 | 193833 |  83900 | 118034 | 150524 | 58269  |  98712 | 143665 | \n",
       "| ERR1594113 | 202758 |  75373 | 115035 | 170071 | 55621  |  94446 | 166777 | \n",
       "| ERR1594114 | 201946 |  77768 | 124084 | 166825 | 56481  |  99759 | 163200 | \n",
       "| ERR1594115 | 162112 |  54058 |  76719 | 122141 | 31979  |  57240 | 111494 | \n",
       "| ERR1594116 | 176620 |  68714 | 103957 | 145979 | 50852  |  89362 | 143764 | \n",
       "| ERR1594117 | 155802 |  58669 |  90501 | 129338 | 44581  |  76120 | 127003 | \n",
       "| ERR1594118 | 156117 |  67239 |  98595 | 123999 | 49647  |  84187 | 121873 | \n",
       "| ERR1594119 | 219472 | 102324 | 147035 | 177862 | 76418  | 126548 | 174291 | \n",
       "| ERR1594120 | 196053 |  77077 | 115081 | 160397 | 56935  |  96768 | 157560 | \n",
       "| ERR1594121 | 210428 |  93387 | 137928 | 175374 | 70923  | 117180 | 172544 | \n",
       "| ERR1594122 | 202090 |  82004 | 119411 | 148023 | 61452  |  98601 | 143549 | \n",
       "| ERR1594123 | 184912 |  70692 |  99602 | 131395 | 49217  |  78849 | 122610 | \n",
       "| ERR1594124 | 158589 |  55815 |  85021 | 113564 | 40228  |  70524 | 110527 | \n",
       "| ERR1594125 | 181193 |  59101 |  92659 | 153767 | 44692  |  74425 | 151229 | \n",
       "| ERR1594126 | 221876 |  94805 | 140308 | 182306 | 67986  | 111844 | 174824 | \n",
       "| ERR1594127 | 237558 |  83806 | 129247 | 193814 | 61591  | 103823 | 188637 | \n",
       "| ERR1594309 | 198948 |  61039 |  82931 | 126996 | 33540  |  59501 | 114335 | \n",
       "| ERR1594310 | 110197 |  43188 |  61345 |  77053 | 30844  |  49314 |  73784 | \n",
       "| ERR1594311 | 164959 |  49211 |  73417 |  96571 | 30910  |  57930 |  90549 | \n",
       "| ERR1594312 | 219991 |  80103 | 120303 | 162069 | 59386  | 102589 | 157860 | \n",
       "| ERR1594313 | 197306 |  52873 |  78623 | 141728 | 39307  |  64827 | 139125 | \n",
       "| ERR1594314 | 189678 |  65965 | 108549 | 138590 | 53322  | 100649 | 137832 | \n",
       "| ERR1594315 | 176246 |  49686 |  85553 | 135106 | 38970  |  72331 | 133184 | \n",
       "| ERR1594316 | 183181 |  79479 | 112498 | 134838 | 53433  |  90504 | 125456 | \n",
       "| ERR1594317 | 169385 |  51098 |  82684 | 125148 | 35216  |  66026 | 119241 | \n",
       "\n",
       "\n"
      ],
      "text/plain": [
       "           sample_sums.ps.nielsen2014. sample_sums.nielsen2014_glom_genus.\n",
       "ERR1594095 205335                       71235                             \n",
       "ERR1594096 171006                       43872                             \n",
       "ERR1594097 165623                       44944                             \n",
       "ERR1594098 184352                       68339                             \n",
       "ERR1594099 184682                       82232                             \n",
       "ERR1594100 192332                       74947                             \n",
       "ERR1594101 220548                       88270                             \n",
       "ERR1594102 257052                      109855                             \n",
       "ERR1594103 153076                       48980                             \n",
       "ERR1594104 163837                       50549                             \n",
       "ERR1594105 214436                       89691                             \n",
       "ERR1594106 175879                       53905                             \n",
       "ERR1594107 262080                      122535                             \n",
       "ERR1594108 187646                       80642                             \n",
       "ERR1594109 187143                       76741                             \n",
       "ERR1594110 167611                       53073                             \n",
       "ERR1594111 205631                       61802                             \n",
       "ERR1594112 193833                       83900                             \n",
       "ERR1594113 202758                       75373                             \n",
       "ERR1594114 201946                       77768                             \n",
       "ERR1594115 162112                       54058                             \n",
       "ERR1594116 176620                       68714                             \n",
       "ERR1594117 155802                       58669                             \n",
       "ERR1594118 156117                       67239                             \n",
       "ERR1594119 219472                      102324                             \n",
       "ERR1594120 196053                       77077                             \n",
       "ERR1594121 210428                       93387                             \n",
       "ERR1594122 202090                       82004                             \n",
       "ERR1594123 184912                       70692                             \n",
       "ERR1594124 158589                       55815                             \n",
       "ERR1594125 181193                       59101                             \n",
       "ERR1594126 221876                       94805                             \n",
       "ERR1594127 237558                       83806                             \n",
       "ERR1594309 198948                       61039                             \n",
       "ERR1594310 110197                       43188                             \n",
       "ERR1594311 164959                       49211                             \n",
       "ERR1594312 219991                       80103                             \n",
       "ERR1594313 197306                       52873                             \n",
       "ERR1594314 189678                       65965                             \n",
       "ERR1594315 176246                       49686                             \n",
       "ERR1594316 183181                       79479                             \n",
       "ERR1594317 169385                       51098                             \n",
       "           sample_sums.nielsen2014_glom_family.\n",
       "ERR1594095 105845                              \n",
       "ERR1594096  70329                              \n",
       "ERR1594097  69870                              \n",
       "ERR1594098  99832                              \n",
       "ERR1594099 121011                              \n",
       "ERR1594100 113159                              \n",
       "ERR1594101 138251                              \n",
       "ERR1594102 158017                              \n",
       "ERR1594103  71689                              \n",
       "ERR1594104  80470                              \n",
       "ERR1594105 130213                              \n",
       "ERR1594106  86504                              \n",
       "ERR1594107 183993                              \n",
       "ERR1594108 114440                              \n",
       "ERR1594109 107741                              \n",
       "ERR1594110  81558                              \n",
       "ERR1594111  93438                              \n",
       "ERR1594112 118034                              \n",
       "ERR1594113 115035                              \n",
       "ERR1594114 124084                              \n",
       "ERR1594115  76719                              \n",
       "ERR1594116 103957                              \n",
       "ERR1594117  90501                              \n",
       "ERR1594118  98595                              \n",
       "ERR1594119 147035                              \n",
       "ERR1594120 115081                              \n",
       "ERR1594121 137928                              \n",
       "ERR1594122 119411                              \n",
       "ERR1594123  99602                              \n",
       "ERR1594124  85021                              \n",
       "ERR1594125  92659                              \n",
       "ERR1594126 140308                              \n",
       "ERR1594127 129247                              \n",
       "ERR1594309  82931                              \n",
       "ERR1594310  61345                              \n",
       "ERR1594311  73417                              \n",
       "ERR1594312 120303                              \n",
       "ERR1594313  78623                              \n",
       "ERR1594314 108549                              \n",
       "ERR1594315  85553                              \n",
       "ERR1594316 112498                              \n",
       "ERR1594317  82684                              \n",
       "           sample_sums.nielsen2014_glom_order.\n",
       "ERR1594095 133853                             \n",
       "ERR1594096 110155                             \n",
       "ERR1594097  98160                             \n",
       "ERR1594098 124247                             \n",
       "ERR1594099 148258                             \n",
       "ERR1594100 140427                             \n",
       "ERR1594101 168895                             \n",
       "ERR1594102 190688                             \n",
       "ERR1594103  93949                             \n",
       "ERR1594104 137265                             \n",
       "ERR1594105 175956                             \n",
       "ERR1594106 146531                             \n",
       "ERR1594107 221962                             \n",
       "ERR1594108 150188                             \n",
       "ERR1594109 143052                             \n",
       "ERR1594110 125161                             \n",
       "ERR1594111 132244                             \n",
       "ERR1594112 150524                             \n",
       "ERR1594113 170071                             \n",
       "ERR1594114 166825                             \n",
       "ERR1594115 122141                             \n",
       "ERR1594116 145979                             \n",
       "ERR1594117 129338                             \n",
       "ERR1594118 123999                             \n",
       "ERR1594119 177862                             \n",
       "ERR1594120 160397                             \n",
       "ERR1594121 175374                             \n",
       "ERR1594122 148023                             \n",
       "ERR1594123 131395                             \n",
       "ERR1594124 113564                             \n",
       "ERR1594125 153767                             \n",
       "ERR1594126 182306                             \n",
       "ERR1594127 193814                             \n",
       "ERR1594309 126996                             \n",
       "ERR1594310  77053                             \n",
       "ERR1594311  96571                             \n",
       "ERR1594312 162069                             \n",
       "ERR1594313 141728                             \n",
       "ERR1594314 138590                             \n",
       "ERR1594315 135106                             \n",
       "ERR1594316 134838                             \n",
       "ERR1594317 125148                             \n",
       "           sample_sums.nielsen2014_pruned.genus.\n",
       "ERR1594095 51134                                \n",
       "ERR1594096 30691                                \n",
       "ERR1594097 28601                                \n",
       "ERR1594098 50493                                \n",
       "ERR1594099 62871                                \n",
       "ERR1594100 55818                                \n",
       "ERR1594101 61706                                \n",
       "ERR1594102 77667                                \n",
       "ERR1594103 32247                                \n",
       "ERR1594104 38432                                \n",
       "ERR1594105 63762                                \n",
       "ERR1594106 38921                                \n",
       "ERR1594107 92246                                \n",
       "ERR1594108 57569                                \n",
       "ERR1594109 47550                                \n",
       "ERR1594110 32215                                \n",
       "ERR1594111 39922                                \n",
       "ERR1594112 58269                                \n",
       "ERR1594113 55621                                \n",
       "ERR1594114 56481                                \n",
       "ERR1594115 31979                                \n",
       "ERR1594116 50852                                \n",
       "ERR1594117 44581                                \n",
       "ERR1594118 49647                                \n",
       "ERR1594119 76418                                \n",
       "ERR1594120 56935                                \n",
       "ERR1594121 70923                                \n",
       "ERR1594122 61452                                \n",
       "ERR1594123 49217                                \n",
       "ERR1594124 40228                                \n",
       "ERR1594125 44692                                \n",
       "ERR1594126 67986                                \n",
       "ERR1594127 61591                                \n",
       "ERR1594309 33540                                \n",
       "ERR1594310 30844                                \n",
       "ERR1594311 30910                                \n",
       "ERR1594312 59386                                \n",
       "ERR1594313 39307                                \n",
       "ERR1594314 53322                                \n",
       "ERR1594315 38970                                \n",
       "ERR1594316 53433                                \n",
       "ERR1594317 35216                                \n",
       "           sample_sums.nielsen2014_pruned.fam.\n",
       "ERR1594095  89693                             \n",
       "ERR1594096  55597                             \n",
       "ERR1594097  53994                             \n",
       "ERR1594098  83525                             \n",
       "ERR1594099 105358                             \n",
       "ERR1594100  99230                             \n",
       "ERR1594101 115742                             \n",
       "ERR1594102 134740                             \n",
       "ERR1594103  58979                             \n",
       "ERR1594104  63500                             \n",
       "ERR1594105 110145                             \n",
       "ERR1594106  65633                             \n",
       "ERR1594107 152990                             \n",
       "ERR1594108  86801                             \n",
       "ERR1594109  75155                             \n",
       "ERR1594110  62744                             \n",
       "ERR1594111  73124                             \n",
       "ERR1594112  98712                             \n",
       "ERR1594113  94446                             \n",
       "ERR1594114  99759                             \n",
       "ERR1594115  57240                             \n",
       "ERR1594116  89362                             \n",
       "ERR1594117  76120                             \n",
       "ERR1594118  84187                             \n",
       "ERR1594119 126548                             \n",
       "ERR1594120  96768                             \n",
       "ERR1594121 117180                             \n",
       "ERR1594122  98601                             \n",
       "ERR1594123  78849                             \n",
       "ERR1594124  70524                             \n",
       "ERR1594125  74425                             \n",
       "ERR1594126 111844                             \n",
       "ERR1594127 103823                             \n",
       "ERR1594309  59501                             \n",
       "ERR1594310  49314                             \n",
       "ERR1594311  57930                             \n",
       "ERR1594312 102589                             \n",
       "ERR1594313  64827                             \n",
       "ERR1594314 100649                             \n",
       "ERR1594315  72331                             \n",
       "ERR1594316  90504                             \n",
       "ERR1594317  66026                             \n",
       "           sample_sums.nielsen2014_pruned.ord.\n",
       "ERR1594095 130864                             \n",
       "ERR1594096 106192                             \n",
       "ERR1594097  90931                             \n",
       "ERR1594098 121024                             \n",
       "ERR1594099 146230                             \n",
       "ERR1594100 138464                             \n",
       "ERR1594101 164511                             \n",
       "ERR1594102 185813                             \n",
       "ERR1594103  88233                             \n",
       "ERR1594104 135103                             \n",
       "ERR1594105 172661                             \n",
       "ERR1594106 143048                             \n",
       "ERR1594107 217406                             \n",
       "ERR1594108 140589                             \n",
       "ERR1594109 127031                             \n",
       "ERR1594110 118885                             \n",
       "ERR1594111 126794                             \n",
       "ERR1594112 143665                             \n",
       "ERR1594113 166777                             \n",
       "ERR1594114 163200                             \n",
       "ERR1594115 111494                             \n",
       "ERR1594116 143764                             \n",
       "ERR1594117 127003                             \n",
       "ERR1594118 121873                             \n",
       "ERR1594119 174291                             \n",
       "ERR1594120 157560                             \n",
       "ERR1594121 172544                             \n",
       "ERR1594122 143549                             \n",
       "ERR1594123 122610                             \n",
       "ERR1594124 110527                             \n",
       "ERR1594125 151229                             \n",
       "ERR1594126 174824                             \n",
       "ERR1594127 188637                             \n",
       "ERR1594309 114335                             \n",
       "ERR1594310  73784                             \n",
       "ERR1594311  90549                             \n",
       "ERR1594312 157860                             \n",
       "ERR1594313 139125                             \n",
       "ERR1594314 137832                             \n",
       "ERR1594315 133184                             \n",
       "ERR1594316 125456                             \n",
       "ERR1594317 119241                             "
      ]
     },
     "metadata": {},
     "output_type": "display_data"
    }
   ],
   "source": [
    "data.frame(sample_sums(ps.nielsen2014),sample_sums(nielsen2014_glom_genus),sample_sums(nielsen2014_glom_family),sample_sums(nielsen2014_glom_order),sample_sums(nielsen2014_pruned.genus),sample_sums(nielsen2014_pruned.fam), sample_sums(nielsen2014_pruned.ord))"
   ]
  },
  {
   "cell_type": "markdown",
   "metadata": {},
   "source": [
    "### Ye"
   ]
  },
  {
   "cell_type": "code",
   "execution_count": 59,
   "metadata": {},
   "outputs": [],
   "source": [
    "ye_glom_genus = tax_glom(ps.ye, \"Genus\")\n",
    "ye_glom_family = tax_glom(ps.ye, \"Family\")\n",
    "ye_glom_order = tax_glom(ps.ye, \"Order\")"
   ]
  },
  {
   "cell_type": "code",
   "execution_count": 60,
   "metadata": {
    "collapsed": true
   },
   "outputs": [
    {
     "data": {
      "text/html": [
       "<ol class=list-inline>\n",
       "\t<li>2391</li>\n",
       "\t<li>7</li>\n",
       "</ol>\n"
      ],
      "text/latex": [
       "\\begin{enumerate*}\n",
       "\\item 2391\n",
       "\\item 7\n",
       "\\end{enumerate*}\n"
      ],
      "text/markdown": [
       "1. 2391\n",
       "2. 7\n",
       "\n",
       "\n"
      ],
      "text/plain": [
       "[1] 2391    7"
      ]
     },
     "metadata": {},
     "output_type": "display_data"
    },
    {
     "data": {
      "text/html": [
       "<ol class=list-inline>\n",
       "\t<li>513</li>\n",
       "\t<li>7</li>\n",
       "</ol>\n"
      ],
      "text/latex": [
       "\\begin{enumerate*}\n",
       "\\item 513\n",
       "\\item 7\n",
       "\\end{enumerate*}\n"
      ],
      "text/markdown": [
       "1. 513\n",
       "2. 7\n",
       "\n",
       "\n"
      ],
      "text/plain": [
       "[1] 513   7"
      ]
     },
     "metadata": {},
     "output_type": "display_data"
    },
    {
     "data": {
      "text/html": [
       "<ol class=list-inline>\n",
       "\t<li>303</li>\n",
       "\t<li>7</li>\n",
       "</ol>\n"
      ],
      "text/latex": [
       "\\begin{enumerate*}\n",
       "\\item 303\n",
       "\\item 7\n",
       "\\end{enumerate*}\n"
      ],
      "text/markdown": [
       "1. 303\n",
       "2. 7\n",
       "\n",
       "\n"
      ],
      "text/plain": [
       "[1] 303   7"
      ]
     },
     "metadata": {},
     "output_type": "display_data"
    },
    {
     "data": {
      "text/html": [
       "<ol class=list-inline>\n",
       "\t<li>178</li>\n",
       "\t<li>7</li>\n",
       "</ol>\n"
      ],
      "text/latex": [
       "\\begin{enumerate*}\n",
       "\\item 178\n",
       "\\item 7\n",
       "\\end{enumerate*}\n"
      ],
      "text/markdown": [
       "1. 178\n",
       "2. 7\n",
       "\n",
       "\n"
      ],
      "text/plain": [
       "[1] 178   7"
      ]
     },
     "metadata": {},
     "output_type": "display_data"
    }
   ],
   "source": [
    "dim(tax_table(ps.ye))\n",
    "dim(tax_table(ye_glom_genus))\n",
    "dim(tax_table(ye_glom_family))\n",
    "dim(tax_table(ye_glom_order))"
   ]
  },
  {
   "cell_type": "code",
   "execution_count": 61,
   "metadata": {
    "scrolled": true
   },
   "outputs": [],
   "source": [
    "#unique(data.frame(tax_table(ye_pruned.genus))$Genus)"
   ]
  },
  {
   "cell_type": "code",
   "execution_count": 62,
   "metadata": {
    "collapsed": true
   },
   "outputs": [
    {
     "data": {
      "text/html": [
       "205"
      ],
      "text/latex": [
       "205"
      ],
      "text/markdown": [
       "205"
      ],
      "text/plain": [
       "[1] 205"
      ]
     },
     "metadata": {},
     "output_type": "display_data"
    },
    {
     "data": {
      "text/plain": [
       "phyloseq-class experiment-level object\n",
       "otu_table()   OTU Table:         [ 308 taxa and 32 samples ]\n",
       "sample_data() Sample Data:       [ 32 samples by 44 sample variables ]\n",
       "tax_table()   Taxonomy Table:    [ 308 taxa by 7 taxonomic ranks ]"
      ]
     },
     "metadata": {},
     "output_type": "display_data"
    },
    {
     "data": {
      "text/html": [
       "308"
      ],
      "text/latex": [
       "308"
      ],
      "text/markdown": [
       "308"
      ],
      "text/plain": [
       "[1] 308"
      ]
     },
     "metadata": {},
     "output_type": "display_data"
    }
   ],
   "source": [
    "names = data.frame(tax_table(ye_glom_genus))\n",
    "unwanted.rows = grep(\"uncultured*\",names$Genus)\n",
    "unwanted.rows = c(unwanted.rows,grep(\"metagenome*\",names$Genus))\n",
    "unwanted.rows = c(unwanted.rows,grep(\"Ambiguous_taxa*\",names$Genus))\n",
    "unwanted.rows = c(unwanted.rows,grep(\"Triticum*\",names$Genus))\n",
    "length(unwanted.rows)\n",
    "wanted.rows = !(rep(1:dim(names)[1]) %in% unwanted.rows)\n",
    "ye_pruned.genus = prune_taxa(taxa_names(ye_glom_genus)[wanted.rows = !(rep(1:dim(names)[1]) %in% unwanted.rows)], ye_glom_genus) \n",
    "ye_pruned.genus\n",
    "length(unique(data.frame(tax_table(ye_pruned.genus))$Genus))"
   ]
  },
  {
   "cell_type": "code",
   "execution_count": 63,
   "metadata": {
    "collapsed": true
   },
   "outputs": [
    {
     "data": {
      "text/html": [
       "96"
      ],
      "text/latex": [
       "96"
      ],
      "text/markdown": [
       "96"
      ],
      "text/plain": [
       "[1] 96"
      ]
     },
     "metadata": {},
     "output_type": "display_data"
    },
    {
     "data": {
      "text/plain": [
       "phyloseq-class experiment-level object\n",
       "otu_table()   OTU Table:         [ 207 taxa and 32 samples ]\n",
       "sample_data() Sample Data:       [ 32 samples by 44 sample variables ]\n",
       "tax_table()   Taxonomy Table:    [ 207 taxa by 7 taxonomic ranks ]"
      ]
     },
     "metadata": {},
     "output_type": "display_data"
    },
    {
     "data": {
      "text/html": [
       "207"
      ],
      "text/latex": [
       "207"
      ],
      "text/markdown": [
       "207"
      ],
      "text/plain": [
       "[1] 207"
      ]
     },
     "metadata": {},
     "output_type": "display_data"
    }
   ],
   "source": [
    "names = data.frame(tax_table(ye_glom_family))\n",
    "unwanted.rows = grep(\"uncultured*\",names$Family)\n",
    "unwanted.rows = c(unwanted.rows,grep(\"metagenome*\",names$Family))\n",
    "unwanted.rows = c(unwanted.rows,grep(\"Ambiguous_taxa*\",names$Family))\n",
    "unwanted.rows = c(unwanted.rows,grep(\"Unknown Family*\",names$Family))\n",
    "length(unwanted.rows)\n",
    "wanted.rows = !(rep(1:dim(names)[1]) %in% unwanted.rows)\n",
    "ye_pruned.fam = prune_taxa(taxa_names(ye_glom_family)[wanted.rows = !(rep(1:dim(names)[1]) %in% unwanted.rows)], ye_glom_family) \n",
    "ye_pruned.fam\n",
    "length(unique(data.frame(tax_table(ye_pruned.fam))$Family))"
   ]
  },
  {
   "cell_type": "code",
   "execution_count": 64,
   "metadata": {
    "collapsed": true
   },
   "outputs": [
    {
     "data": {
      "text/html": [
       "31"
      ],
      "text/latex": [
       "31"
      ],
      "text/markdown": [
       "31"
      ],
      "text/plain": [
       "[1] 31"
      ]
     },
     "metadata": {},
     "output_type": "display_data"
    },
    {
     "data": {
      "text/plain": [
       "phyloseq-class experiment-level object\n",
       "otu_table()   OTU Table:         [ 147 taxa and 32 samples ]\n",
       "sample_data() Sample Data:       [ 32 samples by 44 sample variables ]\n",
       "tax_table()   Taxonomy Table:    [ 147 taxa by 7 taxonomic ranks ]"
      ]
     },
     "metadata": {},
     "output_type": "display_data"
    },
    {
     "data": {
      "text/html": [
       "147"
      ],
      "text/latex": [
       "147"
      ],
      "text/markdown": [
       "147"
      ],
      "text/plain": [
       "[1] 147"
      ]
     },
     "metadata": {},
     "output_type": "display_data"
    }
   ],
   "source": [
    "names = data.frame(tax_table(ye_glom_order))\n",
    "unwanted.rows = grep(\"uncultured*\",names$Order)\n",
    "unwanted.rows = c(unwanted.rows,grep(\"metagenome*\",names$Order))\n",
    "unwanted.rows = c(unwanted.rows,grep(\"Ambiguous_taxa*\",names$Order))\n",
    "unwanted.rows = c(unwanted.rows,grep(\"Unknown Family*\",names$Order))\n",
    "length(unwanted.rows)\n",
    "wanted.rows = !(rep(1:dim(names)[1]) %in% unwanted.rows)\n",
    "ye_pruned.ord = prune_taxa(taxa_names(ye_glom_order)[wanted.rows = !(rep(1:dim(names)[1]) %in% unwanted.rows)], ye_glom_order) \n",
    "ye_pruned.ord\n",
    "length(unique(data.frame(tax_table(ye_pruned.ord))$Order))"
   ]
  },
  {
   "cell_type": "code",
   "execution_count": 65,
   "metadata": {
    "collapsed": true
   },
   "outputs": [
    {
     "data": {
      "text/html": [
       "<table>\n",
       "<thead><tr><th></th><th scope=col>sample_sums.ps.ye.</th><th scope=col>sample_sums.ye_glom_genus.</th><th scope=col>sample_sums.ye_glom_family.</th><th scope=col>sample_sums.ye_glom_order.</th><th scope=col>sample_sums.ye_pruned.genus.</th><th scope=col>sample_sums.ye_pruned.fam.</th><th scope=col>sample_sums.ye_pruned.ord.</th></tr></thead>\n",
       "<tbody>\n",
       "\t<tr><th scope=row>SRR2559533-X</th><td> 1054</td><td>  617</td><td> 1054</td><td> 1054</td><td>  602</td><td> 1041</td><td> 1054</td></tr>\n",
       "\t<tr><th scope=row>SRR2559534-X</th><td>20619</td><td>16941</td><td>17860</td><td>18430</td><td>12940</td><td>15610</td><td>17864</td></tr>\n",
       "\t<tr><th scope=row>SRR2559604-X</th><td> 4933</td><td> 4082</td><td> 4343</td><td> 4493</td><td> 3199</td><td> 3881</td><td> 4364</td></tr>\n",
       "\t<tr><th scope=row>SRR2559605-X</th><td> 1338</td><td> 1259</td><td> 1290</td><td> 1302</td><td> 1033</td><td> 1271</td><td> 1283</td></tr>\n",
       "\t<tr><th scope=row>SRR2559607-X</th><td>10745</td><td> 9857</td><td>10388</td><td>10619</td><td> 7432</td><td> 9783</td><td>10520</td></tr>\n",
       "\t<tr><th scope=row>SRR2559608-X</th><td> 6735</td><td> 6123</td><td> 6331</td><td> 6515</td><td> 5083</td><td> 6196</td><td> 6475</td></tr>\n",
       "\t<tr><th scope=row>SRR2559609-X</th><td>  351</td><td>  340</td><td>  344</td><td>  344</td><td>  313</td><td>  323</td><td>  342</td></tr>\n",
       "\t<tr><th scope=row>SRR2559610-X</th><td>12801</td><td>10143</td><td>10617</td><td>11011</td><td> 7697</td><td> 9433</td><td>10864</td></tr>\n",
       "\t<tr><th scope=row>SRR2559611-X</th><td>13734</td><td>10848</td><td>11989</td><td>12702</td><td> 7160</td><td>10110</td><td>12130</td></tr>\n",
       "\t<tr><th scope=row>SRR2559612-X</th><td>  647</td><td>  606</td><td>  615</td><td>  615</td><td>  491</td><td>  599</td><td>  602</td></tr>\n",
       "\t<tr><th scope=row>SRR2559613-X</th><td>  563</td><td>  521</td><td>  521</td><td>  533</td><td>  424</td><td>  521</td><td>  533</td></tr>\n",
       "\t<tr><th scope=row>SRR2559634-X</th><td>  420</td><td>  390</td><td>  395</td><td>  414</td><td>  344</td><td>  383</td><td>  414</td></tr>\n",
       "\t<tr><th scope=row>SRR2559857-X</th><td> 5431</td><td> 4441</td><td> 4626</td><td> 4671</td><td> 3206</td><td> 4009</td><td> 4570</td></tr>\n",
       "\t<tr><th scope=row>SRR2559858-X</th><td>  540</td><td>  528</td><td>  532</td><td>  532</td><td>  503</td><td>  532</td><td>  532</td></tr>\n",
       "\t<tr><th scope=row>SRR2559859-X</th><td>  401</td><td>  333</td><td>  333</td><td>  372</td><td>  320</td><td>  333</td><td>  372</td></tr>\n",
       "\t<tr><th scope=row>SRR2559877-X</th><td> 1923</td><td> 1780</td><td> 1858</td><td> 1905</td><td> 1581</td><td> 1734</td><td> 1887</td></tr>\n",
       "\t<tr><th scope=row>SRR2559878-X</th><td> 2329</td><td> 2058</td><td> 2178</td><td> 2230</td><td> 1768</td><td> 2012</td><td> 2214</td></tr>\n",
       "\t<tr><th scope=row>SRR2559880-X</th><td> 2175</td><td> 1962</td><td> 1974</td><td> 2119</td><td> 1857</td><td> 1937</td><td> 2119</td></tr>\n",
       "\t<tr><th scope=row>SRR2559881-X</th><td> 1365</td><td> 1239</td><td> 1243</td><td> 1356</td><td> 1157</td><td> 1243</td><td> 1356</td></tr>\n",
       "\t<tr><th scope=row>SRR2559883-X</th><td> 1456</td><td> 1266</td><td> 1295</td><td> 1421</td><td> 1169</td><td> 1288</td><td> 1414</td></tr>\n",
       "\t<tr><th scope=row>SRR2559884-X</th><td> 2252</td><td> 1889</td><td> 1904</td><td> 2204</td><td> 1729</td><td> 1904</td><td> 2204</td></tr>\n",
       "\t<tr><th scope=row>SRR2559885-X</th><td> 1245</td><td> 1006</td><td> 1041</td><td> 1211</td><td>  893</td><td> 1021</td><td> 1211</td></tr>\n",
       "\t<tr><th scope=row>SRR2559886-X</th><td>  171</td><td>  166</td><td>  166</td><td>  166</td><td>  154</td><td>  161</td><td>  166</td></tr>\n",
       "\t<tr><th scope=row>SRR2559887-X</th><td> 2988</td><td> 2379</td><td> 2515</td><td> 2596</td><td> 1823</td><td> 2292</td><td> 2545</td></tr>\n",
       "\t<tr><th scope=row>SRR2559888-X</th><td>  588</td><td>  493</td><td>  493</td><td>  509</td><td>  427</td><td>  470</td><td>  498</td></tr>\n",
       "\t<tr><th scope=row>SRR2559889-X</th><td> 1278</td><td> 1222</td><td> 1254</td><td> 1254</td><td> 1031</td><td> 1083</td><td> 1230</td></tr>\n",
       "\t<tr><th scope=row>SRR2559890-X</th><td>  533</td><td>  507</td><td>  507</td><td>  512</td><td>  412</td><td>  493</td><td>  512</td></tr>\n",
       "\t<tr><th scope=row>SRR2559891-X</th><td> 3678</td><td> 3303</td><td> 3394</td><td> 3574</td><td> 2967</td><td> 3301</td><td> 3559</td></tr>\n",
       "\t<tr><th scope=row>SRR2559892-X</th><td> 3426</td><td> 3040</td><td> 3130</td><td> 3344</td><td> 2743</td><td> 3075</td><td> 3325</td></tr>\n",
       "\t<tr><th scope=row>SRR2559893-X</th><td> 1450</td><td> 1250</td><td> 1309</td><td> 1399</td><td> 1180</td><td> 1292</td><td> 1382</td></tr>\n",
       "\t<tr><th scope=row>SRR2559894-X</th><td> 3347</td><td> 2915</td><td> 3143</td><td> 3313</td><td> 2497</td><td> 3023</td><td> 3297</td></tr>\n",
       "\t<tr><th scope=row>SRR2559895-X</th><td> 2001</td><td> 1792</td><td> 1859</td><td> 1945</td><td> 1662</td><td> 1832</td><td> 1945</td></tr>\n",
       "</tbody>\n",
       "</table>\n"
      ],
      "text/latex": [
       "\\begin{tabular}{r|lllllll}\n",
       "  & sample\\_sums.ps.ye. & sample\\_sums.ye\\_glom\\_genus. & sample\\_sums.ye\\_glom\\_family. & sample\\_sums.ye\\_glom\\_order. & sample\\_sums.ye\\_pruned.genus. & sample\\_sums.ye\\_pruned.fam. & sample\\_sums.ye\\_pruned.ord.\\\\\n",
       "\\hline\n",
       "\tSRR2559533-X &  1054 &   617 &  1054 &  1054 &   602 &  1041 &  1054\\\\\n",
       "\tSRR2559534-X & 20619 & 16941 & 17860 & 18430 & 12940 & 15610 & 17864\\\\\n",
       "\tSRR2559604-X &  4933 &  4082 &  4343 &  4493 &  3199 &  3881 &  4364\\\\\n",
       "\tSRR2559605-X &  1338 &  1259 &  1290 &  1302 &  1033 &  1271 &  1283\\\\\n",
       "\tSRR2559607-X & 10745 &  9857 & 10388 & 10619 &  7432 &  9783 & 10520\\\\\n",
       "\tSRR2559608-X &  6735 &  6123 &  6331 &  6515 &  5083 &  6196 &  6475\\\\\n",
       "\tSRR2559609-X &   351 &   340 &   344 &   344 &   313 &   323 &   342\\\\\n",
       "\tSRR2559610-X & 12801 & 10143 & 10617 & 11011 &  7697 &  9433 & 10864\\\\\n",
       "\tSRR2559611-X & 13734 & 10848 & 11989 & 12702 &  7160 & 10110 & 12130\\\\\n",
       "\tSRR2559612-X &   647 &   606 &   615 &   615 &   491 &   599 &   602\\\\\n",
       "\tSRR2559613-X &   563 &   521 &   521 &   533 &   424 &   521 &   533\\\\\n",
       "\tSRR2559634-X &   420 &   390 &   395 &   414 &   344 &   383 &   414\\\\\n",
       "\tSRR2559857-X &  5431 &  4441 &  4626 &  4671 &  3206 &  4009 &  4570\\\\\n",
       "\tSRR2559858-X &   540 &   528 &   532 &   532 &   503 &   532 &   532\\\\\n",
       "\tSRR2559859-X &   401 &   333 &   333 &   372 &   320 &   333 &   372\\\\\n",
       "\tSRR2559877-X &  1923 &  1780 &  1858 &  1905 &  1581 &  1734 &  1887\\\\\n",
       "\tSRR2559878-X &  2329 &  2058 &  2178 &  2230 &  1768 &  2012 &  2214\\\\\n",
       "\tSRR2559880-X &  2175 &  1962 &  1974 &  2119 &  1857 &  1937 &  2119\\\\\n",
       "\tSRR2559881-X &  1365 &  1239 &  1243 &  1356 &  1157 &  1243 &  1356\\\\\n",
       "\tSRR2559883-X &  1456 &  1266 &  1295 &  1421 &  1169 &  1288 &  1414\\\\\n",
       "\tSRR2559884-X &  2252 &  1889 &  1904 &  2204 &  1729 &  1904 &  2204\\\\\n",
       "\tSRR2559885-X &  1245 &  1006 &  1041 &  1211 &   893 &  1021 &  1211\\\\\n",
       "\tSRR2559886-X &   171 &   166 &   166 &   166 &   154 &   161 &   166\\\\\n",
       "\tSRR2559887-X &  2988 &  2379 &  2515 &  2596 &  1823 &  2292 &  2545\\\\\n",
       "\tSRR2559888-X &   588 &   493 &   493 &   509 &   427 &   470 &   498\\\\\n",
       "\tSRR2559889-X &  1278 &  1222 &  1254 &  1254 &  1031 &  1083 &  1230\\\\\n",
       "\tSRR2559890-X &   533 &   507 &   507 &   512 &   412 &   493 &   512\\\\\n",
       "\tSRR2559891-X &  3678 &  3303 &  3394 &  3574 &  2967 &  3301 &  3559\\\\\n",
       "\tSRR2559892-X &  3426 &  3040 &  3130 &  3344 &  2743 &  3075 &  3325\\\\\n",
       "\tSRR2559893-X &  1450 &  1250 &  1309 &  1399 &  1180 &  1292 &  1382\\\\\n",
       "\tSRR2559894-X &  3347 &  2915 &  3143 &  3313 &  2497 &  3023 &  3297\\\\\n",
       "\tSRR2559895-X &  2001 &  1792 &  1859 &  1945 &  1662 &  1832 &  1945\\\\\n",
       "\\end{tabular}\n"
      ],
      "text/markdown": [
       "\n",
       "| <!--/--> | sample_sums.ps.ye. | sample_sums.ye_glom_genus. | sample_sums.ye_glom_family. | sample_sums.ye_glom_order. | sample_sums.ye_pruned.genus. | sample_sums.ye_pruned.fam. | sample_sums.ye_pruned.ord. | \n",
       "|---|---|---|---|---|---|---|---|---|---|---|---|---|---|---|---|---|---|---|---|---|---|---|---|---|---|---|---|---|---|---|---|\n",
       "| SRR2559533-X |  1054 |   617 |  1054 |  1054 |   602 |  1041 |  1054 | \n",
       "| SRR2559534-X | 20619 | 16941 | 17860 | 18430 | 12940 | 15610 | 17864 | \n",
       "| SRR2559604-X |  4933 |  4082 |  4343 |  4493 |  3199 |  3881 |  4364 | \n",
       "| SRR2559605-X |  1338 |  1259 |  1290 |  1302 |  1033 |  1271 |  1283 | \n",
       "| SRR2559607-X | 10745 |  9857 | 10388 | 10619 |  7432 |  9783 | 10520 | \n",
       "| SRR2559608-X |  6735 |  6123 |  6331 |  6515 |  5083 |  6196 |  6475 | \n",
       "| SRR2559609-X |   351 |   340 |   344 |   344 |   313 |   323 |   342 | \n",
       "| SRR2559610-X | 12801 | 10143 | 10617 | 11011 |  7697 |  9433 | 10864 | \n",
       "| SRR2559611-X | 13734 | 10848 | 11989 | 12702 |  7160 | 10110 | 12130 | \n",
       "| SRR2559612-X |   647 |   606 |   615 |   615 |   491 |   599 |   602 | \n",
       "| SRR2559613-X |   563 |   521 |   521 |   533 |   424 |   521 |   533 | \n",
       "| SRR2559634-X |   420 |   390 |   395 |   414 |   344 |   383 |   414 | \n",
       "| SRR2559857-X |  5431 |  4441 |  4626 |  4671 |  3206 |  4009 |  4570 | \n",
       "| SRR2559858-X |   540 |   528 |   532 |   532 |   503 |   532 |   532 | \n",
       "| SRR2559859-X |   401 |   333 |   333 |   372 |   320 |   333 |   372 | \n",
       "| SRR2559877-X |  1923 |  1780 |  1858 |  1905 |  1581 |  1734 |  1887 | \n",
       "| SRR2559878-X |  2329 |  2058 |  2178 |  2230 |  1768 |  2012 |  2214 | \n",
       "| SRR2559880-X |  2175 |  1962 |  1974 |  2119 |  1857 |  1937 |  2119 | \n",
       "| SRR2559881-X |  1365 |  1239 |  1243 |  1356 |  1157 |  1243 |  1356 | \n",
       "| SRR2559883-X |  1456 |  1266 |  1295 |  1421 |  1169 |  1288 |  1414 | \n",
       "| SRR2559884-X |  2252 |  1889 |  1904 |  2204 |  1729 |  1904 |  2204 | \n",
       "| SRR2559885-X |  1245 |  1006 |  1041 |  1211 |   893 |  1021 |  1211 | \n",
       "| SRR2559886-X |   171 |   166 |   166 |   166 |   154 |   161 |   166 | \n",
       "| SRR2559887-X |  2988 |  2379 |  2515 |  2596 |  1823 |  2292 |  2545 | \n",
       "| SRR2559888-X |   588 |   493 |   493 |   509 |   427 |   470 |   498 | \n",
       "| SRR2559889-X |  1278 |  1222 |  1254 |  1254 |  1031 |  1083 |  1230 | \n",
       "| SRR2559890-X |   533 |   507 |   507 |   512 |   412 |   493 |   512 | \n",
       "| SRR2559891-X |  3678 |  3303 |  3394 |  3574 |  2967 |  3301 |  3559 | \n",
       "| SRR2559892-X |  3426 |  3040 |  3130 |  3344 |  2743 |  3075 |  3325 | \n",
       "| SRR2559893-X |  1450 |  1250 |  1309 |  1399 |  1180 |  1292 |  1382 | \n",
       "| SRR2559894-X |  3347 |  2915 |  3143 |  3313 |  2497 |  3023 |  3297 | \n",
       "| SRR2559895-X |  2001 |  1792 |  1859 |  1945 |  1662 |  1832 |  1945 | \n",
       "\n",
       "\n"
      ],
      "text/plain": [
       "             sample_sums.ps.ye. sample_sums.ye_glom_genus.\n",
       "SRR2559533-X  1054                617                     \n",
       "SRR2559534-X 20619              16941                     \n",
       "SRR2559604-X  4933               4082                     \n",
       "SRR2559605-X  1338               1259                     \n",
       "SRR2559607-X 10745               9857                     \n",
       "SRR2559608-X  6735               6123                     \n",
       "SRR2559609-X   351                340                     \n",
       "SRR2559610-X 12801              10143                     \n",
       "SRR2559611-X 13734              10848                     \n",
       "SRR2559612-X   647                606                     \n",
       "SRR2559613-X   563                521                     \n",
       "SRR2559634-X   420                390                     \n",
       "SRR2559857-X  5431               4441                     \n",
       "SRR2559858-X   540                528                     \n",
       "SRR2559859-X   401                333                     \n",
       "SRR2559877-X  1923               1780                     \n",
       "SRR2559878-X  2329               2058                     \n",
       "SRR2559880-X  2175               1962                     \n",
       "SRR2559881-X  1365               1239                     \n",
       "SRR2559883-X  1456               1266                     \n",
       "SRR2559884-X  2252               1889                     \n",
       "SRR2559885-X  1245               1006                     \n",
       "SRR2559886-X   171                166                     \n",
       "SRR2559887-X  2988               2379                     \n",
       "SRR2559888-X   588                493                     \n",
       "SRR2559889-X  1278               1222                     \n",
       "SRR2559890-X   533                507                     \n",
       "SRR2559891-X  3678               3303                     \n",
       "SRR2559892-X  3426               3040                     \n",
       "SRR2559893-X  1450               1250                     \n",
       "SRR2559894-X  3347               2915                     \n",
       "SRR2559895-X  2001               1792                     \n",
       "             sample_sums.ye_glom_family. sample_sums.ye_glom_order.\n",
       "SRR2559533-X  1054                        1054                     \n",
       "SRR2559534-X 17860                       18430                     \n",
       "SRR2559604-X  4343                        4493                     \n",
       "SRR2559605-X  1290                        1302                     \n",
       "SRR2559607-X 10388                       10619                     \n",
       "SRR2559608-X  6331                        6515                     \n",
       "SRR2559609-X   344                         344                     \n",
       "SRR2559610-X 10617                       11011                     \n",
       "SRR2559611-X 11989                       12702                     \n",
       "SRR2559612-X   615                         615                     \n",
       "SRR2559613-X   521                         533                     \n",
       "SRR2559634-X   395                         414                     \n",
       "SRR2559857-X  4626                        4671                     \n",
       "SRR2559858-X   532                         532                     \n",
       "SRR2559859-X   333                         372                     \n",
       "SRR2559877-X  1858                        1905                     \n",
       "SRR2559878-X  2178                        2230                     \n",
       "SRR2559880-X  1974                        2119                     \n",
       "SRR2559881-X  1243                        1356                     \n",
       "SRR2559883-X  1295                        1421                     \n",
       "SRR2559884-X  1904                        2204                     \n",
       "SRR2559885-X  1041                        1211                     \n",
       "SRR2559886-X   166                         166                     \n",
       "SRR2559887-X  2515                        2596                     \n",
       "SRR2559888-X   493                         509                     \n",
       "SRR2559889-X  1254                        1254                     \n",
       "SRR2559890-X   507                         512                     \n",
       "SRR2559891-X  3394                        3574                     \n",
       "SRR2559892-X  3130                        3344                     \n",
       "SRR2559893-X  1309                        1399                     \n",
       "SRR2559894-X  3143                        3313                     \n",
       "SRR2559895-X  1859                        1945                     \n",
       "             sample_sums.ye_pruned.genus. sample_sums.ye_pruned.fam.\n",
       "SRR2559533-X   602                         1041                     \n",
       "SRR2559534-X 12940                        15610                     \n",
       "SRR2559604-X  3199                         3881                     \n",
       "SRR2559605-X  1033                         1271                     \n",
       "SRR2559607-X  7432                         9783                     \n",
       "SRR2559608-X  5083                         6196                     \n",
       "SRR2559609-X   313                          323                     \n",
       "SRR2559610-X  7697                         9433                     \n",
       "SRR2559611-X  7160                        10110                     \n",
       "SRR2559612-X   491                          599                     \n",
       "SRR2559613-X   424                          521                     \n",
       "SRR2559634-X   344                          383                     \n",
       "SRR2559857-X  3206                         4009                     \n",
       "SRR2559858-X   503                          532                     \n",
       "SRR2559859-X   320                          333                     \n",
       "SRR2559877-X  1581                         1734                     \n",
       "SRR2559878-X  1768                         2012                     \n",
       "SRR2559880-X  1857                         1937                     \n",
       "SRR2559881-X  1157                         1243                     \n",
       "SRR2559883-X  1169                         1288                     \n",
       "SRR2559884-X  1729                         1904                     \n",
       "SRR2559885-X   893                         1021                     \n",
       "SRR2559886-X   154                          161                     \n",
       "SRR2559887-X  1823                         2292                     \n",
       "SRR2559888-X   427                          470                     \n",
       "SRR2559889-X  1031                         1083                     \n",
       "SRR2559890-X   412                          493                     \n",
       "SRR2559891-X  2967                         3301                     \n",
       "SRR2559892-X  2743                         3075                     \n",
       "SRR2559893-X  1180                         1292                     \n",
       "SRR2559894-X  2497                         3023                     \n",
       "SRR2559895-X  1662                         1832                     \n",
       "             sample_sums.ye_pruned.ord.\n",
       "SRR2559533-X  1054                     \n",
       "SRR2559534-X 17864                     \n",
       "SRR2559604-X  4364                     \n",
       "SRR2559605-X  1283                     \n",
       "SRR2559607-X 10520                     \n",
       "SRR2559608-X  6475                     \n",
       "SRR2559609-X   342                     \n",
       "SRR2559610-X 10864                     \n",
       "SRR2559611-X 12130                     \n",
       "SRR2559612-X   602                     \n",
       "SRR2559613-X   533                     \n",
       "SRR2559634-X   414                     \n",
       "SRR2559857-X  4570                     \n",
       "SRR2559858-X   532                     \n",
       "SRR2559859-X   372                     \n",
       "SRR2559877-X  1887                     \n",
       "SRR2559878-X  2214                     \n",
       "SRR2559880-X  2119                     \n",
       "SRR2559881-X  1356                     \n",
       "SRR2559883-X  1414                     \n",
       "SRR2559884-X  2204                     \n",
       "SRR2559885-X  1211                     \n",
       "SRR2559886-X   166                     \n",
       "SRR2559887-X  2545                     \n",
       "SRR2559888-X   498                     \n",
       "SRR2559889-X  1230                     \n",
       "SRR2559890-X   512                     \n",
       "SRR2559891-X  3559                     \n",
       "SRR2559892-X  3325                     \n",
       "SRR2559893-X  1382                     \n",
       "SRR2559894-X  3297                     \n",
       "SRR2559895-X  1945                     "
      ]
     },
     "metadata": {},
     "output_type": "display_data"
    }
   ],
   "source": [
    "data.frame(sample_sums(ps.ye),sample_sums(ye_glom_genus),sample_sums(ye_glom_family),sample_sums(ye_glom_order),sample_sums(ye_pruned.genus),sample_sums(ye_pruned.fam), sample_sums(ye_pruned.ord))"
   ]
  },
  {
   "cell_type": "markdown",
   "metadata": {
    "collapsed": true
   },
   "source": [
    "# Add the objects together at the genus, family, and order levels"
   ]
  },
  {
   "cell_type": "code",
   "execution_count": 66,
   "metadata": {
    "collapsed": true
   },
   "outputs": [
    {
     "data": {
      "text/plain": [
       "phyloseq-class experiment-level object\n",
       "otu_table()   OTU Table:         [ 297 taxa and 48 samples ]\n",
       "sample_data() Sample Data:       [ 48 samples by 35 sample variables ]\n",
       "tax_table()   Taxonomy Table:    [ 297 taxa by 7 taxonomic ranks ]"
      ]
     },
     "metadata": {},
     "output_type": "display_data"
    },
    {
     "data": {
      "text/plain": [
       "phyloseq-class experiment-level object\n",
       "otu_table()   OTU Table:         [ 357 taxa and 119 samples ]\n",
       "sample_data() Sample Data:       [ 119 samples by 33 sample variables ]\n",
       "tax_table()   Taxonomy Table:    [ 357 taxa by 7 taxonomic ranks ]"
      ]
     },
     "metadata": {},
     "output_type": "display_data"
    },
    {
     "data": {
      "text/plain": [
       "phyloseq-class experiment-level object\n",
       "otu_table()   OTU Table:         [ 381 taxa and 36 samples ]\n",
       "sample_data() Sample Data:       [ 36 samples by 35 sample variables ]\n",
       "tax_table()   Taxonomy Table:    [ 381 taxa by 7 taxonomic ranks ]"
      ]
     },
     "metadata": {},
     "output_type": "display_data"
    },
    {
     "data": {
      "text/plain": [
       "phyloseq-class experiment-level object\n",
       "otu_table()   OTU Table:         [ 287 taxa and 35 samples ]\n",
       "sample_data() Sample Data:       [ 35 samples by 36 sample variables ]\n",
       "tax_table()   Taxonomy Table:    [ 287 taxa by 7 taxonomic ranks ]"
      ]
     },
     "metadata": {},
     "output_type": "display_data"
    },
    {
     "data": {
      "text/plain": [
       "phyloseq-class experiment-level object\n",
       "otu_table()   OTU Table:         [ 312 taxa and 18 samples ]\n",
       "sample_data() Sample Data:       [ 18 samples by 33 sample variables ]\n",
       "tax_table()   Taxonomy Table:    [ 312 taxa by 7 taxonomic ranks ]"
      ]
     },
     "metadata": {},
     "output_type": "display_data"
    },
    {
     "data": {
      "text/plain": [
       "phyloseq-class experiment-level object\n",
       "otu_table()   OTU Table:         [ 247 taxa and 30 samples ]\n",
       "sample_data() Sample Data:       [ 30 samples by 33 sample variables ]\n",
       "tax_table()   Taxonomy Table:    [ 247 taxa by 7 taxonomic ranks ]"
      ]
     },
     "metadata": {},
     "output_type": "display_data"
    },
    {
     "data": {
      "text/plain": [
       "phyloseq-class experiment-level object\n",
       "otu_table()   OTU Table:         [ 102 taxa and 6 samples ]\n",
       "sample_data() Sample Data:       [ 6 samples by 34 sample variables ]\n",
       "tax_table()   Taxonomy Table:    [ 102 taxa by 7 taxonomic ranks ]"
      ]
     },
     "metadata": {},
     "output_type": "display_data"
    },
    {
     "data": {
      "text/plain": [
       "phyloseq-class experiment-level object\n",
       "otu_table()   OTU Table:         [ 252 taxa and 42 samples ]\n",
       "sample_data() Sample Data:       [ 42 samples by 42 sample variables ]\n",
       "tax_table()   Taxonomy Table:    [ 252 taxa by 7 taxonomic ranks ]"
      ]
     },
     "metadata": {},
     "output_type": "display_data"
    },
    {
     "data": {
      "text/plain": [
       "phyloseq-class experiment-level object\n",
       "otu_table()   OTU Table:         [ 308 taxa and 32 samples ]\n",
       "sample_data() Sample Data:       [ 32 samples by 44 sample variables ]\n",
       "tax_table()   Taxonomy Table:    [ 308 taxa by 7 taxonomic ranks ]"
      ]
     },
     "metadata": {},
     "output_type": "display_data"
    }
   ],
   "source": [
    "# Checking out the ps objects\n",
    "yao_pruned.genus\n",
    "whit_pruned.genus\n",
    "imparato_pruned.genus\n",
    "song_pruned.genus\n",
    "dai2016_pruned.genus\n",
    "dai2017_pruned.genus\n",
    "wu_pruned.genus\n",
    "nielsen2014_pruned.genus\n",
    "ye_pruned.genus"
   ]
  },
  {
   "cell_type": "code",
   "execution_count": 67,
   "metadata": {},
   "outputs": [],
   "source": [
    "# Making sure their taxa otu names have been replaced with the genus names\n",
    "taxa_names(whit_pruned.genus) = data.frame(tax_table(whit_pruned.genus))$Genus\n",
    "taxa_names(yao_pruned.genus) = data.frame(tax_table(yao_pruned.genus))$Genus\n",
    "taxa_names(imparato_pruned.genus) = data.frame(tax_table(imparato_pruned.genus))$Genus\n",
    "taxa_names(song_pruned.genus) = data.frame(tax_table(song_pruned.genus))$Genus\n",
    "taxa_names(dai2016_pruned.genus) = data.frame(tax_table(dai2016_pruned.genus))$Genus\n",
    "taxa_names(dai2017_pruned.genus) = data.frame(tax_table(dai2017_pruned.genus))$Genus\n",
    "taxa_names(wu_pruned.genus) = data.frame(tax_table(wu_pruned.genus))$Genus\n",
    "taxa_names(nielsen2014_pruned.genus) = data.frame(tax_table(nielsen2014_pruned.genus))$Genus\n",
    "taxa_names(ye_pruned.genus) = data.frame(tax_table(ye_pruned.genus))$Genus"
   ]
  },
  {
   "cell_type": "code",
   "execution_count": 68,
   "metadata": {},
   "outputs": [],
   "source": [
    "# Getting the taxonomy tables\n",
    "whit_tax = data.frame(tax_table(whit_pruned.genus))\n",
    "yao_tax = data.frame(tax_table(yao_pruned.genus))\n",
    "imparato_tax = data.frame(tax_table(imparato_pruned.genus))\n",
    "song_tax = data.frame(tax_table(song_pruned.genus))\n",
    "dai2016_tax = data.frame(tax_table(dai2016_pruned.genus))\n",
    "dai2017_tax = data.frame(tax_table(dai2017_pruned.genus))\n",
    "wu_tax = data.frame(tax_table(wu_pruned.genus))\n",
    "nielsen2014_tax = data.frame(tax_table(nielsen2014_pruned.genus))\n",
    "ye_tax = data.frame(tax_table(ye_pruned.genus))\n",
    "\n",
    "# Getting the OTU tables\n",
    "whit_otu = data.frame(t(otu_table(whit_pruned.genus)))\n",
    "yao_otu = data.frame(otu_table(yao_pruned.genus))\n",
    "imparato_otu = data.frame(otu_table(imparato_pruned.genus))\n",
    "song_otu = data.frame(otu_table(song_pruned.genus))\n",
    "dai2016_otu = data.frame(otu_table(dai2016_pruned.genus))\n",
    "dai2017_otu = data.frame(otu_table(dai2017_pruned.genus))\n",
    "wu_otu = data.frame(otu_table(wu_pruned.genus))\n",
    "nielsen2014_otu = data.frame(otu_table(nielsen2014_pruned.genus))\n",
    "ye_otu = data.frame(otu_table(ye_pruned.genus))\n",
    "\n",
    "# Getting the sample data tables\n",
    "sample_data(whit_pruned.genus)$pH = as.numeric(sample_data(whit_pruned.genus)$pH)\n",
    "sample_data(yao_pruned.genus)$pH = as.numeric(sample_data(yao_pruned.genus)$pH)\n",
    "sample_data(imparato_pruned.genus)$pH = as.numeric(sample_data(imparato_pruned.genus)$pH)\n",
    "sample_data(song_pruned.genus)$pH = as.numeric(sample_data(song_pruned.genus)$pH)\n",
    "sample_data(dai2016_pruned.genus)$pH = as.numeric(sample_data(dai2016_pruned.genus)$pH)\n",
    "sample_data(dai2017_pruned.genus)$pH = as.numeric(sample_data(dai2017_pruned.genus)$pH)\n",
    "sample_data(wu_pruned.genus)$pH = as.numeric(sample_data(wu_pruned.genus)$pH)\n",
    "sample_data(nielsen2014_pruned.genus)$pH = as.numeric(sample_data(nielsen2014_pruned.genus)$pH)\n",
    "sample_data(ye_pruned.genus)$pH = as.numeric(sample_data(ye_pruned.genus)$pH)\n",
    "\n",
    "whit_sd = data.frame(sample_data(whit_pruned.genus))\n",
    "yao_sd = data.frame(sample_data(yao_pruned.genus))\n",
    "imparato_sd = data.frame(sample_data(imparato_pruned.genus))\n",
    "song_sd = data.frame(sample_data(song_pruned.genus))\n",
    "dai2016_sd = data.frame(sample_data(dai2016_pruned.genus))\n",
    "dai2017_sd = data.frame(sample_data(dai2017_pruned.genus))\n",
    "wu_sd = data.frame(sample_data(wu_pruned.genus))\n",
    "nielsen2014_sd = data.frame(sample_data(nielsen2014_pruned.genus))\n",
    "ye_sd = data.frame(sample_data(ye_pruned.genus))"
   ]
  },
  {
   "cell_type": "code",
   "execution_count": 69,
   "metadata": {},
   "outputs": [],
   "source": [
    "# Adding a column with Genus in it, whcih we will merge by.\n",
    "whit_otu$Genus = row.names(whit_otu)\n",
    "yao_otu$Genus = row.names(yao_otu)\n",
    "imparato_otu$Genus = row.names(imparato_otu)\n",
    "song_otu$Genus = row.names(song_otu)\n",
    "dai2016_otu$Genus = row.names(dai2016_otu)\n",
    "dai2017_otu$Genus = row.names(dai2017_otu)\n",
    "wu_otu$Genus = row.names(wu_otu)\n",
    "nielsen2014_otu$Genus = row.names(nielsen2014_otu)\n",
    "ye_otu$Genus = row.names(ye_otu)"
   ]
  },
  {
   "cell_type": "code",
   "execution_count": 70,
   "metadata": {
    "collapsed": true
   },
   "outputs": [
    {
     "data": {
      "text/html": [
       "<ol class=list-inline>\n",
       "\t<li>442</li>\n",
       "\t<li>7</li>\n",
       "</ol>\n"
      ],
      "text/latex": [
       "\\begin{enumerate*}\n",
       "\\item 442\n",
       "\\item 7\n",
       "\\end{enumerate*}\n"
      ],
      "text/markdown": [
       "1. 442\n",
       "2. 7\n",
       "\n",
       "\n"
      ],
      "text/plain": [
       "[1] 442   7"
      ]
     },
     "metadata": {},
     "output_type": "display_data"
    },
    {
     "data": {
      "text/html": [
       "<ol class=list-inline>\n",
       "\t<li>546</li>\n",
       "\t<li>7</li>\n",
       "</ol>\n"
      ],
      "text/latex": [
       "\\begin{enumerate*}\n",
       "\\item 546\n",
       "\\item 7\n",
       "\\end{enumerate*}\n"
      ],
      "text/markdown": [
       "1. 546\n",
       "2. 7\n",
       "\n",
       "\n"
      ],
      "text/plain": [
       "[1] 546   7"
      ]
     },
     "metadata": {},
     "output_type": "display_data"
    },
    {
     "data": {
      "text/html": [
       "<ol class=list-inline>\n",
       "\t<li>593</li>\n",
       "\t<li>7</li>\n",
       "</ol>\n"
      ],
      "text/latex": [
       "\\begin{enumerate*}\n",
       "\\item 593\n",
       "\\item 7\n",
       "\\end{enumerate*}\n"
      ],
      "text/markdown": [
       "1. 593\n",
       "2. 7\n",
       "\n",
       "\n"
      ],
      "text/plain": [
       "[1] 593   7"
      ]
     },
     "metadata": {},
     "output_type": "display_data"
    },
    {
     "data": {
      "text/html": [
       "<ol class=list-inline>\n",
       "\t<li>668</li>\n",
       "\t<li>7</li>\n",
       "</ol>\n"
      ],
      "text/latex": [
       "\\begin{enumerate*}\n",
       "\\item 668\n",
       "\\item 7\n",
       "\\end{enumerate*}\n"
      ],
      "text/markdown": [
       "1. 668\n",
       "2. 7\n",
       "\n",
       "\n"
      ],
      "text/plain": [
       "[1] 668   7"
      ]
     },
     "metadata": {},
     "output_type": "display_data"
    },
    {
     "data": {
      "text/html": [
       "<ol class=list-inline>\n",
       "\t<li>723</li>\n",
       "\t<li>7</li>\n",
       "</ol>\n"
      ],
      "text/latex": [
       "\\begin{enumerate*}\n",
       "\\item 723\n",
       "\\item 7\n",
       "\\end{enumerate*}\n"
      ],
      "text/markdown": [
       "1. 723\n",
       "2. 7\n",
       "\n",
       "\n"
      ],
      "text/plain": [
       "[1] 723   7"
      ]
     },
     "metadata": {},
     "output_type": "display_data"
    },
    {
     "data": {
      "text/html": [
       "<ol class=list-inline>\n",
       "\t<li>736</li>\n",
       "\t<li>7</li>\n",
       "</ol>\n"
      ],
      "text/latex": [
       "\\begin{enumerate*}\n",
       "\\item 736\n",
       "\\item 7\n",
       "\\end{enumerate*}\n"
      ],
      "text/markdown": [
       "1. 736\n",
       "2. 7\n",
       "\n",
       "\n"
      ],
      "text/plain": [
       "[1] 736   7"
      ]
     },
     "metadata": {},
     "output_type": "display_data"
    },
    {
     "data": {
      "text/html": [
       "<ol class=list-inline>\n",
       "\t<li>775</li>\n",
       "\t<li>7</li>\n",
       "</ol>\n"
      ],
      "text/latex": [
       "\\begin{enumerate*}\n",
       "\\item 775\n",
       "\\item 7\n",
       "\\end{enumerate*}\n"
      ],
      "text/markdown": [
       "1. 775\n",
       "2. 7\n",
       "\n",
       "\n"
      ],
      "text/plain": [
       "[1] 775   7"
      ]
     },
     "metadata": {},
     "output_type": "display_data"
    },
    {
     "data": {
      "text/html": [
       "<ol class=list-inline>\n",
       "\t<li>846</li>\n",
       "\t<li>7</li>\n",
       "</ol>\n"
      ],
      "text/latex": [
       "\\begin{enumerate*}\n",
       "\\item 846\n",
       "\\item 7\n",
       "\\end{enumerate*}\n"
      ],
      "text/markdown": [
       "1. 846\n",
       "2. 7\n",
       "\n",
       "\n"
      ],
      "text/plain": [
       "[1] 846   7"
      ]
     },
     "metadata": {},
     "output_type": "display_data"
    }
   ],
   "source": [
    "# Merging the two taxonomy files\n",
    "merged_tax = merge(whit_tax, yao_tax, all=TRUE)\n",
    "row.names(merged_tax)=merged_tax$Genus\n",
    "dim(merged_tax)\n",
    "\n",
    "merged_tax = merge(merged_tax, imparato_tax, all=TRUE)\n",
    "row.names(merged_tax)=merged_tax$Genus\n",
    "\n",
    "dim(merged_tax)\n",
    "\n",
    "merged_tax = merge(merged_tax, song_tax, all=TRUE)\n",
    "row.names(merged_tax)=merged_tax$Genus\n",
    "\n",
    "dim(merged_tax)\n",
    "\n",
    "merged_tax = merge(merged_tax, dai2016_tax, all=TRUE)\n",
    "row.names(merged_tax)=merged_tax$Genus\n",
    "\n",
    "dim(merged_tax)\n",
    "\n",
    "merged_tax = merge(merged_tax, dai2017_tax, all=TRUE)\n",
    "row.names(merged_tax)=merged_tax$Genus\n",
    "\n",
    "dim(merged_tax)\n",
    "\n",
    "merged_tax = merge(merged_tax, wu_tax, all=TRUE)\n",
    "row.names(merged_tax)=merged_tax$Genus\n",
    "\n",
    "dim(merged_tax)\n",
    "\n",
    "merged_tax = merge(merged_tax, nielsen2014_tax, all=TRUE)\n",
    "row.names(merged_tax)=merged_tax$Genus\n",
    "\n",
    "dim(merged_tax)\n",
    "\n",
    "merged_tax = merge(merged_tax, ye_tax, all=TRUE)\n",
    "row.names(merged_tax)=merged_tax$Genus\n",
    "\n",
    "dim(merged_tax)"
   ]
  },
  {
   "cell_type": "code",
   "execution_count": 71,
   "metadata": {
    "collapsed": true
   },
   "outputs": [
    {
     "data": {
      "text/html": [
       "<ol class=list-inline>\n",
       "\t<li>442</li>\n",
       "\t<li>168</li>\n",
       "</ol>\n"
      ],
      "text/latex": [
       "\\begin{enumerate*}\n",
       "\\item 442\n",
       "\\item 168\n",
       "\\end{enumerate*}\n"
      ],
      "text/markdown": [
       "1. 442\n",
       "2. 168\n",
       "\n",
       "\n"
      ],
      "text/plain": [
       "[1] 442 168"
      ]
     },
     "metadata": {},
     "output_type": "display_data"
    },
    {
     "data": {
      "text/html": [
       "<ol class=list-inline>\n",
       "\t<li>546</li>\n",
       "\t<li>204</li>\n",
       "</ol>\n"
      ],
      "text/latex": [
       "\\begin{enumerate*}\n",
       "\\item 546\n",
       "\\item 204\n",
       "\\end{enumerate*}\n"
      ],
      "text/markdown": [
       "1. 546\n",
       "2. 204\n",
       "\n",
       "\n"
      ],
      "text/plain": [
       "[1] 546 204"
      ]
     },
     "metadata": {},
     "output_type": "display_data"
    },
    {
     "data": {
      "text/html": [
       "<ol class=list-inline>\n",
       "\t<li>593</li>\n",
       "\t<li>239</li>\n",
       "</ol>\n"
      ],
      "text/latex": [
       "\\begin{enumerate*}\n",
       "\\item 593\n",
       "\\item 239\n",
       "\\end{enumerate*}\n"
      ],
      "text/markdown": [
       "1. 593\n",
       "2. 239\n",
       "\n",
       "\n"
      ],
      "text/plain": [
       "[1] 593 239"
      ]
     },
     "metadata": {},
     "output_type": "display_data"
    },
    {
     "data": {
      "text/html": [
       "<ol class=list-inline>\n",
       "\t<li>668</li>\n",
       "\t<li>257</li>\n",
       "</ol>\n"
      ],
      "text/latex": [
       "\\begin{enumerate*}\n",
       "\\item 668\n",
       "\\item 257\n",
       "\\end{enumerate*}\n"
      ],
      "text/markdown": [
       "1. 668\n",
       "2. 257\n",
       "\n",
       "\n"
      ],
      "text/plain": [
       "[1] 668 257"
      ]
     },
     "metadata": {},
     "output_type": "display_data"
    },
    {
     "data": {
      "text/html": [
       "<ol class=list-inline>\n",
       "\t<li>723</li>\n",
       "\t<li>287</li>\n",
       "</ol>\n"
      ],
      "text/latex": [
       "\\begin{enumerate*}\n",
       "\\item 723\n",
       "\\item 287\n",
       "\\end{enumerate*}\n"
      ],
      "text/markdown": [
       "1. 723\n",
       "2. 287\n",
       "\n",
       "\n"
      ],
      "text/plain": [
       "[1] 723 287"
      ]
     },
     "metadata": {},
     "output_type": "display_data"
    },
    {
     "data": {
      "text/html": [
       "<ol class=list-inline>\n",
       "\t<li>736</li>\n",
       "\t<li>293</li>\n",
       "</ol>\n"
      ],
      "text/latex": [
       "\\begin{enumerate*}\n",
       "\\item 736\n",
       "\\item 293\n",
       "\\end{enumerate*}\n"
      ],
      "text/markdown": [
       "1. 736\n",
       "2. 293\n",
       "\n",
       "\n"
      ],
      "text/plain": [
       "[1] 736 293"
      ]
     },
     "metadata": {},
     "output_type": "display_data"
    },
    {
     "data": {
      "text/html": [
       "<ol class=list-inline>\n",
       "\t<li>775</li>\n",
       "\t<li>335</li>\n",
       "</ol>\n"
      ],
      "text/latex": [
       "\\begin{enumerate*}\n",
       "\\item 775\n",
       "\\item 335\n",
       "\\end{enumerate*}\n"
      ],
      "text/markdown": [
       "1. 775\n",
       "2. 335\n",
       "\n",
       "\n"
      ],
      "text/plain": [
       "[1] 775 335"
      ]
     },
     "metadata": {},
     "output_type": "display_data"
    },
    {
     "data": {
      "text/html": [
       "<ol class=list-inline>\n",
       "\t<li>846</li>\n",
       "\t<li>367</li>\n",
       "</ol>\n"
      ],
      "text/latex": [
       "\\begin{enumerate*}\n",
       "\\item 846\n",
       "\\item 367\n",
       "\\end{enumerate*}\n"
      ],
      "text/markdown": [
       "1. 846\n",
       "2. 367\n",
       "\n",
       "\n"
      ],
      "text/plain": [
       "[1] 846 367"
      ]
     },
     "metadata": {},
     "output_type": "display_data"
    },
    {
     "name": "stderr",
     "output_type": "stream",
     "text": [
      "Warning message in storage.mode(merged_otu) = \"numeric\":\n",
      "“NAs introduced by coercion”"
     ]
    }
   ],
   "source": [
    "# Merging the two otu files, replacing any empty spots with 0\n",
    "merged_otu = full_join(whit_otu, yao_otu, by=\"Genus\")\n",
    "merged_otu[is.na(merged_otu)] = 0\n",
    "row.names(merged_otu)=merged_otu$Genus\n",
    "\n",
    "dim(merged_otu)\n",
    "\n",
    "merged_otu = full_join(merged_otu, imparato_otu, by=\"Genus\")\n",
    "merged_otu[is.na(merged_otu)] = 0\n",
    "row.names(merged_otu)=merged_otu$Genus\n",
    "\n",
    "dim(merged_otu)\n",
    "\n",
    "merged_otu = full_join(merged_otu, song_otu, by=\"Genus\")\n",
    "merged_otu[is.na(merged_otu)] = 0\n",
    "row.names(merged_otu)=merged_otu$Genus\n",
    "\n",
    "dim(merged_otu)\n",
    "\n",
    "\n",
    "merged_otu = full_join(merged_otu, dai2016_otu, by=\"Genus\")\n",
    "merged_otu[is.na(merged_otu)] = 0\n",
    "row.names(merged_otu)=merged_otu$Genus\n",
    "\n",
    "dim(merged_otu)\n",
    "\n",
    "merged_otu = full_join(merged_otu, dai2017_otu, by=\"Genus\")\n",
    "merged_otu[is.na(merged_otu)] = 0\n",
    "row.names(merged_otu)=merged_otu$Genus\n",
    "\n",
    "dim(merged_otu)\n",
    "\n",
    "merged_otu = full_join(merged_otu, wu_otu, by=\"Genus\")\n",
    "merged_otu[is.na(merged_otu)] = 0\n",
    "row.names(merged_otu)=merged_otu$Genus\n",
    "\n",
    "dim(merged_otu)\n",
    "\n",
    "merged_otu = full_join(merged_otu, nielsen2014_otu, by=\"Genus\")\n",
    "merged_otu[is.na(merged_otu)] = 0\n",
    "row.names(merged_otu)=merged_otu$Genus\n",
    "\n",
    "dim(merged_otu)\n",
    "\n",
    "merged_otu = full_join(merged_otu, ye_otu, by=\"Genus\")\n",
    "merged_otu[is.na(merged_otu)] = 0\n",
    "row.names(merged_otu)=merged_otu$Genus\n",
    "\n",
    "dim(merged_otu)\n",
    "\n",
    "\n",
    "# Reformatting the otu object\n",
    "merged_otu = as.matrix(merged_otu,dimnames=list(row.names(merged_otu),colnames(merged_otu)))\n",
    "storage.mode(merged_otu) = \"numeric\""
   ]
  },
  {
   "cell_type": "code",
   "execution_count": 72,
   "metadata": {
    "collapsed": true
   },
   "outputs": [
    {
     "name": "stderr",
     "output_type": "stream",
     "text": [
      "Joining, by = c(\"ForwardPrimerName\", \"SoilType\", \"NucleicAcidExtraction\", \"Feedstock\", \"GeographicalLocation\", \"ReversePrimerSequence\", \"pH\", \"RevPrimerName\", \"TargetGene\", \"ForwardPrimerSequence\", \"Crop\", \"SequencingMethod\", \"t.per.ha.PyOM\", \"Author\", \"Region\", \"Organism\", \"Habitat\", \"CurrentLandUse\", \"Silt\", \"Sand\", \"PyOM.Temp\", \"Incubation_Time_Weeks\", \"Sampling_Depth_cm\", \"Clay\", \"Treatment\", \"BioProject\", \"BioSample\", \"PyOM\", \"PyOM.pH\", \".rownames\")\n"
     ]
    },
    {
     "data": {
      "text/html": [
       "<ol class=list-inline>\n",
       "\t<li>167</li>\n",
       "\t<li>40</li>\n",
       "</ol>\n"
      ],
      "text/latex": [
       "\\begin{enumerate*}\n",
       "\\item 167\n",
       "\\item 40\n",
       "\\end{enumerate*}\n"
      ],
      "text/markdown": [
       "1. 167\n",
       "2. 40\n",
       "\n",
       "\n"
      ],
      "text/plain": [
       "[1] 167  40"
      ]
     },
     "metadata": {},
     "output_type": "display_data"
    },
    {
     "name": "stderr",
     "output_type": "stream",
     "text": [
      "Joining, by = c(\"ForwardPrimerName\", \"SoilType\", \"NucleicAcidExtraction\", \"Feedstock\", \"GeographicalLocation\", \"ReversePrimerSequence\", \"pH\", \"RevPrimerName\", \"TargetGene\", \"ForwardPrimerSequence\", \"Crop\", \"SequencingMethod\", \"t.per.ha.PyOM\", \"Author\", \"Region\", \"Organism\", \"Habitat\", \"CurrentLandUse\", \"Silt\", \"Sand\", \"PyOM.Temp\", \"Incubation_Time_Weeks\", \"Clay\", \"Treatment\", \"CollectionYear\", \"BioProject\", \"X.C\", \"BioSample\", \"PyOM\", \"PyOM.pH\", \".rownames\", \"FwdBarcode\", \"RevBarcode\", \"SRA\")\n"
     ]
    },
    {
     "data": {
      "text/html": [
       "<ol class=list-inline>\n",
       "\t<li>203</li>\n",
       "\t<li>42</li>\n",
       "</ol>\n"
      ],
      "text/latex": [
       "\\begin{enumerate*}\n",
       "\\item 203\n",
       "\\item 42\n",
       "\\end{enumerate*}\n"
      ],
      "text/markdown": [
       "1. 203\n",
       "2. 42\n",
       "\n",
       "\n"
      ],
      "text/plain": [
       "[1] 203  42"
      ]
     },
     "metadata": {},
     "output_type": "display_data"
    },
    {
     "name": "stderr",
     "output_type": "stream",
     "text": [
      "Joining, by = c(\"ForwardPrimerName\", \"SoilType\", \"NucleicAcidExtraction\", \"Feedstock\", \"GeographicalLocation\", \"ReversePrimerSequence\", \"pH\", \"RevPrimerName\", \"TargetGene\", \"ForwardPrimerSequence\", \"Crop\", \"SequencingMethod\", \"Author\", \"Region\", \"Organism\", \"Habitat\", \"CurrentLandUse\", \"Silt\", \"Sand\", \"NCBISampleID\", \"PyOM.Temp\", \"Incubation_Time_Weeks\", \"Sampling_Depth_cm\", \"Clay\", \"Treatment\", \"CollectionYear\", \"BioProject\", \"BioSample\", \"PyOM\", \"PyOM.pH\", \".rownames\", \"FwdBarcode\", \"RevBarcode\", \"SRA\", \"X.SOM\")\n"
     ]
    },
    {
     "data": {
      "text/html": [
       "<ol class=list-inline>\n",
       "\t<li>238</li>\n",
       "\t<li>44</li>\n",
       "</ol>\n"
      ],
      "text/latex": [
       "\\begin{enumerate*}\n",
       "\\item 238\n",
       "\\item 44\n",
       "\\end{enumerate*}\n"
      ],
      "text/markdown": [
       "1. 238\n",
       "2. 44\n",
       "\n",
       "\n"
      ],
      "text/plain": [
       "[1] 238  44"
      ]
     },
     "metadata": {},
     "output_type": "display_data"
    },
    {
     "name": "stderr",
     "output_type": "stream",
     "text": [
      "Joining, by = c(\"ForwardPrimerName\", \"SoilType\", \"NucleicAcidExtraction\", \"Feedstock\", \"GeographicalLocation\", \"ReversePrimerSequence\", \"pH\", \"RevPrimerName\", \"TargetGene\", \"ForwardPrimerSequence\", \"Crop\", \"SequencingMethod\", \"Author\", \"Region\", \"Organism\", \"Habitat\", \"CurrentLandUse\", \"Silt\", \"Sand\", \"PyOM.Temp\", \"Incubation_Time_Weeks\", \"Sampling_Depth_cm\", \"Clay\", \"Treatment\", \"CollectionYear\", \"BioProject\", \"BioSample\", \"PyOM\", \"PyOM.pH\", \".rownames\", \"FwdBarcode\", \"RevBarcode\", \"SRA\", \"g.per.kg.PyOM\")\n"
     ]
    },
    {
     "data": {
      "text/html": [
       "<ol class=list-inline>\n",
       "\t<li>256</li>\n",
       "\t<li>44</li>\n",
       "</ol>\n"
      ],
      "text/latex": [
       "\\begin{enumerate*}\n",
       "\\item 256\n",
       "\\item 44\n",
       "\\end{enumerate*}\n"
      ],
      "text/markdown": [
       "1. 256\n",
       "2. 44\n",
       "\n",
       "\n"
      ],
      "text/plain": [
       "[1] 256  44"
      ]
     },
     "metadata": {},
     "output_type": "display_data"
    },
    {
     "name": "stderr",
     "output_type": "stream",
     "text": [
      "Joining, by = c(\"ForwardPrimerName\", \"SoilType\", \"NucleicAcidExtraction\", \"Feedstock\", \"GeographicalLocation\", \"ReversePrimerSequence\", \"pH\", \"RevPrimerName\", \"TargetGene\", \"ForwardPrimerSequence\", \"Crop\", \"SequencingMethod\", \"Author\", \"Region\", \"Organism\", \"Habitat\", \"CurrentLandUse\", \"Silt\", \"Sand\", \"PyOM.Temp\", \"Incubation_Time_Weeks\", \"Sampling_Depth_cm\", \"Clay\", \"Treatment\", \"CollectionYear\", \"BioProject\", \"BioSample\", \"PyOM\", \"PyOM.pH\", \".rownames\", \"FwdBarcode\", \"RevBarcode\", \"SRA\", \"g.per.kg.PyOM\")\n"
     ]
    },
    {
     "data": {
      "text/html": [
       "<ol class=list-inline>\n",
       "\t<li>286</li>\n",
       "\t<li>44</li>\n",
       "</ol>\n"
      ],
      "text/latex": [
       "\\begin{enumerate*}\n",
       "\\item 286\n",
       "\\item 44\n",
       "\\end{enumerate*}\n"
      ],
      "text/markdown": [
       "1. 286\n",
       "2. 44\n",
       "\n",
       "\n"
      ],
      "text/plain": [
       "[1] 286  44"
      ]
     },
     "metadata": {},
     "output_type": "display_data"
    },
    {
     "name": "stderr",
     "output_type": "stream",
     "text": [
      "Joining, by = c(\"ForwardPrimerName\", \"SoilType\", \"NucleicAcidExtraction\", \"Feedstock\", \"GeographicalLocation\", \"ReversePrimerSequence\", \"pH\", \"RevPrimerName\", \"TargetGene\", \"ForwardPrimerSequence\", \"Crop\", \"SequencingMethod\", \"t.per.ha.PyOM\", \"Author\", \"Region\", \"Organism\", \"Habitat\", \"CurrentLandUse\", \"Silt\", \"Sand\", \"PyOM.Temp\", \"Incubation_Time_Weeks\", \"Sampling_Depth_cm\", \"Clay\", \"Treatment\", \"CollectionYear\", \"BioProject\", \"X.C\", \"BioSample\", \"PyOM\", \"PyOM.pH\", \".rownames\", \"FwdBarcode\", \"RevBarcode\", \"SRA\")\n"
     ]
    },
    {
     "data": {
      "text/html": [
       "<ol class=list-inline>\n",
       "\t<li>292</li>\n",
       "\t<li>44</li>\n",
       "</ol>\n"
      ],
      "text/latex": [
       "\\begin{enumerate*}\n",
       "\\item 292\n",
       "\\item 44\n",
       "\\end{enumerate*}\n"
      ],
      "text/markdown": [
       "1. 292\n",
       "2. 44\n",
       "\n",
       "\n"
      ],
      "text/plain": [
       "[1] 292  44"
      ]
     },
     "metadata": {},
     "output_type": "display_data"
    },
    {
     "name": "stderr",
     "output_type": "stream",
     "text": [
      "Joining, by = c(\"ForwardPrimerName\", \"SoilType\", \"NucleicAcidExtraction\", \"Feedstock\", \"GeographicalLocation\", \"ReversePrimerSequence\", \"pH\", \"RevPrimerName\", \"TargetGene\", \"ForwardPrimerSequence\", \"Crop\", \"SequencingMethod\", \"t.per.ha.PyOM\", \"Author\", \"Region\", \"Organism\", \"Habitat\", \"CurrentLandUse\", \"Silt\", \"Sand\", \"PyOM.Temp\", \"Incubation_Time_Weeks\", \"Sampling_Depth_cm\", \"Clay\", \"Treatment\", \"CollectionYear\", \"BioProject\", \"BioSample\", \"PyOM\", \"PyOM.pH\", \".rownames\", \"FwdBarcode\", \"RevBarcode\", \"SRA\", \"TotalC\", \"TotalN\", \"X.SOM\")\n"
     ]
    },
    {
     "data": {
      "text/html": [
       "<ol class=list-inline>\n",
       "\t<li>334</li>\n",
       "\t<li>50</li>\n",
       "</ol>\n"
      ],
      "text/latex": [
       "\\begin{enumerate*}\n",
       "\\item 334\n",
       "\\item 50\n",
       "\\end{enumerate*}\n"
      ],
      "text/markdown": [
       "1. 334\n",
       "2. 50\n",
       "\n",
       "\n"
      ],
      "text/plain": [
       "[1] 334  50"
      ]
     },
     "metadata": {},
     "output_type": "display_data"
    },
    {
     "name": "stderr",
     "output_type": "stream",
     "text": [
      "Joining, by = c(\"ForwardPrimerName\", \"SoilType\", \"NucleicAcidExtraction\", \"Feedstock\", \"GeographicalLocation\", \"ReversePrimerSequence\", \"pH\", \"RevPrimerName\", \"TargetGene\", \"ForwardPrimerSequence\", \"Crop\", \"SequencingMethod\", \"t.per.ha.PyOM\", \"Author\", \"Region\", \"Organism\", \"Habitat\", \"CurrentLandUse\", \"Silt\", \"Sand\", \"NCBISampleID\", \"PyOM.Temp\", \"Incubation_Time_Weeks\", \"Sampling_Depth_cm\", \"Clay\", \"Treatment\", \"CollectionYear\", \"BioProject\", \"BioSample\", \"PyOM\", \"PyOM.pH\", \".rownames\", \"FwdBarcode\", \"RevBarcode\", \"SRA\", \"TotalC\", \"TotalN\", \"X.SOM\", \"EC\", \"Ammonium\", \"Nitrate\")\n"
     ]
    },
    {
     "data": {
      "text/html": [
       "<ol class=list-inline>\n",
       "\t<li>366</li>\n",
       "\t<li>54</li>\n",
       "</ol>\n"
      ],
      "text/latex": [
       "\\begin{enumerate*}\n",
       "\\item 366\n",
       "\\item 54\n",
       "\\end{enumerate*}\n"
      ],
      "text/markdown": [
       "1. 366\n",
       "2. 54\n",
       "\n",
       "\n"
      ],
      "text/plain": [
       "[1] 366  54"
      ]
     },
     "metadata": {},
     "output_type": "display_data"
    }
   ],
   "source": [
    "merged_sd = full_join(name_rows(whit_sd), name_rows(yao_sd))\n",
    "row.names(merged_sd)=merged_sd$.rownames\n",
    "dim(merged_sd)\n",
    "\n",
    "merged_sd = full_join((merged_sd), name_rows(imparato_sd))\n",
    "row.names(merged_sd)=merged_sd$.rownames\n",
    "dim(merged_sd)\n",
    "\n",
    "merged_sd = full_join((merged_sd), name_rows(song_sd))\n",
    "row.names(merged_sd)=merged_sd$.rownames\n",
    "dim(merged_sd)\n",
    "\n",
    "merged_sd = full_join((merged_sd), name_rows(dai2016_sd))\n",
    "row.names(merged_sd)=merged_sd$.rownames\n",
    "dim(merged_sd)\n",
    "\n",
    "merged_sd = full_join((merged_sd), name_rows(dai2017_sd))\n",
    "row.names(merged_sd)=merged_sd$.rownames\n",
    "dim(merged_sd)\n",
    "\n",
    "merged_sd = full_join((merged_sd), name_rows(wu_sd))\n",
    "row.names(merged_sd)=merged_sd$.rownames\n",
    "dim(merged_sd)\n",
    "\n",
    "merged_sd = full_join((merged_sd), name_rows(nielsen2014_sd))\n",
    "row.names(merged_sd)=merged_sd$.rownames\n",
    "dim(merged_sd)\n",
    "\n",
    "merged_sd = full_join((merged_sd), name_rows(ye_sd))\n",
    "row.names(merged_sd)=merged_sd$.rownames\n",
    "dim(merged_sd)"
   ]
  },
  {
   "cell_type": "code",
   "execution_count": 73,
   "metadata": {},
   "outputs": [
    {
     "name": "stderr",
     "output_type": "stream",
     "text": [
      "Warning message in .local(object):\n",
      "“Coercing from data.frame class to character matrix \n",
      "prior to building taxonomyTable. \n",
      "This could introduce artifacts. \n",
      "Check your taxonomyTable, or coerce to matrix manually.”"
     ]
    }
   ],
   "source": [
    "# Creating the sample data object\n",
    "merged_sd = sample_data(merged_sd)\n",
    "\n",
    "# Fixing the sample data names to match the OTU table (which automatically replaces - characters with .)\n",
    "row.names(merged_sd) = gsub(\"-\", \".\", row.names(merged_sd))\n",
    "\n",
    "# Creating the taxonomy table object\n",
    "m = tax_table(merged_tax)\n",
    "\n",
    "# Making sure the rownames and column names transfer, and renaming the final object\n",
    "row.names(m) = row.names(merged_tax)\n",
    "colnames(m) = colnames(merged_tax)\n",
    "merged_tax=m\n",
    "\n",
    "# Making the otu table object and getting rid of the previous Genus sorting column\n",
    "merged_otu=otu_table(merged_otu, taxa_are_rows=TRUE)\n",
    "merged_otu = merged_otu[,!colnames(merged_otu)==\"Genus\"]"
   ]
  },
  {
   "cell_type": "code",
   "execution_count": 74,
   "metadata": {},
   "outputs": [
    {
     "data": {
      "text/plain": [
       "phyloseq-class experiment-level object\n",
       "otu_table()   OTU Table:         [ 846 taxa and 366 samples ]\n",
       "sample_data() Sample Data:       [ 366 samples by 54 sample variables ]\n",
       "tax_table()   Taxonomy Table:    [ 846 taxa by 7 taxonomic ranks ]"
      ]
     },
     "metadata": {},
     "output_type": "display_data"
    }
   ],
   "source": [
    "ps.glom.genus = phyloseq(merged_sd,merged_tax,merged_otu)\n",
    "ps.glom.genus"
   ]
  },
  {
   "cell_type": "code",
   "execution_count": 75,
   "metadata": {},
   "outputs": [
    {
     "data": {
      "text/plain": [
       "phyloseq-class experiment-level object\n",
       "otu_table()   OTU Table:         [ 846 taxa and 365 samples ]\n",
       "sample_data() Sample Data:       [ 365 samples by 54 sample variables ]\n",
       "tax_table()   Taxonomy Table:    [ 846 taxa by 7 taxonomic ranks ]"
      ]
     },
     "metadata": {},
     "output_type": "display_data"
    }
   ],
   "source": [
    "ps.glom.genus = prune_samples(sample_names(ps.glom.genus)!=\"SRR4449152.X\", ps.glom.genus)\n",
    "ps.glom.genus\n",
    "# Getting rid of no-OTU sample"
   ]
  },
  {
   "cell_type": "code",
   "execution_count": 76,
   "metadata": {},
   "outputs": [],
   "source": [
    "#save as an R object\n",
    "saveRDS(ps.glom.genus, \"ps.glom.genus.ps\" )"
   ]
  },
  {
   "cell_type": "code",
   "execution_count": 77,
   "metadata": {},
   "outputs": [],
   "source": [
    "#normalize\n",
    "ps.glom.genus.norm=transform_sample_counts(ps.glom.genus, function(x) x/sum(x))"
   ]
  },
  {
   "cell_type": "code",
   "execution_count": 78,
   "metadata": {},
   "outputs": [
    {
     "name": "stderr",
     "output_type": "stream",
     "text": [
      "Warning message:\n",
      "“The shape palette can deal with a maximum of 6 discrete values because\n",
      "more than 6 becomes difficult to discriminate; you have 8. Consider\n",
      "specifying shapes manually if you must have them.”"
     ]
    },
    {
     "data": {},
     "metadata": {},
     "output_type": "display_data"
    },
    {
     "data": {
      "image/png": "[encoded data removed]",
      "text/plain": [
       "plot without title"
      ]
     },
     "metadata": {},
     "output_type": "display_data"
    }
   ],
   "source": [
    "ord = ordinate(ps.glom.genus.norm, method = \"PCoA\",distance=\"bray\")\n",
    "p = plot_ordination(ps.glom.genus.norm,ord, color=\"PyOM\",shape=\"Author\")\n",
    "p"
   ]
  },
  {
   "cell_type": "code",
   "execution_count": 79,
   "metadata": {},
   "outputs": [
    {
     "name": "stderr",
     "output_type": "stream",
     "text": [
      "Warning message:\n",
      "“The shape palette can deal with a maximum of 6 discrete values because\n",
      "more than 6 becomes difficult to discriminate; you have 8. Consider\n",
      "specifying shapes manually if you must have them.”"
     ]
    },
    {
     "data": {},
     "metadata": {},
     "output_type": "display_data"
    },
    {
     "data": {
      "image/png": "[encoded data removed]",
      "text/plain": [
       "plot without title"
      ]
     },
     "metadata": {},
     "output_type": "display_data"
    }
   ],
   "source": [
    "ord = ordinate(ps.glom.genus.norm, method = \"PCoA\",distance=\"bray\")\n",
    "p = plot_ordination(ps.glom.genus.norm,ord, color=\"pH\",shape=\"Author\")\n",
    "p"
   ]
  },
  {
   "cell_type": "markdown",
   "metadata": {},
   "source": [
    "## Adding Family datasets together"
   ]
  },
  {
   "cell_type": "code",
   "execution_count": 80,
   "metadata": {},
   "outputs": [
    {
     "data": {
      "text/plain": [
       "phyloseq-class experiment-level object\n",
       "otu_table()   OTU Table:         [ 212 taxa and 48 samples ]\n",
       "sample_data() Sample Data:       [ 48 samples by 35 sample variables ]\n",
       "tax_table()   Taxonomy Table:    [ 212 taxa by 7 taxonomic ranks ]"
      ]
     },
     "metadata": {},
     "output_type": "display_data"
    },
    {
     "data": {
      "text/plain": [
       "phyloseq-class experiment-level object\n",
       "otu_table()   OTU Table:         [ 222 taxa and 119 samples ]\n",
       "sample_data() Sample Data:       [ 119 samples by 33 sample variables ]\n",
       "tax_table()   Taxonomy Table:    [ 222 taxa by 7 taxonomic ranks ]"
      ]
     },
     "metadata": {},
     "output_type": "display_data"
    },
    {
     "data": {
      "text/plain": [
       "phyloseq-class experiment-level object\n",
       "otu_table()   OTU Table:         [ 235 taxa and 36 samples ]\n",
       "sample_data() Sample Data:       [ 36 samples by 35 sample variables ]\n",
       "tax_table()   Taxonomy Table:    [ 235 taxa by 7 taxonomic ranks ]"
      ]
     },
     "metadata": {},
     "output_type": "display_data"
    },
    {
     "data": {
      "text/plain": [
       "phyloseq-class experiment-level object\n",
       "otu_table()   OTU Table:         [ 231 taxa and 35 samples ]\n",
       "sample_data() Sample Data:       [ 35 samples by 36 sample variables ]\n",
       "tax_table()   Taxonomy Table:    [ 231 taxa by 7 taxonomic ranks ]"
      ]
     },
     "metadata": {},
     "output_type": "display_data"
    },
    {
     "data": {
      "text/plain": [
       "phyloseq-class experiment-level object\n",
       "otu_table()   OTU Table:         [ 222 taxa and 18 samples ]\n",
       "sample_data() Sample Data:       [ 18 samples by 33 sample variables ]\n",
       "tax_table()   Taxonomy Table:    [ 222 taxa by 7 taxonomic ranks ]"
      ]
     },
     "metadata": {},
     "output_type": "display_data"
    },
    {
     "data": {
      "text/plain": [
       "phyloseq-class experiment-level object\n",
       "otu_table()   OTU Table:         [ 148 taxa and 30 samples ]\n",
       "sample_data() Sample Data:       [ 30 samples by 33 sample variables ]\n",
       "tax_table()   Taxonomy Table:    [ 148 taxa by 7 taxonomic ranks ]"
      ]
     },
     "metadata": {},
     "output_type": "display_data"
    },
    {
     "data": {
      "text/plain": [
       "phyloseq-class experiment-level object\n",
       "otu_table()   OTU Table:         [ 76 taxa and 6 samples ]\n",
       "sample_data() Sample Data:       [ 6 samples by 34 sample variables ]\n",
       "tax_table()   Taxonomy Table:    [ 76 taxa by 7 taxonomic ranks ]"
      ]
     },
     "metadata": {},
     "output_type": "display_data"
    },
    {
     "data": {
      "text/plain": [
       "phyloseq-class experiment-level object\n",
       "otu_table()   OTU Table:         [ 192 taxa and 42 samples ]\n",
       "sample_data() Sample Data:       [ 42 samples by 42 sample variables ]\n",
       "tax_table()   Taxonomy Table:    [ 192 taxa by 7 taxonomic ranks ]"
      ]
     },
     "metadata": {},
     "output_type": "display_data"
    },
    {
     "data": {
      "text/plain": [
       "phyloseq-class experiment-level object\n",
       "otu_table()   OTU Table:         [ 207 taxa and 32 samples ]\n",
       "sample_data() Sample Data:       [ 32 samples by 44 sample variables ]\n",
       "tax_table()   Taxonomy Table:    [ 207 taxa by 7 taxonomic ranks ]"
      ]
     },
     "metadata": {},
     "output_type": "display_data"
    }
   ],
   "source": [
    "# Checking out the ps objects\n",
    "yao_pruned.fam\n",
    "whit_pruned.fam\n",
    "imparato_pruned.fam\n",
    "song_pruned.fam\n",
    "dai2016_pruned.fam\n",
    "dai2017_pruned.fam\n",
    "wu_pruned.fam\n",
    "nielsen2014_pruned.fam\n",
    "ye_pruned.fam"
   ]
  },
  {
   "cell_type": "code",
   "execution_count": 81,
   "metadata": {},
   "outputs": [],
   "source": [
    "# Making sure their taxa otu names have been replaced with the genus names\n",
    "taxa_names(whit_pruned.fam) = data.frame(tax_table(whit_pruned.fam))$Family\n",
    "taxa_names(yao_pruned.fam) = data.frame(tax_table(yao_pruned.fam))$Family\n",
    "taxa_names(imparato_pruned.fam) = data.frame(tax_table(imparato_pruned.fam))$Family\n",
    "taxa_names(song_pruned.fam) = data.frame(tax_table(song_pruned.fam))$Family\n",
    "taxa_names(dai2016_pruned.fam) = data.frame(tax_table(dai2016_pruned.fam))$Family\n",
    "taxa_names(dai2017_pruned.fam) = data.frame(tax_table(dai2017_pruned.fam))$Family\n",
    "taxa_names(wu_pruned.fam) = data.frame(tax_table(wu_pruned.fam))$Family\n",
    "taxa_names(nielsen2014_pruned.fam) = data.frame(tax_table(nielsen2014_pruned.fam))$Family\n",
    "taxa_names(ye_pruned.fam) = data.frame(tax_table(ye_pruned.fam))$Family"
   ]
  },
  {
   "cell_type": "code",
   "execution_count": 82,
   "metadata": {},
   "outputs": [],
   "source": [
    "# Getting the taxonomy tables\n",
    "whit_tax = data.frame(tax_table(whit_pruned.fam))\n",
    "yao_tax = data.frame(tax_table(yao_pruned.fam))\n",
    "imparato_tax = data.frame(tax_table(imparato_pruned.fam))\n",
    "song_tax = data.frame(tax_table(song_pruned.fam))\n",
    "dai2016_tax = data.frame(tax_table(dai2016_pruned.fam))\n",
    "dai2017_tax = data.frame(tax_table(dai2017_pruned.fam))\n",
    "wu_tax = data.frame(tax_table(wu_pruned.fam))\n",
    "nielsen2014_tax = data.frame(tax_table(nielsen2014_pruned.fam))\n",
    "ye_tax = data.frame(tax_table(ye_pruned.fam))\n",
    "\n",
    "# Getting the OTU tables\n",
    "whit_otu = data.frame(t(otu_table(whit_pruned.fam)))\n",
    "yao_otu = data.frame(otu_table(yao_pruned.fam))\n",
    "imparato_otu = data.frame(otu_table(imparato_pruned.fam))\n",
    "song_otu = data.frame(otu_table(song_pruned.fam))\n",
    "dai2016_otu = data.frame(otu_table(dai2016_pruned.fam))\n",
    "dai2017_otu = data.frame(otu_table(dai2017_pruned.fam))\n",
    "wu_otu = data.frame(otu_table(wu_pruned.fam))\n",
    "nielsen2014_otu = data.frame(otu_table(nielsen2014_pruned.fam))\n",
    "ye_otu = data.frame(otu_table(ye_pruned.fam))\n",
    "\n",
    "# Getting the sample data tables\n",
    "sample_data(whit_pruned.fam)$pH = as.numeric(sample_data(whit_pruned.fam)$pH)\n",
    "sample_data(yao_pruned.fam)$pH = as.numeric(sample_data(yao_pruned.fam)$pH)\n",
    "sample_data(imparato_pruned.fam)$pH = as.numeric(sample_data(imparato_pruned.fam)$pH)\n",
    "sample_data(song_pruned.fam)$pH = as.numeric(sample_data(song_pruned.fam)$pH)\n",
    "sample_data(dai2016_pruned.fam)$pH = as.numeric(sample_data(dai2016_pruned.fam)$pH)\n",
    "sample_data(dai2017_pruned.fam)$pH = as.numeric(sample_data(dai2017_pruned.fam)$pH)\n",
    "sample_data(wu_pruned.fam)$pH = as.numeric(sample_data(wu_pruned.fam)$pH)\n",
    "sample_data(nielsen2014_pruned.fam)$pH = as.numeric(sample_data(nielsen2014_pruned.fam)$pH)\n",
    "sample_data(ye_pruned.fam)$pH = as.numeric(sample_data(ye_pruned.fam)$pH)\n",
    "\n",
    "whit_sd = data.frame(sample_data(whit_pruned.fam))\n",
    "yao_sd = data.frame(sample_data(yao_pruned.fam))\n",
    "imparato_sd = data.frame(sample_data(imparato_pruned.fam))\n",
    "song_sd = data.frame(sample_data(song_pruned.fam))\n",
    "dai2016_sd = data.frame(sample_data(dai2016_pruned.fam))\n",
    "dai2017_sd = data.frame(sample_data(dai2017_pruned.fam))\n",
    "wu_sd = data.frame(sample_data(wu_pruned.fam))\n",
    "nielsen2014_sd = data.frame(sample_data(nielsen2014_pruned.fam))\n",
    "ye_sd = data.frame(sample_data(ye_pruned.fam))"
   ]
  },
  {
   "cell_type": "code",
   "execution_count": 83,
   "metadata": {},
   "outputs": [],
   "source": [
    "# Adding a column with Family in it, whcih we will merge by.\n",
    "whit_otu$Family = row.names(whit_otu)\n",
    "yao_otu$Family = row.names(yao_otu)\n",
    "imparato_otu$Family = row.names(imparato_otu)\n",
    "song_otu$Family = row.names(song_otu)\n",
    "dai2016_otu$Family = row.names(dai2016_otu)\n",
    "dai2017_otu$Family = row.names(dai2017_otu)\n",
    "wu_otu$Family = row.names(wu_otu)\n",
    "nielsen2014_otu$Family = row.names(nielsen2014_otu)\n",
    "ye_otu$Family = row.names(ye_otu)"
   ]
  },
  {
   "cell_type": "code",
   "execution_count": 84,
   "metadata": {},
   "outputs": [
    {
     "data": {
      "text/html": [
       "<ol class=list-inline>\n",
       "\t<li>258</li>\n",
       "\t<li>7</li>\n",
       "</ol>\n"
      ],
      "text/latex": [
       "\\begin{enumerate*}\n",
       "\\item 258\n",
       "\\item 7\n",
       "\\end{enumerate*}\n"
      ],
      "text/markdown": [
       "1. 258\n",
       "2. 7\n",
       "\n",
       "\n"
      ],
      "text/plain": [
       "[1] 258   7"
      ]
     },
     "metadata": {},
     "output_type": "display_data"
    },
    {
     "data": {
      "text/html": [
       "<ol class=list-inline>\n",
       "\t<li>296</li>\n",
       "\t<li>7</li>\n",
       "</ol>\n"
      ],
      "text/latex": [
       "\\begin{enumerate*}\n",
       "\\item 296\n",
       "\\item 7\n",
       "\\end{enumerate*}\n"
      ],
      "text/markdown": [
       "1. 296\n",
       "2. 7\n",
       "\n",
       "\n"
      ],
      "text/plain": [
       "[1] 296   7"
      ]
     },
     "metadata": {},
     "output_type": "display_data"
    },
    {
     "data": {
      "text/html": [
       "<ol class=list-inline>\n",
       "\t<li>327</li>\n",
       "\t<li>7</li>\n",
       "</ol>\n"
      ],
      "text/latex": [
       "\\begin{enumerate*}\n",
       "\\item 327\n",
       "\\item 7\n",
       "\\end{enumerate*}\n"
      ],
      "text/markdown": [
       "1. 327\n",
       "2. 7\n",
       "\n",
       "\n"
      ],
      "text/plain": [
       "[1] 327   7"
      ]
     },
     "metadata": {},
     "output_type": "display_data"
    },
    {
     "data": {
      "text/html": [
       "<ol class=list-inline>\n",
       "\t<li>357</li>\n",
       "\t<li>7</li>\n",
       "</ol>\n"
      ],
      "text/latex": [
       "\\begin{enumerate*}\n",
       "\\item 357\n",
       "\\item 7\n",
       "\\end{enumerate*}\n"
      ],
      "text/markdown": [
       "1. 357\n",
       "2. 7\n",
       "\n",
       "\n"
      ],
      "text/plain": [
       "[1] 357   7"
      ]
     },
     "metadata": {},
     "output_type": "display_data"
    },
    {
     "data": {
      "text/html": [
       "<ol class=list-inline>\n",
       "\t<li>378</li>\n",
       "\t<li>7</li>\n",
       "</ol>\n"
      ],
      "text/latex": [
       "\\begin{enumerate*}\n",
       "\\item 378\n",
       "\\item 7\n",
       "\\end{enumerate*}\n"
      ],
      "text/markdown": [
       "1. 378\n",
       "2. 7\n",
       "\n",
       "\n"
      ],
      "text/plain": [
       "[1] 378   7"
      ]
     },
     "metadata": {},
     "output_type": "display_data"
    },
    {
     "data": {
      "text/html": [
       "<ol class=list-inline>\n",
       "\t<li>380</li>\n",
       "\t<li>7</li>\n",
       "</ol>\n"
      ],
      "text/latex": [
       "\\begin{enumerate*}\n",
       "\\item 380\n",
       "\\item 7\n",
       "\\end{enumerate*}\n"
      ],
      "text/markdown": [
       "1. 380\n",
       "2. 7\n",
       "\n",
       "\n"
      ],
      "text/plain": [
       "[1] 380   7"
      ]
     },
     "metadata": {},
     "output_type": "display_data"
    },
    {
     "data": {
      "text/html": [
       "<ol class=list-inline>\n",
       "\t<li>395</li>\n",
       "\t<li>7</li>\n",
       "</ol>\n"
      ],
      "text/latex": [
       "\\begin{enumerate*}\n",
       "\\item 395\n",
       "\\item 7\n",
       "\\end{enumerate*}\n"
      ],
      "text/markdown": [
       "1. 395\n",
       "2. 7\n",
       "\n",
       "\n"
      ],
      "text/plain": [
       "[1] 395   7"
      ]
     },
     "metadata": {},
     "output_type": "display_data"
    },
    {
     "data": {
      "text/html": [
       "<ol class=list-inline>\n",
       "\t<li>409</li>\n",
       "\t<li>7</li>\n",
       "</ol>\n"
      ],
      "text/latex": [
       "\\begin{enumerate*}\n",
       "\\item 409\n",
       "\\item 7\n",
       "\\end{enumerate*}\n"
      ],
      "text/markdown": [
       "1. 409\n",
       "2. 7\n",
       "\n",
       "\n"
      ],
      "text/plain": [
       "[1] 409   7"
      ]
     },
     "metadata": {},
     "output_type": "display_data"
    }
   ],
   "source": [
    "# Merging the two taxonomy files\n",
    "merged_tax = merge(whit_tax, yao_tax, all=TRUE)\n",
    "row.names(merged_tax)=merged_tax$Family\n",
    "dim(merged_tax)\n",
    "\n",
    "merged_tax = merge(merged_tax, imparato_tax, all=TRUE)\n",
    "row.names(merged_tax)=merged_tax$Family\n",
    "\n",
    "dim(merged_tax)\n",
    "\n",
    "merged_tax = merge(merged_tax, song_tax, all=TRUE)\n",
    "row.names(merged_tax)=merged_tax$Family\n",
    "\n",
    "dim(merged_tax)\n",
    "\n",
    "merged_tax = merge(merged_tax, dai2016_tax, all=TRUE)\n",
    "row.names(merged_tax)=merged_tax$Family\n",
    "\n",
    "dim(merged_tax)\n",
    "\n",
    "merged_tax = merge(merged_tax, dai2017_tax, all=TRUE)\n",
    "row.names(merged_tax)=merged_tax$Family\n",
    "\n",
    "dim(merged_tax)\n",
    "\n",
    "merged_tax = merge(merged_tax, wu_tax, all=TRUE)\n",
    "row.names(merged_tax)=merged_tax$Family\n",
    "\n",
    "dim(merged_tax)\n",
    "\n",
    "merged_tax = merge(merged_tax, nielsen2014_tax, all=TRUE)\n",
    "row.names(merged_tax)=merged_tax$Family\n",
    "\n",
    "dim(merged_tax)\n",
    "\n",
    "merged_tax = merge(merged_tax, ye_tax, all=TRUE)\n",
    "row.names(merged_tax)=merged_tax$Family\n",
    "\n",
    "dim(merged_tax)"
   ]
  },
  {
   "cell_type": "code",
   "execution_count": 85,
   "metadata": {},
   "outputs": [
    {
     "data": {
      "text/html": [
       "<ol class=list-inline>\n",
       "\t<li>258</li>\n",
       "\t<li>168</li>\n",
       "</ol>\n"
      ],
      "text/latex": [
       "\\begin{enumerate*}\n",
       "\\item 258\n",
       "\\item 168\n",
       "\\end{enumerate*}\n"
      ],
      "text/markdown": [
       "1. 258\n",
       "2. 168\n",
       "\n",
       "\n"
      ],
      "text/plain": [
       "[1] 258 168"
      ]
     },
     "metadata": {},
     "output_type": "display_data"
    },
    {
     "data": {
      "text/html": [
       "<ol class=list-inline>\n",
       "\t<li>296</li>\n",
       "\t<li>204</li>\n",
       "</ol>\n"
      ],
      "text/latex": [
       "\\begin{enumerate*}\n",
       "\\item 296\n",
       "\\item 204\n",
       "\\end{enumerate*}\n"
      ],
      "text/markdown": [
       "1. 296\n",
       "2. 204\n",
       "\n",
       "\n"
      ],
      "text/plain": [
       "[1] 296 204"
      ]
     },
     "metadata": {},
     "output_type": "display_data"
    },
    {
     "data": {
      "text/html": [
       "<ol class=list-inline>\n",
       "\t<li>327</li>\n",
       "\t<li>239</li>\n",
       "</ol>\n"
      ],
      "text/latex": [
       "\\begin{enumerate*}\n",
       "\\item 327\n",
       "\\item 239\n",
       "\\end{enumerate*}\n"
      ],
      "text/markdown": [
       "1. 327\n",
       "2. 239\n",
       "\n",
       "\n"
      ],
      "text/plain": [
       "[1] 327 239"
      ]
     },
     "metadata": {},
     "output_type": "display_data"
    },
    {
     "data": {
      "text/html": [
       "<ol class=list-inline>\n",
       "\t<li>357</li>\n",
       "\t<li>257</li>\n",
       "</ol>\n"
      ],
      "text/latex": [
       "\\begin{enumerate*}\n",
       "\\item 357\n",
       "\\item 257\n",
       "\\end{enumerate*}\n"
      ],
      "text/markdown": [
       "1. 357\n",
       "2. 257\n",
       "\n",
       "\n"
      ],
      "text/plain": [
       "[1] 357 257"
      ]
     },
     "metadata": {},
     "output_type": "display_data"
    },
    {
     "data": {
      "text/html": [
       "<ol class=list-inline>\n",
       "\t<li>378</li>\n",
       "\t<li>287</li>\n",
       "</ol>\n"
      ],
      "text/latex": [
       "\\begin{enumerate*}\n",
       "\\item 378\n",
       "\\item 287\n",
       "\\end{enumerate*}\n"
      ],
      "text/markdown": [
       "1. 378\n",
       "2. 287\n",
       "\n",
       "\n"
      ],
      "text/plain": [
       "[1] 378 287"
      ]
     },
     "metadata": {},
     "output_type": "display_data"
    },
    {
     "data": {
      "text/html": [
       "<ol class=list-inline>\n",
       "\t<li>380</li>\n",
       "\t<li>293</li>\n",
       "</ol>\n"
      ],
      "text/latex": [
       "\\begin{enumerate*}\n",
       "\\item 380\n",
       "\\item 293\n",
       "\\end{enumerate*}\n"
      ],
      "text/markdown": [
       "1. 380\n",
       "2. 293\n",
       "\n",
       "\n"
      ],
      "text/plain": [
       "[1] 380 293"
      ]
     },
     "metadata": {},
     "output_type": "display_data"
    },
    {
     "data": {
      "text/html": [
       "<ol class=list-inline>\n",
       "\t<li>395</li>\n",
       "\t<li>335</li>\n",
       "</ol>\n"
      ],
      "text/latex": [
       "\\begin{enumerate*}\n",
       "\\item 395\n",
       "\\item 335\n",
       "\\end{enumerate*}\n"
      ],
      "text/markdown": [
       "1. 395\n",
       "2. 335\n",
       "\n",
       "\n"
      ],
      "text/plain": [
       "[1] 395 335"
      ]
     },
     "metadata": {},
     "output_type": "display_data"
    },
    {
     "data": {
      "text/html": [
       "<ol class=list-inline>\n",
       "\t<li>409</li>\n",
       "\t<li>367</li>\n",
       "</ol>\n"
      ],
      "text/latex": [
       "\\begin{enumerate*}\n",
       "\\item 409\n",
       "\\item 367\n",
       "\\end{enumerate*}\n"
      ],
      "text/markdown": [
       "1. 409\n",
       "2. 367\n",
       "\n",
       "\n"
      ],
      "text/plain": [
       "[1] 409 367"
      ]
     },
     "metadata": {},
     "output_type": "display_data"
    },
    {
     "name": "stderr",
     "output_type": "stream",
     "text": [
      "Warning message in storage.mode(merged_otu) = \"numeric\":\n",
      "“NAs introduced by coercion”"
     ]
    }
   ],
   "source": [
    "# Merging the otu files, replacing any empty spots with 0\n",
    "merged_otu = full_join(whit_otu, yao_otu, by=\"Family\")\n",
    "merged_otu[is.na(merged_otu)] = 0\n",
    "row.names(merged_otu)=merged_otu$Family\n",
    "\n",
    "dim(merged_otu)\n",
    "\n",
    "merged_otu = full_join(merged_otu, imparato_otu, by=\"Family\")\n",
    "merged_otu[is.na(merged_otu)] = 0\n",
    "row.names(merged_otu)=merged_otu$Family\n",
    "\n",
    "dim(merged_otu)\n",
    "\n",
    "merged_otu = full_join(merged_otu, song_otu, by=\"Family\")\n",
    "merged_otu[is.na(merged_otu)] = 0\n",
    "row.names(merged_otu)=merged_otu$Family\n",
    "\n",
    "dim(merged_otu)\n",
    "\n",
    "\n",
    "merged_otu = full_join(merged_otu, dai2016_otu, by=\"Family\")\n",
    "merged_otu[is.na(merged_otu)] = 0\n",
    "row.names(merged_otu)=merged_otu$Family\n",
    "\n",
    "dim(merged_otu)\n",
    "\n",
    "merged_otu = full_join(merged_otu, dai2017_otu, by=\"Family\")\n",
    "merged_otu[is.na(merged_otu)] = 0\n",
    "row.names(merged_otu)=merged_otu$Family\n",
    "\n",
    "dim(merged_otu)\n",
    "\n",
    "merged_otu = full_join(merged_otu, wu_otu, by=\"Family\")\n",
    "merged_otu[is.na(merged_otu)] = 0\n",
    "row.names(merged_otu)=merged_otu$Family\n",
    "\n",
    "dim(merged_otu)\n",
    "\n",
    "merged_otu = full_join(merged_otu, nielsen2014_otu, by=\"Family\")\n",
    "merged_otu[is.na(merged_otu)] = 0\n",
    "row.names(merged_otu)=merged_otu$Family\n",
    "\n",
    "dim(merged_otu)\n",
    "\n",
    "merged_otu = full_join(merged_otu, ye_otu, by=\"Family\")\n",
    "merged_otu[is.na(merged_otu)] = 0\n",
    "row.names(merged_otu)=merged_otu$Family\n",
    "\n",
    "dim(merged_otu)\n",
    "\n",
    "\n",
    "# Reformatting the otu object\n",
    "merged_otu = as.matrix(merged_otu,dimnames=list(row.names(merged_otu),colnames(merged_otu)))\n",
    "storage.mode(merged_otu) = \"numeric\""
   ]
  },
  {
   "cell_type": "code",
   "execution_count": 86,
   "metadata": {},
   "outputs": [
    {
     "name": "stderr",
     "output_type": "stream",
     "text": [
      "Joining, by = c(\"ForwardPrimerName\", \"SoilType\", \"NucleicAcidExtraction\", \"Feedstock\", \"GeographicalLocation\", \"ReversePrimerSequence\", \"pH\", \"RevPrimerName\", \"TargetGene\", \"ForwardPrimerSequence\", \"Crop\", \"SequencingMethod\", \"t.per.ha.PyOM\", \"Author\", \"Region\", \"Organism\", \"Habitat\", \"CurrentLandUse\", \"Silt\", \"Sand\", \"PyOM.Temp\", \"Incubation_Time_Weeks\", \"Sampling_Depth_cm\", \"Clay\", \"Treatment\", \"BioProject\", \"BioSample\", \"PyOM\", \"PyOM.pH\", \".rownames\")\n"
     ]
    },
    {
     "data": {
      "text/html": [
       "<ol class=list-inline>\n",
       "\t<li>167</li>\n",
       "\t<li>40</li>\n",
       "</ol>\n"
      ],
      "text/latex": [
       "\\begin{enumerate*}\n",
       "\\item 167\n",
       "\\item 40\n",
       "\\end{enumerate*}\n"
      ],
      "text/markdown": [
       "1. 167\n",
       "2. 40\n",
       "\n",
       "\n"
      ],
      "text/plain": [
       "[1] 167  40"
      ]
     },
     "metadata": {},
     "output_type": "display_data"
    },
    {
     "name": "stderr",
     "output_type": "stream",
     "text": [
      "Joining, by = c(\"ForwardPrimerName\", \"SoilType\", \"NucleicAcidExtraction\", \"Feedstock\", \"GeographicalLocation\", \"ReversePrimerSequence\", \"pH\", \"RevPrimerName\", \"TargetGene\", \"ForwardPrimerSequence\", \"Crop\", \"SequencingMethod\", \"t.per.ha.PyOM\", \"Author\", \"Region\", \"Organism\", \"Habitat\", \"CurrentLandUse\", \"Silt\", \"Sand\", \"PyOM.Temp\", \"Incubation_Time_Weeks\", \"Clay\", \"Treatment\", \"CollectionYear\", \"BioProject\", \"X.C\", \"BioSample\", \"PyOM\", \"PyOM.pH\", \".rownames\", \"FwdBarcode\", \"RevBarcode\", \"SRA\")\n"
     ]
    },
    {
     "data": {
      "text/html": [
       "<ol class=list-inline>\n",
       "\t<li>203</li>\n",
       "\t<li>42</li>\n",
       "</ol>\n"
      ],
      "text/latex": [
       "\\begin{enumerate*}\n",
       "\\item 203\n",
       "\\item 42\n",
       "\\end{enumerate*}\n"
      ],
      "text/markdown": [
       "1. 203\n",
       "2. 42\n",
       "\n",
       "\n"
      ],
      "text/plain": [
       "[1] 203  42"
      ]
     },
     "metadata": {},
     "output_type": "display_data"
    },
    {
     "name": "stderr",
     "output_type": "stream",
     "text": [
      "Joining, by = c(\"ForwardPrimerName\", \"SoilType\", \"NucleicAcidExtraction\", \"Feedstock\", \"GeographicalLocation\", \"ReversePrimerSequence\", \"pH\", \"RevPrimerName\", \"TargetGene\", \"ForwardPrimerSequence\", \"Crop\", \"SequencingMethod\", \"Author\", \"Region\", \"Organism\", \"Habitat\", \"CurrentLandUse\", \"Silt\", \"Sand\", \"NCBISampleID\", \"PyOM.Temp\", \"Incubation_Time_Weeks\", \"Sampling_Depth_cm\", \"Clay\", \"Treatment\", \"CollectionYear\", \"BioProject\", \"BioSample\", \"PyOM\", \"PyOM.pH\", \".rownames\", \"FwdBarcode\", \"RevBarcode\", \"SRA\", \"X.SOM\")\n"
     ]
    },
    {
     "data": {
      "text/html": [
       "<ol class=list-inline>\n",
       "\t<li>238</li>\n",
       "\t<li>44</li>\n",
       "</ol>\n"
      ],
      "text/latex": [
       "\\begin{enumerate*}\n",
       "\\item 238\n",
       "\\item 44\n",
       "\\end{enumerate*}\n"
      ],
      "text/markdown": [
       "1. 238\n",
       "2. 44\n",
       "\n",
       "\n"
      ],
      "text/plain": [
       "[1] 238  44"
      ]
     },
     "metadata": {},
     "output_type": "display_data"
    },
    {
     "name": "stderr",
     "output_type": "stream",
     "text": [
      "Joining, by = c(\"ForwardPrimerName\", \"SoilType\", \"NucleicAcidExtraction\", \"Feedstock\", \"GeographicalLocation\", \"ReversePrimerSequence\", \"pH\", \"RevPrimerName\", \"TargetGene\", \"ForwardPrimerSequence\", \"Crop\", \"SequencingMethod\", \"Author\", \"Region\", \"Organism\", \"Habitat\", \"CurrentLandUse\", \"Silt\", \"Sand\", \"PyOM.Temp\", \"Incubation_Time_Weeks\", \"Sampling_Depth_cm\", \"Clay\", \"Treatment\", \"CollectionYear\", \"BioProject\", \"BioSample\", \"PyOM\", \"PyOM.pH\", \".rownames\", \"FwdBarcode\", \"RevBarcode\", \"SRA\", \"g.per.kg.PyOM\")\n"
     ]
    },
    {
     "data": {
      "text/html": [
       "<ol class=list-inline>\n",
       "\t<li>256</li>\n",
       "\t<li>44</li>\n",
       "</ol>\n"
      ],
      "text/latex": [
       "\\begin{enumerate*}\n",
       "\\item 256\n",
       "\\item 44\n",
       "\\end{enumerate*}\n"
      ],
      "text/markdown": [
       "1. 256\n",
       "2. 44\n",
       "\n",
       "\n"
      ],
      "text/plain": [
       "[1] 256  44"
      ]
     },
     "metadata": {},
     "output_type": "display_data"
    },
    {
     "name": "stderr",
     "output_type": "stream",
     "text": [
      "Joining, by = c(\"ForwardPrimerName\", \"SoilType\", \"NucleicAcidExtraction\", \"Feedstock\", \"GeographicalLocation\", \"ReversePrimerSequence\", \"pH\", \"RevPrimerName\", \"TargetGene\", \"ForwardPrimerSequence\", \"Crop\", \"SequencingMethod\", \"Author\", \"Region\", \"Organism\", \"Habitat\", \"CurrentLandUse\", \"Silt\", \"Sand\", \"PyOM.Temp\", \"Incubation_Time_Weeks\", \"Sampling_Depth_cm\", \"Clay\", \"Treatment\", \"CollectionYear\", \"BioProject\", \"BioSample\", \"PyOM\", \"PyOM.pH\", \".rownames\", \"FwdBarcode\", \"RevBarcode\", \"SRA\", \"g.per.kg.PyOM\")\n"
     ]
    },
    {
     "data": {
      "text/html": [
       "<ol class=list-inline>\n",
       "\t<li>286</li>\n",
       "\t<li>44</li>\n",
       "</ol>\n"
      ],
      "text/latex": [
       "\\begin{enumerate*}\n",
       "\\item 286\n",
       "\\item 44\n",
       "\\end{enumerate*}\n"
      ],
      "text/markdown": [
       "1. 286\n",
       "2. 44\n",
       "\n",
       "\n"
      ],
      "text/plain": [
       "[1] 286  44"
      ]
     },
     "metadata": {},
     "output_type": "display_data"
    },
    {
     "name": "stderr",
     "output_type": "stream",
     "text": [
      "Joining, by = c(\"ForwardPrimerName\", \"SoilType\", \"NucleicAcidExtraction\", \"Feedstock\", \"GeographicalLocation\", \"ReversePrimerSequence\", \"pH\", \"RevPrimerName\", \"TargetGene\", \"ForwardPrimerSequence\", \"Crop\", \"SequencingMethod\", \"t.per.ha.PyOM\", \"Author\", \"Region\", \"Organism\", \"Habitat\", \"CurrentLandUse\", \"Silt\", \"Sand\", \"PyOM.Temp\", \"Incubation_Time_Weeks\", \"Sampling_Depth_cm\", \"Clay\", \"Treatment\", \"CollectionYear\", \"BioProject\", \"X.C\", \"BioSample\", \"PyOM\", \"PyOM.pH\", \".rownames\", \"FwdBarcode\", \"RevBarcode\", \"SRA\")\n"
     ]
    },
    {
     "data": {
      "text/html": [
       "<ol class=list-inline>\n",
       "\t<li>292</li>\n",
       "\t<li>44</li>\n",
       "</ol>\n"
      ],
      "text/latex": [
       "\\begin{enumerate*}\n",
       "\\item 292\n",
       "\\item 44\n",
       "\\end{enumerate*}\n"
      ],
      "text/markdown": [
       "1. 292\n",
       "2. 44\n",
       "\n",
       "\n"
      ],
      "text/plain": [
       "[1] 292  44"
      ]
     },
     "metadata": {},
     "output_type": "display_data"
    },
    {
     "name": "stderr",
     "output_type": "stream",
     "text": [
      "Joining, by = c(\"ForwardPrimerName\", \"SoilType\", \"NucleicAcidExtraction\", \"Feedstock\", \"GeographicalLocation\", \"ReversePrimerSequence\", \"pH\", \"RevPrimerName\", \"TargetGene\", \"ForwardPrimerSequence\", \"Crop\", \"SequencingMethod\", \"t.per.ha.PyOM\", \"Author\", \"Region\", \"Organism\", \"Habitat\", \"CurrentLandUse\", \"Silt\", \"Sand\", \"PyOM.Temp\", \"Incubation_Time_Weeks\", \"Sampling_Depth_cm\", \"Clay\", \"Treatment\", \"CollectionYear\", \"BioProject\", \"BioSample\", \"PyOM\", \"PyOM.pH\", \".rownames\", \"FwdBarcode\", \"RevBarcode\", \"SRA\", \"TotalC\", \"TotalN\", \"X.SOM\")\n"
     ]
    },
    {
     "data": {
      "text/html": [
       "<ol class=list-inline>\n",
       "\t<li>334</li>\n",
       "\t<li>50</li>\n",
       "</ol>\n"
      ],
      "text/latex": [
       "\\begin{enumerate*}\n",
       "\\item 334\n",
       "\\item 50\n",
       "\\end{enumerate*}\n"
      ],
      "text/markdown": [
       "1. 334\n",
       "2. 50\n",
       "\n",
       "\n"
      ],
      "text/plain": [
       "[1] 334  50"
      ]
     },
     "metadata": {},
     "output_type": "display_data"
    },
    {
     "name": "stderr",
     "output_type": "stream",
     "text": [
      "Joining, by = c(\"ForwardPrimerName\", \"SoilType\", \"NucleicAcidExtraction\", \"Feedstock\", \"GeographicalLocation\", \"ReversePrimerSequence\", \"pH\", \"RevPrimerName\", \"TargetGene\", \"ForwardPrimerSequence\", \"Crop\", \"SequencingMethod\", \"t.per.ha.PyOM\", \"Author\", \"Region\", \"Organism\", \"Habitat\", \"CurrentLandUse\", \"Silt\", \"Sand\", \"NCBISampleID\", \"PyOM.Temp\", \"Incubation_Time_Weeks\", \"Sampling_Depth_cm\", \"Clay\", \"Treatment\", \"CollectionYear\", \"BioProject\", \"BioSample\", \"PyOM\", \"PyOM.pH\", \".rownames\", \"FwdBarcode\", \"RevBarcode\", \"SRA\", \"TotalC\", \"TotalN\", \"X.SOM\", \"EC\", \"Ammonium\", \"Nitrate\")\n"
     ]
    },
    {
     "data": {
      "text/html": [
       "<ol class=list-inline>\n",
       "\t<li>366</li>\n",
       "\t<li>54</li>\n",
       "</ol>\n"
      ],
      "text/latex": [
       "\\begin{enumerate*}\n",
       "\\item 366\n",
       "\\item 54\n",
       "\\end{enumerate*}\n"
      ],
      "text/markdown": [
       "1. 366\n",
       "2. 54\n",
       "\n",
       "\n"
      ],
      "text/plain": [
       "[1] 366  54"
      ]
     },
     "metadata": {},
     "output_type": "display_data"
    }
   ],
   "source": [
    "merged_sd = full_join(name_rows(whit_sd), name_rows(yao_sd))\n",
    "row.names(merged_sd)=merged_sd$.rownames\n",
    "dim(merged_sd)\n",
    "\n",
    "merged_sd = full_join((merged_sd), name_rows(imparato_sd))\n",
    "row.names(merged_sd)=merged_sd$.rownames\n",
    "dim(merged_sd)\n",
    "\n",
    "merged_sd = full_join((merged_sd), name_rows(song_sd))\n",
    "row.names(merged_sd)=merged_sd$.rownames\n",
    "dim(merged_sd)\n",
    "\n",
    "merged_sd = full_join((merged_sd), name_rows(dai2016_sd))\n",
    "row.names(merged_sd)=merged_sd$.rownames\n",
    "dim(merged_sd)\n",
    "\n",
    "merged_sd = full_join((merged_sd), name_rows(dai2017_sd))\n",
    "row.names(merged_sd)=merged_sd$.rownames\n",
    "dim(merged_sd)\n",
    "\n",
    "merged_sd = full_join((merged_sd), name_rows(wu_sd))\n",
    "row.names(merged_sd)=merged_sd$.rownames\n",
    "dim(merged_sd)\n",
    "\n",
    "merged_sd = full_join((merged_sd), name_rows(nielsen2014_sd))\n",
    "row.names(merged_sd)=merged_sd$.rownames\n",
    "dim(merged_sd)\n",
    "\n",
    "merged_sd = full_join((merged_sd), name_rows(ye_sd))\n",
    "row.names(merged_sd)=merged_sd$.rownames\n",
    "dim(merged_sd)"
   ]
  },
  {
   "cell_type": "code",
   "execution_count": 87,
   "metadata": {},
   "outputs": [
    {
     "name": "stderr",
     "output_type": "stream",
     "text": [
      "Warning message in .local(object):\n",
      "“Coercing from data.frame class to character matrix \n",
      "prior to building taxonomyTable. \n",
      "This could introduce artifacts. \n",
      "Check your taxonomyTable, or coerce to matrix manually.”"
     ]
    }
   ],
   "source": [
    "# Creating the sample data object\n",
    "merged_sd = sample_data(merged_sd)\n",
    "\n",
    "# Fixing the sample data names to match the OTU table (which automatically replaces - characters with .)\n",
    "row.names(merged_sd) = gsub(\"-\", \".\", row.names(merged_sd))\n",
    "\n",
    "# Creating the taxonomy table object\n",
    "m = tax_table(merged_tax)\n",
    "\n",
    "# Making sure the rownames and column names transfer, and renaming the final object\n",
    "row.names(m) = row.names(merged_tax)\n",
    "colnames(m) = colnames(merged_tax)\n",
    "merged_tax=m\n",
    "\n",
    "# Making the otu table object and getting rid of the previous Genus sorting column\n",
    "merged_otu=otu_table(merged_otu, taxa_are_rows=TRUE)\n",
    "merged_otu = merged_otu[,!colnames(merged_otu)==\"Family\"]"
   ]
  },
  {
   "cell_type": "code",
   "execution_count": 88,
   "metadata": {},
   "outputs": [
    {
     "data": {
      "text/plain": [
       "phyloseq-class experiment-level object\n",
       "otu_table()   OTU Table:         [ 409 taxa and 366 samples ]\n",
       "sample_data() Sample Data:       [ 366 samples by 54 sample variables ]\n",
       "tax_table()   Taxonomy Table:    [ 409 taxa by 7 taxonomic ranks ]"
      ]
     },
     "metadata": {},
     "output_type": "display_data"
    }
   ],
   "source": [
    "ps.glom.family = phyloseq(merged_sd,merged_tax,merged_otu)\n",
    "ps.glom.family"
   ]
  },
  {
   "cell_type": "code",
   "execution_count": 89,
   "metadata": {},
   "outputs": [
    {
     "data": {
      "text/plain": [
       "phyloseq-class experiment-level object\n",
       "otu_table()   OTU Table:         [ 409 taxa and 365 samples ]\n",
       "sample_data() Sample Data:       [ 365 samples by 54 sample variables ]\n",
       "tax_table()   Taxonomy Table:    [ 409 taxa by 7 taxonomic ranks ]"
      ]
     },
     "metadata": {},
     "output_type": "display_data"
    }
   ],
   "source": [
    "ps.glom.family = prune_samples(sample_names(ps.glom.family)!=\"SRR4449152.X\", ps.glom.family)\n",
    "ps.glom.family\n",
    "# Getting rid of no-OTU sample"
   ]
  },
  {
   "cell_type": "code",
   "execution_count": 90,
   "metadata": {},
   "outputs": [],
   "source": [
    "#save as an R object\n",
    "saveRDS(ps.glom.family, \"ps.glom.family.ps\" )"
   ]
  },
  {
   "cell_type": "code",
   "execution_count": 91,
   "metadata": {},
   "outputs": [],
   "source": [
    "#normalize\n",
    "ps.glom.family.norm=transform_sample_counts(ps.glom.family, function(x) x/sum(x))"
   ]
  },
  {
   "cell_type": "code",
   "execution_count": 92,
   "metadata": {},
   "outputs": [
    {
     "name": "stderr",
     "output_type": "stream",
     "text": [
      "Warning message:\n",
      "“The shape palette can deal with a maximum of 6 discrete values because\n",
      "more than 6 becomes difficult to discriminate; you have 8. Consider\n",
      "specifying shapes manually if you must have them.”"
     ]
    },
    {
     "data": {},
     "metadata": {},
     "output_type": "display_data"
    },
    {
     "data": {
      "image/png": "[encoded data removed]",
      "text/plain": [
       "plot without title"
      ]
     },
     "metadata": {},
     "output_type": "display_data"
    }
   ],
   "source": [
    "ord = ordinate(ps.glom.family.norm, method = \"PCoA\",distance=\"bray\")\n",
    "p = plot_ordination(ps.glom.family.norm,ord, color=\"PyOM\",shape=\"Author\")\n",
    "p"
   ]
  },
  {
   "cell_type": "markdown",
   "metadata": {},
   "source": [
    "## Adding Order datasets together"
   ]
  },
  {
   "cell_type": "code",
   "execution_count": 93,
   "metadata": {},
   "outputs": [
    {
     "data": {
      "text/plain": [
       "phyloseq-class experiment-level object\n",
       "otu_table()   OTU Table:         [ 148 taxa and 48 samples ]\n",
       "sample_data() Sample Data:       [ 48 samples by 35 sample variables ]\n",
       "tax_table()   Taxonomy Table:    [ 148 taxa by 7 taxonomic ranks ]"
      ]
     },
     "metadata": {},
     "output_type": "display_data"
    },
    {
     "data": {
      "text/plain": [
       "phyloseq-class experiment-level object\n",
       "otu_table()   OTU Table:         [ 153 taxa and 119 samples ]\n",
       "sample_data() Sample Data:       [ 119 samples by 33 sample variables ]\n",
       "tax_table()   Taxonomy Table:    [ 153 taxa by 7 taxonomic ranks ]"
      ]
     },
     "metadata": {},
     "output_type": "display_data"
    },
    {
     "data": {
      "text/plain": [
       "phyloseq-class experiment-level object\n",
       "otu_table()   OTU Table:         [ 172 taxa and 36 samples ]\n",
       "sample_data() Sample Data:       [ 36 samples by 35 sample variables ]\n",
       "tax_table()   Taxonomy Table:    [ 172 taxa by 7 taxonomic ranks ]"
      ]
     },
     "metadata": {},
     "output_type": "display_data"
    },
    {
     "data": {
      "text/plain": [
       "phyloseq-class experiment-level object\n",
       "otu_table()   OTU Table:         [ 191 taxa and 35 samples ]\n",
       "sample_data() Sample Data:       [ 35 samples by 36 sample variables ]\n",
       "tax_table()   Taxonomy Table:    [ 191 taxa by 7 taxonomic ranks ]"
      ]
     },
     "metadata": {},
     "output_type": "display_data"
    },
    {
     "data": {
      "text/plain": [
       "phyloseq-class experiment-level object\n",
       "otu_table()   OTU Table:         [ 168 taxa and 18 samples ]\n",
       "sample_data() Sample Data:       [ 18 samples by 33 sample variables ]\n",
       "tax_table()   Taxonomy Table:    [ 168 taxa by 7 taxonomic ranks ]"
      ]
     },
     "metadata": {},
     "output_type": "display_data"
    },
    {
     "data": {
      "text/plain": [
       "phyloseq-class experiment-level object\n",
       "otu_table()   OTU Table:         [ 104 taxa and 30 samples ]\n",
       "sample_data() Sample Data:       [ 30 samples by 33 sample variables ]\n",
       "tax_table()   Taxonomy Table:    [ 104 taxa by 7 taxonomic ranks ]"
      ]
     },
     "metadata": {},
     "output_type": "display_data"
    },
    {
     "data": {
      "text/plain": [
       "phyloseq-class experiment-level object\n",
       "otu_table()   OTU Table:         [ 62 taxa and 6 samples ]\n",
       "sample_data() Sample Data:       [ 6 samples by 34 sample variables ]\n",
       "tax_table()   Taxonomy Table:    [ 62 taxa by 7 taxonomic ranks ]"
      ]
     },
     "metadata": {},
     "output_type": "display_data"
    },
    {
     "data": {
      "text/plain": [
       "phyloseq-class experiment-level object\n",
       "otu_table()   OTU Table:         [ 157 taxa and 42 samples ]\n",
       "sample_data() Sample Data:       [ 42 samples by 42 sample variables ]\n",
       "tax_table()   Taxonomy Table:    [ 157 taxa by 7 taxonomic ranks ]"
      ]
     },
     "metadata": {},
     "output_type": "display_data"
    },
    {
     "data": {
      "text/plain": [
       "phyloseq-class experiment-level object\n",
       "otu_table()   OTU Table:         [ 147 taxa and 32 samples ]\n",
       "sample_data() Sample Data:       [ 32 samples by 44 sample variables ]\n",
       "tax_table()   Taxonomy Table:    [ 147 taxa by 7 taxonomic ranks ]"
      ]
     },
     "metadata": {},
     "output_type": "display_data"
    }
   ],
   "source": [
    "# Checking out the ps objects\n",
    "yao_pruned.ord\n",
    "whit_pruned.ord\n",
    "imparato_pruned.ord\n",
    "song_pruned.ord\n",
    "dai2016_pruned.ord\n",
    "dai2017_pruned.ord\n",
    "wu_pruned.ord\n",
    "nielsen2014_pruned.ord\n",
    "ye_pruned.ord"
   ]
  },
  {
   "cell_type": "code",
   "execution_count": 94,
   "metadata": {},
   "outputs": [],
   "source": [
    "# Making sure their taxa otu names have been replaced with the genus names\n",
    "taxa_names(whit_pruned.ord) = data.frame(tax_table(whit_pruned.ord))$Order\n",
    "taxa_names(yao_pruned.ord) = data.frame(tax_table(yao_pruned.ord))$Order\n",
    "taxa_names(imparato_pruned.ord) = data.frame(tax_table(imparato_pruned.ord))$Order\n",
    "taxa_names(song_pruned.ord) = data.frame(tax_table(song_pruned.ord))$Order\n",
    "taxa_names(dai2016_pruned.ord) = data.frame(tax_table(dai2016_pruned.ord))$Order\n",
    "taxa_names(dai2017_pruned.ord) = data.frame(tax_table(dai2017_pruned.ord))$Order\n",
    "taxa_names(wu_pruned.ord) = data.frame(tax_table(wu_pruned.ord))$Order\n",
    "taxa_names(nielsen2014_pruned.ord) = data.frame(tax_table(nielsen2014_pruned.ord))$Order\n",
    "taxa_names(ye_pruned.ord) = data.frame(tax_table(ye_pruned.ord))$Order"
   ]
  },
  {
   "cell_type": "code",
   "execution_count": 95,
   "metadata": {},
   "outputs": [],
   "source": [
    "# Getting the taxonomy tables\n",
    "whit_tax = data.frame(tax_table(whit_pruned.ord))\n",
    "yao_tax = data.frame(tax_table(yao_pruned.ord))\n",
    "imparato_tax = data.frame(tax_table(imparato_pruned.ord))\n",
    "song_tax = data.frame(tax_table(song_pruned.ord))\n",
    "dai2016_tax = data.frame(tax_table(dai2016_pruned.ord))\n",
    "dai2017_tax = data.frame(tax_table(dai2017_pruned.ord))\n",
    "wu_tax = data.frame(tax_table(wu_pruned.ord))\n",
    "nielsen2014_tax = data.frame(tax_table(nielsen2014_pruned.ord))\n",
    "ye_tax = data.frame(tax_table(ye_pruned.ord))\n",
    "\n",
    "# Getting the OTU tables\n",
    "whit_otu = data.frame(t(otu_table(whit_pruned.ord)))\n",
    "yao_otu = data.frame(otu_table(yao_pruned.ord))\n",
    "imparato_otu = data.frame(otu_table(imparato_pruned.ord))\n",
    "song_otu = data.frame(otu_table(song_pruned.ord))\n",
    "dai2016_otu = data.frame(otu_table(dai2016_pruned.ord))\n",
    "dai2017_otu = data.frame(otu_table(dai2017_pruned.ord))\n",
    "wu_otu = data.frame(otu_table(wu_pruned.ord))\n",
    "nielsen2014_otu = data.frame(otu_table(nielsen2014_pruned.ord))\n",
    "ye_otu = data.frame(otu_table(ye_pruned.ord))\n",
    "\n",
    "# Getting the sample data tables\n",
    "sample_data(whit_pruned.ord)$pH = as.numeric(sample_data(whit_pruned.ord)$pH)\n",
    "sample_data(yao_pruned.ord)$pH = as.numeric(sample_data(yao_pruned.ord)$pH)\n",
    "sample_data(imparato_pruned.ord)$pH = as.numeric(sample_data(imparato_pruned.ord)$pH)\n",
    "sample_data(song_pruned.ord)$pH = as.numeric(sample_data(song_pruned.ord)$pH)\n",
    "sample_data(dai2016_pruned.ord)$pH = as.numeric(sample_data(dai2016_pruned.ord)$pH)\n",
    "sample_data(dai2017_pruned.ord)$pH = as.numeric(sample_data(dai2017_pruned.ord)$pH)\n",
    "sample_data(wu_pruned.ord)$pH = as.numeric(sample_data(wu_pruned.ord)$pH)\n",
    "sample_data(nielsen2014_pruned.ord)$pH = as.numeric(sample_data(nielsen2014_pruned.ord)$pH)\n",
    "sample_data(ye_pruned.ord)$pH = as.numeric(sample_data(ye_pruned.ord)$pH)\n",
    "\n",
    "whit_sd = data.frame(sample_data(whit_pruned.ord))\n",
    "yao_sd = data.frame(sample_data(yao_pruned.ord))\n",
    "imparato_sd = data.frame(sample_data(imparato_pruned.ord))\n",
    "song_sd = data.frame(sample_data(song_pruned.ord))\n",
    "dai2016_sd = data.frame(sample_data(dai2016_pruned.ord))\n",
    "dai2017_sd = data.frame(sample_data(dai2017_pruned.ord))\n",
    "wu_sd = data.frame(sample_data(wu_pruned.ord))\n",
    "nielsen2014_sd = data.frame(sample_data(nielsen2014_pruned.ord))\n",
    "ye_sd = data.frame(sample_data(ye_pruned.ord))"
   ]
  },
  {
   "cell_type": "code",
   "execution_count": 96,
   "metadata": {},
   "outputs": [],
   "source": [
    "# Adding a column with Family in it, whcih we will merge by.\n",
    "whit_otu$Order = row.names(whit_otu)\n",
    "yao_otu$Order = row.names(yao_otu)\n",
    "imparato_otu$Order = row.names(imparato_otu)\n",
    "song_otu$Order = row.names(song_otu)\n",
    "dai2016_otu$Order = row.names(dai2016_otu)\n",
    "dai2017_otu$Order = row.names(dai2017_otu)\n",
    "wu_otu$Order = row.names(wu_otu)\n",
    "nielsen2014_otu$Order = row.names(nielsen2014_otu)\n",
    "ye_otu$Order = row.names(ye_otu)"
   ]
  },
  {
   "cell_type": "code",
   "execution_count": 97,
   "metadata": {},
   "outputs": [
    {
     "data": {
      "text/html": [
       "<ol class=list-inline>\n",
       "\t<li>178</li>\n",
       "\t<li>7</li>\n",
       "</ol>\n"
      ],
      "text/latex": [
       "\\begin{enumerate*}\n",
       "\\item 178\n",
       "\\item 7\n",
       "\\end{enumerate*}\n"
      ],
      "text/markdown": [
       "1. 178\n",
       "2. 7\n",
       "\n",
       "\n"
      ],
      "text/plain": [
       "[1] 178   7"
      ]
     },
     "metadata": {},
     "output_type": "display_data"
    },
    {
     "data": {
      "text/html": [
       "<ol class=list-inline>\n",
       "\t<li>211</li>\n",
       "\t<li>7</li>\n",
       "</ol>\n"
      ],
      "text/latex": [
       "\\begin{enumerate*}\n",
       "\\item 211\n",
       "\\item 7\n",
       "\\end{enumerate*}\n"
      ],
      "text/markdown": [
       "1. 211\n",
       "2. 7\n",
       "\n",
       "\n"
      ],
      "text/plain": [
       "[1] 211   7"
      ]
     },
     "metadata": {},
     "output_type": "display_data"
    },
    {
     "data": {
      "text/html": [
       "<ol class=list-inline>\n",
       "\t<li>247</li>\n",
       "\t<li>7</li>\n",
       "</ol>\n"
      ],
      "text/latex": [
       "\\begin{enumerate*}\n",
       "\\item 247\n",
       "\\item 7\n",
       "\\end{enumerate*}\n"
      ],
      "text/markdown": [
       "1. 247\n",
       "2. 7\n",
       "\n",
       "\n"
      ],
      "text/plain": [
       "[1] 247   7"
      ]
     },
     "metadata": {},
     "output_type": "display_data"
    },
    {
     "data": {
      "text/html": [
       "<ol class=list-inline>\n",
       "\t<li>269</li>\n",
       "\t<li>7</li>\n",
       "</ol>\n"
      ],
      "text/latex": [
       "\\begin{enumerate*}\n",
       "\\item 269\n",
       "\\item 7\n",
       "\\end{enumerate*}\n"
      ],
      "text/markdown": [
       "1. 269\n",
       "2. 7\n",
       "\n",
       "\n"
      ],
      "text/plain": [
       "[1] 269   7"
      ]
     },
     "metadata": {},
     "output_type": "display_data"
    },
    {
     "data": {
      "text/html": [
       "<ol class=list-inline>\n",
       "\t<li>277</li>\n",
       "\t<li>7</li>\n",
       "</ol>\n"
      ],
      "text/latex": [
       "\\begin{enumerate*}\n",
       "\\item 277\n",
       "\\item 7\n",
       "\\end{enumerate*}\n"
      ],
      "text/markdown": [
       "1. 277\n",
       "2. 7\n",
       "\n",
       "\n"
      ],
      "text/plain": [
       "[1] 277   7"
      ]
     },
     "metadata": {},
     "output_type": "display_data"
    },
    {
     "data": {
      "text/html": [
       "<ol class=list-inline>\n",
       "\t<li>278</li>\n",
       "\t<li>7</li>\n",
       "</ol>\n"
      ],
      "text/latex": [
       "\\begin{enumerate*}\n",
       "\\item 278\n",
       "\\item 7\n",
       "\\end{enumerate*}\n"
      ],
      "text/markdown": [
       "1. 278\n",
       "2. 7\n",
       "\n",
       "\n"
      ],
      "text/plain": [
       "[1] 278   7"
      ]
     },
     "metadata": {},
     "output_type": "display_data"
    },
    {
     "data": {
      "text/html": [
       "<ol class=list-inline>\n",
       "\t<li>289</li>\n",
       "\t<li>7</li>\n",
       "</ol>\n"
      ],
      "text/latex": [
       "\\begin{enumerate*}\n",
       "\\item 289\n",
       "\\item 7\n",
       "\\end{enumerate*}\n"
      ],
      "text/markdown": [
       "1. 289\n",
       "2. 7\n",
       "\n",
       "\n"
      ],
      "text/plain": [
       "[1] 289   7"
      ]
     },
     "metadata": {},
     "output_type": "display_data"
    },
    {
     "data": {
      "text/html": [
       "<ol class=list-inline>\n",
       "\t<li>295</li>\n",
       "\t<li>7</li>\n",
       "</ol>\n"
      ],
      "text/latex": [
       "\\begin{enumerate*}\n",
       "\\item 295\n",
       "\\item 7\n",
       "\\end{enumerate*}\n"
      ],
      "text/markdown": [
       "1. 295\n",
       "2. 7\n",
       "\n",
       "\n"
      ],
      "text/plain": [
       "[1] 295   7"
      ]
     },
     "metadata": {},
     "output_type": "display_data"
    }
   ],
   "source": [
    "# Merging the two taxonomy files\n",
    "merged_tax = merge(whit_tax, yao_tax, all=TRUE)\n",
    "row.names(merged_tax)=merged_tax$Order\n",
    "dim(merged_tax)\n",
    "\n",
    "merged_tax = merge(merged_tax, imparato_tax, all=TRUE)\n",
    "row.names(merged_tax)=merged_tax$Order\n",
    "\n",
    "dim(merged_tax)\n",
    "\n",
    "merged_tax = merge(merged_tax, song_tax, all=TRUE)\n",
    "row.names(merged_tax)=merged_tax$Order\n",
    "\n",
    "dim(merged_tax)\n",
    "\n",
    "merged_tax = merge(merged_tax, dai2016_tax, all=TRUE)\n",
    "row.names(merged_tax)=merged_tax$Order\n",
    "\n",
    "dim(merged_tax)\n",
    "\n",
    "merged_tax = merge(merged_tax, dai2017_tax, all=TRUE)\n",
    "row.names(merged_tax)=merged_tax$Order\n",
    "\n",
    "dim(merged_tax)\n",
    "\n",
    "merged_tax = merge(merged_tax, wu_tax, all=TRUE)\n",
    "row.names(merged_tax)=merged_tax$Order\n",
    "\n",
    "dim(merged_tax)\n",
    "\n",
    "merged_tax = merge(merged_tax, nielsen2014_tax, all=TRUE)\n",
    "row.names(merged_tax)=merged_tax$Order\n",
    "\n",
    "dim(merged_tax)\n",
    "\n",
    "merged_tax = merge(merged_tax, ye_tax, all=TRUE)\n",
    "row.names(merged_tax)=merged_tax$Order\n",
    "\n",
    "dim(merged_tax)"
   ]
  },
  {
   "cell_type": "code",
   "execution_count": 98,
   "metadata": {
    "collapsed": true
   },
   "outputs": [
    {
     "data": {
      "text/html": [
       "<ol class=list-inline>\n",
       "\t<li>178</li>\n",
       "\t<li>168</li>\n",
       "</ol>\n"
      ],
      "text/latex": [
       "\\begin{enumerate*}\n",
       "\\item 178\n",
       "\\item 168\n",
       "\\end{enumerate*}\n"
      ],
      "text/markdown": [
       "1. 178\n",
       "2. 168\n",
       "\n",
       "\n"
      ],
      "text/plain": [
       "[1] 178 168"
      ]
     },
     "metadata": {},
     "output_type": "display_data"
    },
    {
     "data": {
      "text/html": [
       "<ol class=list-inline>\n",
       "\t<li>211</li>\n",
       "\t<li>204</li>\n",
       "</ol>\n"
      ],
      "text/latex": [
       "\\begin{enumerate*}\n",
       "\\item 211\n",
       "\\item 204\n",
       "\\end{enumerate*}\n"
      ],
      "text/markdown": [
       "1. 211\n",
       "2. 204\n",
       "\n",
       "\n"
      ],
      "text/plain": [
       "[1] 211 204"
      ]
     },
     "metadata": {},
     "output_type": "display_data"
    },
    {
     "data": {
      "text/html": [
       "<ol class=list-inline>\n",
       "\t<li>247</li>\n",
       "\t<li>239</li>\n",
       "</ol>\n"
      ],
      "text/latex": [
       "\\begin{enumerate*}\n",
       "\\item 247\n",
       "\\item 239\n",
       "\\end{enumerate*}\n"
      ],
      "text/markdown": [
       "1. 247\n",
       "2. 239\n",
       "\n",
       "\n"
      ],
      "text/plain": [
       "[1] 247 239"
      ]
     },
     "metadata": {},
     "output_type": "display_data"
    },
    {
     "data": {
      "text/html": [
       "<ol class=list-inline>\n",
       "\t<li>269</li>\n",
       "\t<li>257</li>\n",
       "</ol>\n"
      ],
      "text/latex": [
       "\\begin{enumerate*}\n",
       "\\item 269\n",
       "\\item 257\n",
       "\\end{enumerate*}\n"
      ],
      "text/markdown": [
       "1. 269\n",
       "2. 257\n",
       "\n",
       "\n"
      ],
      "text/plain": [
       "[1] 269 257"
      ]
     },
     "metadata": {},
     "output_type": "display_data"
    },
    {
     "data": {
      "text/html": [
       "<ol class=list-inline>\n",
       "\t<li>277</li>\n",
       "\t<li>287</li>\n",
       "</ol>\n"
      ],
      "text/latex": [
       "\\begin{enumerate*}\n",
       "\\item 277\n",
       "\\item 287\n",
       "\\end{enumerate*}\n"
      ],
      "text/markdown": [
       "1. 277\n",
       "2. 287\n",
       "\n",
       "\n"
      ],
      "text/plain": [
       "[1] 277 287"
      ]
     },
     "metadata": {},
     "output_type": "display_data"
    },
    {
     "data": {
      "text/html": [
       "<ol class=list-inline>\n",
       "\t<li>278</li>\n",
       "\t<li>293</li>\n",
       "</ol>\n"
      ],
      "text/latex": [
       "\\begin{enumerate*}\n",
       "\\item 278\n",
       "\\item 293\n",
       "\\end{enumerate*}\n"
      ],
      "text/markdown": [
       "1. 278\n",
       "2. 293\n",
       "\n",
       "\n"
      ],
      "text/plain": [
       "[1] 278 293"
      ]
     },
     "metadata": {},
     "output_type": "display_data"
    },
    {
     "data": {
      "text/html": [
       "<ol class=list-inline>\n",
       "\t<li>289</li>\n",
       "\t<li>335</li>\n",
       "</ol>\n"
      ],
      "text/latex": [
       "\\begin{enumerate*}\n",
       "\\item 289\n",
       "\\item 335\n",
       "\\end{enumerate*}\n"
      ],
      "text/markdown": [
       "1. 289\n",
       "2. 335\n",
       "\n",
       "\n"
      ],
      "text/plain": [
       "[1] 289 335"
      ]
     },
     "metadata": {},
     "output_type": "display_data"
    },
    {
     "data": {
      "text/html": [
       "<ol class=list-inline>\n",
       "\t<li>295</li>\n",
       "\t<li>367</li>\n",
       "</ol>\n"
      ],
      "text/latex": [
       "\\begin{enumerate*}\n",
       "\\item 295\n",
       "\\item 367\n",
       "\\end{enumerate*}\n"
      ],
      "text/markdown": [
       "1. 295\n",
       "2. 367\n",
       "\n",
       "\n"
      ],
      "text/plain": [
       "[1] 295 367"
      ]
     },
     "metadata": {},
     "output_type": "display_data"
    },
    {
     "name": "stderr",
     "output_type": "stream",
     "text": [
      "Warning message in storage.mode(merged_otu) = \"numeric\":\n",
      "“NAs introduced by coercion”"
     ]
    }
   ],
   "source": [
    "# Merging the otu files, replacing any empty spots with 0\n",
    "merged_otu = full_join(whit_otu, yao_otu, by=\"Order\")\n",
    "merged_otu[is.na(merged_otu)] = 0\n",
    "row.names(merged_otu)=merged_otu$Order\n",
    "\n",
    "dim(merged_otu)\n",
    "\n",
    "merged_otu = full_join(merged_otu, imparato_otu, by=\"Order\")\n",
    "merged_otu[is.na(merged_otu)] = 0\n",
    "row.names(merged_otu)=merged_otu$Order\n",
    "\n",
    "dim(merged_otu)\n",
    "\n",
    "merged_otu = full_join(merged_otu, song_otu, by=\"Order\")\n",
    "merged_otu[is.na(merged_otu)] = 0\n",
    "row.names(merged_otu)=merged_otu$Order\n",
    "\n",
    "dim(merged_otu)\n",
    "\n",
    "\n",
    "merged_otu = full_join(merged_otu, dai2016_otu, by=\"Order\")\n",
    "merged_otu[is.na(merged_otu)] = 0\n",
    "row.names(merged_otu)=merged_otu$Order\n",
    "\n",
    "dim(merged_otu)\n",
    "\n",
    "merged_otu = full_join(merged_otu, dai2017_otu, by=\"Order\")\n",
    "merged_otu[is.na(merged_otu)] = 0\n",
    "row.names(merged_otu)=merged_otu$Order\n",
    "\n",
    "dim(merged_otu)\n",
    "\n",
    "merged_otu = full_join(merged_otu, wu_otu, by=\"Order\")\n",
    "merged_otu[is.na(merged_otu)] = 0\n",
    "row.names(merged_otu)=merged_otu$Order\n",
    "\n",
    "dim(merged_otu)\n",
    "\n",
    "merged_otu = full_join(merged_otu, nielsen2014_otu, by=\"Order\")\n",
    "merged_otu[is.na(merged_otu)] = 0\n",
    "row.names(merged_otu)=merged_otu$Order\n",
    "\n",
    "dim(merged_otu)\n",
    "\n",
    "merged_otu = full_join(merged_otu, ye_otu, by=\"Order\")\n",
    "merged_otu[is.na(merged_otu)] = 0\n",
    "row.names(merged_otu)=merged_otu$Order\n",
    "\n",
    "dim(merged_otu)\n",
    "\n",
    "\n",
    "# Reformatting the otu object\n",
    "merged_otu = as.matrix(merged_otu,dimnames=list(row.names(merged_otu),colnames(merged_otu)))\n",
    "storage.mode(merged_otu) = \"numeric\""
   ]
  },
  {
   "cell_type": "code",
   "execution_count": 99,
   "metadata": {},
   "outputs": [
    {
     "name": "stderr",
     "output_type": "stream",
     "text": [
      "Joining, by = c(\"ForwardPrimerName\", \"SoilType\", \"NucleicAcidExtraction\", \"Feedstock\", \"GeographicalLocation\", \"ReversePrimerSequence\", \"pH\", \"RevPrimerName\", \"TargetGene\", \"ForwardPrimerSequence\", \"Crop\", \"SequencingMethod\", \"t.per.ha.PyOM\", \"Author\", \"Region\", \"Organism\", \"Habitat\", \"CurrentLandUse\", \"Silt\", \"Sand\", \"PyOM.Temp\", \"Incubation_Time_Weeks\", \"Sampling_Depth_cm\", \"Clay\", \"Treatment\", \"BioProject\", \"BioSample\", \"PyOM\", \"PyOM.pH\", \".rownames\")\n"
     ]
    },
    {
     "data": {
      "text/html": [
       "<ol class=list-inline>\n",
       "\t<li>167</li>\n",
       "\t<li>40</li>\n",
       "</ol>\n"
      ],
      "text/latex": [
       "\\begin{enumerate*}\n",
       "\\item 167\n",
       "\\item 40\n",
       "\\end{enumerate*}\n"
      ],
      "text/markdown": [
       "1. 167\n",
       "2. 40\n",
       "\n",
       "\n"
      ],
      "text/plain": [
       "[1] 167  40"
      ]
     },
     "metadata": {},
     "output_type": "display_data"
    },
    {
     "name": "stderr",
     "output_type": "stream",
     "text": [
      "Joining, by = c(\"ForwardPrimerName\", \"SoilType\", \"NucleicAcidExtraction\", \"Feedstock\", \"GeographicalLocation\", \"ReversePrimerSequence\", \"pH\", \"RevPrimerName\", \"TargetGene\", \"ForwardPrimerSequence\", \"Crop\", \"SequencingMethod\", \"t.per.ha.PyOM\", \"Author\", \"Region\", \"Organism\", \"Habitat\", \"CurrentLandUse\", \"Silt\", \"Sand\", \"PyOM.Temp\", \"Incubation_Time_Weeks\", \"Clay\", \"Treatment\", \"CollectionYear\", \"BioProject\", \"X.C\", \"BioSample\", \"PyOM\", \"PyOM.pH\", \".rownames\", \"FwdBarcode\", \"RevBarcode\", \"SRA\")\n"
     ]
    },
    {
     "data": {
      "text/html": [
       "<ol class=list-inline>\n",
       "\t<li>203</li>\n",
       "\t<li>42</li>\n",
       "</ol>\n"
      ],
      "text/latex": [
       "\\begin{enumerate*}\n",
       "\\item 203\n",
       "\\item 42\n",
       "\\end{enumerate*}\n"
      ],
      "text/markdown": [
       "1. 203\n",
       "2. 42\n",
       "\n",
       "\n"
      ],
      "text/plain": [
       "[1] 203  42"
      ]
     },
     "metadata": {},
     "output_type": "display_data"
    },
    {
     "name": "stderr",
     "output_type": "stream",
     "text": [
      "Joining, by = c(\"ForwardPrimerName\", \"SoilType\", \"NucleicAcidExtraction\", \"Feedstock\", \"GeographicalLocation\", \"ReversePrimerSequence\", \"pH\", \"RevPrimerName\", \"TargetGene\", \"ForwardPrimerSequence\", \"Crop\", \"SequencingMethod\", \"Author\", \"Region\", \"Organism\", \"Habitat\", \"CurrentLandUse\", \"Silt\", \"Sand\", \"NCBISampleID\", \"PyOM.Temp\", \"Incubation_Time_Weeks\", \"Sampling_Depth_cm\", \"Clay\", \"Treatment\", \"CollectionYear\", \"BioProject\", \"BioSample\", \"PyOM\", \"PyOM.pH\", \".rownames\", \"FwdBarcode\", \"RevBarcode\", \"SRA\", \"X.SOM\")\n"
     ]
    },
    {
     "data": {
      "text/html": [
       "<ol class=list-inline>\n",
       "\t<li>238</li>\n",
       "\t<li>44</li>\n",
       "</ol>\n"
      ],
      "text/latex": [
       "\\begin{enumerate*}\n",
       "\\item 238\n",
       "\\item 44\n",
       "\\end{enumerate*}\n"
      ],
      "text/markdown": [
       "1. 238\n",
       "2. 44\n",
       "\n",
       "\n"
      ],
      "text/plain": [
       "[1] 238  44"
      ]
     },
     "metadata": {},
     "output_type": "display_data"
    },
    {
     "name": "stderr",
     "output_type": "stream",
     "text": [
      "Joining, by = c(\"ForwardPrimerName\", \"SoilType\", \"NucleicAcidExtraction\", \"Feedstock\", \"GeographicalLocation\", \"ReversePrimerSequence\", \"pH\", \"RevPrimerName\", \"TargetGene\", \"ForwardPrimerSequence\", \"Crop\", \"SequencingMethod\", \"Author\", \"Region\", \"Organism\", \"Habitat\", \"CurrentLandUse\", \"Silt\", \"Sand\", \"PyOM.Temp\", \"Incubation_Time_Weeks\", \"Sampling_Depth_cm\", \"Clay\", \"Treatment\", \"CollectionYear\", \"BioProject\", \"BioSample\", \"PyOM\", \"PyOM.pH\", \".rownames\", \"FwdBarcode\", \"RevBarcode\", \"SRA\", \"g.per.kg.PyOM\")\n"
     ]
    },
    {
     "data": {
      "text/html": [
       "<ol class=list-inline>\n",
       "\t<li>256</li>\n",
       "\t<li>44</li>\n",
       "</ol>\n"
      ],
      "text/latex": [
       "\\begin{enumerate*}\n",
       "\\item 256\n",
       "\\item 44\n",
       "\\end{enumerate*}\n"
      ],
      "text/markdown": [
       "1. 256\n",
       "2. 44\n",
       "\n",
       "\n"
      ],
      "text/plain": [
       "[1] 256  44"
      ]
     },
     "metadata": {},
     "output_type": "display_data"
    },
    {
     "name": "stderr",
     "output_type": "stream",
     "text": [
      "Joining, by = c(\"ForwardPrimerName\", \"SoilType\", \"NucleicAcidExtraction\", \"Feedstock\", \"GeographicalLocation\", \"ReversePrimerSequence\", \"pH\", \"RevPrimerName\", \"TargetGene\", \"ForwardPrimerSequence\", \"Crop\", \"SequencingMethod\", \"Author\", \"Region\", \"Organism\", \"Habitat\", \"CurrentLandUse\", \"Silt\", \"Sand\", \"PyOM.Temp\", \"Incubation_Time_Weeks\", \"Sampling_Depth_cm\", \"Clay\", \"Treatment\", \"CollectionYear\", \"BioProject\", \"BioSample\", \"PyOM\", \"PyOM.pH\", \".rownames\", \"FwdBarcode\", \"RevBarcode\", \"SRA\", \"g.per.kg.PyOM\")\n"
     ]
    },
    {
     "data": {
      "text/html": [
       "<ol class=list-inline>\n",
       "\t<li>286</li>\n",
       "\t<li>44</li>\n",
       "</ol>\n"
      ],
      "text/latex": [
       "\\begin{enumerate*}\n",
       "\\item 286\n",
       "\\item 44\n",
       "\\end{enumerate*}\n"
      ],
      "text/markdown": [
       "1. 286\n",
       "2. 44\n",
       "\n",
       "\n"
      ],
      "text/plain": [
       "[1] 286  44"
      ]
     },
     "metadata": {},
     "output_type": "display_data"
    },
    {
     "name": "stderr",
     "output_type": "stream",
     "text": [
      "Joining, by = c(\"ForwardPrimerName\", \"SoilType\", \"NucleicAcidExtraction\", \"Feedstock\", \"GeographicalLocation\", \"ReversePrimerSequence\", \"pH\", \"RevPrimerName\", \"TargetGene\", \"ForwardPrimerSequence\", \"Crop\", \"SequencingMethod\", \"t.per.ha.PyOM\", \"Author\", \"Region\", \"Organism\", \"Habitat\", \"CurrentLandUse\", \"Silt\", \"Sand\", \"PyOM.Temp\", \"Incubation_Time_Weeks\", \"Sampling_Depth_cm\", \"Clay\", \"Treatment\", \"CollectionYear\", \"BioProject\", \"X.C\", \"BioSample\", \"PyOM\", \"PyOM.pH\", \".rownames\", \"FwdBarcode\", \"RevBarcode\", \"SRA\")\n"
     ]
    },
    {
     "data": {
      "text/html": [
       "<ol class=list-inline>\n",
       "\t<li>292</li>\n",
       "\t<li>44</li>\n",
       "</ol>\n"
      ],
      "text/latex": [
       "\\begin{enumerate*}\n",
       "\\item 292\n",
       "\\item 44\n",
       "\\end{enumerate*}\n"
      ],
      "text/markdown": [
       "1. 292\n",
       "2. 44\n",
       "\n",
       "\n"
      ],
      "text/plain": [
       "[1] 292  44"
      ]
     },
     "metadata": {},
     "output_type": "display_data"
    },
    {
     "name": "stderr",
     "output_type": "stream",
     "text": [
      "Joining, by = c(\"ForwardPrimerName\", \"SoilType\", \"NucleicAcidExtraction\", \"Feedstock\", \"GeographicalLocation\", \"ReversePrimerSequence\", \"pH\", \"RevPrimerName\", \"TargetGene\", \"ForwardPrimerSequence\", \"Crop\", \"SequencingMethod\", \"t.per.ha.PyOM\", \"Author\", \"Region\", \"Organism\", \"Habitat\", \"CurrentLandUse\", \"Silt\", \"Sand\", \"PyOM.Temp\", \"Incubation_Time_Weeks\", \"Sampling_Depth_cm\", \"Clay\", \"Treatment\", \"CollectionYear\", \"BioProject\", \"BioSample\", \"PyOM\", \"PyOM.pH\", \".rownames\", \"FwdBarcode\", \"RevBarcode\", \"SRA\", \"TotalC\", \"TotalN\", \"X.SOM\")\n"
     ]
    },
    {
     "data": {
      "text/html": [
       "<ol class=list-inline>\n",
       "\t<li>334</li>\n",
       "\t<li>50</li>\n",
       "</ol>\n"
      ],
      "text/latex": [
       "\\begin{enumerate*}\n",
       "\\item 334\n",
       "\\item 50\n",
       "\\end{enumerate*}\n"
      ],
      "text/markdown": [
       "1. 334\n",
       "2. 50\n",
       "\n",
       "\n"
      ],
      "text/plain": [
       "[1] 334  50"
      ]
     },
     "metadata": {},
     "output_type": "display_data"
    },
    {
     "name": "stderr",
     "output_type": "stream",
     "text": [
      "Joining, by = c(\"ForwardPrimerName\", \"SoilType\", \"NucleicAcidExtraction\", \"Feedstock\", \"GeographicalLocation\", \"ReversePrimerSequence\", \"pH\", \"RevPrimerName\", \"TargetGene\", \"ForwardPrimerSequence\", \"Crop\", \"SequencingMethod\", \"t.per.ha.PyOM\", \"Author\", \"Region\", \"Organism\", \"Habitat\", \"CurrentLandUse\", \"Silt\", \"Sand\", \"NCBISampleID\", \"PyOM.Temp\", \"Incubation_Time_Weeks\", \"Sampling_Depth_cm\", \"Clay\", \"Treatment\", \"CollectionYear\", \"BioProject\", \"BioSample\", \"PyOM\", \"PyOM.pH\", \".rownames\", \"FwdBarcode\", \"RevBarcode\", \"SRA\", \"TotalC\", \"TotalN\", \"X.SOM\", \"EC\", \"Ammonium\", \"Nitrate\")\n"
     ]
    },
    {
     "data": {
      "text/html": [
       "<ol class=list-inline>\n",
       "\t<li>366</li>\n",
       "\t<li>54</li>\n",
       "</ol>\n"
      ],
      "text/latex": [
       "\\begin{enumerate*}\n",
       "\\item 366\n",
       "\\item 54\n",
       "\\end{enumerate*}\n"
      ],
      "text/markdown": [
       "1. 366\n",
       "2. 54\n",
       "\n",
       "\n"
      ],
      "text/plain": [
       "[1] 366  54"
      ]
     },
     "metadata": {},
     "output_type": "display_data"
    }
   ],
   "source": [
    "merged_sd = full_join(name_rows(whit_sd), name_rows(yao_sd))\n",
    "row.names(merged_sd)=merged_sd$.rownames\n",
    "dim(merged_sd)\n",
    "\n",
    "merged_sd = full_join((merged_sd), name_rows(imparato_sd))\n",
    "row.names(merged_sd)=merged_sd$.rownames\n",
    "dim(merged_sd)\n",
    "\n",
    "merged_sd = full_join((merged_sd), name_rows(song_sd))\n",
    "row.names(merged_sd)=merged_sd$.rownames\n",
    "dim(merged_sd)\n",
    "\n",
    "merged_sd = full_join((merged_sd), name_rows(dai2016_sd))\n",
    "row.names(merged_sd)=merged_sd$.rownames\n",
    "dim(merged_sd)\n",
    "\n",
    "merged_sd = full_join((merged_sd), name_rows(dai2017_sd))\n",
    "row.names(merged_sd)=merged_sd$.rownames\n",
    "dim(merged_sd)\n",
    "\n",
    "merged_sd = full_join((merged_sd), name_rows(wu_sd))\n",
    "row.names(merged_sd)=merged_sd$.rownames\n",
    "dim(merged_sd)\n",
    "\n",
    "merged_sd = full_join((merged_sd), name_rows(nielsen2014_sd))\n",
    "row.names(merged_sd)=merged_sd$.rownames\n",
    "dim(merged_sd)\n",
    "\n",
    "merged_sd = full_join((merged_sd), name_rows(ye_sd))\n",
    "row.names(merged_sd)=merged_sd$.rownames\n",
    "dim(merged_sd)"
   ]
  },
  {
   "cell_type": "code",
   "execution_count": 100,
   "metadata": {},
   "outputs": [
    {
     "name": "stderr",
     "output_type": "stream",
     "text": [
      "Warning message in .local(object):\n",
      "“Coercing from data.frame class to character matrix \n",
      "prior to building taxonomyTable. \n",
      "This could introduce artifacts. \n",
      "Check your taxonomyTable, or coerce to matrix manually.”"
     ]
    }
   ],
   "source": [
    "# Creating the sample data object\n",
    "merged_sd = sample_data(merged_sd)\n",
    "\n",
    "# Fixing the sample data names to match the OTU table (which automatically replaces - characters with .)\n",
    "row.names(merged_sd) = gsub(\"-\", \".\", row.names(merged_sd))\n",
    "\n",
    "# Creating the taxonomy table object\n",
    "m = tax_table(merged_tax)\n",
    "\n",
    "# Making sure the rownames and column names transfer, and renaming the final object\n",
    "row.names(m) = row.names(merged_tax)\n",
    "colnames(m) = colnames(merged_tax)\n",
    "merged_tax=m\n",
    "\n",
    "# Making the otu table object and getting rid of the previous Genus sorting column\n",
    "merged_otu=otu_table(merged_otu, taxa_are_rows=TRUE)\n",
    "merged_otu = merged_otu[,!colnames(merged_otu)==\"Order\"]"
   ]
  },
  {
   "cell_type": "code",
   "execution_count": 101,
   "metadata": {},
   "outputs": [
    {
     "data": {
      "text/plain": [
       "phyloseq-class experiment-level object\n",
       "otu_table()   OTU Table:         [ 295 taxa and 366 samples ]\n",
       "sample_data() Sample Data:       [ 366 samples by 54 sample variables ]\n",
       "tax_table()   Taxonomy Table:    [ 295 taxa by 7 taxonomic ranks ]"
      ]
     },
     "metadata": {},
     "output_type": "display_data"
    }
   ],
   "source": [
    "ps.glom.order = phyloseq(merged_sd,merged_tax,merged_otu)\n",
    "ps.glom.order"
   ]
  },
  {
   "cell_type": "code",
   "execution_count": 102,
   "metadata": {},
   "outputs": [
    {
     "data": {
      "text/plain": [
       "phyloseq-class experiment-level object\n",
       "otu_table()   OTU Table:         [ 295 taxa and 365 samples ]\n",
       "sample_data() Sample Data:       [ 365 samples by 54 sample variables ]\n",
       "tax_table()   Taxonomy Table:    [ 295 taxa by 7 taxonomic ranks ]"
      ]
     },
     "metadata": {},
     "output_type": "display_data"
    }
   ],
   "source": [
    "ps.glom.order = prune_samples(sample_names(ps.glom.order)!=\"SRR4449152.X\", ps.glom.order)\n",
    "ps.glom.order\n",
    "# Getting rid of no-OTU sample"
   ]
  },
  {
   "cell_type": "code",
   "execution_count": 103,
   "metadata": {},
   "outputs": [],
   "source": [
    "#save as an R object\n",
    "saveRDS(ps.glom.order, \"ps.glom.order.ps\" )"
   ]
  },
  {
   "cell_type": "code",
   "execution_count": 104,
   "metadata": {},
   "outputs": [],
   "source": [
    "#normalize\n",
    "ps.glom.order.norm=transform_sample_counts(ps.glom.order, function(x) x/sum(x))"
   ]
  },
  {
   "cell_type": "code",
   "execution_count": 105,
   "metadata": {},
   "outputs": [
    {
     "name": "stderr",
     "output_type": "stream",
     "text": [
      "Warning message:\n",
      "“The shape palette can deal with a maximum of 6 discrete values because\n",
      "more than 6 becomes difficult to discriminate; you have 8. Consider\n",
      "specifying shapes manually if you must have them.”"
     ]
    },
    {
     "data": {},
     "metadata": {},
     "output_type": "display_data"
    },
    {
     "data": {
      "image/png": "[encoded data removed]",
      "text/plain": [
       "plot without title"
      ]
     },
     "metadata": {},
     "output_type": "display_data"
    }
   ],
   "source": [
    "ord = ordinate(ps.glom.order.norm, method = \"PCoA\",distance=\"bray\")\n",
    "p = plot_ordination(ps.glom.order.norm,ord, color=\"PyOM\",shape=\"Author\")\n",
    "p"
   ]
  }
 ],
 "metadata": {
  "kernelspec": {
   "display_name": "R",
   "language": "R",
   "name": "ir"
  },
  "language_info": {
   "codemirror_mode": "r",
   "file_extension": ".r",
   "mimetype": "text/x-r-source",
   "name": "R",
   "pygments_lexer": "r",
   "version": "3.5.1"
  }
 },
 "nbformat": 4,
 "nbformat_minor": 2
}
